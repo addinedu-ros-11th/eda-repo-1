{
 "cells": [
  {
   "cell_type": "code",
   "execution_count": 1,
   "id": "1dc4487e",
   "metadata": {},
   "outputs": [],
   "source": [
    "import mysql.connector\n",
    "import os\n",
    "from dotenv import load_dotenv\n",
    "from mysql.connector import Error\n",
    "\n",
    "import pandas as pd"
   ]
  },
  {
   "cell_type": "code",
   "execution_count": 2,
   "id": "6d007e48",
   "metadata": {},
   "outputs": [],
   "source": [
    "def get_data_from_db(table_name, columns = '*'):\n",
    "    \n",
    "    # dot env\n",
    "    load_dotenv()\n",
    "    aws_db_ufo_pw = os.getenv('aws_db_ufo_pw')\n",
    "    aws_host_ufo = os.getenv('aws_host_ufo')\n",
    "\n",
    "    remote = mysql.connector.connect(\n",
    "        host = aws_host_ufo,\n",
    "        user = 'EDA',\n",
    "        port = 3306,  # default 는 3306\n",
    "        password = aws_db_ufo_pw,\n",
    "        database = 'Frisbee'\n",
    "\n",
    "        )\n",
    "        \n",
    "    \n",
    "\n",
    "    cursor = remote.cursor(dictionary = True)\n",
    "    \n",
    "    \n",
    "    query = f\"\"\"\n",
    "        SELECT {columns} FROM {table_name}\"\"\"\n",
    "    \n",
    "    cursor.execute(query)\n",
    "    \n",
    "    results = cursor.fetchall()\n",
    "\n",
    "    \n",
    "    \n",
    "    column_name = [des[0] for des in cursor.description]\n",
    "    \n",
    "    cursor.close()\n",
    "    \n",
    "    df = pd.DataFrame.from_records(results, index = column_name[0])\n",
    "    \n",
    "    \n",
    "    return df\n",
    "    "
   ]
  },
  {
   "cell_type": "code",
   "execution_count": 3,
   "id": "d04a46ce",
   "metadata": {},
   "outputs": [],
   "source": [
    "df_ufo = get_data_from_db('UFO_us')\n",
    "df_metheo = get_data_from_db('metheo')\n",
    "df_date_dim = get_data_from_db('DateDimension')\n",
    "df_sw = get_data_from_db('space_weather')"
   ]
  },
  {
   "cell_type": "markdown",
   "id": "78775d03",
   "metadata": {},
   "source": [
    "### df_ufo_전처리"
   ]
  },
  {
   "cell_type": "code",
   "execution_count": 12,
   "id": "da0c0644",
   "metadata": {},
   "outputs": [
    {
     "data": {
      "application/vnd.microsoft.datawrangler.viewer.v0+json": {
       "columns": [
        {
         "name": "id",
         "rawType": "int64",
         "type": "integer"
        },
        {
         "name": "date",
         "rawType": "datetime64[ns]",
         "type": "datetime"
        },
        {
         "name": "time",
         "rawType": "timedelta64[ns]",
         "type": "unknown"
        },
        {
         "name": "city",
         "rawType": "object",
         "type": "string"
        },
        {
         "name": "state",
         "rawType": "object",
         "type": "string"
        },
        {
         "name": "shape",
         "rawType": "object",
         "type": "string"
        },
        {
         "name": "duration",
         "rawType": "int64",
         "type": "integer"
        },
        {
         "name": "comments",
         "rawType": "object",
         "type": "string"
        },
        {
         "name": "latitude",
         "rawType": "float64",
         "type": "float"
        },
        {
         "name": "longitude",
         "rawType": "float64",
         "type": "float"
        }
       ],
       "ref": "99a39fab-2b77-4d19-a57a-17cc5efe1003",
       "rows": [
        [
         "1190",
         "1995-01-01 00:00:00",
         "0 days 00:00:00",
         "el granada",
         "ca",
         "fireball",
         "45",
         "Glowing fireball  object crashed at Maverick&#39s Beach",
         "37.5028",
         "-122.468"
        ],
        [
         "1191",
         "1995-01-01 00:00:00",
         "0 days 00:00:00",
         "cedar key",
         "fl",
         "triangle",
         "180",
         "I could hear and see it&#44 close encounter.",
         "29.1383",
         "-83.0353"
        ],
        [
         "1192",
         "1995-01-01 00:00:00",
         "0 days 00:00:00",
         "greenwood",
         "sc",
         "sphere",
         "20",
         "Bright red sphere floating and completely silent takes off and disappears.",
         "34.1953",
         "-82.1619"
        ],
        [
         "1193",
         "1995-01-01 00:00:00",
         "0 days 00:00:00",
         "tucson",
         "az",
         "triangle",
         "600",
         "120-140 ft&#44 X 35-40 ft&#44 X 30 ft&#44 triangler craft&#44 metalic colored&#44 4 lights directly down the center with 2 strobes and 3 very large li",
         "32.2217",
         "-110.926"
        ],
        [
         "1194",
         "1995-01-01 00:00:00",
         "0 days 00:00:00",
         "pacific grove",
         "ca",
         "unknown",
         "0",
         "Rept. that local police had pursued a strange obj.&#44 and incident was &quot;hushed up.&quot; (Facts unclear)",
         "36.6178",
         "-121.916"
        ]
       ],
       "shape": {
        "columns": 9,
        "rows": 5
       }
      },
      "text/html": [
       "<div>\n",
       "<style scoped>\n",
       "    .dataframe tbody tr th:only-of-type {\n",
       "        vertical-align: middle;\n",
       "    }\n",
       "\n",
       "    .dataframe tbody tr th {\n",
       "        vertical-align: top;\n",
       "    }\n",
       "\n",
       "    .dataframe thead th {\n",
       "        text-align: right;\n",
       "    }\n",
       "</style>\n",
       "<table border=\"1\" class=\"dataframe\">\n",
       "  <thead>\n",
       "    <tr style=\"text-align: right;\">\n",
       "      <th></th>\n",
       "      <th>date</th>\n",
       "      <th>time</th>\n",
       "      <th>city</th>\n",
       "      <th>state</th>\n",
       "      <th>shape</th>\n",
       "      <th>duration</th>\n",
       "      <th>comments</th>\n",
       "      <th>latitude</th>\n",
       "      <th>longitude</th>\n",
       "    </tr>\n",
       "    <tr>\n",
       "      <th>id</th>\n",
       "      <th></th>\n",
       "      <th></th>\n",
       "      <th></th>\n",
       "      <th></th>\n",
       "      <th></th>\n",
       "      <th></th>\n",
       "      <th></th>\n",
       "      <th></th>\n",
       "      <th></th>\n",
       "    </tr>\n",
       "  </thead>\n",
       "  <tbody>\n",
       "    <tr>\n",
       "      <th>1190</th>\n",
       "      <td>1995-01-01</td>\n",
       "      <td>0 days</td>\n",
       "      <td>el granada</td>\n",
       "      <td>ca</td>\n",
       "      <td>fireball</td>\n",
       "      <td>45</td>\n",
       "      <td>Glowing fireball  object crashed at Maverick&amp;#...</td>\n",
       "      <td>37.5028</td>\n",
       "      <td>-122.4680</td>\n",
       "    </tr>\n",
       "    <tr>\n",
       "      <th>1191</th>\n",
       "      <td>1995-01-01</td>\n",
       "      <td>0 days</td>\n",
       "      <td>cedar key</td>\n",
       "      <td>fl</td>\n",
       "      <td>triangle</td>\n",
       "      <td>180</td>\n",
       "      <td>I could hear and see it&amp;#44 close encounter.</td>\n",
       "      <td>29.1383</td>\n",
       "      <td>-83.0353</td>\n",
       "    </tr>\n",
       "    <tr>\n",
       "      <th>1192</th>\n",
       "      <td>1995-01-01</td>\n",
       "      <td>0 days</td>\n",
       "      <td>greenwood</td>\n",
       "      <td>sc</td>\n",
       "      <td>sphere</td>\n",
       "      <td>20</td>\n",
       "      <td>Bright red sphere floating and completely sile...</td>\n",
       "      <td>34.1953</td>\n",
       "      <td>-82.1619</td>\n",
       "    </tr>\n",
       "    <tr>\n",
       "      <th>1193</th>\n",
       "      <td>1995-01-01</td>\n",
       "      <td>0 days</td>\n",
       "      <td>tucson</td>\n",
       "      <td>az</td>\n",
       "      <td>triangle</td>\n",
       "      <td>600</td>\n",
       "      <td>120-140 ft&amp;#44 X 35-40 ft&amp;#44 X 30 ft&amp;#44 tria...</td>\n",
       "      <td>32.2217</td>\n",
       "      <td>-110.9260</td>\n",
       "    </tr>\n",
       "    <tr>\n",
       "      <th>1194</th>\n",
       "      <td>1995-01-01</td>\n",
       "      <td>0 days</td>\n",
       "      <td>pacific grove</td>\n",
       "      <td>ca</td>\n",
       "      <td>unknown</td>\n",
       "      <td>0</td>\n",
       "      <td>Rept. that local police had pursued a strange ...</td>\n",
       "      <td>36.6178</td>\n",
       "      <td>-121.9160</td>\n",
       "    </tr>\n",
       "  </tbody>\n",
       "</table>\n",
       "</div>"
      ],
      "text/plain": [
       "           date   time           city state     shape  duration  \\\n",
       "id                                                                \n",
       "1190 1995-01-01 0 days     el granada    ca  fireball        45   \n",
       "1191 1995-01-01 0 days      cedar key    fl  triangle       180   \n",
       "1192 1995-01-01 0 days      greenwood    sc    sphere        20   \n",
       "1193 1995-01-01 0 days         tucson    az  triangle       600   \n",
       "1194 1995-01-01 0 days  pacific grove    ca   unknown         0   \n",
       "\n",
       "                                               comments  latitude  longitude  \n",
       "id                                                                            \n",
       "1190  Glowing fireball  object crashed at Maverick&#...   37.5028  -122.4680  \n",
       "1191       I could hear and see it&#44 close encounter.   29.1383   -83.0353  \n",
       "1192  Bright red sphere floating and completely sile...   34.1953   -82.1619  \n",
       "1193  120-140 ft&#44 X 35-40 ft&#44 X 30 ft&#44 tria...   32.2217  -110.9260  \n",
       "1194  Rept. that local police had pursued a strange ...   36.6178  -121.9160  "
      ]
     },
     "execution_count": 12,
     "metadata": {},
     "output_type": "execute_result"
    }
   ],
   "source": [
    "df_ufo.head()"
   ]
  },
  {
   "cell_type": "code",
   "execution_count": 13,
   "id": "ac39e146",
   "metadata": {},
   "outputs": [],
   "source": [
    "# groupby 메소드를 통해 판다스 시리즈 형태의 데이터로 전환\n",
    "df_ufo_gb = df_ufo.groupby('date').size()"
   ]
  },
  {
   "cell_type": "code",
   "execution_count": 14,
   "id": "c41db321",
   "metadata": {},
   "outputs": [
    {
     "data": {
      "application/vnd.microsoft.datawrangler.viewer.v0+json": {
       "columns": [
        {
         "name": "index",
         "rawType": "int64",
         "type": "integer"
        },
        {
         "name": "date",
         "rawType": "datetime64[ns]",
         "type": "datetime"
        },
        {
         "name": "0",
         "rawType": "int64",
         "type": "integer"
        }
       ],
       "ref": "dc19e619-736d-4af3-87c7-1b9bff4e5846",
       "rows": [
        [
         "0",
         "1995-01-01 00:00:00",
         "20"
        ],
        [
         "1",
         "1995-01-02 00:00:00",
         "2"
        ],
        [
         "2",
         "1995-01-03 00:00:00",
         "12"
        ],
        [
         "3",
         "1995-01-04 00:00:00",
         "4"
        ],
        [
         "4",
         "1995-01-05 00:00:00",
         "10"
        ],
        [
         "5",
         "1995-01-06 00:00:00",
         "4"
        ],
        [
         "6",
         "1995-01-07 00:00:00",
         "4"
        ],
        [
         "7",
         "1995-01-08 00:00:00",
         "4"
        ],
        [
         "8",
         "1995-01-09 00:00:00",
         "6"
        ],
        [
         "9",
         "1995-01-10 00:00:00",
         "4"
        ],
        [
         "10",
         "1995-01-11 00:00:00",
         "2"
        ],
        [
         "11",
         "1995-01-12 00:00:00",
         "4"
        ],
        [
         "12",
         "1995-01-13 00:00:00",
         "2"
        ],
        [
         "13",
         "1995-01-14 00:00:00",
         "2"
        ],
        [
         "14",
         "1995-01-15 00:00:00",
         "18"
        ],
        [
         "15",
         "1995-01-16 00:00:00",
         "2"
        ],
        [
         "16",
         "1995-01-17 00:00:00",
         "6"
        ],
        [
         "17",
         "1995-01-18 00:00:00",
         "4"
        ],
        [
         "18",
         "1995-01-19 00:00:00",
         "2"
        ],
        [
         "19",
         "1995-01-20 00:00:00",
         "2"
        ],
        [
         "20",
         "1995-01-21 00:00:00",
         "4"
        ],
        [
         "21",
         "1995-01-22 00:00:00",
         "8"
        ],
        [
         "22",
         "1995-01-23 00:00:00",
         "4"
        ],
        [
         "23",
         "1995-01-24 00:00:00",
         "6"
        ],
        [
         "24",
         "1995-01-25 00:00:00",
         "4"
        ],
        [
         "25",
         "1995-01-26 00:00:00",
         "2"
        ],
        [
         "26",
         "1995-01-27 00:00:00",
         "2"
        ],
        [
         "27",
         "1995-01-28 00:00:00",
         "2"
        ],
        [
         "28",
         "1995-01-30 00:00:00",
         "8"
        ],
        [
         "29",
         "1995-01-31 00:00:00",
         "8"
        ],
        [
         "30",
         "1995-02-02 00:00:00",
         "8"
        ],
        [
         "31",
         "1995-02-03 00:00:00",
         "4"
        ],
        [
         "32",
         "1995-02-04 00:00:00",
         "8"
        ],
        [
         "33",
         "1995-02-05 00:00:00",
         "2"
        ],
        [
         "34",
         "1995-02-06 00:00:00",
         "8"
        ],
        [
         "35",
         "1995-02-07 00:00:00",
         "14"
        ],
        [
         "36",
         "1995-02-08 00:00:00",
         "6"
        ],
        [
         "37",
         "1995-02-09 00:00:00",
         "10"
        ],
        [
         "38",
         "1995-02-10 00:00:00",
         "10"
        ],
        [
         "39",
         "1995-02-12 00:00:00",
         "8"
        ],
        [
         "40",
         "1995-02-13 00:00:00",
         "2"
        ],
        [
         "41",
         "1995-02-14 00:00:00",
         "2"
        ],
        [
         "42",
         "1995-02-15 00:00:00",
         "20"
        ],
        [
         "43",
         "1995-02-16 00:00:00",
         "14"
        ],
        [
         "44",
         "1995-02-17 00:00:00",
         "2"
        ],
        [
         "45",
         "1995-02-18 00:00:00",
         "8"
        ],
        [
         "46",
         "1995-02-19 00:00:00",
         "10"
        ],
        [
         "47",
         "1995-02-20 00:00:00",
         "10"
        ],
        [
         "48",
         "1995-02-21 00:00:00",
         "8"
        ],
        [
         "49",
         "1995-02-22 00:00:00",
         "14"
        ]
       ],
       "shape": {
        "columns": 2,
        "rows": 6803
       }
      },
      "text/html": [
       "<div>\n",
       "<style scoped>\n",
       "    .dataframe tbody tr th:only-of-type {\n",
       "        vertical-align: middle;\n",
       "    }\n",
       "\n",
       "    .dataframe tbody tr th {\n",
       "        vertical-align: top;\n",
       "    }\n",
       "\n",
       "    .dataframe thead th {\n",
       "        text-align: right;\n",
       "    }\n",
       "</style>\n",
       "<table border=\"1\" class=\"dataframe\">\n",
       "  <thead>\n",
       "    <tr style=\"text-align: right;\">\n",
       "      <th></th>\n",
       "      <th>date</th>\n",
       "      <th>0</th>\n",
       "    </tr>\n",
       "  </thead>\n",
       "  <tbody>\n",
       "    <tr>\n",
       "      <th>0</th>\n",
       "      <td>1995-01-01</td>\n",
       "      <td>20</td>\n",
       "    </tr>\n",
       "    <tr>\n",
       "      <th>1</th>\n",
       "      <td>1995-01-02</td>\n",
       "      <td>2</td>\n",
       "    </tr>\n",
       "    <tr>\n",
       "      <th>2</th>\n",
       "      <td>1995-01-03</td>\n",
       "      <td>12</td>\n",
       "    </tr>\n",
       "    <tr>\n",
       "      <th>3</th>\n",
       "      <td>1995-01-04</td>\n",
       "      <td>4</td>\n",
       "    </tr>\n",
       "    <tr>\n",
       "      <th>4</th>\n",
       "      <td>1995-01-05</td>\n",
       "      <td>10</td>\n",
       "    </tr>\n",
       "    <tr>\n",
       "      <th>...</th>\n",
       "      <td>...</td>\n",
       "      <td>...</td>\n",
       "    </tr>\n",
       "    <tr>\n",
       "      <th>6798</th>\n",
       "      <td>2014-05-04</td>\n",
       "      <td>8</td>\n",
       "    </tr>\n",
       "    <tr>\n",
       "      <th>6799</th>\n",
       "      <td>2014-05-05</td>\n",
       "      <td>14</td>\n",
       "    </tr>\n",
       "    <tr>\n",
       "      <th>6800</th>\n",
       "      <td>2014-05-06</td>\n",
       "      <td>12</td>\n",
       "    </tr>\n",
       "    <tr>\n",
       "      <th>6801</th>\n",
       "      <td>2014-05-07</td>\n",
       "      <td>12</td>\n",
       "    </tr>\n",
       "    <tr>\n",
       "      <th>6802</th>\n",
       "      <td>2014-05-08</td>\n",
       "      <td>1</td>\n",
       "    </tr>\n",
       "  </tbody>\n",
       "</table>\n",
       "<p>6803 rows × 2 columns</p>\n",
       "</div>"
      ],
      "text/plain": [
       "           date   0\n",
       "0    1995-01-01  20\n",
       "1    1995-01-02   2\n",
       "2    1995-01-03  12\n",
       "3    1995-01-04   4\n",
       "4    1995-01-05  10\n",
       "...         ...  ..\n",
       "6798 2014-05-04   8\n",
       "6799 2014-05-05  14\n",
       "6800 2014-05-06  12\n",
       "6801 2014-05-07  12\n",
       "6802 2014-05-08   1\n",
       "\n",
       "[6803 rows x 2 columns]"
      ]
     },
     "execution_count": 14,
     "metadata": {},
     "output_type": "execute_result"
    }
   ],
   "source": [
    "# index를 리셋하면서 판다스 시리즈에서 \n",
    "df_ufo_gb = df_ufo_gb.to_frame()\n",
    "df_ufo_gb = df_ufo_gb.reset_index()\n",
    "df_ufo_gb"
   ]
  },
  {
   "cell_type": "code",
   "execution_count": 15,
   "id": "5f215055",
   "metadata": {},
   "outputs": [],
   "source": [
    "df_ufo_gb['ufo_count'] = df_ufo_gb[0]\n",
    "df_ufo_gb = df_ufo_gb[['date', 'ufo_count']]"
   ]
  },
  {
   "cell_type": "code",
   "execution_count": 16,
   "id": "9409a0d0",
   "metadata": {},
   "outputs": [
    {
     "data": {
      "application/vnd.microsoft.datawrangler.viewer.v0+json": {
       "columns": [
        {
         "name": "index",
         "rawType": "int64",
         "type": "integer"
        },
        {
         "name": "date",
         "rawType": "datetime64[ns]",
         "type": "datetime"
        },
        {
         "name": "ufo_count",
         "rawType": "int64",
         "type": "integer"
        }
       ],
       "ref": "5f3960be-9459-4a1d-8caf-1ac6ece440e1",
       "rows": [
        [
         "0",
         "1995-01-01 00:00:00",
         "20"
        ],
        [
         "1",
         "1995-01-02 00:00:00",
         "2"
        ],
        [
         "2",
         "1995-01-03 00:00:00",
         "12"
        ],
        [
         "3",
         "1995-01-04 00:00:00",
         "4"
        ],
        [
         "4",
         "1995-01-05 00:00:00",
         "10"
        ]
       ],
       "shape": {
        "columns": 2,
        "rows": 5
       }
      },
      "text/html": [
       "<div>\n",
       "<style scoped>\n",
       "    .dataframe tbody tr th:only-of-type {\n",
       "        vertical-align: middle;\n",
       "    }\n",
       "\n",
       "    .dataframe tbody tr th {\n",
       "        vertical-align: top;\n",
       "    }\n",
       "\n",
       "    .dataframe thead th {\n",
       "        text-align: right;\n",
       "    }\n",
       "</style>\n",
       "<table border=\"1\" class=\"dataframe\">\n",
       "  <thead>\n",
       "    <tr style=\"text-align: right;\">\n",
       "      <th></th>\n",
       "      <th>date</th>\n",
       "      <th>ufo_count</th>\n",
       "    </tr>\n",
       "  </thead>\n",
       "  <tbody>\n",
       "    <tr>\n",
       "      <th>0</th>\n",
       "      <td>1995-01-01</td>\n",
       "      <td>20</td>\n",
       "    </tr>\n",
       "    <tr>\n",
       "      <th>1</th>\n",
       "      <td>1995-01-02</td>\n",
       "      <td>2</td>\n",
       "    </tr>\n",
       "    <tr>\n",
       "      <th>2</th>\n",
       "      <td>1995-01-03</td>\n",
       "      <td>12</td>\n",
       "    </tr>\n",
       "    <tr>\n",
       "      <th>3</th>\n",
       "      <td>1995-01-04</td>\n",
       "      <td>4</td>\n",
       "    </tr>\n",
       "    <tr>\n",
       "      <th>4</th>\n",
       "      <td>1995-01-05</td>\n",
       "      <td>10</td>\n",
       "    </tr>\n",
       "  </tbody>\n",
       "</table>\n",
       "</div>"
      ],
      "text/plain": [
       "        date  ufo_count\n",
       "0 1995-01-01         20\n",
       "1 1995-01-02          2\n",
       "2 1995-01-03         12\n",
       "3 1995-01-04          4\n",
       "4 1995-01-05         10"
      ]
     },
     "execution_count": 16,
     "metadata": {},
     "output_type": "execute_result"
    }
   ],
   "source": [
    "df_ufo_gb.head()"
   ]
  },
  {
   "cell_type": "code",
   "execution_count": 17,
   "id": "cc787541",
   "metadata": {},
   "outputs": [
    {
     "data": {
      "application/vnd.microsoft.datawrangler.viewer.v0+json": {
       "columns": [
        {
         "name": "index",
         "rawType": "object",
         "type": "string"
        },
        {
         "name": "0",
         "rawType": "object",
         "type": "unknown"
        }
       ],
       "ref": "580cfc22-f182-49e7-9670-1abf75a65045",
       "rows": [
        [
         "date",
         "datetime64[ns]"
        ],
        [
         "ufo_count",
         "int64"
        ]
       ],
       "shape": {
        "columns": 1,
        "rows": 2
       }
      },
      "text/plain": [
       "date         datetime64[ns]\n",
       "ufo_count             int64\n",
       "dtype: object"
      ]
     },
     "execution_count": 17,
     "metadata": {},
     "output_type": "execute_result"
    }
   ],
   "source": [
    "df_ufo_gb.dtypes"
   ]
  },
  {
   "cell_type": "markdown",
   "id": "e76ae946",
   "metadata": {},
   "source": [
    "### df_metheo 전처리"
   ]
  },
  {
   "cell_type": "code",
   "execution_count": 18,
   "id": "98d8e8b8",
   "metadata": {},
   "outputs": [
    {
     "data": {
      "application/vnd.microsoft.datawrangler.viewer.v0+json": {
       "columns": [
        {
         "name": "id",
         "rawType": "int64",
         "type": "integer"
        },
        {
         "name": "date",
         "rawType": "datetime64[ns]",
         "type": "datetime"
        },
        {
         "name": "time",
         "rawType": "timedelta64[ns]",
         "type": "unknown"
        },
        {
         "name": "address",
         "rawType": "object",
         "type": "string"
        },
        {
         "name": "state",
         "rawType": "object",
         "type": "string"
        },
        {
         "name": "latitude",
         "rawType": "int64",
         "type": "integer"
        },
        {
         "name": "longitude",
         "rawType": "int64",
         "type": "integer"
        },
        {
         "name": "elevation",
         "rawType": "int64",
         "type": "integer"
        },
        {
         "name": "magnitude",
         "rawType": "int64",
         "type": "integer"
        },
        {
         "name": "white",
         "rawType": "int64",
         "type": "integer"
        },
        {
         "name": "red",
         "rawType": "int64",
         "type": "integer"
        },
        {
         "name": "blue",
         "rawType": "int64",
         "type": "integer"
        },
        {
         "name": "green",
         "rawType": "int64",
         "type": "integer"
        },
        {
         "name": "purple",
         "rawType": "int64",
         "type": "integer"
        },
        {
         "name": "orange",
         "rawType": "int64",
         "type": "integer"
        },
        {
         "name": "yellow",
         "rawType": "int64",
         "type": "integer"
        }
       ],
       "ref": "0b17c702-2543-484b-ba3d-dc3c4897280e",
       "rows": [
        [
         "1",
         "1995-06-08 00:00:00",
         "0 days 02:00:00",
         "Trafalgar, IN",
         "IN",
         "39",
         "-86",
         "267",
         "-13",
         "0",
         "0",
         "0",
         "1",
         "0",
         "0",
         "0"
        ],
        [
         "2",
         "1995-06-20 00:00:00",
         "0 days 17:00:00",
         "Munhall, PA",
         "PA",
         "40",
         "-79",
         "329",
         "-13",
         "0",
         "1",
         "0",
         "0",
         "0",
         "1",
         "0"
        ],
        [
         "3",
         "1995-07-04 00:00:00",
         "0 days 21:30:00",
         "Myrtle, MS",
         "MS",
         "34",
         "-89",
         "108",
         "-19",
         "0",
         "1",
         "0",
         "0",
         "0",
         "1",
         "1"
        ],
        [
         "4",
         "1995-08-01 00:00:00",
         "0 days 16:00:00",
         "Pottstown, PA",
         "PA",
         "40",
         "-75",
         "46",
         "-16",
         "0",
         "1",
         "0",
         "0",
         "0",
         "0",
         "0"
        ],
        [
         "5",
         "1995-12-15 00:00:00",
         "0 days 06:50:00",
         "Eagan, MN",
         "MN",
         "44",
         "-93",
         "257",
         "-15",
         "1",
         "0",
         "0",
         "0",
         "0",
         "0",
         "0"
        ]
       ],
       "shape": {
        "columns": 15,
        "rows": 5
       }
      },
      "text/html": [
       "<div>\n",
       "<style scoped>\n",
       "    .dataframe tbody tr th:only-of-type {\n",
       "        vertical-align: middle;\n",
       "    }\n",
       "\n",
       "    .dataframe tbody tr th {\n",
       "        vertical-align: top;\n",
       "    }\n",
       "\n",
       "    .dataframe thead th {\n",
       "        text-align: right;\n",
       "    }\n",
       "</style>\n",
       "<table border=\"1\" class=\"dataframe\">\n",
       "  <thead>\n",
       "    <tr style=\"text-align: right;\">\n",
       "      <th></th>\n",
       "      <th>date</th>\n",
       "      <th>time</th>\n",
       "      <th>address</th>\n",
       "      <th>state</th>\n",
       "      <th>latitude</th>\n",
       "      <th>longitude</th>\n",
       "      <th>elevation</th>\n",
       "      <th>magnitude</th>\n",
       "      <th>white</th>\n",
       "      <th>red</th>\n",
       "      <th>blue</th>\n",
       "      <th>green</th>\n",
       "      <th>purple</th>\n",
       "      <th>orange</th>\n",
       "      <th>yellow</th>\n",
       "    </tr>\n",
       "    <tr>\n",
       "      <th>id</th>\n",
       "      <th></th>\n",
       "      <th></th>\n",
       "      <th></th>\n",
       "      <th></th>\n",
       "      <th></th>\n",
       "      <th></th>\n",
       "      <th></th>\n",
       "      <th></th>\n",
       "      <th></th>\n",
       "      <th></th>\n",
       "      <th></th>\n",
       "      <th></th>\n",
       "      <th></th>\n",
       "      <th></th>\n",
       "      <th></th>\n",
       "    </tr>\n",
       "  </thead>\n",
       "  <tbody>\n",
       "    <tr>\n",
       "      <th>1</th>\n",
       "      <td>1995-06-08</td>\n",
       "      <td>0 days 02:00:00</td>\n",
       "      <td>Trafalgar, IN</td>\n",
       "      <td>IN</td>\n",
       "      <td>39</td>\n",
       "      <td>-86</td>\n",
       "      <td>267</td>\n",
       "      <td>-13</td>\n",
       "      <td>0</td>\n",
       "      <td>0</td>\n",
       "      <td>0</td>\n",
       "      <td>1</td>\n",
       "      <td>0</td>\n",
       "      <td>0</td>\n",
       "      <td>0</td>\n",
       "    </tr>\n",
       "    <tr>\n",
       "      <th>2</th>\n",
       "      <td>1995-06-20</td>\n",
       "      <td>0 days 17:00:00</td>\n",
       "      <td>Munhall, PA</td>\n",
       "      <td>PA</td>\n",
       "      <td>40</td>\n",
       "      <td>-79</td>\n",
       "      <td>329</td>\n",
       "      <td>-13</td>\n",
       "      <td>0</td>\n",
       "      <td>1</td>\n",
       "      <td>0</td>\n",
       "      <td>0</td>\n",
       "      <td>0</td>\n",
       "      <td>1</td>\n",
       "      <td>0</td>\n",
       "    </tr>\n",
       "    <tr>\n",
       "      <th>3</th>\n",
       "      <td>1995-07-04</td>\n",
       "      <td>0 days 21:30:00</td>\n",
       "      <td>Myrtle, MS</td>\n",
       "      <td>MS</td>\n",
       "      <td>34</td>\n",
       "      <td>-89</td>\n",
       "      <td>108</td>\n",
       "      <td>-19</td>\n",
       "      <td>0</td>\n",
       "      <td>1</td>\n",
       "      <td>0</td>\n",
       "      <td>0</td>\n",
       "      <td>0</td>\n",
       "      <td>1</td>\n",
       "      <td>1</td>\n",
       "    </tr>\n",
       "    <tr>\n",
       "      <th>4</th>\n",
       "      <td>1995-08-01</td>\n",
       "      <td>0 days 16:00:00</td>\n",
       "      <td>Pottstown, PA</td>\n",
       "      <td>PA</td>\n",
       "      <td>40</td>\n",
       "      <td>-75</td>\n",
       "      <td>46</td>\n",
       "      <td>-16</td>\n",
       "      <td>0</td>\n",
       "      <td>1</td>\n",
       "      <td>0</td>\n",
       "      <td>0</td>\n",
       "      <td>0</td>\n",
       "      <td>0</td>\n",
       "      <td>0</td>\n",
       "    </tr>\n",
       "    <tr>\n",
       "      <th>5</th>\n",
       "      <td>1995-12-15</td>\n",
       "      <td>0 days 06:50:00</td>\n",
       "      <td>Eagan, MN</td>\n",
       "      <td>MN</td>\n",
       "      <td>44</td>\n",
       "      <td>-93</td>\n",
       "      <td>257</td>\n",
       "      <td>-15</td>\n",
       "      <td>1</td>\n",
       "      <td>0</td>\n",
       "      <td>0</td>\n",
       "      <td>0</td>\n",
       "      <td>0</td>\n",
       "      <td>0</td>\n",
       "      <td>0</td>\n",
       "    </tr>\n",
       "  </tbody>\n",
       "</table>\n",
       "</div>"
      ],
      "text/plain": [
       "         date            time        address state  latitude  longitude  \\\n",
       "id                                                                        \n",
       "1  1995-06-08 0 days 02:00:00  Trafalgar, IN    IN        39        -86   \n",
       "2  1995-06-20 0 days 17:00:00    Munhall, PA    PA        40        -79   \n",
       "3  1995-07-04 0 days 21:30:00     Myrtle, MS    MS        34        -89   \n",
       "4  1995-08-01 0 days 16:00:00  Pottstown, PA    PA        40        -75   \n",
       "5  1995-12-15 0 days 06:50:00      Eagan, MN    MN        44        -93   \n",
       "\n",
       "    elevation  magnitude  white  red  blue  green  purple  orange  yellow  \n",
       "id                                                                         \n",
       "1         267        -13      0    0     0      1       0       0       0  \n",
       "2         329        -13      0    1     0      0       0       1       0  \n",
       "3         108        -19      0    1     0      0       0       1       1  \n",
       "4          46        -16      0    1     0      0       0       0       0  \n",
       "5         257        -15      1    0     0      0       0       0       0  "
      ]
     },
     "execution_count": 18,
     "metadata": {},
     "output_type": "execute_result"
    }
   ],
   "source": [
    "df_metheo.head()"
   ]
  },
  {
   "cell_type": "code",
   "execution_count": 19,
   "id": "229b5cc2",
   "metadata": {},
   "outputs": [],
   "source": [
    "df_metheo_gb = df_metheo.groupby('date').size()"
   ]
  },
  {
   "cell_type": "code",
   "execution_count": 20,
   "id": "6a43acea",
   "metadata": {},
   "outputs": [
    {
     "data": {
      "application/vnd.microsoft.datawrangler.viewer.v0+json": {
       "columns": [
        {
         "name": "date",
         "rawType": "datetime64[ns]",
         "type": "datetime"
        },
        {
         "name": "0",
         "rawType": "int64",
         "type": "integer"
        }
       ],
       "ref": "b2bff6fa-d484-4f4c-b078-460c6a4afbc0",
       "rows": [
        [
         "1995-06-08 00:00:00",
         "1"
        ],
        [
         "1995-06-20 00:00:00",
         "1"
        ],
        [
         "1995-07-04 00:00:00",
         "1"
        ],
        [
         "1995-08-01 00:00:00",
         "1"
        ],
        [
         "1995-12-15 00:00:00",
         "1"
        ],
        [
         "1996-03-15 00:00:00",
         "1"
        ],
        [
         "1996-06-04 00:00:00",
         "1"
        ],
        [
         "1996-07-11 00:00:00",
         "1"
        ],
        [
         "1996-11-16 00:00:00",
         "1"
        ],
        [
         "1996-12-09 00:00:00",
         "1"
        ],
        [
         "1997-01-18 00:00:00",
         "1"
        ],
        [
         "1997-02-07 00:00:00",
         "1"
        ],
        [
         "1997-02-14 00:00:00",
         "1"
        ],
        [
         "1997-03-27 00:00:00",
         "1"
        ],
        [
         "1997-05-01 00:00:00",
         "1"
        ],
        [
         "1997-06-08 00:00:00",
         "1"
        ],
        [
         "1997-07-11 00:00:00",
         "1"
        ],
        [
         "1997-10-31 00:00:00",
         "1"
        ],
        [
         "1997-11-14 00:00:00",
         "1"
        ],
        [
         "1998-03-10 00:00:00",
         "1"
        ],
        [
         "1998-06-23 00:00:00",
         "1"
        ],
        [
         "1998-07-26 00:00:00",
         "2"
        ],
        [
         "1998-11-17 00:00:00",
         "1"
        ],
        [
         "1998-11-19 00:00:00",
         "1"
        ],
        [
         "1999-02-08 00:00:00",
         "1"
        ],
        [
         "1999-03-20 00:00:00",
         "1"
        ],
        [
         "1999-04-15 00:00:00",
         "1"
        ],
        [
         "1999-04-19 00:00:00",
         "1"
        ],
        [
         "1999-04-26 00:00:00",
         "1"
        ],
        [
         "1999-07-01 00:00:00",
         "1"
        ],
        [
         "2000-04-18 00:00:00",
         "1"
        ],
        [
         "2000-06-01 00:00:00",
         "1"
        ],
        [
         "2000-07-15 00:00:00",
         "1"
        ],
        [
         "2000-11-28 00:00:00",
         "1"
        ],
        [
         "2001-04-28 00:00:00",
         "1"
        ],
        [
         "2001-08-17 00:00:00",
         "1"
        ],
        [
         "2001-09-10 00:00:00",
         "1"
        ],
        [
         "2001-09-12 00:00:00",
         "1"
        ],
        [
         "2001-11-18 00:00:00",
         "1"
        ],
        [
         "2002-01-15 00:00:00",
         "1"
        ],
        [
         "2002-03-02 00:00:00",
         "1"
        ],
        [
         "2002-03-04 00:00:00",
         "1"
        ],
        [
         "2002-08-08 00:00:00",
         "1"
        ],
        [
         "2002-11-02 00:00:00",
         "1"
        ],
        [
         "2002-12-07 00:00:00",
         "1"
        ],
        [
         "2003-07-16 00:00:00",
         "1"
        ],
        [
         "2003-08-15 00:00:00",
         "1"
        ],
        [
         "2003-11-11 00:00:00",
         "1"
        ],
        [
         "2003-11-12 00:00:00",
         "1"
        ],
        [
         "2003-12-13 00:00:00",
         "1"
        ]
       ],
       "shape": {
        "columns": 1,
        "rows": 334
       }
      },
      "text/plain": [
       "date\n",
       "1995-06-08       1\n",
       "1995-06-20       1\n",
       "1995-07-04       1\n",
       "1995-08-01       1\n",
       "1995-12-15       1\n",
       "              ... \n",
       "2014-12-27      39\n",
       "2014-12-28      31\n",
       "2014-12-29    1173\n",
       "2014-12-30      78\n",
       "2014-12-31      25\n",
       "Length: 334, dtype: int64"
      ]
     },
     "execution_count": 20,
     "metadata": {},
     "output_type": "execute_result"
    }
   ],
   "source": [
    "df_metheo_gb"
   ]
  },
  {
   "cell_type": "code",
   "execution_count": 21,
   "id": "b8efeb5b",
   "metadata": {},
   "outputs": [
    {
     "data": {
      "application/vnd.microsoft.datawrangler.viewer.v0+json": {
       "columns": [
        {
         "name": "date",
         "rawType": "datetime64[ns]",
         "type": "datetime"
        },
        {
         "name": "0",
         "rawType": "int64",
         "type": "integer"
        }
       ],
       "ref": "9600c756-0fe8-40cb-9b10-7a8de1842b3b",
       "rows": [
        [
         "1995-06-08 00:00:00",
         "1"
        ],
        [
         "1995-06-20 00:00:00",
         "1"
        ],
        [
         "1995-07-04 00:00:00",
         "1"
        ],
        [
         "1995-08-01 00:00:00",
         "1"
        ],
        [
         "1995-12-15 00:00:00",
         "1"
        ],
        [
         "1996-03-15 00:00:00",
         "1"
        ],
        [
         "1996-06-04 00:00:00",
         "1"
        ],
        [
         "1996-07-11 00:00:00",
         "1"
        ],
        [
         "1996-11-16 00:00:00",
         "1"
        ],
        [
         "1996-12-09 00:00:00",
         "1"
        ],
        [
         "1997-01-18 00:00:00",
         "1"
        ],
        [
         "1997-02-07 00:00:00",
         "1"
        ],
        [
         "1997-02-14 00:00:00",
         "1"
        ],
        [
         "1997-03-27 00:00:00",
         "1"
        ],
        [
         "1997-05-01 00:00:00",
         "1"
        ],
        [
         "1997-06-08 00:00:00",
         "1"
        ],
        [
         "1997-07-11 00:00:00",
         "1"
        ],
        [
         "1997-10-31 00:00:00",
         "1"
        ],
        [
         "1997-11-14 00:00:00",
         "1"
        ],
        [
         "1998-03-10 00:00:00",
         "1"
        ],
        [
         "1998-06-23 00:00:00",
         "1"
        ],
        [
         "1998-07-26 00:00:00",
         "2"
        ],
        [
         "1998-11-17 00:00:00",
         "1"
        ],
        [
         "1998-11-19 00:00:00",
         "1"
        ],
        [
         "1999-02-08 00:00:00",
         "1"
        ],
        [
         "1999-03-20 00:00:00",
         "1"
        ],
        [
         "1999-04-15 00:00:00",
         "1"
        ],
        [
         "1999-04-19 00:00:00",
         "1"
        ],
        [
         "1999-04-26 00:00:00",
         "1"
        ],
        [
         "1999-07-01 00:00:00",
         "1"
        ],
        [
         "2000-04-18 00:00:00",
         "1"
        ],
        [
         "2000-06-01 00:00:00",
         "1"
        ],
        [
         "2000-07-15 00:00:00",
         "1"
        ],
        [
         "2000-11-28 00:00:00",
         "1"
        ],
        [
         "2001-04-28 00:00:00",
         "1"
        ],
        [
         "2001-08-17 00:00:00",
         "1"
        ],
        [
         "2001-09-10 00:00:00",
         "1"
        ],
        [
         "2001-09-12 00:00:00",
         "1"
        ],
        [
         "2001-11-18 00:00:00",
         "1"
        ],
        [
         "2002-01-15 00:00:00",
         "1"
        ],
        [
         "2002-03-02 00:00:00",
         "1"
        ],
        [
         "2002-03-04 00:00:00",
         "1"
        ],
        [
         "2002-08-08 00:00:00",
         "1"
        ],
        [
         "2002-11-02 00:00:00",
         "1"
        ],
        [
         "2002-12-07 00:00:00",
         "1"
        ],
        [
         "2003-07-16 00:00:00",
         "1"
        ],
        [
         "2003-08-15 00:00:00",
         "1"
        ],
        [
         "2003-11-11 00:00:00",
         "1"
        ],
        [
         "2003-11-12 00:00:00",
         "1"
        ],
        [
         "2003-12-13 00:00:00",
         "1"
        ]
       ],
       "shape": {
        "columns": 1,
        "rows": 334
       }
      },
      "text/html": [
       "<div>\n",
       "<style scoped>\n",
       "    .dataframe tbody tr th:only-of-type {\n",
       "        vertical-align: middle;\n",
       "    }\n",
       "\n",
       "    .dataframe tbody tr th {\n",
       "        vertical-align: top;\n",
       "    }\n",
       "\n",
       "    .dataframe thead th {\n",
       "        text-align: right;\n",
       "    }\n",
       "</style>\n",
       "<table border=\"1\" class=\"dataframe\">\n",
       "  <thead>\n",
       "    <tr style=\"text-align: right;\">\n",
       "      <th></th>\n",
       "      <th>0</th>\n",
       "    </tr>\n",
       "    <tr>\n",
       "      <th>date</th>\n",
       "      <th></th>\n",
       "    </tr>\n",
       "  </thead>\n",
       "  <tbody>\n",
       "    <tr>\n",
       "      <th>1995-06-08</th>\n",
       "      <td>1</td>\n",
       "    </tr>\n",
       "    <tr>\n",
       "      <th>1995-06-20</th>\n",
       "      <td>1</td>\n",
       "    </tr>\n",
       "    <tr>\n",
       "      <th>1995-07-04</th>\n",
       "      <td>1</td>\n",
       "    </tr>\n",
       "    <tr>\n",
       "      <th>1995-08-01</th>\n",
       "      <td>1</td>\n",
       "    </tr>\n",
       "    <tr>\n",
       "      <th>1995-12-15</th>\n",
       "      <td>1</td>\n",
       "    </tr>\n",
       "    <tr>\n",
       "      <th>...</th>\n",
       "      <td>...</td>\n",
       "    </tr>\n",
       "    <tr>\n",
       "      <th>2014-12-27</th>\n",
       "      <td>39</td>\n",
       "    </tr>\n",
       "    <tr>\n",
       "      <th>2014-12-28</th>\n",
       "      <td>31</td>\n",
       "    </tr>\n",
       "    <tr>\n",
       "      <th>2014-12-29</th>\n",
       "      <td>1173</td>\n",
       "    </tr>\n",
       "    <tr>\n",
       "      <th>2014-12-30</th>\n",
       "      <td>78</td>\n",
       "    </tr>\n",
       "    <tr>\n",
       "      <th>2014-12-31</th>\n",
       "      <td>25</td>\n",
       "    </tr>\n",
       "  </tbody>\n",
       "</table>\n",
       "<p>334 rows × 1 columns</p>\n",
       "</div>"
      ],
      "text/plain": [
       "               0\n",
       "date            \n",
       "1995-06-08     1\n",
       "1995-06-20     1\n",
       "1995-07-04     1\n",
       "1995-08-01     1\n",
       "1995-12-15     1\n",
       "...          ...\n",
       "2014-12-27    39\n",
       "2014-12-28    31\n",
       "2014-12-29  1173\n",
       "2014-12-30    78\n",
       "2014-12-31    25\n",
       "\n",
       "[334 rows x 1 columns]"
      ]
     },
     "execution_count": 21,
     "metadata": {},
     "output_type": "execute_result"
    }
   ],
   "source": [
    "df_metheo_gb = df_metheo_gb.to_frame()\n",
    "df_metheo_gb\n"
   ]
  },
  {
   "cell_type": "code",
   "execution_count": 22,
   "id": "2dc917ee",
   "metadata": {},
   "outputs": [
    {
     "data": {
      "application/vnd.microsoft.datawrangler.viewer.v0+json": {
       "columns": [
        {
         "name": "index",
         "rawType": "int64",
         "type": "integer"
        },
        {
         "name": "date",
         "rawType": "datetime64[ns]",
         "type": "datetime"
        },
        {
         "name": "0",
         "rawType": "int64",
         "type": "integer"
        }
       ],
       "ref": "ae845d45-f83c-4d91-b707-ac4d0e3cf8b7",
       "rows": [
        [
         "0",
         "1995-06-08 00:00:00",
         "1"
        ],
        [
         "1",
         "1995-06-20 00:00:00",
         "1"
        ],
        [
         "2",
         "1995-07-04 00:00:00",
         "1"
        ],
        [
         "3",
         "1995-08-01 00:00:00",
         "1"
        ],
        [
         "4",
         "1995-12-15 00:00:00",
         "1"
        ],
        [
         "5",
         "1996-03-15 00:00:00",
         "1"
        ],
        [
         "6",
         "1996-06-04 00:00:00",
         "1"
        ],
        [
         "7",
         "1996-07-11 00:00:00",
         "1"
        ],
        [
         "8",
         "1996-11-16 00:00:00",
         "1"
        ],
        [
         "9",
         "1996-12-09 00:00:00",
         "1"
        ],
        [
         "10",
         "1997-01-18 00:00:00",
         "1"
        ],
        [
         "11",
         "1997-02-07 00:00:00",
         "1"
        ],
        [
         "12",
         "1997-02-14 00:00:00",
         "1"
        ],
        [
         "13",
         "1997-03-27 00:00:00",
         "1"
        ],
        [
         "14",
         "1997-05-01 00:00:00",
         "1"
        ],
        [
         "15",
         "1997-06-08 00:00:00",
         "1"
        ],
        [
         "16",
         "1997-07-11 00:00:00",
         "1"
        ],
        [
         "17",
         "1997-10-31 00:00:00",
         "1"
        ],
        [
         "18",
         "1997-11-14 00:00:00",
         "1"
        ],
        [
         "19",
         "1998-03-10 00:00:00",
         "1"
        ],
        [
         "20",
         "1998-06-23 00:00:00",
         "1"
        ],
        [
         "21",
         "1998-07-26 00:00:00",
         "2"
        ],
        [
         "22",
         "1998-11-17 00:00:00",
         "1"
        ],
        [
         "23",
         "1998-11-19 00:00:00",
         "1"
        ],
        [
         "24",
         "1999-02-08 00:00:00",
         "1"
        ],
        [
         "25",
         "1999-03-20 00:00:00",
         "1"
        ],
        [
         "26",
         "1999-04-15 00:00:00",
         "1"
        ],
        [
         "27",
         "1999-04-19 00:00:00",
         "1"
        ],
        [
         "28",
         "1999-04-26 00:00:00",
         "1"
        ],
        [
         "29",
         "1999-07-01 00:00:00",
         "1"
        ],
        [
         "30",
         "2000-04-18 00:00:00",
         "1"
        ],
        [
         "31",
         "2000-06-01 00:00:00",
         "1"
        ],
        [
         "32",
         "2000-07-15 00:00:00",
         "1"
        ],
        [
         "33",
         "2000-11-28 00:00:00",
         "1"
        ],
        [
         "34",
         "2001-04-28 00:00:00",
         "1"
        ],
        [
         "35",
         "2001-08-17 00:00:00",
         "1"
        ],
        [
         "36",
         "2001-09-10 00:00:00",
         "1"
        ],
        [
         "37",
         "2001-09-12 00:00:00",
         "1"
        ],
        [
         "38",
         "2001-11-18 00:00:00",
         "1"
        ],
        [
         "39",
         "2002-01-15 00:00:00",
         "1"
        ],
        [
         "40",
         "2002-03-02 00:00:00",
         "1"
        ],
        [
         "41",
         "2002-03-04 00:00:00",
         "1"
        ],
        [
         "42",
         "2002-08-08 00:00:00",
         "1"
        ],
        [
         "43",
         "2002-11-02 00:00:00",
         "1"
        ],
        [
         "44",
         "2002-12-07 00:00:00",
         "1"
        ],
        [
         "45",
         "2003-07-16 00:00:00",
         "1"
        ],
        [
         "46",
         "2003-08-15 00:00:00",
         "1"
        ],
        [
         "47",
         "2003-11-11 00:00:00",
         "1"
        ],
        [
         "48",
         "2003-11-12 00:00:00",
         "1"
        ],
        [
         "49",
         "2003-12-13 00:00:00",
         "1"
        ]
       ],
       "shape": {
        "columns": 2,
        "rows": 334
       }
      },
      "text/html": [
       "<div>\n",
       "<style scoped>\n",
       "    .dataframe tbody tr th:only-of-type {\n",
       "        vertical-align: middle;\n",
       "    }\n",
       "\n",
       "    .dataframe tbody tr th {\n",
       "        vertical-align: top;\n",
       "    }\n",
       "\n",
       "    .dataframe thead th {\n",
       "        text-align: right;\n",
       "    }\n",
       "</style>\n",
       "<table border=\"1\" class=\"dataframe\">\n",
       "  <thead>\n",
       "    <tr style=\"text-align: right;\">\n",
       "      <th></th>\n",
       "      <th>date</th>\n",
       "      <th>0</th>\n",
       "    </tr>\n",
       "  </thead>\n",
       "  <tbody>\n",
       "    <tr>\n",
       "      <th>0</th>\n",
       "      <td>1995-06-08</td>\n",
       "      <td>1</td>\n",
       "    </tr>\n",
       "    <tr>\n",
       "      <th>1</th>\n",
       "      <td>1995-06-20</td>\n",
       "      <td>1</td>\n",
       "    </tr>\n",
       "    <tr>\n",
       "      <th>2</th>\n",
       "      <td>1995-07-04</td>\n",
       "      <td>1</td>\n",
       "    </tr>\n",
       "    <tr>\n",
       "      <th>3</th>\n",
       "      <td>1995-08-01</td>\n",
       "      <td>1</td>\n",
       "    </tr>\n",
       "    <tr>\n",
       "      <th>4</th>\n",
       "      <td>1995-12-15</td>\n",
       "      <td>1</td>\n",
       "    </tr>\n",
       "    <tr>\n",
       "      <th>...</th>\n",
       "      <td>...</td>\n",
       "      <td>...</td>\n",
       "    </tr>\n",
       "    <tr>\n",
       "      <th>329</th>\n",
       "      <td>2014-12-27</td>\n",
       "      <td>39</td>\n",
       "    </tr>\n",
       "    <tr>\n",
       "      <th>330</th>\n",
       "      <td>2014-12-28</td>\n",
       "      <td>31</td>\n",
       "    </tr>\n",
       "    <tr>\n",
       "      <th>331</th>\n",
       "      <td>2014-12-29</td>\n",
       "      <td>1173</td>\n",
       "    </tr>\n",
       "    <tr>\n",
       "      <th>332</th>\n",
       "      <td>2014-12-30</td>\n",
       "      <td>78</td>\n",
       "    </tr>\n",
       "    <tr>\n",
       "      <th>333</th>\n",
       "      <td>2014-12-31</td>\n",
       "      <td>25</td>\n",
       "    </tr>\n",
       "  </tbody>\n",
       "</table>\n",
       "<p>334 rows × 2 columns</p>\n",
       "</div>"
      ],
      "text/plain": [
       "          date     0\n",
       "0   1995-06-08     1\n",
       "1   1995-06-20     1\n",
       "2   1995-07-04     1\n",
       "3   1995-08-01     1\n",
       "4   1995-12-15     1\n",
       "..         ...   ...\n",
       "329 2014-12-27    39\n",
       "330 2014-12-28    31\n",
       "331 2014-12-29  1173\n",
       "332 2014-12-30    78\n",
       "333 2014-12-31    25\n",
       "\n",
       "[334 rows x 2 columns]"
      ]
     },
     "execution_count": 22,
     "metadata": {},
     "output_type": "execute_result"
    }
   ],
   "source": [
    "df_metheo_gb = df_metheo_gb.reset_index()\n",
    "df_metheo_gb"
   ]
  },
  {
   "cell_type": "code",
   "execution_count": 23,
   "id": "b02b6c8e",
   "metadata": {},
   "outputs": [],
   "source": [
    "df_metheo_gb['metheo_cnt'] = df_metheo_gb[0]\n",
    "df_metheo_gb['date'] = df_metheo_gb['date'].astype('str')"
   ]
  },
  {
   "cell_type": "code",
   "execution_count": 24,
   "id": "c0bf29ab",
   "metadata": {},
   "outputs": [
    {
     "data": {
      "application/vnd.microsoft.datawrangler.viewer.v0+json": {
       "columns": [
        {
         "name": "index",
         "rawType": "int64",
         "type": "integer"
        },
        {
         "name": "calendar_date",
         "rawType": "object",
         "type": "unknown"
        }
       ],
       "ref": "0a1eda5c-de11-4a6d-a748-163a0e9f8506",
       "rows": [
        [
         "0",
         "1990-01-01"
        ],
        [
         "1",
         "1990-01-02"
        ],
        [
         "2",
         "1990-01-03"
        ],
        [
         "3",
         "1990-01-04"
        ],
        [
         "4",
         "1990-01-05"
        ],
        [
         "5",
         "1990-01-06"
        ],
        [
         "6",
         "1990-01-07"
        ],
        [
         "7",
         "1990-01-08"
        ],
        [
         "8",
         "1990-01-09"
        ],
        [
         "9",
         "1990-01-10"
        ],
        [
         "10",
         "1990-01-11"
        ],
        [
         "11",
         "1990-01-12"
        ],
        [
         "12",
         "1990-01-13"
        ],
        [
         "13",
         "1990-01-14"
        ],
        [
         "14",
         "1990-01-15"
        ],
        [
         "15",
         "1990-01-16"
        ],
        [
         "16",
         "1990-01-17"
        ],
        [
         "17",
         "1990-01-18"
        ],
        [
         "18",
         "1990-01-19"
        ],
        [
         "19",
         "1990-01-20"
        ],
        [
         "20",
         "1990-01-21"
        ],
        [
         "21",
         "1990-01-22"
        ],
        [
         "22",
         "1990-01-23"
        ],
        [
         "23",
         "1990-01-24"
        ],
        [
         "24",
         "1990-01-25"
        ],
        [
         "25",
         "1990-01-26"
        ],
        [
         "26",
         "1990-01-27"
        ],
        [
         "27",
         "1990-01-28"
        ],
        [
         "28",
         "1990-01-29"
        ],
        [
         "29",
         "1990-01-30"
        ],
        [
         "30",
         "1990-01-31"
        ],
        [
         "31",
         "1990-02-01"
        ],
        [
         "32",
         "1990-02-02"
        ],
        [
         "33",
         "1990-02-03"
        ],
        [
         "34",
         "1990-02-04"
        ],
        [
         "35",
         "1990-02-05"
        ],
        [
         "36",
         "1990-02-06"
        ],
        [
         "37",
         "1990-02-07"
        ],
        [
         "38",
         "1990-02-08"
        ],
        [
         "39",
         "1990-02-09"
        ],
        [
         "40",
         "1990-02-10"
        ],
        [
         "41",
         "1990-02-11"
        ],
        [
         "42",
         "1990-02-12"
        ],
        [
         "43",
         "1990-02-13"
        ],
        [
         "44",
         "1990-02-14"
        ],
        [
         "45",
         "1990-02-15"
        ],
        [
         "46",
         "1990-02-16"
        ],
        [
         "47",
         "1990-02-17"
        ],
        [
         "48",
         "1990-02-18"
        ],
        [
         "49",
         "1990-02-19"
        ]
       ],
       "shape": {
        "columns": 1,
        "rows": 9131
       }
      },
      "text/html": [
       "<div>\n",
       "<style scoped>\n",
       "    .dataframe tbody tr th:only-of-type {\n",
       "        vertical-align: middle;\n",
       "    }\n",
       "\n",
       "    .dataframe tbody tr th {\n",
       "        vertical-align: top;\n",
       "    }\n",
       "\n",
       "    .dataframe thead th {\n",
       "        text-align: right;\n",
       "    }\n",
       "</style>\n",
       "<table border=\"1\" class=\"dataframe\">\n",
       "  <thead>\n",
       "    <tr style=\"text-align: right;\">\n",
       "      <th></th>\n",
       "      <th>calendar_date</th>\n",
       "    </tr>\n",
       "  </thead>\n",
       "  <tbody>\n",
       "    <tr>\n",
       "      <th>0</th>\n",
       "      <td>1990-01-01</td>\n",
       "    </tr>\n",
       "    <tr>\n",
       "      <th>1</th>\n",
       "      <td>1990-01-02</td>\n",
       "    </tr>\n",
       "    <tr>\n",
       "      <th>2</th>\n",
       "      <td>1990-01-03</td>\n",
       "    </tr>\n",
       "    <tr>\n",
       "      <th>3</th>\n",
       "      <td>1990-01-04</td>\n",
       "    </tr>\n",
       "    <tr>\n",
       "      <th>4</th>\n",
       "      <td>1990-01-05</td>\n",
       "    </tr>\n",
       "    <tr>\n",
       "      <th>...</th>\n",
       "      <td>...</td>\n",
       "    </tr>\n",
       "    <tr>\n",
       "      <th>9126</th>\n",
       "      <td>2014-12-27</td>\n",
       "    </tr>\n",
       "    <tr>\n",
       "      <th>9127</th>\n",
       "      <td>2014-12-28</td>\n",
       "    </tr>\n",
       "    <tr>\n",
       "      <th>9128</th>\n",
       "      <td>2014-12-29</td>\n",
       "    </tr>\n",
       "    <tr>\n",
       "      <th>9129</th>\n",
       "      <td>2014-12-30</td>\n",
       "    </tr>\n",
       "    <tr>\n",
       "      <th>9130</th>\n",
       "      <td>2014-12-31</td>\n",
       "    </tr>\n",
       "  </tbody>\n",
       "</table>\n",
       "<p>9131 rows × 1 columns</p>\n",
       "</div>"
      ],
      "text/plain": [
       "     calendar_date\n",
       "0       1990-01-01\n",
       "1       1990-01-02\n",
       "2       1990-01-03\n",
       "3       1990-01-04\n",
       "4       1990-01-05\n",
       "...            ...\n",
       "9126    2014-12-27\n",
       "9127    2014-12-28\n",
       "9128    2014-12-29\n",
       "9129    2014-12-30\n",
       "9130    2014-12-31\n",
       "\n",
       "[9131 rows x 1 columns]"
      ]
     },
     "execution_count": 24,
     "metadata": {},
     "output_type": "execute_result"
    }
   ],
   "source": [
    "df_date_dim = df_date_dim.reset_index()\n",
    "df_date_dim"
   ]
  },
  {
   "cell_type": "code",
   "execution_count": 25,
   "id": "5e31f4a7",
   "metadata": {},
   "outputs": [
    {
     "data": {
      "application/vnd.microsoft.datawrangler.viewer.v0+json": {
       "columns": [
        {
         "name": "index",
         "rawType": "object",
         "type": "string"
        },
        {
         "name": "0",
         "rawType": "object",
         "type": "unknown"
        }
       ],
       "ref": "091437b5-3dba-4100-a743-b60c647b9368",
       "rows": [
        [
         "calendar_date",
         "object"
        ]
       ],
       "shape": {
        "columns": 1,
        "rows": 1
       }
      },
      "text/plain": [
       "calendar_date    object\n",
       "dtype: object"
      ]
     },
     "execution_count": 25,
     "metadata": {},
     "output_type": "execute_result"
    }
   ],
   "source": [
    "df_date_dim.dtypes"
   ]
  },
  {
   "cell_type": "code",
   "execution_count": 26,
   "id": "48988256",
   "metadata": {},
   "outputs": [
    {
     "data": {
      "application/vnd.microsoft.datawrangler.viewer.v0+json": {
       "columns": [
        {
         "name": "index",
         "rawType": "object",
         "type": "string"
        },
        {
         "name": "0",
         "rawType": "object",
         "type": "unknown"
        }
       ],
       "ref": "cead912d-7445-4243-9051-cd63421c38ef",
       "rows": [
        [
         "date",
         "datetime64[ns]"
        ],
        [
         "ufo_count",
         "int64"
        ]
       ],
       "shape": {
        "columns": 1,
        "rows": 2
       }
      },
      "text/plain": [
       "date         datetime64[ns]\n",
       "ufo_count             int64\n",
       "dtype: object"
      ]
     },
     "execution_count": 26,
     "metadata": {},
     "output_type": "execute_result"
    }
   ],
   "source": [
    "df_ufo_gb.dtypes"
   ]
  },
  {
   "cell_type": "code",
   "execution_count": 27,
   "id": "99077e33",
   "metadata": {},
   "outputs": [
    {
     "data": {
      "application/vnd.microsoft.datawrangler.viewer.v0+json": {
       "columns": [
        {
         "name": "index",
         "rawType": "object",
         "type": "unknown"
        },
        {
         "name": "0",
         "rawType": "object",
         "type": "unknown"
        }
       ],
       "ref": "68bd9289-141f-41aa-8e38-78694a9eb2e5",
       "rows": [
        [
         "date",
         "object"
        ],
        [
         "0",
         "int64"
        ],
        [
         "metheo_cnt",
         "int64"
        ]
       ],
       "shape": {
        "columns": 1,
        "rows": 3
       }
      },
      "text/plain": [
       "date          object\n",
       "0              int64\n",
       "metheo_cnt     int64\n",
       "dtype: object"
      ]
     },
     "execution_count": 27,
     "metadata": {},
     "output_type": "execute_result"
    }
   ],
   "source": [
    "df_metheo_gb.dtypes"
   ]
  },
  {
   "cell_type": "code",
   "execution_count": 28,
   "id": "d61ce370",
   "metadata": {},
   "outputs": [
    {
     "name": "stderr",
     "output_type": "stream",
     "text": [
      "/var/folders/kh/6khx28zs2bq8wjptklpbkj440000gn/T/ipykernel_6189/2150101569.py:2: SettingWithCopyWarning: \n",
      "A value is trying to be set on a copy of a slice from a DataFrame.\n",
      "Try using .loc[row_indexer,col_indexer] = value instead\n",
      "\n",
      "See the caveats in the documentation: https://pandas.pydata.org/pandas-docs/stable/user_guide/indexing.html#returning-a-view-versus-a-copy\n",
      "  df_ufo_gb['date'] = df_ufo_gb['date'].astype('str')\n"
     ]
    }
   ],
   "source": [
    "df_date_dim['calendar_date'] = df_date_dim['calendar_date'].astype('str')\n",
    "df_ufo_gb['date'] = df_ufo_gb['date'].astype('str')\n",
    "df_metheo_gb['date'] = df_metheo_gb['date'].astype('str')"
   ]
  },
  {
   "cell_type": "markdown",
   "id": "ab937455",
   "metadata": {},
   "source": [
    "### ufo데이터와 metheo데이터 날짜 데이터로 병합"
   ]
  },
  {
   "cell_type": "code",
   "execution_count": 29,
   "id": "bdc2e6ce",
   "metadata": {},
   "outputs": [],
   "source": [
    "merged_ufo_date = pd.merge(\n",
    "    df_date_dim,\n",
    "    df_ufo_gb,\n",
    "    left_on='calendar_date',     # date_dim의 조인 키\n",
    "    right_on='date',             # metheo_cleaned의 조인 키\n",
    "    how='outer'                  # Outer Join 지정\n",
    ")"
   ]
  },
  {
   "cell_type": "code",
   "execution_count": 30,
   "id": "daeca5be",
   "metadata": {},
   "outputs": [],
   "source": [
    "merged_df = pd.merge(\n",
    "    merged_ufo_date,\n",
    "    df_metheo_gb,\n",
    "    left_on='calendar_date',     # date_dim의 조인 키\n",
    "    right_on='date',             # metheo_cleaned의 조인 키\n",
    "    how='outer'                  # Outer Join 지정\n",
    ")"
   ]
  },
  {
   "cell_type": "code",
   "execution_count": 31,
   "id": "5c4a76e1",
   "metadata": {},
   "outputs": [
    {
     "data": {
      "application/vnd.microsoft.datawrangler.viewer.v0+json": {
       "columns": [
        {
         "name": "index",
         "rawType": "int64",
         "type": "integer"
        },
        {
         "name": "calendar_date",
         "rawType": "object",
         "type": "string"
        },
        {
         "name": "date_x",
         "rawType": "object",
         "type": "unknown"
        },
        {
         "name": "ufo_count",
         "rawType": "float64",
         "type": "float"
        },
        {
         "name": "date_y",
         "rawType": "object",
         "type": "unknown"
        },
        {
         "name": "0",
         "rawType": "float64",
         "type": "float"
        },
        {
         "name": "metheo_cnt",
         "rawType": "float64",
         "type": "float"
        }
       ],
       "ref": "b6e6051c-3bac-45a7-9f21-b12862c1a470",
       "rows": [
        [
         "0",
         "1990-01-01",
         null,
         null,
         null,
         null,
         null
        ],
        [
         "1",
         "1990-01-02",
         null,
         null,
         null,
         null,
         null
        ],
        [
         "2",
         "1990-01-03",
         null,
         null,
         null,
         null,
         null
        ],
        [
         "3",
         "1990-01-04",
         null,
         null,
         null,
         null,
         null
        ],
        [
         "4",
         "1990-01-05",
         null,
         null,
         null,
         null,
         null
        ],
        [
         "5",
         "1990-01-06",
         null,
         null,
         null,
         null,
         null
        ],
        [
         "6",
         "1990-01-07",
         null,
         null,
         null,
         null,
         null
        ],
        [
         "7",
         "1990-01-08",
         null,
         null,
         null,
         null,
         null
        ],
        [
         "8",
         "1990-01-09",
         null,
         null,
         null,
         null,
         null
        ],
        [
         "9",
         "1990-01-10",
         null,
         null,
         null,
         null,
         null
        ],
        [
         "10",
         "1990-01-11",
         null,
         null,
         null,
         null,
         null
        ],
        [
         "11",
         "1990-01-12",
         null,
         null,
         null,
         null,
         null
        ],
        [
         "12",
         "1990-01-13",
         null,
         null,
         null,
         null,
         null
        ],
        [
         "13",
         "1990-01-14",
         null,
         null,
         null,
         null,
         null
        ],
        [
         "14",
         "1990-01-15",
         null,
         null,
         null,
         null,
         null
        ],
        [
         "15",
         "1990-01-16",
         null,
         null,
         null,
         null,
         null
        ],
        [
         "16",
         "1990-01-17",
         null,
         null,
         null,
         null,
         null
        ],
        [
         "17",
         "1990-01-18",
         null,
         null,
         null,
         null,
         null
        ],
        [
         "18",
         "1990-01-19",
         null,
         null,
         null,
         null,
         null
        ],
        [
         "19",
         "1990-01-20",
         null,
         null,
         null,
         null,
         null
        ],
        [
         "20",
         "1990-01-21",
         null,
         null,
         null,
         null,
         null
        ],
        [
         "21",
         "1990-01-22",
         null,
         null,
         null,
         null,
         null
        ],
        [
         "22",
         "1990-01-23",
         null,
         null,
         null,
         null,
         null
        ],
        [
         "23",
         "1990-01-24",
         null,
         null,
         null,
         null,
         null
        ],
        [
         "24",
         "1990-01-25",
         null,
         null,
         null,
         null,
         null
        ],
        [
         "25",
         "1990-01-26",
         null,
         null,
         null,
         null,
         null
        ],
        [
         "26",
         "1990-01-27",
         null,
         null,
         null,
         null,
         null
        ],
        [
         "27",
         "1990-01-28",
         null,
         null,
         null,
         null,
         null
        ],
        [
         "28",
         "1990-01-29",
         null,
         null,
         null,
         null,
         null
        ],
        [
         "29",
         "1990-01-30",
         null,
         null,
         null,
         null,
         null
        ],
        [
         "30",
         "1990-01-31",
         null,
         null,
         null,
         null,
         null
        ],
        [
         "31",
         "1990-02-01",
         null,
         null,
         null,
         null,
         null
        ],
        [
         "32",
         "1990-02-02",
         null,
         null,
         null,
         null,
         null
        ],
        [
         "33",
         "1990-02-03",
         null,
         null,
         null,
         null,
         null
        ],
        [
         "34",
         "1990-02-04",
         null,
         null,
         null,
         null,
         null
        ],
        [
         "35",
         "1990-02-05",
         null,
         null,
         null,
         null,
         null
        ],
        [
         "36",
         "1990-02-06",
         null,
         null,
         null,
         null,
         null
        ],
        [
         "37",
         "1990-02-07",
         null,
         null,
         null,
         null,
         null
        ],
        [
         "38",
         "1990-02-08",
         null,
         null,
         null,
         null,
         null
        ],
        [
         "39",
         "1990-02-09",
         null,
         null,
         null,
         null,
         null
        ],
        [
         "40",
         "1990-02-10",
         null,
         null,
         null,
         null,
         null
        ],
        [
         "41",
         "1990-02-11",
         null,
         null,
         null,
         null,
         null
        ],
        [
         "42",
         "1990-02-12",
         null,
         null,
         null,
         null,
         null
        ],
        [
         "43",
         "1990-02-13",
         null,
         null,
         null,
         null,
         null
        ],
        [
         "44",
         "1990-02-14",
         null,
         null,
         null,
         null,
         null
        ],
        [
         "45",
         "1990-02-15",
         null,
         null,
         null,
         null,
         null
        ],
        [
         "46",
         "1990-02-16",
         null,
         null,
         null,
         null,
         null
        ],
        [
         "47",
         "1990-02-17",
         null,
         null,
         null,
         null,
         null
        ],
        [
         "48",
         "1990-02-18",
         null,
         null,
         null,
         null,
         null
        ],
        [
         "49",
         "1990-02-19",
         null,
         null,
         null,
         null,
         null
        ]
       ],
       "shape": {
        "columns": 6,
        "rows": 9131
       }
      },
      "text/html": [
       "<div>\n",
       "<style scoped>\n",
       "    .dataframe tbody tr th:only-of-type {\n",
       "        vertical-align: middle;\n",
       "    }\n",
       "\n",
       "    .dataframe tbody tr th {\n",
       "        vertical-align: top;\n",
       "    }\n",
       "\n",
       "    .dataframe thead th {\n",
       "        text-align: right;\n",
       "    }\n",
       "</style>\n",
       "<table border=\"1\" class=\"dataframe\">\n",
       "  <thead>\n",
       "    <tr style=\"text-align: right;\">\n",
       "      <th></th>\n",
       "      <th>calendar_date</th>\n",
       "      <th>date_x</th>\n",
       "      <th>ufo_count</th>\n",
       "      <th>date_y</th>\n",
       "      <th>0</th>\n",
       "      <th>metheo_cnt</th>\n",
       "    </tr>\n",
       "  </thead>\n",
       "  <tbody>\n",
       "    <tr>\n",
       "      <th>0</th>\n",
       "      <td>1990-01-01</td>\n",
       "      <td>NaN</td>\n",
       "      <td>NaN</td>\n",
       "      <td>NaN</td>\n",
       "      <td>NaN</td>\n",
       "      <td>NaN</td>\n",
       "    </tr>\n",
       "    <tr>\n",
       "      <th>1</th>\n",
       "      <td>1990-01-02</td>\n",
       "      <td>NaN</td>\n",
       "      <td>NaN</td>\n",
       "      <td>NaN</td>\n",
       "      <td>NaN</td>\n",
       "      <td>NaN</td>\n",
       "    </tr>\n",
       "    <tr>\n",
       "      <th>2</th>\n",
       "      <td>1990-01-03</td>\n",
       "      <td>NaN</td>\n",
       "      <td>NaN</td>\n",
       "      <td>NaN</td>\n",
       "      <td>NaN</td>\n",
       "      <td>NaN</td>\n",
       "    </tr>\n",
       "    <tr>\n",
       "      <th>3</th>\n",
       "      <td>1990-01-04</td>\n",
       "      <td>NaN</td>\n",
       "      <td>NaN</td>\n",
       "      <td>NaN</td>\n",
       "      <td>NaN</td>\n",
       "      <td>NaN</td>\n",
       "    </tr>\n",
       "    <tr>\n",
       "      <th>4</th>\n",
       "      <td>1990-01-05</td>\n",
       "      <td>NaN</td>\n",
       "      <td>NaN</td>\n",
       "      <td>NaN</td>\n",
       "      <td>NaN</td>\n",
       "      <td>NaN</td>\n",
       "    </tr>\n",
       "    <tr>\n",
       "      <th>...</th>\n",
       "      <td>...</td>\n",
       "      <td>...</td>\n",
       "      <td>...</td>\n",
       "      <td>...</td>\n",
       "      <td>...</td>\n",
       "      <td>...</td>\n",
       "    </tr>\n",
       "    <tr>\n",
       "      <th>9126</th>\n",
       "      <td>2014-12-27</td>\n",
       "      <td>NaN</td>\n",
       "      <td>NaN</td>\n",
       "      <td>2014-12-27</td>\n",
       "      <td>39.0</td>\n",
       "      <td>39.0</td>\n",
       "    </tr>\n",
       "    <tr>\n",
       "      <th>9127</th>\n",
       "      <td>2014-12-28</td>\n",
       "      <td>NaN</td>\n",
       "      <td>NaN</td>\n",
       "      <td>2014-12-28</td>\n",
       "      <td>31.0</td>\n",
       "      <td>31.0</td>\n",
       "    </tr>\n",
       "    <tr>\n",
       "      <th>9128</th>\n",
       "      <td>2014-12-29</td>\n",
       "      <td>NaN</td>\n",
       "      <td>NaN</td>\n",
       "      <td>2014-12-29</td>\n",
       "      <td>1173.0</td>\n",
       "      <td>1173.0</td>\n",
       "    </tr>\n",
       "    <tr>\n",
       "      <th>9129</th>\n",
       "      <td>2014-12-30</td>\n",
       "      <td>NaN</td>\n",
       "      <td>NaN</td>\n",
       "      <td>2014-12-30</td>\n",
       "      <td>78.0</td>\n",
       "      <td>78.0</td>\n",
       "    </tr>\n",
       "    <tr>\n",
       "      <th>9130</th>\n",
       "      <td>2014-12-31</td>\n",
       "      <td>NaN</td>\n",
       "      <td>NaN</td>\n",
       "      <td>2014-12-31</td>\n",
       "      <td>25.0</td>\n",
       "      <td>25.0</td>\n",
       "    </tr>\n",
       "  </tbody>\n",
       "</table>\n",
       "<p>9131 rows × 6 columns</p>\n",
       "</div>"
      ],
      "text/plain": [
       "     calendar_date date_x  ufo_count      date_y       0  metheo_cnt\n",
       "0       1990-01-01    NaN        NaN         NaN     NaN         NaN\n",
       "1       1990-01-02    NaN        NaN         NaN     NaN         NaN\n",
       "2       1990-01-03    NaN        NaN         NaN     NaN         NaN\n",
       "3       1990-01-04    NaN        NaN         NaN     NaN         NaN\n",
       "4       1990-01-05    NaN        NaN         NaN     NaN         NaN\n",
       "...            ...    ...        ...         ...     ...         ...\n",
       "9126    2014-12-27    NaN        NaN  2014-12-27    39.0        39.0\n",
       "9127    2014-12-28    NaN        NaN  2014-12-28    31.0        31.0\n",
       "9128    2014-12-29    NaN        NaN  2014-12-29  1173.0      1173.0\n",
       "9129    2014-12-30    NaN        NaN  2014-12-30    78.0        78.0\n",
       "9130    2014-12-31    NaN        NaN  2014-12-31    25.0        25.0\n",
       "\n",
       "[9131 rows x 6 columns]"
      ]
     },
     "execution_count": 31,
     "metadata": {},
     "output_type": "execute_result"
    }
   ],
   "source": [
    "merged_df"
   ]
  },
  {
   "cell_type": "code",
   "execution_count": 32,
   "id": "05803964",
   "metadata": {},
   "outputs": [],
   "source": [
    "merged_df.to_csv('ufo_metheo_merged.csv')"
   ]
  },
  {
   "cell_type": "markdown",
   "id": "cbfc060b",
   "metadata": {},
   "source": [
    "### 시각화"
   ]
  },
  {
   "cell_type": "code",
   "execution_count": 33,
   "id": "86adbce6",
   "metadata": {},
   "outputs": [],
   "source": [
    "from bokeh.plotting import figure, save\n",
    "from bokeh.models import ColumnDataSource, HoverTool\n",
    "from bokeh.io import output_file\n",
    "from sklearn.preprocessing import MinMaxScaler"
   ]
  },
  {
   "cell_type": "code",
   "execution_count": 34,
   "id": "a8fb3899",
   "metadata": {},
   "outputs": [
    {
     "name": "stdout",
     "output_type": "stream",
     "text": [
      "Bokeh 시각화가 'ufo_vs_metheo_time_series.html' 파일로 저장되었습니다.\n"
     ]
    }
   ],
   "source": [
    "# 1. 데이터 로드\n",
    "df = pd.read_csv('/Users/sungminhong/Documents/dev_ws/ufo_eda/data/ufo_metheo_merged.csv')\n",
    "\n",
    "# 2. 데이터 정리 및 Bokeh 오류 수정\n",
    "# (a) 컬럼 이름 공백 제거\n",
    "df.columns = df.columns.str.strip()\n",
    "\n",
    "# (b) Bokeh 오류 (invalid keys: nan) 해결:\n",
    "#     필요한 컬럼만 명시적으로 선택하여 새 DataFrame을 만듭니다.\n",
    "#     이렇게 하면 'nan'이라는 이름의 컬럼이 무시됩니다.\n",
    "plot_df = df[['calendar_date', 'ufo_count', 'metheo_cnt']].copy()\n",
    "\n",
    "# (c) NaN 값을 0으로 채웁니다 (Outer Join으로 인해 발생한 NaN)\n",
    "plot_df['ufo_count'] = plot_df['ufo_count'].fillna(0)\n",
    "plot_df['metheo_cnt'] = plot_df['metheo_cnt'].fillna(0)\n",
    "\n",
    "scaler = MinMaxScaler()\n",
    "\n",
    "plot_df[['ufo_normalized','metheo_normalized']] = scaler.fit_transform(\n",
    "    plot_df[['ufo_count', 'metheo_cnt']]\n",
    ")\n",
    "\n",
    "# (d) 날짜 타입 변환 (Bokeh 축을 위함)\n",
    "plot_df['calendar_date'] = pd.to_datetime(plot_df['calendar_date'])\n",
    "\n",
    "# 3. Bokeh ColumnDataSource 생성\n",
    "#    오류가 해결된 plot_df를 사용합니다.\n",
    "source = ColumnDataSource(plot_df)\n",
    "\n",
    "# 4. 출력 파일 설정\n",
    "output_file(\"ufo_vs_metheo_time_series.html\")\n",
    "\n",
    "# 5. 시각화 생성 (Figure)\n",
    "p = figure(\n",
    "    width=800,\n",
    "    height=450,\n",
    "    x_axis_type=\"datetime\",  # x축을 날짜/시간 타입으로 설정\n",
    "    title=\"날짜별 UFO 출현 및 운석 보고 횟수\",\n",
    "    x_axis_label=\"날짜\",\n",
    "    y_axis_label=\"보고 횟수\",\n",
    "    tools=\"pan,wheel_zoom,box_zoom,reset,save\"\n",
    ")\n",
    "\n",
    "# 6. 첫 번째 라인: UFO Count\n",
    "p.line(\n",
    "    x='calendar_date',\n",
    "    y='ufo_normalized',\n",
    "    source=source,\n",
    "    line_width=1,\n",
    "    color=\"#53DAEB\",\n",
    "    alpha=0.8,\n",
    "    legend_label=\"UFO 횟수 (ufo_count)\"\n",
    ")\n",
    "\n",
    "# 7. 두 번째 라인: Metheo Count\n",
    "p.line(\n",
    "    x='calendar_date',\n",
    "    y='metheo_normalized',\n",
    "    source=source,\n",
    "    line_width=1,\n",
    "    color=\"#F3BD6D\",\n",
    "    alpha=0.8,\n",
    "    legend_label=\"운석 횟수 (metheo_cnt)\"\n",
    ")\n",
    "\n",
    "# 8. HoverTool (마우스 오버 툴팁) 추가\n",
    "hover = HoverTool(\n",
    "    tooltips=[\n",
    "        (\"날짜\", \"@calendar_date{%Y-%m-%d}\"),  # 날짜 형식 지정\n",
    "        (\"UFO 횟수\", \"@ufo_normalized{0}\"),      # 정수로 표시\n",
    "        (\"운석 횟수\", \"@metheo_normalized{0}\"),      # 정수로 표시\n",
    "    ],\n",
    "    formatters={\"@calendar_date\": \"datetime\"}\n",
    ")\n",
    "p.add_tools(hover)\n",
    "\n",
    "# 9. 범례 설정 (클릭 시 라인 숨기기)\n",
    "p.legend.location = \"top_left\"\n",
    "p.legend.click_policy = \"hide\"\n",
    "\n",
    "# 10. HTML 파일로 저장\n",
    "save(p)\n",
    "\n",
    "print(\"Bokeh 시각화가 'ufo_vs_metheo_time_series.html' 파일로 저장되었습니다.\")"
   ]
  },
  {
   "cell_type": "markdown",
   "id": "0ac32701",
   "metadata": {},
   "source": [
    "### ufo 데이터와 space_weather 데이터의 병합"
   ]
  },
  {
   "cell_type": "code",
   "execution_count": 35,
   "id": "526da729",
   "metadata": {},
   "outputs": [
    {
     "data": {
      "application/vnd.microsoft.datawrangler.viewer.v0+json": {
       "columns": [
        {
         "name": "index",
         "rawType": "int64",
         "type": "integer"
        },
        {
         "name": "calendar_date",
         "rawType": "object",
         "type": "string"
        },
        {
         "name": "date",
         "rawType": "object",
         "type": "unknown"
        },
        {
         "name": "ufo_count",
         "rawType": "float64",
         "type": "float"
        }
       ],
       "ref": "1904ceed-7c7e-4579-932c-89dcbbbe66e4",
       "rows": [
        [
         "0",
         "1990-01-01",
         null,
         null
        ],
        [
         "1",
         "1990-01-02",
         null,
         null
        ],
        [
         "2",
         "1990-01-03",
         null,
         null
        ],
        [
         "3",
         "1990-01-04",
         null,
         null
        ],
        [
         "4",
         "1990-01-05",
         null,
         null
        ],
        [
         "5",
         "1990-01-06",
         null,
         null
        ],
        [
         "6",
         "1990-01-07",
         null,
         null
        ],
        [
         "7",
         "1990-01-08",
         null,
         null
        ],
        [
         "8",
         "1990-01-09",
         null,
         null
        ],
        [
         "9",
         "1990-01-10",
         null,
         null
        ],
        [
         "10",
         "1990-01-11",
         null,
         null
        ],
        [
         "11",
         "1990-01-12",
         null,
         null
        ],
        [
         "12",
         "1990-01-13",
         null,
         null
        ],
        [
         "13",
         "1990-01-14",
         null,
         null
        ],
        [
         "14",
         "1990-01-15",
         null,
         null
        ],
        [
         "15",
         "1990-01-16",
         null,
         null
        ],
        [
         "16",
         "1990-01-17",
         null,
         null
        ],
        [
         "17",
         "1990-01-18",
         null,
         null
        ],
        [
         "18",
         "1990-01-19",
         null,
         null
        ],
        [
         "19",
         "1990-01-20",
         null,
         null
        ],
        [
         "20",
         "1990-01-21",
         null,
         null
        ],
        [
         "21",
         "1990-01-22",
         null,
         null
        ],
        [
         "22",
         "1990-01-23",
         null,
         null
        ],
        [
         "23",
         "1990-01-24",
         null,
         null
        ],
        [
         "24",
         "1990-01-25",
         null,
         null
        ],
        [
         "25",
         "1990-01-26",
         null,
         null
        ],
        [
         "26",
         "1990-01-27",
         null,
         null
        ],
        [
         "27",
         "1990-01-28",
         null,
         null
        ],
        [
         "28",
         "1990-01-29",
         null,
         null
        ],
        [
         "29",
         "1990-01-30",
         null,
         null
        ],
        [
         "30",
         "1990-01-31",
         null,
         null
        ],
        [
         "31",
         "1990-02-01",
         null,
         null
        ],
        [
         "32",
         "1990-02-02",
         null,
         null
        ],
        [
         "33",
         "1990-02-03",
         null,
         null
        ],
        [
         "34",
         "1990-02-04",
         null,
         null
        ],
        [
         "35",
         "1990-02-05",
         null,
         null
        ],
        [
         "36",
         "1990-02-06",
         null,
         null
        ],
        [
         "37",
         "1990-02-07",
         null,
         null
        ],
        [
         "38",
         "1990-02-08",
         null,
         null
        ],
        [
         "39",
         "1990-02-09",
         null,
         null
        ],
        [
         "40",
         "1990-02-10",
         null,
         null
        ],
        [
         "41",
         "1990-02-11",
         null,
         null
        ],
        [
         "42",
         "1990-02-12",
         null,
         null
        ],
        [
         "43",
         "1990-02-13",
         null,
         null
        ],
        [
         "44",
         "1990-02-14",
         null,
         null
        ],
        [
         "45",
         "1990-02-15",
         null,
         null
        ],
        [
         "46",
         "1990-02-16",
         null,
         null
        ],
        [
         "47",
         "1990-02-17",
         null,
         null
        ],
        [
         "48",
         "1990-02-18",
         null,
         null
        ],
        [
         "49",
         "1990-02-19",
         null,
         null
        ]
       ],
       "shape": {
        "columns": 3,
        "rows": 9131
       }
      },
      "text/html": [
       "<div>\n",
       "<style scoped>\n",
       "    .dataframe tbody tr th:only-of-type {\n",
       "        vertical-align: middle;\n",
       "    }\n",
       "\n",
       "    .dataframe tbody tr th {\n",
       "        vertical-align: top;\n",
       "    }\n",
       "\n",
       "    .dataframe thead th {\n",
       "        text-align: right;\n",
       "    }\n",
       "</style>\n",
       "<table border=\"1\" class=\"dataframe\">\n",
       "  <thead>\n",
       "    <tr style=\"text-align: right;\">\n",
       "      <th></th>\n",
       "      <th>calendar_date</th>\n",
       "      <th>date</th>\n",
       "      <th>ufo_count</th>\n",
       "    </tr>\n",
       "  </thead>\n",
       "  <tbody>\n",
       "    <tr>\n",
       "      <th>0</th>\n",
       "      <td>1990-01-01</td>\n",
       "      <td>NaN</td>\n",
       "      <td>NaN</td>\n",
       "    </tr>\n",
       "    <tr>\n",
       "      <th>1</th>\n",
       "      <td>1990-01-02</td>\n",
       "      <td>NaN</td>\n",
       "      <td>NaN</td>\n",
       "    </tr>\n",
       "    <tr>\n",
       "      <th>2</th>\n",
       "      <td>1990-01-03</td>\n",
       "      <td>NaN</td>\n",
       "      <td>NaN</td>\n",
       "    </tr>\n",
       "    <tr>\n",
       "      <th>3</th>\n",
       "      <td>1990-01-04</td>\n",
       "      <td>NaN</td>\n",
       "      <td>NaN</td>\n",
       "    </tr>\n",
       "    <tr>\n",
       "      <th>4</th>\n",
       "      <td>1990-01-05</td>\n",
       "      <td>NaN</td>\n",
       "      <td>NaN</td>\n",
       "    </tr>\n",
       "    <tr>\n",
       "      <th>...</th>\n",
       "      <td>...</td>\n",
       "      <td>...</td>\n",
       "      <td>...</td>\n",
       "    </tr>\n",
       "    <tr>\n",
       "      <th>9126</th>\n",
       "      <td>2014-12-27</td>\n",
       "      <td>NaN</td>\n",
       "      <td>NaN</td>\n",
       "    </tr>\n",
       "    <tr>\n",
       "      <th>9127</th>\n",
       "      <td>2014-12-28</td>\n",
       "      <td>NaN</td>\n",
       "      <td>NaN</td>\n",
       "    </tr>\n",
       "    <tr>\n",
       "      <th>9128</th>\n",
       "      <td>2014-12-29</td>\n",
       "      <td>NaN</td>\n",
       "      <td>NaN</td>\n",
       "    </tr>\n",
       "    <tr>\n",
       "      <th>9129</th>\n",
       "      <td>2014-12-30</td>\n",
       "      <td>NaN</td>\n",
       "      <td>NaN</td>\n",
       "    </tr>\n",
       "    <tr>\n",
       "      <th>9130</th>\n",
       "      <td>2014-12-31</td>\n",
       "      <td>NaN</td>\n",
       "      <td>NaN</td>\n",
       "    </tr>\n",
       "  </tbody>\n",
       "</table>\n",
       "<p>9131 rows × 3 columns</p>\n",
       "</div>"
      ],
      "text/plain": [
       "     calendar_date date  ufo_count\n",
       "0       1990-01-01  NaN        NaN\n",
       "1       1990-01-02  NaN        NaN\n",
       "2       1990-01-03  NaN        NaN\n",
       "3       1990-01-04  NaN        NaN\n",
       "4       1990-01-05  NaN        NaN\n",
       "...            ...  ...        ...\n",
       "9126    2014-12-27  NaN        NaN\n",
       "9127    2014-12-28  NaN        NaN\n",
       "9128    2014-12-29  NaN        NaN\n",
       "9129    2014-12-30  NaN        NaN\n",
       "9130    2014-12-31  NaN        NaN\n",
       "\n",
       "[9131 rows x 3 columns]"
      ]
     },
     "execution_count": 35,
     "metadata": {},
     "output_type": "execute_result"
    }
   ],
   "source": [
    "merged_ufo_date"
   ]
  },
  {
   "cell_type": "code",
   "execution_count": 36,
   "id": "3f3feaf5",
   "metadata": {},
   "outputs": [
    {
     "data": {
      "application/vnd.microsoft.datawrangler.viewer.v0+json": {
       "columns": [
        {
         "name": "id",
         "rawType": "int64",
         "type": "integer"
        },
        {
         "name": "date",
         "rawType": "datetime64[ns]",
         "type": "datetime"
        },
        {
         "name": "ap_avg",
         "rawType": "float64",
         "type": "float"
        },
        {
         "name": "black_dot_cnt",
         "rawType": "int64",
         "type": "integer"
        },
        {
         "name": "f107_adj",
         "rawType": "float64",
         "type": "float"
        }
       ],
       "ref": "0982a595-4381-4611-a57c-00a06c8656d4",
       "rows": [
        [
         "1",
         "1994-01-01 00:00:00",
         "26.0",
         "126",
         "143.4"
        ],
        [
         "2",
         "1994-01-02 00:00:00",
         "21.0",
         "113",
         "141.4"
        ],
        [
         "3",
         "1994-01-03 00:00:00",
         "15.0",
         "136",
         "128.7"
        ],
        [
         "4",
         "1994-01-04 00:00:00",
         "6.0",
         "151",
         "124.6"
        ],
        [
         "5",
         "1994-01-05 00:00:00",
         "4.0",
         "153",
         "132.4"
        ],
        [
         "6",
         "1994-01-06 00:00:00",
         "12.0",
         "148",
         "127.7"
        ],
        [
         "7",
         "1994-01-07 00:00:00",
         "5.0",
         "138",
         "122.1"
        ],
        [
         "8",
         "1994-01-08 00:00:00",
         "6.0",
         "119",
         "118.9"
        ],
        [
         "9",
         "1994-01-09 00:00:00",
         "3.0",
         "97",
         "113.1"
        ],
        [
         "10",
         "1994-01-10 00:00:00",
         "2.0",
         "69",
         "106.5"
        ],
        [
         "11",
         "1994-01-11 00:00:00",
         "24.0",
         "62",
         "97.8"
        ],
        [
         "12",
         "1994-01-12 00:00:00",
         "29.0",
         "60",
         "94.6"
        ],
        [
         "13",
         "1994-01-13 00:00:00",
         "26.0",
         "66",
         "91.9"
        ],
        [
         "14",
         "1994-01-14 00:00:00",
         "26.0",
         "53",
         "87.3"
        ],
        [
         "15",
         "1994-01-15 00:00:00",
         "20.0",
         "51",
         "92.6"
        ],
        [
         "16",
         "1994-01-16 00:00:00",
         "19.0",
         "43",
         "97.0"
        ],
        [
         "17",
         "1994-01-17 00:00:00",
         "27.0",
         "37",
         "102.0"
        ],
        [
         "18",
         "1994-01-18 00:00:00",
         "24.0",
         "44",
         "97.5"
        ],
        [
         "19",
         "1994-01-19 00:00:00",
         "25.0",
         "41",
         "99.5"
        ],
        [
         "20",
         "1994-01-20 00:00:00",
         "14.0",
         "51",
         "101.6"
        ],
        [
         "21",
         "1994-01-21 00:00:00",
         "9.0",
         "78",
         "107.3"
        ],
        [
         "22",
         "1994-01-22 00:00:00",
         "9.0",
         "95",
         "109.5"
        ],
        [
         "23",
         "1994-01-23 00:00:00",
         "7.0",
         "88",
         "114.6"
        ],
        [
         "24",
         "1994-01-24 00:00:00",
         "4.0",
         "103",
         "125.1"
        ],
        [
         "25",
         "1994-01-25 00:00:00",
         "5.0",
         "97",
         "128.1"
        ],
        [
         "26",
         "1994-01-26 00:00:00",
         "22.0",
         "98",
         "123.9"
        ],
        [
         "27",
         "1994-01-27 00:00:00",
         "20.0",
         "85",
         "116.8"
        ],
        [
         "28",
         "1994-01-28 00:00:00",
         "16.0",
         "72",
         "115.7"
        ],
        [
         "29",
         "1994-01-29 00:00:00",
         "10.0",
         "63",
         "98.9"
        ],
        [
         "30",
         "1994-01-30 00:00:00",
         "11.0",
         "56",
         "96.1"
        ],
        [
         "31",
         "1994-01-31 00:00:00",
         "9.0",
         "38",
         "94.7"
        ],
        [
         "32",
         "1994-02-01 00:00:00",
         "5.0",
         "45",
         "91.7"
        ],
        [
         "33",
         "1994-02-02 00:00:00",
         "14.0",
         "48",
         "93.5"
        ],
        [
         "34",
         "1994-02-03 00:00:00",
         "11.0",
         "59",
         "95.1"
        ],
        [
         "35",
         "1994-02-04 00:00:00",
         "13.0",
         "68",
         "92.7"
        ],
        [
         "36",
         "1994-02-05 00:00:00",
         "32.0",
         "59",
         "90.6"
        ],
        [
         "37",
         "1994-02-06 00:00:00",
         "64.0",
         "62",
         "92.2"
        ],
        [
         "38",
         "1994-02-07 00:00:00",
         "62.0",
         "71",
         "93.3"
        ],
        [
         "39",
         "1994-02-08 00:00:00",
         "64.0",
         "63",
         "92.6"
        ],
        [
         "40",
         "1994-02-09 00:00:00",
         "37.0",
         "62",
         "98.3"
        ],
        [
         "41",
         "1994-02-10 00:00:00",
         "40.0",
         "49",
         "91.8"
        ],
        [
         "42",
         "1994-02-11 00:00:00",
         "50.0",
         "45",
         "90.7"
        ],
        [
         "43",
         "1994-02-12 00:00:00",
         "34.0",
         "56",
         "95.1"
        ],
        [
         "44",
         "1994-02-13 00:00:00",
         "40.0",
         "71",
         "95.4"
        ],
        [
         "45",
         "1994-02-14 00:00:00",
         "38.0",
         "60",
         "98.9"
        ],
        [
         "46",
         "1994-02-15 00:00:00",
         "26.0",
         "52",
         "101.3"
        ],
        [
         "47",
         "1994-02-16 00:00:00",
         "24.0",
         "57",
         "102.3"
        ],
        [
         "48",
         "1994-02-17 00:00:00",
         "11.0",
         "66",
         "103.9"
        ],
        [
         "49",
         "1994-02-18 00:00:00",
         "7.0",
         "65",
         "103.9"
        ],
        [
         "50",
         "1994-02-19 00:00:00",
         "25.0",
         "43",
         "105.6"
        ]
       ],
       "shape": {
        "columns": 4,
        "rows": 11323
       }
      },
      "text/html": [
       "<div>\n",
       "<style scoped>\n",
       "    .dataframe tbody tr th:only-of-type {\n",
       "        vertical-align: middle;\n",
       "    }\n",
       "\n",
       "    .dataframe tbody tr th {\n",
       "        vertical-align: top;\n",
       "    }\n",
       "\n",
       "    .dataframe thead th {\n",
       "        text-align: right;\n",
       "    }\n",
       "</style>\n",
       "<table border=\"1\" class=\"dataframe\">\n",
       "  <thead>\n",
       "    <tr style=\"text-align: right;\">\n",
       "      <th></th>\n",
       "      <th>date</th>\n",
       "      <th>ap_avg</th>\n",
       "      <th>black_dot_cnt</th>\n",
       "      <th>f107_adj</th>\n",
       "    </tr>\n",
       "    <tr>\n",
       "      <th>id</th>\n",
       "      <th></th>\n",
       "      <th></th>\n",
       "      <th></th>\n",
       "      <th></th>\n",
       "    </tr>\n",
       "  </thead>\n",
       "  <tbody>\n",
       "    <tr>\n",
       "      <th>1</th>\n",
       "      <td>1994-01-01</td>\n",
       "      <td>26.0</td>\n",
       "      <td>126</td>\n",
       "      <td>143.4</td>\n",
       "    </tr>\n",
       "    <tr>\n",
       "      <th>2</th>\n",
       "      <td>1994-01-02</td>\n",
       "      <td>21.0</td>\n",
       "      <td>113</td>\n",
       "      <td>141.4</td>\n",
       "    </tr>\n",
       "    <tr>\n",
       "      <th>3</th>\n",
       "      <td>1994-01-03</td>\n",
       "      <td>15.0</td>\n",
       "      <td>136</td>\n",
       "      <td>128.7</td>\n",
       "    </tr>\n",
       "    <tr>\n",
       "      <th>4</th>\n",
       "      <td>1994-01-04</td>\n",
       "      <td>6.0</td>\n",
       "      <td>151</td>\n",
       "      <td>124.6</td>\n",
       "    </tr>\n",
       "    <tr>\n",
       "      <th>5</th>\n",
       "      <td>1994-01-05</td>\n",
       "      <td>4.0</td>\n",
       "      <td>153</td>\n",
       "      <td>132.4</td>\n",
       "    </tr>\n",
       "    <tr>\n",
       "      <th>...</th>\n",
       "      <td>...</td>\n",
       "      <td>...</td>\n",
       "      <td>...</td>\n",
       "      <td>...</td>\n",
       "    </tr>\n",
       "    <tr>\n",
       "      <th>11319</th>\n",
       "      <td>2024-12-27</td>\n",
       "      <td>2.0</td>\n",
       "      <td>257</td>\n",
       "      <td>250.0</td>\n",
       "    </tr>\n",
       "    <tr>\n",
       "      <th>11320</th>\n",
       "      <td>2024-12-28</td>\n",
       "      <td>3.0</td>\n",
       "      <td>254</td>\n",
       "      <td>251.8</td>\n",
       "    </tr>\n",
       "    <tr>\n",
       "      <th>11321</th>\n",
       "      <td>2024-12-29</td>\n",
       "      <td>4.0</td>\n",
       "      <td>233</td>\n",
       "      <td>246.3</td>\n",
       "    </tr>\n",
       "    <tr>\n",
       "      <th>11322</th>\n",
       "      <td>2024-12-30</td>\n",
       "      <td>6.0</td>\n",
       "      <td>218</td>\n",
       "      <td>216.1</td>\n",
       "    </tr>\n",
       "    <tr>\n",
       "      <th>11323</th>\n",
       "      <td>2024-12-31</td>\n",
       "      <td>13.0</td>\n",
       "      <td>183</td>\n",
       "      <td>210.4</td>\n",
       "    </tr>\n",
       "  </tbody>\n",
       "</table>\n",
       "<p>11323 rows × 4 columns</p>\n",
       "</div>"
      ],
      "text/plain": [
       "            date  ap_avg  black_dot_cnt  f107_adj\n",
       "id                                               \n",
       "1     1994-01-01    26.0            126     143.4\n",
       "2     1994-01-02    21.0            113     141.4\n",
       "3     1994-01-03    15.0            136     128.7\n",
       "4     1994-01-04     6.0            151     124.6\n",
       "5     1994-01-05     4.0            153     132.4\n",
       "...          ...     ...            ...       ...\n",
       "11319 2024-12-27     2.0            257     250.0\n",
       "11320 2024-12-28     3.0            254     251.8\n",
       "11321 2024-12-29     4.0            233     246.3\n",
       "11322 2024-12-30     6.0            218     216.1\n",
       "11323 2024-12-31    13.0            183     210.4\n",
       "\n",
       "[11323 rows x 4 columns]"
      ]
     },
     "execution_count": 36,
     "metadata": {},
     "output_type": "execute_result"
    }
   ],
   "source": [
    "df_sw"
   ]
  },
  {
   "cell_type": "code",
   "execution_count": 38,
   "id": "25bb7cf1",
   "metadata": {},
   "outputs": [
    {
     "data": {
      "application/vnd.microsoft.datawrangler.viewer.v0+json": {
       "columns": [
        {
         "name": "index",
         "rawType": "object",
         "type": "string"
        },
        {
         "name": "0",
         "rawType": "object",
         "type": "unknown"
        }
       ],
       "ref": "ab639425-a974-432e-9ee7-1fecd4f6e544",
       "rows": [
        [
         "date",
         "datetime64[ns]"
        ],
        [
         "ap_avg",
         "float64"
        ],
        [
         "black_dot_cnt",
         "int64"
        ],
        [
         "f107_adj",
         "float64"
        ]
       ],
       "shape": {
        "columns": 1,
        "rows": 4
       }
      },
      "text/plain": [
       "date             datetime64[ns]\n",
       "ap_avg                  float64\n",
       "black_dot_cnt             int64\n",
       "f107_adj                float64\n",
       "dtype: object"
      ]
     },
     "execution_count": 38,
     "metadata": {},
     "output_type": "execute_result"
    }
   ],
   "source": [
    "df_sw.dtypes"
   ]
  },
  {
   "cell_type": "code",
   "execution_count": 39,
   "id": "39293df1",
   "metadata": {},
   "outputs": [],
   "source": [
    "df_sw['date'] = df_sw['date'].astype('str')"
   ]
  },
  {
   "cell_type": "code",
   "execution_count": 40,
   "id": "014eadc9",
   "metadata": {},
   "outputs": [],
   "source": [
    "merged_df = pd.merge(\n",
    "    merged_ufo_date,\n",
    "    df_sw,\n",
    "    left_on='calendar_date',     # date_dim의 조인 키\n",
    "    right_on='date',            \n",
    "    how='outer'                  \n",
    ")"
   ]
  },
  {
   "cell_type": "code",
   "execution_count": 41,
   "id": "64595a8e",
   "metadata": {},
   "outputs": [
    {
     "data": {
      "application/vnd.microsoft.datawrangler.viewer.v0+json": {
       "columns": [
        {
         "name": "index",
         "rawType": "int64",
         "type": "integer"
        },
        {
         "name": "calendar_date",
         "rawType": "object",
         "type": "unknown"
        },
        {
         "name": "date_x",
         "rawType": "object",
         "type": "unknown"
        },
        {
         "name": "ufo_count",
         "rawType": "float64",
         "type": "float"
        },
        {
         "name": "date_y",
         "rawType": "object",
         "type": "unknown"
        },
        {
         "name": "ap_avg",
         "rawType": "float64",
         "type": "float"
        },
        {
         "name": "black_dot_cnt",
         "rawType": "float64",
         "type": "float"
        },
        {
         "name": "f107_adj",
         "rawType": "float64",
         "type": "float"
        }
       ],
       "ref": "e313c81a-7b18-4c0d-98fc-61ffd303f3c4",
       "rows": [
        [
         "0",
         "1990-01-01",
         null,
         null,
         null,
         null,
         null,
         null
        ],
        [
         "1",
         "1990-01-02",
         null,
         null,
         null,
         null,
         null,
         null
        ],
        [
         "2",
         "1990-01-03",
         null,
         null,
         null,
         null,
         null,
         null
        ],
        [
         "3",
         "1990-01-04",
         null,
         null,
         null,
         null,
         null,
         null
        ],
        [
         "4",
         "1990-01-05",
         null,
         null,
         null,
         null,
         null,
         null
        ],
        [
         "5",
         "1990-01-06",
         null,
         null,
         null,
         null,
         null,
         null
        ],
        [
         "6",
         "1990-01-07",
         null,
         null,
         null,
         null,
         null,
         null
        ],
        [
         "7",
         "1990-01-08",
         null,
         null,
         null,
         null,
         null,
         null
        ],
        [
         "8",
         "1990-01-09",
         null,
         null,
         null,
         null,
         null,
         null
        ],
        [
         "9",
         "1990-01-10",
         null,
         null,
         null,
         null,
         null,
         null
        ],
        [
         "10",
         "1990-01-11",
         null,
         null,
         null,
         null,
         null,
         null
        ],
        [
         "11",
         "1990-01-12",
         null,
         null,
         null,
         null,
         null,
         null
        ],
        [
         "12",
         "1990-01-13",
         null,
         null,
         null,
         null,
         null,
         null
        ],
        [
         "13",
         "1990-01-14",
         null,
         null,
         null,
         null,
         null,
         null
        ],
        [
         "14",
         "1990-01-15",
         null,
         null,
         null,
         null,
         null,
         null
        ],
        [
         "15",
         "1990-01-16",
         null,
         null,
         null,
         null,
         null,
         null
        ],
        [
         "16",
         "1990-01-17",
         null,
         null,
         null,
         null,
         null,
         null
        ],
        [
         "17",
         "1990-01-18",
         null,
         null,
         null,
         null,
         null,
         null
        ],
        [
         "18",
         "1990-01-19",
         null,
         null,
         null,
         null,
         null,
         null
        ],
        [
         "19",
         "1990-01-20",
         null,
         null,
         null,
         null,
         null,
         null
        ],
        [
         "20",
         "1990-01-21",
         null,
         null,
         null,
         null,
         null,
         null
        ],
        [
         "21",
         "1990-01-22",
         null,
         null,
         null,
         null,
         null,
         null
        ],
        [
         "22",
         "1990-01-23",
         null,
         null,
         null,
         null,
         null,
         null
        ],
        [
         "23",
         "1990-01-24",
         null,
         null,
         null,
         null,
         null,
         null
        ],
        [
         "24",
         "1990-01-25",
         null,
         null,
         null,
         null,
         null,
         null
        ],
        [
         "25",
         "1990-01-26",
         null,
         null,
         null,
         null,
         null,
         null
        ],
        [
         "26",
         "1990-01-27",
         null,
         null,
         null,
         null,
         null,
         null
        ],
        [
         "27",
         "1990-01-28",
         null,
         null,
         null,
         null,
         null,
         null
        ],
        [
         "28",
         "1990-01-29",
         null,
         null,
         null,
         null,
         null,
         null
        ],
        [
         "29",
         "1990-01-30",
         null,
         null,
         null,
         null,
         null,
         null
        ],
        [
         "30",
         "1990-01-31",
         null,
         null,
         null,
         null,
         null,
         null
        ],
        [
         "31",
         "1990-02-01",
         null,
         null,
         null,
         null,
         null,
         null
        ],
        [
         "32",
         "1990-02-02",
         null,
         null,
         null,
         null,
         null,
         null
        ],
        [
         "33",
         "1990-02-03",
         null,
         null,
         null,
         null,
         null,
         null
        ],
        [
         "34",
         "1990-02-04",
         null,
         null,
         null,
         null,
         null,
         null
        ],
        [
         "35",
         "1990-02-05",
         null,
         null,
         null,
         null,
         null,
         null
        ],
        [
         "36",
         "1990-02-06",
         null,
         null,
         null,
         null,
         null,
         null
        ],
        [
         "37",
         "1990-02-07",
         null,
         null,
         null,
         null,
         null,
         null
        ],
        [
         "38",
         "1990-02-08",
         null,
         null,
         null,
         null,
         null,
         null
        ],
        [
         "39",
         "1990-02-09",
         null,
         null,
         null,
         null,
         null,
         null
        ],
        [
         "40",
         "1990-02-10",
         null,
         null,
         null,
         null,
         null,
         null
        ],
        [
         "41",
         "1990-02-11",
         null,
         null,
         null,
         null,
         null,
         null
        ],
        [
         "42",
         "1990-02-12",
         null,
         null,
         null,
         null,
         null,
         null
        ],
        [
         "43",
         "1990-02-13",
         null,
         null,
         null,
         null,
         null,
         null
        ],
        [
         "44",
         "1990-02-14",
         null,
         null,
         null,
         null,
         null,
         null
        ],
        [
         "45",
         "1990-02-15",
         null,
         null,
         null,
         null,
         null,
         null
        ],
        [
         "46",
         "1990-02-16",
         null,
         null,
         null,
         null,
         null,
         null
        ],
        [
         "47",
         "1990-02-17",
         null,
         null,
         null,
         null,
         null,
         null
        ],
        [
         "48",
         "1990-02-18",
         null,
         null,
         null,
         null,
         null,
         null
        ],
        [
         "49",
         "1990-02-19",
         null,
         null,
         null,
         null,
         null,
         null
        ]
       ],
       "shape": {
        "columns": 7,
        "rows": 12784
       }
      },
      "text/html": [
       "<div>\n",
       "<style scoped>\n",
       "    .dataframe tbody tr th:only-of-type {\n",
       "        vertical-align: middle;\n",
       "    }\n",
       "\n",
       "    .dataframe tbody tr th {\n",
       "        vertical-align: top;\n",
       "    }\n",
       "\n",
       "    .dataframe thead th {\n",
       "        text-align: right;\n",
       "    }\n",
       "</style>\n",
       "<table border=\"1\" class=\"dataframe\">\n",
       "  <thead>\n",
       "    <tr style=\"text-align: right;\">\n",
       "      <th></th>\n",
       "      <th>calendar_date</th>\n",
       "      <th>date_x</th>\n",
       "      <th>ufo_count</th>\n",
       "      <th>date_y</th>\n",
       "      <th>ap_avg</th>\n",
       "      <th>black_dot_cnt</th>\n",
       "      <th>f107_adj</th>\n",
       "    </tr>\n",
       "  </thead>\n",
       "  <tbody>\n",
       "    <tr>\n",
       "      <th>0</th>\n",
       "      <td>1990-01-01</td>\n",
       "      <td>NaN</td>\n",
       "      <td>NaN</td>\n",
       "      <td>NaN</td>\n",
       "      <td>NaN</td>\n",
       "      <td>NaN</td>\n",
       "      <td>NaN</td>\n",
       "    </tr>\n",
       "    <tr>\n",
       "      <th>1</th>\n",
       "      <td>1990-01-02</td>\n",
       "      <td>NaN</td>\n",
       "      <td>NaN</td>\n",
       "      <td>NaN</td>\n",
       "      <td>NaN</td>\n",
       "      <td>NaN</td>\n",
       "      <td>NaN</td>\n",
       "    </tr>\n",
       "    <tr>\n",
       "      <th>2</th>\n",
       "      <td>1990-01-03</td>\n",
       "      <td>NaN</td>\n",
       "      <td>NaN</td>\n",
       "      <td>NaN</td>\n",
       "      <td>NaN</td>\n",
       "      <td>NaN</td>\n",
       "      <td>NaN</td>\n",
       "    </tr>\n",
       "    <tr>\n",
       "      <th>3</th>\n",
       "      <td>1990-01-04</td>\n",
       "      <td>NaN</td>\n",
       "      <td>NaN</td>\n",
       "      <td>NaN</td>\n",
       "      <td>NaN</td>\n",
       "      <td>NaN</td>\n",
       "      <td>NaN</td>\n",
       "    </tr>\n",
       "    <tr>\n",
       "      <th>4</th>\n",
       "      <td>1990-01-05</td>\n",
       "      <td>NaN</td>\n",
       "      <td>NaN</td>\n",
       "      <td>NaN</td>\n",
       "      <td>NaN</td>\n",
       "      <td>NaN</td>\n",
       "      <td>NaN</td>\n",
       "    </tr>\n",
       "    <tr>\n",
       "      <th>...</th>\n",
       "      <td>...</td>\n",
       "      <td>...</td>\n",
       "      <td>...</td>\n",
       "      <td>...</td>\n",
       "      <td>...</td>\n",
       "      <td>...</td>\n",
       "      <td>...</td>\n",
       "    </tr>\n",
       "    <tr>\n",
       "      <th>12779</th>\n",
       "      <td>NaN</td>\n",
       "      <td>NaN</td>\n",
       "      <td>NaN</td>\n",
       "      <td>2024-12-27</td>\n",
       "      <td>2.0</td>\n",
       "      <td>257.0</td>\n",
       "      <td>250.0</td>\n",
       "    </tr>\n",
       "    <tr>\n",
       "      <th>12780</th>\n",
       "      <td>NaN</td>\n",
       "      <td>NaN</td>\n",
       "      <td>NaN</td>\n",
       "      <td>2024-12-28</td>\n",
       "      <td>3.0</td>\n",
       "      <td>254.0</td>\n",
       "      <td>251.8</td>\n",
       "    </tr>\n",
       "    <tr>\n",
       "      <th>12781</th>\n",
       "      <td>NaN</td>\n",
       "      <td>NaN</td>\n",
       "      <td>NaN</td>\n",
       "      <td>2024-12-29</td>\n",
       "      <td>4.0</td>\n",
       "      <td>233.0</td>\n",
       "      <td>246.3</td>\n",
       "    </tr>\n",
       "    <tr>\n",
       "      <th>12782</th>\n",
       "      <td>NaN</td>\n",
       "      <td>NaN</td>\n",
       "      <td>NaN</td>\n",
       "      <td>2024-12-30</td>\n",
       "      <td>6.0</td>\n",
       "      <td>218.0</td>\n",
       "      <td>216.1</td>\n",
       "    </tr>\n",
       "    <tr>\n",
       "      <th>12783</th>\n",
       "      <td>NaN</td>\n",
       "      <td>NaN</td>\n",
       "      <td>NaN</td>\n",
       "      <td>2024-12-31</td>\n",
       "      <td>13.0</td>\n",
       "      <td>183.0</td>\n",
       "      <td>210.4</td>\n",
       "    </tr>\n",
       "  </tbody>\n",
       "</table>\n",
       "<p>12784 rows × 7 columns</p>\n",
       "</div>"
      ],
      "text/plain": [
       "      calendar_date date_x  ufo_count      date_y  ap_avg  black_dot_cnt  \\\n",
       "0        1990-01-01    NaN        NaN         NaN     NaN            NaN   \n",
       "1        1990-01-02    NaN        NaN         NaN     NaN            NaN   \n",
       "2        1990-01-03    NaN        NaN         NaN     NaN            NaN   \n",
       "3        1990-01-04    NaN        NaN         NaN     NaN            NaN   \n",
       "4        1990-01-05    NaN        NaN         NaN     NaN            NaN   \n",
       "...             ...    ...        ...         ...     ...            ...   \n",
       "12779           NaN    NaN        NaN  2024-12-27     2.0          257.0   \n",
       "12780           NaN    NaN        NaN  2024-12-28     3.0          254.0   \n",
       "12781           NaN    NaN        NaN  2024-12-29     4.0          233.0   \n",
       "12782           NaN    NaN        NaN  2024-12-30     6.0          218.0   \n",
       "12783           NaN    NaN        NaN  2024-12-31    13.0          183.0   \n",
       "\n",
       "       f107_adj  \n",
       "0           NaN  \n",
       "1           NaN  \n",
       "2           NaN  \n",
       "3           NaN  \n",
       "4           NaN  \n",
       "...         ...  \n",
       "12779     250.0  \n",
       "12780     251.8  \n",
       "12781     246.3  \n",
       "12782     216.1  \n",
       "12783     210.4  \n",
       "\n",
       "[12784 rows x 7 columns]"
      ]
     },
     "execution_count": 41,
     "metadata": {},
     "output_type": "execute_result"
    }
   ],
   "source": [
    "merged_df"
   ]
  },
  {
   "cell_type": "code",
   "execution_count": 42,
   "id": "dba1d77b",
   "metadata": {},
   "outputs": [],
   "source": [
    "merged_df['calendar_date'] = pd.to_datetime(merged_df['calendar_date'])"
   ]
  },
  {
   "cell_type": "code",
   "execution_count": 45,
   "id": "ea86868e",
   "metadata": {},
   "outputs": [],
   "source": [
    "merged_df = merged_df[merged_df['calendar_date'] >='1995-01-01']"
   ]
  },
  {
   "cell_type": "code",
   "execution_count": 46,
   "id": "7cfee9f3",
   "metadata": {},
   "outputs": [],
   "source": [
    "merged_df.to_csv('ufo_sw_merged.csv')"
   ]
  },
  {
   "cell_type": "code",
   "execution_count": 59,
   "id": "760b426c",
   "metadata": {},
   "outputs": [],
   "source": [
    "color_ufo = \"#EE7132\"\n",
    "color_ap = \"#6DF393\"\n",
    "color_black_dot = \"#6DF3E8\"\n",
    "color_f107 = \"#6D6FF3\""
   ]
  },
  {
   "cell_type": "code",
   "execution_count": 60,
   "id": "0a9a22d7",
   "metadata": {},
   "outputs": [],
   "source": [
    "merged_df.columns = merged_df.columns.str.strip()"
   ]
  },
  {
   "cell_type": "code",
   "execution_count": 61,
   "id": "5ad97d3f",
   "metadata": {},
   "outputs": [],
   "source": [
    "cols_to_plot = ['ufo_count', 'ap_avg', 'black_dot_cnt', 'f107_adj']\n",
    "date_col = 'calendar_date'\n",
    "plot_df = merged_df[cols_to_plot + [date_col]].copy()"
   ]
  },
  {
   "cell_type": "code",
   "execution_count": 62,
   "id": "a559140b",
   "metadata": {},
   "outputs": [],
   "source": [
    "plot_df[cols_to_plot] = plot_df[cols_to_plot].fillna(0)"
   ]
  },
  {
   "cell_type": "code",
   "execution_count": 63,
   "id": "2925d35b",
   "metadata": {},
   "outputs": [],
   "source": [
    "plot_df[date_col] = pd.to_datetime(plot_df[date_col])"
   ]
  },
  {
   "cell_type": "code",
   "execution_count": 64,
   "id": "7ba49c97",
   "metadata": {},
   "outputs": [],
   "source": [
    "scaler = MinMaxScaler()\n",
    "normalized_cols = [f'{c}_norm' for c in cols_to_plot]\n",
    "# 정규화 적용\n",
    "plot_df[normalized_cols] = scaler.fit_transform(plot_df[cols_to_plot])"
   ]
  },
  {
   "cell_type": "code",
   "execution_count": 65,
   "id": "4a009e3b",
   "metadata": {},
   "outputs": [
    {
     "name": "stdout",
     "output_type": "stream",
     "text": [
      "Bokeh 다중 라인 시각화가 'ufo_sw_multi_line_plot.html' 파일로 저장되었습니다.\n"
     ]
    }
   ],
   "source": [
    "source = ColumnDataSource(plot_df)\n",
    "\n",
    "# 5. 출력 파일 설정\n",
    "output_file(\"ufo_sw_multi_line_plot.html\")\n",
    "\n",
    "# 6. 시각화 생성 (Figure)\n",
    "p = figure(\n",
    "    width=1000,\n",
    "    height=500,\n",
    "    x_axis_type=\"datetime\",\n",
    "    title=\"UFO 및 태양 활동 지표 (0-1 정규화)\",\n",
    "    x_axis_label=\"날짜\",\n",
    "    y_axis_label=\"정규화된 값 (0 to 1)\",\n",
    "    tools=\"pan,wheel_zoom,box_zoom,reset,save\"\n",
    ")\n",
    "# Y축 범위를 0-1로 고정\n",
    "p.y_range.start = 0\n",
    "p.y_range.end = 1\n",
    "\n",
    "# 7. 다중 라인 추가\n",
    "\n",
    "# AP Average (Normalized)\n",
    "p.line(\n",
    "    x=date_col, y='ap_avg_norm', source=source, line_width=1,\n",
    "    color=color_ap, alpha=0.8, legend_label=\"AP 평균\"\n",
    ")\n",
    "# Black Dot Count (Normalized)\n",
    "p.line(\n",
    "    x=date_col, y='black_dot_cnt_norm', source=source, line_width=1,\n",
    "    color=color_black_dot, alpha=0.8, legend_label=\"흑점 수\"\n",
    ")\n",
    "# F10.7 (Normalized)\n",
    "p.line(\n",
    "    x=date_col, y='f107_adj_norm', source=source, line_width=1,\n",
    "    color=color_f107, alpha=0.8, legend_label=\"F10.7 (조정됨)\"\n",
    ")\n",
    "\n",
    "# UFO Count (Normalized)\n",
    "p.line(\n",
    "    x=date_col, y='ufo_count_norm', source=source, line_width=1,\n",
    "    color=color_ufo, alpha=0.8, legend_label=\"UFO 횟수\"\n",
    ")\n",
    "\n",
    "# 8. HoverTool 추가 (툴팁에는 정규화되기 '전'의 원본 값을 표시)\n",
    "hover = HoverTool(\n",
    "    tooltips=[\n",
    "        (\"날짜\", f\"@{date_col}{{%Y-%m-%d}}\"),\n",
    "        (\"UFO 횟수\", \"@ufo_count{0}\"),\n",
    "        (\"AP 평균\", \"@ap_avg{0.0}\"),\n",
    "        (\"흑점 수\", \"@black_dot_cnt{0}\"),\n",
    "        (\"F10.7\", \"@f107_adj{0.0}\"),\n",
    "    ],\n",
    "    formatters={f\"@{date_col}\": \"datetime\"}\n",
    ")\n",
    "p.add_tools(hover)\n",
    "\n",
    "# 9. 범례 설정\n",
    "p.legend.location = \"top_left\"\n",
    "p.legend.click_policy = \"hide\"\n",
    "\n",
    "# 10. HTML 파일로 저장\n",
    "save(p)\n",
    "\n",
    "print(\"Bokeh 다중 라인 시각화가 'ufo_sw_multi_line_plot.html' 파일로 저장되었습니다.\")"
   ]
  },
  {
   "cell_type": "code",
   "execution_count": 67,
   "id": "28437766",
   "metadata": {},
   "outputs": [],
   "source": [
    "plot_df_corr = plot_df[['ufo_count', 'ap_avg', 'black_dot_cnt', 'f107_adj']]"
   ]
  },
  {
   "cell_type": "code",
   "execution_count": 68,
   "id": "8f95ba59",
   "metadata": {},
   "outputs": [],
   "source": [
    "plot_df_corr = plot_df_corr.corr()"
   ]
  },
  {
   "cell_type": "code",
   "execution_count": 70,
   "id": "f778c05e",
   "metadata": {},
   "outputs": [],
   "source": [
    "from bokeh.plotting import figure, save\n",
    "from bokeh.models import (\n",
    "    ColumnDataSource,\n",
    "    HoverTool,\n",
    "    LinearColorMapper,\n",
    "    ColorBar,\n",
    "    BasicTicker,\n",
    "    PrintfTickFormatter\n",
    ")\n",
    "from bokeh.transform import transform\n",
    "from bokeh.palettes import RdBu11  # 상관관계에 적합한 Red(-)/Blue(+) 팔레트\n",
    "from bokeh.io import output_file"
   ]
  },
  {
   "cell_type": "code",
   "execution_count": 72,
   "id": "5ff1d2f9",
   "metadata": {},
   "outputs": [
    {
     "name": "stdout",
     "output_type": "stream",
     "text": [
      "Bokeh 상관관계 히트맵이 'correlation_heatmap.html' 파일로 저장되었습니다.\n"
     ]
    }
   ],
   "source": [
    "cols_to_corr = ['ufo_count', 'ap_avg', 'black_dot_cnt', 'f107_adj']\n",
    "\n",
    "plot_df_corr.index.name = 'Var1'\n",
    "plot_df_corr.columns.name = 'Var2'\n",
    "\n",
    "# DataFrame으로 변환 (예: Var1, Var2, Correlation)\n",
    "corr_data = plot_df_corr.stack().reset_index(name='Correlation')\n",
    "# 텍스트로 표시할 값을 소수점 2자리 문자열로 포맷팅하여 새 컬럼 생성\n",
    "corr_data['CorrelationText'] = corr_data['Correlation'].apply(lambda x: f\"{x:.2f}\")\n",
    "\n",
    "# 컬럼 이름 목록 (x_range, y_range에 사용)\n",
    "var_names = cols_to_corr\n",
    "\n",
    "# --- 4. Bokeh 히트맵(Heatmap) 시각화 ---\n",
    "output_file(\"correlation_heatmap.html\")\n",
    "\n",
    "# 색상 매퍼(Mapper) 설정\n",
    "# 상관관계는 -1 (파란색) ~ +1 (빨간색) 범위\n",
    "# RdBu11 팔레트를 거꾸로 사용 (빨간색이 양수, 파란색이 음수)\n",
    "palette = list(reversed(RdBu11))\n",
    "color_mapper = LinearColorMapper(\n",
    "    palette=palette,\n",
    "    low=-1,  # 최소값\n",
    "    high=1   # 최대값\n",
    ")\n",
    "\n",
    "# Bokeh Figure 생성\n",
    "p = figure(\n",
    "    width=550,\n",
    "    height=550,\n",
    "    title=\"상관관계 분석 히트맵\",\n",
    "    x_range=var_names,\n",
    "    y_range=list(reversed(var_names)), # Y축은 거꾸로 표시\n",
    "    x_axis_location=\"above\",\n",
    "    tools=\"hover,save\" # 호버 툴 추가\n",
    ")\n",
    "\n",
    "# 사각형(Rect) 글리프를 사용하여 히트맵 생성\n",
    "p.rect(\n",
    "    x=\"Var2\",\n",
    "    y=\"Var1\",\n",
    "    width=1,\n",
    "    height=1,\n",
    "    source=ColumnDataSource(corr_data),\n",
    "    fill_color=transform('Correlation', color_mapper), # 상관관계 값에 따라 색상 매핑\n",
    "    line_color=\"white\" # 셀 경계선\n",
    ")\n",
    "\n",
    "# Text 글리프 추가\n",
    "p.text(\n",
    "    x=\"Var2\",\n",
    "    y=\"Var1\",\n",
    "    text=\"CorrelationText\", # 위에서 생성한 문자열 컬럼 사용\n",
    "    source=ColumnDataSource(corr_data),\n",
    "    text_align=\"center\",\n",
    "    text_baseline=\"middle\",\n",
    "    text_color=\"black\", # 상관계수 값이 1 또는 -1에 가까울 때 대비\n",
    "    text_font_size=\"10pt\" # 폰트 크기\n",
    ")\n",
    "\n",
    "# 색상 막대(Color Bar) 추가\n",
    "color_bar = ColorBar(\n",
    "    color_mapper=color_mapper,\n",
    "    ticker=BasicTicker(desired_num_ticks=5), # 눈금 수\n",
    "    formatter=PrintfTickFormatter(format=\"%.2f\"), # 소수점 2자리\n",
    "    label_standoff=10\n",
    ")\n",
    "p.add_layout(color_bar, 'right')\n",
    "\n",
    "# HoverTool 설정 (마우스 오버 시 값 표시)\n",
    "# 툴팁에 @ 기호를 사용하여 ColumnDataSource의 컬럼 참조\n",
    "hover_tool = p.select_one(HoverTool)\n",
    "hover_tool.tooltips = [\n",
    "     ('변수 1', '@Var1'),\n",
    "     ('변수 2', '@Var2'),\n",
    "     ('상관관계', '@Correlation{%.3f}'), # 소수점 3자리까지 표시\n",
    "]\n",
    "\n",
    "# 축 스타일 설정\n",
    "p.axis.axis_line_color = None\n",
    "p.axis.major_tick_line_color = None\n",
    "p.xaxis.major_label_orientation = 0.7 # 라벨 약간 회전\n",
    "\n",
    "# 5. HTML 파일로 저장\n",
    "save(p)\n",
    "\n",
    "print(\"Bokeh 상관관계 히트맵이 'correlation_heatmap.html' 파일로 저장되었습니다.\")"
   ]
  },
  {
   "cell_type": "code",
   "execution_count": null,
   "id": "288b866b",
   "metadata": {},
   "outputs": [],
   "source": []
  }
 ],
 "metadata": {
  "kernelspec": {
   "display_name": "ufo_env (3.11.10)",
   "language": "python",
   "name": "python3"
  },
  "language_info": {
   "codemirror_mode": {
    "name": "ipython",
    "version": 3
   },
   "file_extension": ".py",
   "mimetype": "text/x-python",
   "name": "python",
   "nbconvert_exporter": "python",
   "pygments_lexer": "ipython3",
   "version": "3.11.10"
  }
 },
 "nbformat": 4,
 "nbformat_minor": 5
}
