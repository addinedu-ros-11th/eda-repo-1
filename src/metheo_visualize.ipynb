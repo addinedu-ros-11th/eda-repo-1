{
 "cells": [
  {
   "cell_type": "markdown",
   "id": "e664e1de",
   "metadata": {},
   "source": [
    "## Visualize"
   ]
  },
  {
   "cell_type": "markdown",
   "id": "142075a0",
   "metadata": {},
   "source": [
    "### 1. function to get_data_from_db"
   ]
  },
  {
   "cell_type": "code",
   "execution_count": 1,
   "id": "5ecdb030",
   "metadata": {},
   "outputs": [],
   "source": [
    "import mysql.connector\n",
    "import os\n",
    "from dotenv import load_dotenv\n",
    "from mysql.connector import Error\n",
    "\n",
    "import pandas as pd"
   ]
  },
  {
   "cell_type": "code",
   "execution_count": 2,
   "id": "7221b493",
   "metadata": {},
   "outputs": [],
   "source": [
    "def get_data_from_db(table_name, columns = '*'):\n",
    "    \n",
    "    # dot env\n",
    "    load_dotenv()\n",
    "    aws_db_ufo_pw = os.getenv('aws_db_ufo_pw')\n",
    "    aws_host_ufo = os.getenv('aws_host_ufo')\n",
    "\n",
    "    remote = mysql.connector.connect(\n",
    "        host = aws_host_ufo,\n",
    "        user = 'EDA',\n",
    "        port = 3306,  # default 는 3306\n",
    "        password = aws_db_ufo_pw,\n",
    "        database = 'Frisbee'\n",
    "\n",
    "        )\n",
    "        \n",
    "    \n",
    "\n",
    "    cursor = remote.cursor(dictionary = True)\n",
    "    \n",
    "    \n",
    "    query = f\"\"\"\n",
    "        SELECT {columns} FROM {table_name}\"\"\"\n",
    "    \n",
    "    cursor.execute(query)\n",
    "    \n",
    "    results = cursor.fetchall()\n",
    "    \n",
    "    \n",
    "    column_name = [des[0] for des in cursor.description]\n",
    "    \n",
    "    cursor.close()\n",
    "    \n",
    "    df = pd.DataFrame.from_records(results, index = column_name[0])\n",
    "    \n",
    "    \n",
    "    return df\n",
    "    "
   ]
  },
  {
   "cell_type": "code",
   "execution_count": 3,
   "id": "29aec798",
   "metadata": {},
   "outputs": [],
   "source": [
    "if __name__ == '__main__':\n",
    "    df = get_data_from_db('metheo')\n",
    "    "
   ]
  },
  {
   "cell_type": "code",
   "execution_count": 4,
   "id": "c50efa40",
   "metadata": {},
   "outputs": [
    {
     "data": {
      "text/html": [
       "<div>\n",
       "<style scoped>\n",
       "    .dataframe tbody tr th:only-of-type {\n",
       "        vertical-align: middle;\n",
       "    }\n",
       "\n",
       "    .dataframe tbody tr th {\n",
       "        vertical-align: top;\n",
       "    }\n",
       "\n",
       "    .dataframe thead th {\n",
       "        text-align: right;\n",
       "    }\n",
       "</style>\n",
       "<table border=\"1\" class=\"dataframe\">\n",
       "  <thead>\n",
       "    <tr style=\"text-align: right;\">\n",
       "      <th></th>\n",
       "      <th>date</th>\n",
       "      <th>time</th>\n",
       "      <th>address</th>\n",
       "      <th>state</th>\n",
       "      <th>latitude</th>\n",
       "      <th>longitude</th>\n",
       "      <th>elevation</th>\n",
       "      <th>magnitude</th>\n",
       "      <th>white</th>\n",
       "      <th>red</th>\n",
       "      <th>blue</th>\n",
       "      <th>green</th>\n",
       "      <th>purple</th>\n",
       "      <th>orange</th>\n",
       "      <th>yellow</th>\n",
       "    </tr>\n",
       "    <tr>\n",
       "      <th>id</th>\n",
       "      <th></th>\n",
       "      <th></th>\n",
       "      <th></th>\n",
       "      <th></th>\n",
       "      <th></th>\n",
       "      <th></th>\n",
       "      <th></th>\n",
       "      <th></th>\n",
       "      <th></th>\n",
       "      <th></th>\n",
       "      <th></th>\n",
       "      <th></th>\n",
       "      <th></th>\n",
       "      <th></th>\n",
       "      <th></th>\n",
       "    </tr>\n",
       "  </thead>\n",
       "  <tbody>\n",
       "    <tr>\n",
       "      <th>1</th>\n",
       "      <td>1995-06-08</td>\n",
       "      <td>0 days 02:00:00</td>\n",
       "      <td>Trafalgar, IN</td>\n",
       "      <td>IN</td>\n",
       "      <td>39</td>\n",
       "      <td>-86</td>\n",
       "      <td>267</td>\n",
       "      <td>-13</td>\n",
       "      <td>0</td>\n",
       "      <td>0</td>\n",
       "      <td>0</td>\n",
       "      <td>1</td>\n",
       "      <td>0</td>\n",
       "      <td>0</td>\n",
       "      <td>0</td>\n",
       "    </tr>\n",
       "    <tr>\n",
       "      <th>2</th>\n",
       "      <td>1995-06-20</td>\n",
       "      <td>0 days 17:00:00</td>\n",
       "      <td>Munhall, PA</td>\n",
       "      <td>PA</td>\n",
       "      <td>40</td>\n",
       "      <td>-79</td>\n",
       "      <td>329</td>\n",
       "      <td>-13</td>\n",
       "      <td>0</td>\n",
       "      <td>1</td>\n",
       "      <td>0</td>\n",
       "      <td>0</td>\n",
       "      <td>0</td>\n",
       "      <td>1</td>\n",
       "      <td>0</td>\n",
       "    </tr>\n",
       "    <tr>\n",
       "      <th>3</th>\n",
       "      <td>1995-07-04</td>\n",
       "      <td>0 days 21:30:00</td>\n",
       "      <td>Myrtle, MS</td>\n",
       "      <td>MS</td>\n",
       "      <td>34</td>\n",
       "      <td>-89</td>\n",
       "      <td>108</td>\n",
       "      <td>-19</td>\n",
       "      <td>0</td>\n",
       "      <td>1</td>\n",
       "      <td>0</td>\n",
       "      <td>0</td>\n",
       "      <td>0</td>\n",
       "      <td>1</td>\n",
       "      <td>1</td>\n",
       "    </tr>\n",
       "    <tr>\n",
       "      <th>4</th>\n",
       "      <td>1995-08-01</td>\n",
       "      <td>0 days 16:00:00</td>\n",
       "      <td>Pottstown, PA</td>\n",
       "      <td>PA</td>\n",
       "      <td>40</td>\n",
       "      <td>-75</td>\n",
       "      <td>46</td>\n",
       "      <td>-16</td>\n",
       "      <td>0</td>\n",
       "      <td>1</td>\n",
       "      <td>0</td>\n",
       "      <td>0</td>\n",
       "      <td>0</td>\n",
       "      <td>0</td>\n",
       "      <td>0</td>\n",
       "    </tr>\n",
       "    <tr>\n",
       "      <th>5</th>\n",
       "      <td>1995-12-15</td>\n",
       "      <td>0 days 06:50:00</td>\n",
       "      <td>Eagan, MN</td>\n",
       "      <td>MN</td>\n",
       "      <td>44</td>\n",
       "      <td>-93</td>\n",
       "      <td>257</td>\n",
       "      <td>-15</td>\n",
       "      <td>1</td>\n",
       "      <td>0</td>\n",
       "      <td>0</td>\n",
       "      <td>0</td>\n",
       "      <td>0</td>\n",
       "      <td>0</td>\n",
       "      <td>0</td>\n",
       "    </tr>\n",
       "    <tr>\n",
       "      <th>...</th>\n",
       "      <td>...</td>\n",
       "      <td>...</td>\n",
       "      <td>...</td>\n",
       "      <td>...</td>\n",
       "      <td>...</td>\n",
       "      <td>...</td>\n",
       "      <td>...</td>\n",
       "      <td>...</td>\n",
       "      <td>...</td>\n",
       "      <td>...</td>\n",
       "      <td>...</td>\n",
       "      <td>...</td>\n",
       "      <td>...</td>\n",
       "      <td>...</td>\n",
       "      <td>...</td>\n",
       "    </tr>\n",
       "    <tr>\n",
       "      <th>7490</th>\n",
       "      <td>2014-12-31</td>\n",
       "      <td>0 days 02:08:00</td>\n",
       "      <td>Depoe Bay, OR</td>\n",
       "      <td>OR</td>\n",
       "      <td>44</td>\n",
       "      <td>-124</td>\n",
       "      <td>12</td>\n",
       "      <td>-6</td>\n",
       "      <td>1</td>\n",
       "      <td>0</td>\n",
       "      <td>0</td>\n",
       "      <td>0</td>\n",
       "      <td>0</td>\n",
       "      <td>0</td>\n",
       "      <td>0</td>\n",
       "    </tr>\n",
       "    <tr>\n",
       "      <th>7491</th>\n",
       "      <td>2014-12-31</td>\n",
       "      <td>0 days 22:20:00</td>\n",
       "      <td>, OH</td>\n",
       "      <td>OH</td>\n",
       "      <td>39</td>\n",
       "      <td>-83</td>\n",
       "      <td>309</td>\n",
       "      <td>-11</td>\n",
       "      <td>0</td>\n",
       "      <td>0</td>\n",
       "      <td>0</td>\n",
       "      <td>0</td>\n",
       "      <td>0</td>\n",
       "      <td>0</td>\n",
       "      <td>1</td>\n",
       "    </tr>\n",
       "    <tr>\n",
       "      <th>7492</th>\n",
       "      <td>2014-12-31</td>\n",
       "      <td>0 days 22:40:00</td>\n",
       "      <td>, NY</td>\n",
       "      <td>NY</td>\n",
       "      <td>40</td>\n",
       "      <td>-73</td>\n",
       "      <td>28</td>\n",
       "      <td>-14</td>\n",
       "      <td>0</td>\n",
       "      <td>0</td>\n",
       "      <td>0</td>\n",
       "      <td>0</td>\n",
       "      <td>0</td>\n",
       "      <td>1</td>\n",
       "      <td>0</td>\n",
       "    </tr>\n",
       "    <tr>\n",
       "      <th>7493</th>\n",
       "      <td>2014-12-31</td>\n",
       "      <td>0 days 21:30:00</td>\n",
       "      <td>Willow Hill, IL</td>\n",
       "      <td>IL</td>\n",
       "      <td>39</td>\n",
       "      <td>-87</td>\n",
       "      <td>151</td>\n",
       "      <td>-18</td>\n",
       "      <td>1</td>\n",
       "      <td>0</td>\n",
       "      <td>0</td>\n",
       "      <td>0</td>\n",
       "      <td>0</td>\n",
       "      <td>0</td>\n",
       "      <td>0</td>\n",
       "    </tr>\n",
       "    <tr>\n",
       "      <th>7494</th>\n",
       "      <td>2014-12-31</td>\n",
       "      <td>0 days 19:12:00</td>\n",
       "      <td>Massillon, OH</td>\n",
       "      <td>OH</td>\n",
       "      <td>40</td>\n",
       "      <td>-81</td>\n",
       "      <td>310</td>\n",
       "      <td>-14</td>\n",
       "      <td>0</td>\n",
       "      <td>0</td>\n",
       "      <td>0</td>\n",
       "      <td>0</td>\n",
       "      <td>0</td>\n",
       "      <td>0</td>\n",
       "      <td>1</td>\n",
       "    </tr>\n",
       "  </tbody>\n",
       "</table>\n",
       "<p>7494 rows × 15 columns</p>\n",
       "</div>"
      ],
      "text/plain": [
       "           date            time          address state  latitude  longitude  \\\n",
       "id                                                                            \n",
       "1    1995-06-08 0 days 02:00:00    Trafalgar, IN    IN        39        -86   \n",
       "2    1995-06-20 0 days 17:00:00      Munhall, PA    PA        40        -79   \n",
       "3    1995-07-04 0 days 21:30:00       Myrtle, MS    MS        34        -89   \n",
       "4    1995-08-01 0 days 16:00:00    Pottstown, PA    PA        40        -75   \n",
       "5    1995-12-15 0 days 06:50:00        Eagan, MN    MN        44        -93   \n",
       "...         ...             ...              ...   ...       ...        ...   \n",
       "7490 2014-12-31 0 days 02:08:00    Depoe Bay, OR    OR        44       -124   \n",
       "7491 2014-12-31 0 days 22:20:00             , OH    OH        39        -83   \n",
       "7492 2014-12-31 0 days 22:40:00             , NY    NY        40        -73   \n",
       "7493 2014-12-31 0 days 21:30:00  Willow Hill, IL    IL        39        -87   \n",
       "7494 2014-12-31 0 days 19:12:00    Massillon, OH    OH        40        -81   \n",
       "\n",
       "      elevation  magnitude  white  red  blue  green  purple  orange  yellow  \n",
       "id                                                                           \n",
       "1           267        -13      0    0     0      1       0       0       0  \n",
       "2           329        -13      0    1     0      0       0       1       0  \n",
       "3           108        -19      0    1     0      0       0       1       1  \n",
       "4            46        -16      0    1     0      0       0       0       0  \n",
       "5           257        -15      1    0     0      0       0       0       0  \n",
       "...         ...        ...    ...  ...   ...    ...     ...     ...     ...  \n",
       "7490         12         -6      1    0     0      0       0       0       0  \n",
       "7491        309        -11      0    0     0      0       0       0       1  \n",
       "7492         28        -14      0    0     0      0       0       1       0  \n",
       "7493        151        -18      1    0     0      0       0       0       0  \n",
       "7494        310        -14      0    0     0      0       0       0       1  \n",
       "\n",
       "[7494 rows x 15 columns]"
      ]
     },
     "execution_count": 4,
     "metadata": {},
     "output_type": "execute_result"
    }
   ],
   "source": [
    "df"
   ]
  },
  {
   "cell_type": "markdown",
   "id": "61d0a36b",
   "metadata": {},
   "source": []
  },
  {
   "cell_type": "markdown",
   "id": "50842e4d",
   "metadata": {},
   "source": [
    "### Metheo data visualize"
   ]
  },
  {
   "cell_type": "code",
   "execution_count": 5,
   "id": "f817c0dc",
   "metadata": {},
   "outputs": [],
   "source": [
    "df['-magnitude'] = df['magnitude']*-1"
   ]
  },
  {
   "cell_type": "code",
   "execution_count": 6,
   "id": "338b5a81",
   "metadata": {},
   "outputs": [],
   "source": [
    "from bokeh.models import ColumnDataSource\n",
    "from bokeh.palettes import Bright6\n",
    "from bokeh.plotting import figure, show\n",
    "import plotly.express as px"
   ]
  },
  {
   "cell_type": "code",
   "execution_count": 7,
   "id": "7cf99be0",
   "metadata": {},
   "outputs": [
    {
     "name": "stdout",
     "output_type": "stream",
     "text": [
      "Harrison charter Township      Harrison charter Township\n",
      "-      -\n",
      "Kailua-Kona      Kailua-Kona\n",
      "Jasper      Jasper\n",
      "-      -\n",
      "-      -\n",
      "-      -\n",
      "-      -\n",
      "-      -\n",
      "-      -\n",
      "-      -\n",
      "Ephrata      Ephrata\n",
      "-      -\n",
      "Little Egg Harbor Townshi      Little Egg Harbor Townshi\n",
      "-      -\n",
      "New Wilmington      New Wilmington\n",
      "Templeton      Templeton\n",
      "Woodbury Heights      Woodbury Heights\n",
      "Alamosa      Alamosa\n",
      "-      -\n",
      "-      -\n",
      "Berlin Charter Township,      Berlin Charter Township,\n",
      "Trezevant      Trezevant\n",
      "Duck River      Duck River\n",
      "Mequon      Mequon\n",
      "Milwaukee      Milwaukee\n",
      "Chalmette      Chalmette\n",
      "Appleton      Appleton\n",
      "North Ridgeville      North Ridgeville\n",
      "-      -\n",
      "Shrewsbury      Shrewsbury\n",
      "Dunbar      Dunbar\n",
      "Silver Lake State Park, M      M\n",
      "-      -\n",
      "-      -\n",
      "Charter Township of Clint      Charter Township of Clint\n",
      "Oakland Charter Township,      Oakland Charter Township,\n",
      "-      -\n",
      "Meridian Charter Township      Meridian Charter Township\n",
      "Douglassville      Douglassville\n",
      "Lincoln      Lincoln\n",
      "-      -\n",
      "-      -\n",
      "Richmond      Richmond\n",
      "West Bloomfield Township,      West Bloomfield Township,\n",
      "Brighton      Brighton\n",
      "Earlsboro      Earlsboro\n",
      "-      -\n",
      "Southold      Southold\n",
      "Airville      Airville\n",
      "Lancaster      Lancaster\n",
      "Oronoko Charter Township,      Oronoko Charter Township,\n",
      "Flint      Flint\n",
      "Rye      Rye\n",
      "-      -\n",
      "Broomall      Broomall\n",
      "Little Egg Harbor Townshi      Little Egg Harbor Townshi\n",
      "-      -\n",
      "-      -\n",
      "Flagstaff      Flagstaff\n",
      "Flagstaff      Flagstaff\n",
      "Green Bay      Green Bay\n",
      "Grass Lake Charter Townsh      Grass Lake Charter Townsh\n",
      "Fruitport Charter townshi      Fruitport Charter townshi\n",
      "-      -\n",
      "-      -\n",
      "Leary      Leary\n",
      "Savannah      Savannah\n",
      "Lusby      Lusby\n",
      "Anderson      Anderson\n",
      "Stillwater      Stillwater\n",
      "Mannford      Mannford\n",
      "-      -\n",
      "-      -\n",
      "-      -\n",
      "-      -\n",
      "-      -\n",
      "-      -\n",
      "-      -\n",
      "-      -\n",
      "Anniston      Anniston\n",
      "-      -\n",
      "St. Petersburg      St. Petersburg\n",
      "-      -\n",
      "Round Rock      Round Rock\n",
      "-      -\n",
      "Charter Township of Clint      Charter Township of Clint\n",
      "Alexandria      Alexandria\n",
      "Geismar      Geismar\n",
      "Pemberville      Pemberville\n",
      "-      -\n",
      "Keller      Keller\n",
      "Las Vegas      Las Vegas\n",
      "-      -\n",
      "Albuquerque      Albuquerque\n",
      "Millville      Millville\n",
      "-      -\n",
      "Roxbury Township      Roxbury Township\n",
      "-      -\n",
      "Huron Charter Township, M      M\n",
      "-      -\n",
      "Leesburg      Leesburg\n",
      "Albuquerque      Albuquerque\n",
      "Albuquerque      Albuquerque\n",
      "McGaheysville      McGaheysville\n",
      "Mesa      Mesa\n",
      "-      -\n",
      "Fruitport Charter Townshi      Fruitport Charter Townshi\n",
      "Gilgo-Oak Beach-Captree,      Gilgo-Oak Beach-Captree,\n",
      "-      -\n",
      "-      -\n",
      "-      -\n",
      "-      -\n",
      "-      -\n",
      "-      -\n",
      "-      -\n",
      "-      -\n",
      "Johnson Mountain Township      Johnson Mountain Township\n"
     ]
    }
   ],
   "source": [
    "# address 열에서 state 데이터 추출이 어려운 데이터 확인\n",
    "\n",
    "state_col= []\n",
    "for add in df['address']:\n",
    "    add_splitted = add.split(', ')[-1]\n",
    "    \n",
    "    if len(add_splitted) != 2:\n",
    "        print(add,'    ' ,add_splitted)"
   ]
  },
  {
   "cell_type": "code",
   "execution_count": 8,
   "id": "a7805507",
   "metadata": {},
   "outputs": [
    {
     "data": {
      "text/html": [
       "<div>\n",
       "<style scoped>\n",
       "    .dataframe tbody tr th:only-of-type {\n",
       "        vertical-align: middle;\n",
       "    }\n",
       "\n",
       "    .dataframe tbody tr th {\n",
       "        vertical-align: top;\n",
       "    }\n",
       "\n",
       "    .dataframe thead th {\n",
       "        text-align: right;\n",
       "    }\n",
       "</style>\n",
       "<table border=\"1\" class=\"dataframe\">\n",
       "  <thead>\n",
       "    <tr style=\"text-align: right;\">\n",
       "      <th></th>\n",
       "      <th>date</th>\n",
       "      <th>time</th>\n",
       "      <th>address</th>\n",
       "      <th>state</th>\n",
       "      <th>latitude</th>\n",
       "      <th>longitude</th>\n",
       "      <th>elevation</th>\n",
       "      <th>magnitude</th>\n",
       "      <th>white</th>\n",
       "      <th>red</th>\n",
       "      <th>blue</th>\n",
       "      <th>green</th>\n",
       "      <th>purple</th>\n",
       "      <th>orange</th>\n",
       "      <th>yellow</th>\n",
       "      <th>-magnitude</th>\n",
       "    </tr>\n",
       "    <tr>\n",
       "      <th>id</th>\n",
       "      <th></th>\n",
       "      <th></th>\n",
       "      <th></th>\n",
       "      <th></th>\n",
       "      <th></th>\n",
       "      <th></th>\n",
       "      <th></th>\n",
       "      <th></th>\n",
       "      <th></th>\n",
       "      <th></th>\n",
       "      <th></th>\n",
       "      <th></th>\n",
       "      <th></th>\n",
       "      <th></th>\n",
       "      <th></th>\n",
       "      <th></th>\n",
       "    </tr>\n",
       "  </thead>\n",
       "  <tbody>\n",
       "    <tr>\n",
       "      <th>1</th>\n",
       "      <td>1995-06-08</td>\n",
       "      <td>0 days 02:00:00</td>\n",
       "      <td>Trafalgar, IN</td>\n",
       "      <td>IN</td>\n",
       "      <td>39</td>\n",
       "      <td>-86</td>\n",
       "      <td>267</td>\n",
       "      <td>-13</td>\n",
       "      <td>0</td>\n",
       "      <td>0</td>\n",
       "      <td>0</td>\n",
       "      <td>1</td>\n",
       "      <td>0</td>\n",
       "      <td>0</td>\n",
       "      <td>0</td>\n",
       "      <td>13</td>\n",
       "    </tr>\n",
       "    <tr>\n",
       "      <th>2</th>\n",
       "      <td>1995-06-20</td>\n",
       "      <td>0 days 17:00:00</td>\n",
       "      <td>Munhall, PA</td>\n",
       "      <td>PA</td>\n",
       "      <td>40</td>\n",
       "      <td>-79</td>\n",
       "      <td>329</td>\n",
       "      <td>-13</td>\n",
       "      <td>0</td>\n",
       "      <td>1</td>\n",
       "      <td>0</td>\n",
       "      <td>0</td>\n",
       "      <td>0</td>\n",
       "      <td>1</td>\n",
       "      <td>0</td>\n",
       "      <td>13</td>\n",
       "    </tr>\n",
       "    <tr>\n",
       "      <th>3</th>\n",
       "      <td>1995-07-04</td>\n",
       "      <td>0 days 21:30:00</td>\n",
       "      <td>Myrtle, MS</td>\n",
       "      <td>MS</td>\n",
       "      <td>34</td>\n",
       "      <td>-89</td>\n",
       "      <td>108</td>\n",
       "      <td>-19</td>\n",
       "      <td>0</td>\n",
       "      <td>1</td>\n",
       "      <td>0</td>\n",
       "      <td>0</td>\n",
       "      <td>0</td>\n",
       "      <td>1</td>\n",
       "      <td>1</td>\n",
       "      <td>19</td>\n",
       "    </tr>\n",
       "    <tr>\n",
       "      <th>4</th>\n",
       "      <td>1995-08-01</td>\n",
       "      <td>0 days 16:00:00</td>\n",
       "      <td>Pottstown, PA</td>\n",
       "      <td>PA</td>\n",
       "      <td>40</td>\n",
       "      <td>-75</td>\n",
       "      <td>46</td>\n",
       "      <td>-16</td>\n",
       "      <td>0</td>\n",
       "      <td>1</td>\n",
       "      <td>0</td>\n",
       "      <td>0</td>\n",
       "      <td>0</td>\n",
       "      <td>0</td>\n",
       "      <td>0</td>\n",
       "      <td>16</td>\n",
       "    </tr>\n",
       "    <tr>\n",
       "      <th>5</th>\n",
       "      <td>1995-12-15</td>\n",
       "      <td>0 days 06:50:00</td>\n",
       "      <td>Eagan, MN</td>\n",
       "      <td>MN</td>\n",
       "      <td>44</td>\n",
       "      <td>-93</td>\n",
       "      <td>257</td>\n",
       "      <td>-15</td>\n",
       "      <td>1</td>\n",
       "      <td>0</td>\n",
       "      <td>0</td>\n",
       "      <td>0</td>\n",
       "      <td>0</td>\n",
       "      <td>0</td>\n",
       "      <td>0</td>\n",
       "      <td>15</td>\n",
       "    </tr>\n",
       "    <tr>\n",
       "      <th>...</th>\n",
       "      <td>...</td>\n",
       "      <td>...</td>\n",
       "      <td>...</td>\n",
       "      <td>...</td>\n",
       "      <td>...</td>\n",
       "      <td>...</td>\n",
       "      <td>...</td>\n",
       "      <td>...</td>\n",
       "      <td>...</td>\n",
       "      <td>...</td>\n",
       "      <td>...</td>\n",
       "      <td>...</td>\n",
       "      <td>...</td>\n",
       "      <td>...</td>\n",
       "      <td>...</td>\n",
       "      <td>...</td>\n",
       "    </tr>\n",
       "    <tr>\n",
       "      <th>7490</th>\n",
       "      <td>2014-12-31</td>\n",
       "      <td>0 days 02:08:00</td>\n",
       "      <td>Depoe Bay, OR</td>\n",
       "      <td>OR</td>\n",
       "      <td>44</td>\n",
       "      <td>-124</td>\n",
       "      <td>12</td>\n",
       "      <td>-6</td>\n",
       "      <td>1</td>\n",
       "      <td>0</td>\n",
       "      <td>0</td>\n",
       "      <td>0</td>\n",
       "      <td>0</td>\n",
       "      <td>0</td>\n",
       "      <td>0</td>\n",
       "      <td>6</td>\n",
       "    </tr>\n",
       "    <tr>\n",
       "      <th>7491</th>\n",
       "      <td>2014-12-31</td>\n",
       "      <td>0 days 22:20:00</td>\n",
       "      <td>, OH</td>\n",
       "      <td>OH</td>\n",
       "      <td>39</td>\n",
       "      <td>-83</td>\n",
       "      <td>309</td>\n",
       "      <td>-11</td>\n",
       "      <td>0</td>\n",
       "      <td>0</td>\n",
       "      <td>0</td>\n",
       "      <td>0</td>\n",
       "      <td>0</td>\n",
       "      <td>0</td>\n",
       "      <td>1</td>\n",
       "      <td>11</td>\n",
       "    </tr>\n",
       "    <tr>\n",
       "      <th>7492</th>\n",
       "      <td>2014-12-31</td>\n",
       "      <td>0 days 22:40:00</td>\n",
       "      <td>, NY</td>\n",
       "      <td>NY</td>\n",
       "      <td>40</td>\n",
       "      <td>-73</td>\n",
       "      <td>28</td>\n",
       "      <td>-14</td>\n",
       "      <td>0</td>\n",
       "      <td>0</td>\n",
       "      <td>0</td>\n",
       "      <td>0</td>\n",
       "      <td>0</td>\n",
       "      <td>1</td>\n",
       "      <td>0</td>\n",
       "      <td>14</td>\n",
       "    </tr>\n",
       "    <tr>\n",
       "      <th>7493</th>\n",
       "      <td>2014-12-31</td>\n",
       "      <td>0 days 21:30:00</td>\n",
       "      <td>Willow Hill, IL</td>\n",
       "      <td>IL</td>\n",
       "      <td>39</td>\n",
       "      <td>-87</td>\n",
       "      <td>151</td>\n",
       "      <td>-18</td>\n",
       "      <td>1</td>\n",
       "      <td>0</td>\n",
       "      <td>0</td>\n",
       "      <td>0</td>\n",
       "      <td>0</td>\n",
       "      <td>0</td>\n",
       "      <td>0</td>\n",
       "      <td>18</td>\n",
       "    </tr>\n",
       "    <tr>\n",
       "      <th>7494</th>\n",
       "      <td>2014-12-31</td>\n",
       "      <td>0 days 19:12:00</td>\n",
       "      <td>Massillon, OH</td>\n",
       "      <td>OH</td>\n",
       "      <td>40</td>\n",
       "      <td>-81</td>\n",
       "      <td>310</td>\n",
       "      <td>-14</td>\n",
       "      <td>0</td>\n",
       "      <td>0</td>\n",
       "      <td>0</td>\n",
       "      <td>0</td>\n",
       "      <td>0</td>\n",
       "      <td>0</td>\n",
       "      <td>1</td>\n",
       "      <td>14</td>\n",
       "    </tr>\n",
       "  </tbody>\n",
       "</table>\n",
       "<p>7393 rows × 16 columns</p>\n",
       "</div>"
      ],
      "text/plain": [
       "           date            time          address state  latitude  longitude  \\\n",
       "id                                                                            \n",
       "1    1995-06-08 0 days 02:00:00    Trafalgar, IN    IN        39        -86   \n",
       "2    1995-06-20 0 days 17:00:00      Munhall, PA    PA        40        -79   \n",
       "3    1995-07-04 0 days 21:30:00       Myrtle, MS    MS        34        -89   \n",
       "4    1995-08-01 0 days 16:00:00    Pottstown, PA    PA        40        -75   \n",
       "5    1995-12-15 0 days 06:50:00        Eagan, MN    MN        44        -93   \n",
       "...         ...             ...              ...   ...       ...        ...   \n",
       "7490 2014-12-31 0 days 02:08:00    Depoe Bay, OR    OR        44       -124   \n",
       "7491 2014-12-31 0 days 22:20:00             , OH    OH        39        -83   \n",
       "7492 2014-12-31 0 days 22:40:00             , NY    NY        40        -73   \n",
       "7493 2014-12-31 0 days 21:30:00  Willow Hill, IL    IL        39        -87   \n",
       "7494 2014-12-31 0 days 19:12:00    Massillon, OH    OH        40        -81   \n",
       "\n",
       "      elevation  magnitude  white  red  blue  green  purple  orange  yellow  \\\n",
       "id                                                                            \n",
       "1           267        -13      0    0     0      1       0       0       0   \n",
       "2           329        -13      0    1     0      0       0       1       0   \n",
       "3           108        -19      0    1     0      0       0       1       1   \n",
       "4            46        -16      0    1     0      0       0       0       0   \n",
       "5           257        -15      1    0     0      0       0       0       0   \n",
       "...         ...        ...    ...  ...   ...    ...     ...     ...     ...   \n",
       "7490         12         -6      1    0     0      0       0       0       0   \n",
       "7491        309        -11      0    0     0      0       0       0       1   \n",
       "7492         28        -14      0    0     0      0       0       1       0   \n",
       "7493        151        -18      1    0     0      0       0       0       0   \n",
       "7494        310        -14      0    0     0      0       0       0       1   \n",
       "\n",
       "      -magnitude  \n",
       "id                \n",
       "1             13  \n",
       "2             13  \n",
       "3             19  \n",
       "4             16  \n",
       "5             15  \n",
       "...          ...  \n",
       "7490           6  \n",
       "7491          11  \n",
       "7492          14  \n",
       "7493          18  \n",
       "7494          14  \n",
       "\n",
       "[7393 rows x 16 columns]"
      ]
     },
     "execution_count": 8,
     "metadata": {},
     "output_type": "execute_result"
    }
   ],
   "source": [
    "df_cleaned = df[df['state'].str.len() == 2]\n",
    "df_cleaned"
   ]
  },
  {
   "cell_type": "code",
   "execution_count": 9,
   "id": "79abb3d5",
   "metadata": {},
   "outputs": [],
   "source": [
    "df_state = df_cleaned.groupby(by = 'state').count().sort_values(by = 'date', ascending = False)\n",
    "top_10_state_list = df_state.head(10).index"
   ]
  },
  {
   "cell_type": "code",
   "execution_count": 10,
   "id": "f1e416ca",
   "metadata": {},
   "outputs": [
    {
     "data": {
      "application/vnd.plotly.v1+json": {
       "config": {
        "plotlyServerURL": "https://plot.ly"
       },
       "data": [
        {
         "hovertemplate": "state=IN<br>-magnitude=%{marker.size}<br>latitude=%{lat}<br>longitude=%{lon}<extra></extra>",
         "lat": {
          "bdata": "JycpKScpKSkpKSgoKCknKSkoKSYpJycpJykoJykpKCkpKScpJygnJygoKSknKCknJygnJycpJycnJycpKCkoKSkpKCgpKCgpKSknJyYpKSgpKSkoKScnJycnKCcnJygoJygmJicoJygpJyclJigpJyclJygnJyYnKScnJSYnJycnJykpJyYmKSgpJygmKCkpKScoJygnJykpKSgn",
          "dtype": "i1"
         },
         "legendgroup": "IN",
         "lon": {
          "bdata": "qqqqq6qrqampqqqqqaqrq6qsqamrq6qqq6msqqurq6upqaupq6mrqqqpq6mqqqmrqaurqquqqqqpqqurq6qqq6uqq6uqqqqqq6urqqqpq6qpqaqqq6qpq6qqqqqrqquqqqyqq6qqqqurq6qpqqurqqqpq6urq6qqrKuqqaqsqquqqqmpqqqprKurqqurrKqrqqqqq6uqqqqqqqqq",
          "dtype": "i1"
         },
         "marker": {
          "color": "#636efa",
          "size": {
           "bdata": "DQARFBEMFAAGAAsKCQQKCxARFAAUFA0ODQYGEgcSFxgACgwUCAgUBhgHDggAEgAWAA0AGBgUFQsNFxQPChANFhQFBxEUEhAJAA4FAAkUBxMHCgoHABgAFw0MBgwUDRAJBgoLFhAKDBYHFA0GFhQSChAAEBcNCxIYAAYHFA4WERQUFg4QFAQYBwcHABENDQcHFA4JBwgRCwoYDQ8I",
           "dtype": "i1"
          },
          "sizemode": "area",
          "sizeref": 0.07
         },
         "mode": "markers",
         "name": "IN",
         "showlegend": true,
         "subplot": "map",
         "type": "scattermap"
        },
        {
         "hovertemplate": "state=PA<br>-magnitude=%{marker.size}<br>latitude=%{lat}<br>longitude=%{lon}<extra></extra>",
         "lat": {
          "bdata": "KCgoKCcnKCkoKSgpKCkoKCopJygoKCcoKCgoKCgpKCgoKCgoKCkoKCgnKCgoKSgnKSkoKSkpKSgoJygoKCgnJygoKCgoKCgoKCcoKSgoKSgoKCgoKCgpKCgoKSgoKCcpKCkoKCgoJygoJygnKCkoKCkoKSgoKCcoKCkoKCgoKCkoKCgoKSkoKCkoKCgnKCcoJygpKCkoJyknKCgoKSgpJygoKSgoKCgoJygoKCgoJygoKSkoJygoKCcoKCgoJykoJygnKCooKCgpKCgoKScoKCgoKCkoKCkpKSkpKSkpKSkpKSkpKSkpKSgpJykpKCcoKCgnKCcoKSgoKCgnKCgoKSgoKCgpKCgoKCgoKCcoKCkpKCgoKSgoKCgoKCgoKCgoKCgoKCgoJygpKCcoKCgoKCcnKCgoKCgoKCgoKCgoKCgoJygoKCgoKCcnKCgoKCgoKCgnKCgoKCcoKCgoKCgoJygoKCgoKCgoKCgoKCgoKCgoKCgoKCgoKCgoKCgoKCkpKCcpKCgoKCkoKCgnJygoJycoKSkpKCgoKCgoJykpKCgoKCgoKCgnKCgoKCkoKCgoKCgoKCkoKCgoJygnKCgoKCgoKCgnKCkoKCgoKCgoKSgoKCgoJygoKSgoKCgoKSgoKCgoKCgoKCgoKSgnKCgpKSgnKCgoKCgoKCgoKCgoKCgoJygpJyknKCkoKCgoKCkoKCgnKCgoKCcoKCcoKCcoKCgpJygnKCgoKCgoKCcoKCknKScoKCgoKCgoKCgoKCgnKCgqKCgoKCgoKA==",
          "dtype": "i1"
         },
         "legendgroup": "PA",
         "lon": {
          "bdata": "sbW1tLG1tbaysLC1tbOxs7CxtbK2tbWwsbS1sbWytbW1srS1tLCztLW1tLW1srS1tbC1sbG1sbSwtLGzs7OxsLG1sLG0s7G0tLWwtLG1sLOysLWzs7S1sbOzsbSwtLG0trW1tLGxtLW1tbG0tbKzsbKxtLG1sbGytbOytbS1tLG1tbO1sbW1sLGws7S1sLOwtLS2sbW1tLWztbW0tbS1tLS1tbS1tbS1s7W0sbG1s7S1tLK0tbSztbWzsLC1tbSys7W1sLCytbW0tbOzsbG2tbS2tLCwsbW1tbW1tbW1tbW1tbW1tbW1tbS1tLC1tLSwsrGwsLO0tbG1tbS1tLSwtLS0sLGys7G1trOytbWxtbW0tba1sbS0srW1sbW1sLGwtbSzsLCytbKxsbGxsLC0sbS0sbSwtLCxtLO0tbG0sbGxtLSxtLC0sbG0tLS0sLC0sbCztLGwtLCxs7WxtLCwsLSwsLOxsLSwsLCztbSxtLO1tLCzsbaztbC0tbS1s7W1tbW1tLW0tbW1s7W0tbWztLW0srSxtbO1tLKxtbS0tbS0tbO2trW1tLWxs7W1tbC1sbW0sLW1tbS1tbG0sLOxtbS0tLW1tbS1tLGytbW1trW1tbW1tbW1tbW0tbWzsLW1tbO2s7S0tbW1tbS1tbS0trW1trS1tbS1tba0s7W0tLW1tbW1tLW1tbS2tbW1tbS2tbS1tbW1tbW1tbW1tLS1tbW1s7Oztba2tbS1tbO1sbS1tbW0tbW1tbW1tbW1tbW1tbWwtLWwsrGysQ==",
          "dtype": "i1"
         },
         "marker": {
          "color": "#EF553B",
          "size": {
           "bdata": "DRAMDBAHFA0NEgAFHAcADQsFGAYHAAoNFRMFGBQMDRUYBBYHDAcNBw0QBQQPFQAUEBMNFRQYBxIFGBYWFAAAFhEJFhgPEhYUGAUYEw0SFgYRDRQYFBQSCg0WGA0YFxgSEBcUEBQPEQcQFBgYCRgWCg4IDhYNDRgHFBgWGAYYABQUFAAYFA0OBRQWAAUMEAgIEQ4NEQwKDBgGDAoACBcABBgOEQASFhcJABIUCQwGDQsKEg0MBQAVDBAADxQLERYVFhQGFBYOFRYFExEACQUAEg0RBwUFFwALCwsLCw0LCwsLCwoKCwsLCxgVDxQADhgWCQYYFRgIABgYGBgNABgQDRIHDBASAAcIAA0YBggQEhQNDQAAEgYJGAYHBRQHABIAFBYODAAMEQsQEgAUCRQSGAAUERUSAAsHBA0KDQ0OFBQUBQgVCAASABgNDhgAEwwUBwQSGBUXGA8KGBAAABUYFRYUEw8OExcYEQANDRgMABIODg0SEw0UBwQPChAPEQwMGAkFDQYYBg0MGAUOBQYEBgkNFA8VEAcJERgACw0PDQoKDAsUGBEJCwwNEgcNDwAYERYWAAoUCBIYEhQMFgUPBQwJFhITEhUYBxISABIOCwsTFgwOAAANEgoKCAsFBxQUAAAIDggQAA0IFAsOAAAEGAkVEhMSCAAJCRAXCAoWBxgYAAoQAAsLGBQYAAsUDBUADAYTDggUBxAHFAcSFAAFFBUWBwAAChQYDRULFhIGBAAQFBIHGAoIAAgMAAsADhUUFhYJFAwUGAgJFw==",
           "dtype": "i1"
          },
          "sizemode": "area",
          "sizeref": 0.07
         },
         "mode": "markers",
         "name": "PA",
         "showlegend": true,
         "subplot": "map",
         "type": "scattermap"
        },
        {
         "hovertemplate": "state=MS<br>-magnitude=%{marker.size}<br>latitude=%{lat}<br>longitude=%{lon}<extra></extra>",
         "lat": {
          "bdata": "Ih8iHiEiICIhISEiIiIiIiIiIiIfICAiIh4eIiIhISAgICAiIiAgICIeICQf",
          "dtype": "i1"
         },
         "legendgroup": "MS",
         "lon": {
          "bdata": "p6eop6inpqioqKinp6inp6inqKinpaanp6elqKiop6anpqiop6amp6anp6en",
          "dtype": "i1"
         },
         "marker": {
          "color": "#00cc96",
          "size": {
           "bdata": "EwUMDAwYDBQPFAcUDRQUBRQSFQARFgUYCBMMGA4ADgsTFhcAGBILChEMFAkH",
           "dtype": "i1"
          },
          "sizemode": "area",
          "sizeref": 0.07
         },
         "mode": "markers",
         "name": "MS",
         "showlegend": true,
         "subplot": "map",
         "type": "scattermap"
        },
        {
         "hovertemplate": "state=MN<br>-magnitude=%{marker.size}<br>latitude=%{lat}<br>longitude=%{lon}<extra></extra>",
         "lat": {
          "bdata": "LC8tLCwtLS0tLS0vLi0tLS0tLy8sLywtLSwsLSwsLS0sLC0uLy4vLy8vLy8vLy4vLywtLC8sLC0sLCwtLywtLSwtLS0sLSwtLCwsLCwtLS0sLCwtLS0tLSwsLTAtLSwsLS0sLS0sLCwsLSwsLC8tLS0tLC0sLS0uLQ==",
          "dtype": "i1"
         },
         "legendgroup": "MN",
         "lon": {
          "bdata": "o6Gho6Oho6Ojo6OioqOjoqOjo6ClpaOjoaOjpKOjo6Oko6OkoqKioqWjoqOjo6SjoqSjo6Wjo6Ojo6OjoqOjo6Oio6Sjo6OjoqOko6Ojo6Sjo6OkpKOjo6SjpKOjoaOko6OjpKOjo6Ojo6SjpKKjo6Ojo6Kjo6OjpA==",
          "dtype": "i1"
         },
         "marker": {
          "color": "#ab63fa",
          "size": {
           "bdata": "DxAUEggJDQ0JCgYWGA0GBgoAEwkYDAgUCAsWFgkABQwAFRISERMAFhIUGBUYGAAYDQoPEBYWDgkVDQYOEBAHFhMIGAoWFAUYDQcYCRMAERYOGBUUGBIYFBINABQUFgAVFBgUGA8YBw4IDQsRDAwNDxQQFw8UFBQNGA==",
           "dtype": "i1"
          },
          "sizemode": "area",
          "sizeref": 0.07
         },
         "mode": "markers",
         "name": "MN",
         "showlegend": true,
         "subplot": "map",
         "type": "scattermap"
        },
        {
         "hovertemplate": "state=CA<br>-magnitude=%{marker.size}<br>latitude=%{lat}<br>longitude=%{lon}<extra></extra>",
         "lat": {
          "bdata": "ISAmJSYkJyIhJiQiIiElISIlIiUhICUkJiEmJiUiISckIyYkISIkIiInIiclKCAgICMhISQlIiQnICAiIyIiIiUiKSkoKCUhISEiIiUiISAgIiEhISIiISEiICEhJSclJiAiJiYmIiYjJyIlIyYmJSQiISAlISIiJSYmJSIiJCEhIiYhJiUhJiAiJSYiJSIhJiElJCIlJSYlJSYjJCUmICEiICIgIiUmISImJSUoJiUgJScnISYlJSUhIiUhIiElJSYmJichIiIiISIhISIhJCIhJSMiICIgKCAlICQlISEiISkmJSEhISEgJiYnISUhIiEhJiUiJCQgIiYiIiQkISEmISInISYhIighJCEhIiUhISEmJiUlJCchISUlJCIlISImIiQkJSUhJiMkISIiISUlJSIlISUhJSUjISYiIiUiIiIhIiUiJiUlJSUkJSIlJyEhIiAhIScnISUnICEhISEhIiIhIiYhICEgICUiICUhISUiISMlJiUgISElISglJScmJCcmJiYkJiYnJicmJiYlJyYmJCclJyYmICIhISIhIyEhISMiISAjISIgISEhICIgICIjICEgICYiIiIlJSghIiAiISEhISAgJCEiIiEhISQlIiIhICEgIiIiJQ==",
          "dtype": "i1"
         },
         "legendgroup": "CA",
         "lon": {
          "bdata": "i/+L/4b/h/+H/4n/h/+K/4z/h/+J/4r/iv+M/4b/i/+K/4b/i/+G/4v/i/+H/4n/h/+L/4f/h/+H/4z/iv+H/4n/iP+H/4n/i/+K/4n/iv+K/4f/iv+I/4f/hv+L/4z/i/+J/4v/jP+H/4f/if+J/4j/i/+L/4n/if+M/4z/iv+G/4n/hP+G/4b/hv+H/4r/i/+L/4v/i/+H/4r/i/+L/4v/iv+L/4r/i/+K/4r/i/+L/4v/i/+L/4v/hv+H/4f/iP+N/4r/hv+G/4f/iv+G/4r/iP+K/4f/if+H/4b/h/+K/4r/i/+L/4f/jP+K/4v/h/+H/4b/h/+K/4r/h/+L/4v/i/+I/4v/h/+H/4v/iP+L/4r/hv+H/4r/hv+K/4r/hv+K/4f/h/+K/4b/h/+H/4b/if+H/4r/h/+H/4b/i/+M/4z/i/+K/4v/iv+H/4b/iv+K/4b/hv+G/4T/hv+G/4v/h/+G/4b/i/+H/4b/hv+H/4r/iv+H/4v/iv+L/4b/h/+I/4f/h/+H/4v/if+J/4r/i/+K/4v/i/+K/4z/if+K/4z/if+K/4v/i/+K/4v/hP+L/4b/jP+H/4f/i/+M/4v/i/+H/4b/h/+M/4v/i/+L/4v/h/+H/4f/i/+H/4v/i/+L/4v/h/+H/4n/if+J/4v/iv+H/4v/iv+H/4n/jP+K/4f/i/+J/4f/i/+G/4v/iv+E/4v/eP+K/4r/if+G/4v/i/+K/4X/hv+G/4f/h/+H/4v/i/+G/4b/h/+K/4f/iv+I/4f/iv+J/4b/hv+G/4v/h/+L/4f/i/+K/4r/i/+H/4b/hv+L/4b/iv+G/4v/hv+H/4n/i/+G/4v/i/+H/4v/iv+K/4v/iv+G/4r/h/+G/4b/h/+G/4n/h/+K/4b/h/+L/4r/iv+L/4v/iv+F/4f/i/+K/4j/i/+L/4v/jP+K/4r/if+K/4v/iP+H/4z/i/+L/4v/i/+G/4r/i/+H/4v/jP+H/4r/i/+I/4f/hv+G/4v/jP+M/4f/jP+E/4b/hv+I/4b/h/+I/4j/h/+H/4f/h/+I/4f/h/+G/4b/h/+I/4b/h/+H/4f/h/+I/4f/h/+H/4f/i/+K/4v/i/+K/4r/iP+L/4r/i/+I/4r/i/+L/4r/i/+J/4v/i/+L/4v/i/+I/4v/i/+L/4v/i/+K/4v/i/+H/4r/iv+K/4b/hv+G/4v/iv+L/4r/i/+L/4v/i/+L/4v/if+L/4r/iv+L/4v/i/+H/4f/if+K/4r/jP+K/4z/if+J/4j/h/8=",
          "dtype": "i2"
         },
         "marker": {
          "color": "#FFA15A",
          "size": {
           "bdata": "GggGGwAPCw4WAA4QDRkWEAUGCwcUGBgPDxQHFAwYEAAUDBYAGAwLDQgOBwcUCQ0YGBYUDAkHCgYMEQULCgcFBRQUCAkRDAoUFhQIEQ0LDwsTCAUACAcJEAkRCA0GDQ8NDg0MFxIODBQSEAkAEA0AGAgSDBAQBxINBBQIEgcKCQ0WBgcAEhQKDAwHAAUUCxINCRcYCBAPCwATDRgQCgUJBgAHEREWFAYKFhgKFAoQFAcABBgFCQkGEQUFCAUMCwYNFAcUDQcYFBUHDw4PCRUYEg0WEhAUCQULERgGCBgHFAcGFRIWEBEHCgYKFggECBANDA0OAAwRGAcMCwAUGAcAABgAChgRGBQOABEODhMKERAYDxgIBgASGA4NGBgJEgAMCRANBxYACBQYExUYDQoYEgAUGAAIDRAKGAoPGAkYEAkRCgkPBQ0OFAAQCAoNBxQYCQUKBw0JCwAIEgwUChASGAsNFw0NDQoUBwgHDRgLBg4SBw4LCwcFCBEAABYWBwUEBxgWFA0PFw8YFQAYDQUNDgASABYVFQ4AABQYEQUACgUSCA4LFgsKAAUIAAwPABQNCBgPABgUCBIMAAcQFhUJCAsMCAAUCwgQGAYNEgAVABgWABUUDAgGCRAQFgAYCQ==",
           "dtype": "i1"
          },
          "sizemode": "area",
          "sizeref": 0.07
         },
         "mode": "markers",
         "name": "CA",
         "showlegend": true,
         "subplot": "map",
         "type": "scattermap"
        },
        {
         "hovertemplate": "state=TX<br>-magnitude=%{marker.size}<br>latitude=%{lat}<br>longitude=%{lon}<extra></extra>",
         "lat": {
          "bdata": "Hx0gHSEgHx4eHiEeIB4gHh0eHiAgHx4dIh8gHRkgIR8dHR0dIB4dGx4fIB0aHx8eIB4gHh8eIx4gHh0eIR0eHx8gICEgHh0eHR0eHSEdHh0eICAgICEeHiAdICEbGiEeICEeHh4fHR0eHiAeHiAgISEdHiAeHiAdHh8eHh4hHx0gHiEeHR0dHR0gISAfHSEdHyAhHR0iHR8aIR0eHiEgHR8eHSAgIB4gHR4dHh4eHRwaIR0gHh0dGyEgIR0dHR4eHR8eIBwfHh0dHh0fHiEeHiEgHR0dIR8eHSEdHx0dHx0cHh0bIB4dIB4eHh0dHiAgHR0eIB0gIR4dHh8gHR0cHR4dHx4eHx4dIB0eHSAdHR4dHR0eIRsgHiEeHSAdHxwdHR0dHiAdHR4gHyAdIR0fHh4dHyEcHB0eHh4dIyEdHR0dHh4dHh0cGxweHSEdHR0hHR0bHiAdHyAdIB4dHh8dISIkHRsgHR0dICEfICAeHSAdHR0dHx4dHx0dHR8dIB0gHRsdHB0gHh4fHh4hIh4dHh0dHh4dHiEeHh4gHh0dHx0dHh4dHh8dHh4dHh4dHR8gHiAeISAgICAgHSAdHiAeHR4aHh0dHh0dHR0dHR0fIB4dHh0dIBo=",
          "dtype": "i1"
         },
         "legendgroup": "TX",
         "lon": {
          "bdata": "n6Ggn5+fmp+jn6CboJ+goaGhoKCflp+em5qfnp+goKChnqGhoKChnp+ioaGenpyfnJ+fn5yem52fnZ6foJ6fn5+foJ+foaGhnqGgoaKfoZ6fn5+goKCfnaCfnaCfn5+fn6Cfn6OfoaKhoJ6ioaKfn6GeoZ+hn56hn6Kfn6GfnqGfn6ChoaGhoKGdoJ+foZ+hoJ+boaGaoZ+em56enp+dnJqfnZuhn5+gnp+dnp+gnpyfn5+gn56dn6Cdn6GfoZ+enqKfn6CanZ6goZygn6Cfn56gnp6en5+fnp6en5mel6GdnZueoJ6eoJ+fn6Gdn52doaGfn56fn5+hn5+boZ+cnp+hoJ6gn5+hn5+cnqCenp+enp6fn5+fn6CdnqCeoZ2enJ2cmJ2fnaCdnJ+dnp6bn5+enKKgnJ6fnZ6em52en5yhoZ+doaGdnZ+fnp+hnKGgnZ2fn6ChoJ2eoJ+emKKeopubnp+fnp6hoKCfnKCbnp6enp2en5+eop6doJ+en56foZ+enp2gnp+dn56gm5+hnqGhoKChn6Cfn6Cfn6GgoqGhoaGeoaKhoJ+in5+hoZ2bn6GeoJ+goJ+foZ6gn5+foZ+en56hoZ6eoZ6hnp6foJ+hoaGhoJ4=",
          "dtype": "i1"
         },
         "marker": {
          "color": "#19d3f3",
          "size": {
           "bdata": "Dg0KGBwMEQ0YABMODAcNGAcUFAYREAgHFgcMFggRABgAEgoIBxAKFxQUChgQDw0YBhgIChIWCgsOCwAIGAAQDRIYEgwRCwkIDRQUFhIWEQYUBAAYAAUNAA4TEQkLDBcHEAcLABQSDBMYGAkQABYYDA8IDxMJEAgNBw0YCwAUEBIMBxQIFBQQFBYAFAUUBwkMBwYQFAcACwwTDRUYBggUAA0TGAkVCQsSGBUMFxAVGBgADwgTChgYGAAAEhUTAAoJBQ0ODhIOCxQYFxgUBRMMEgcADAAUFgkYGAkWCxIRFRQOEhcAABgADA0WFhgABxIAFgkADBgLDhQWFgAWFxIXFBMYGAgRDxQQFRIOFRUNGAASERMUEBgXGAAWFBYYDBgWABYADg0UFBIYExAQFgAQABYaGgwUGAAPFg0YGBAYGBcSEQwYAA4YFwAADxgTGBgQFRgYFg0HABMMGBgAERgWCxAVEAASExIOCAcWGBgYDxQUGBgTABcYFRQUGA4YGBcQBQ0XFBgQERUNFhISFBgTFwsIExQUBggYBggSDBALEBgIABAGEBUSDAcXDRAAFwYEDRYHBQgAFhYABgkNBhcRDxIKCRINChURBwcIGAcSGBYAEwgJBxg=",
           "dtype": "i1"
          },
          "sizemode": "area",
          "sizeref": 0.07
         },
         "mode": "markers",
         "name": "TX",
         "showlegend": true,
         "subplot": "map",
         "type": "scattermap"
        },
        {
         "hovertemplate": "state=IL<br>-magnitude=%{marker.size}<br>latitude=%{lat}<br>longitude=%{lon}<extra></extra>",
         "lat": {
          "bdata": "KSkmKCkpKSoqKiopKikpKSoqKioqKSkoKSkqKSopKSYqKSklKikqKSgpKSkqKikpKSknKikmKSkpKSYpKSopKSYmKSkpKykmKikpJiYpKSkmJiYpJSYmKSkpKioqKSkpKikpKSoqKigpKSUqKiopKSglKikpKikqKCgoKSoqKiYpKSkpKCkqKSkqKCkqKCkqKikoKicpKSgpKScoKSkpKSkpKiopKSopKSolJSkmKSUnJygqKCkmKSkpKSkpKSkpKSkpKSkqJygpKioqKCkqKikmJygpKicoKSgpJiYmKiooJiYpKikpJicqKicmKikoKiopKiopKic=",
          "dtype": "i1"
         },
         "legendgroup": "IL",
         "lon": {
          "bdata": "qKmnp6ipqaioqampqKmpqaioqamoqKapqKmoqKmoqKipqamnqKmoqaeoqaioqamoqKmnqKmmqKipqaepqKioqaanqKmpqKinqamop6ipqamopqeop6aoqammqamoqamoqaipqKmpqamoqaioqKioqainqKioqamop6inpqmoqaenqamopqmoqamppqmoqKinqKilpqeoqaepqKenqaioqaemqaipqaioqamoqKmoqKeoqKaop6moqampqampqampqampqamppqeop6eppqmpqaioqKWpqKeoqaippqeop6iop6aoqKanqKioqaaop6eop6ipqaipqKk=",
          "dtype": "i1"
         },
         "marker": {
          "color": "#FF6692",
          "size": {
           "bdata": "DAANGAwACBAUCgAMGBMLGBMPEAAVFgcYCAcUGAcPGBYLDQsMABUWCxAYFgkRGAcVDwgJAAcLFAAMEhQTEwgAFBAQCgkUGA4YFBgYABYYBwYFFBYHDAgSCxAKGBYSFgkRFg8HDgAYBwAAFhEJDBcHCQAADgYHGBQJCgAUGAAUGBQSEAcQEAcHCAUYFxgSEhAWChENBQgGBgcXCw0NDhQHBxQKAAAPFAkHCBgYCBQKDQkKCAoJBw0KCw4JEBIHGBMVCwcWExQGCxgADg0ADRgYFQwNDhUUFBQIABEUDRQHDRISFgcUBRMUEhIXGAwAExAAEhMJBRQMCBI=",
           "dtype": "i1"
          },
          "sizemode": "area",
          "sizeref": 0.07
         },
         "mode": "markers",
         "name": "IL",
         "showlegend": true,
         "subplot": "map",
         "type": "scattermap"
        },
        {
         "hovertemplate": "state=MA<br>-magnitude=%{marker.size}<br>latitude=%{lat}<br>longitude=%{lon}<extra></extra>",
         "lat": {
          "bdata": "KioqKioqKioqKiopKiopKioqKioqKSkqKioqKioqKikqKioqKSkqKioqKiopKioqKioqKiopKikqKSkqKioqKioqKikqKiopKSoqKioqKioqKSopKioqKiopKSopKioqKioqKioqKioqKioqKioqKioqKioqKioqKSoqKioqKioqKioqKioqKioqKioqKioqKioqKioqKioqKioqKioqKioqKSoqKioqKioqKikqKioqKioqKioqKioqKiopKioqKioqKioqKioqKioqKioqKioqKioqKioqKioqKioqKioqKioqKioqKioqKioqKSoqKikpKioqKioqKioqKioqKioqKioqKioqKioqKioqKioqKioqKioqKioqKioqKikqKioqKg==",
          "dtype": "i1"
         },
         "legendgroup": "MA",
         "lon": {
          "bdata": "uLm3ubm4urm4urm6uLm5urm3urm5urq4ubi3ubm4urq4ubi6urq5ubm4ubm5ubq5uLm3ubm6urq5urm5ubm6ubm5ubq5ubm6ubm5ubq6urm6ubm5urm5ubm6uri6ubm5urq5uLm5ubq5ubm5ubi6ubm5ubm5ubq6ubm6ubm5ubm5ubq6ubm5ubm5ubm5ubm5ubm5t7i5ubq5uLq5ubm5ubq5urm5ubm5ubm5uLm5ubm5ubq5ubm5ubq4ubm5ubm5uLq5urm5urm5ubm5ubm4ubm5urm5ubm5ubm5ubi5ubm5uLq4ubm5ubm5ubm5urm5ubm5ubm4ubm5ubm6ubi5ubm6ubm5ubi5ubi6ubm5uLi5ubm5ubq5ubm5ubi5ubq5ubm5uQ==",
          "dtype": "i1"
         },
         "marker": {
          "color": "#B6E880",
          "size": {
           "bdata": "GxkFEAcLEAAVGA4KFBYGBxUODBAWEREYBQ0HEg4UGBEXFhYYFQgACg0ODRIYFRgNAAAJERQJBwAPGAUSFRAHBwkIBxIQDQwGBhMLFxYKGAcUBQgMBRAWDQgJEBAYGBUXEwAABBEREwAAFBQPFA0YDwsOFg4LCQsLChYQABANEgAAEgwXBgkSCgcNFgAFGBQIDQcQGBQWABIRDAkKEA0UEgAAEhgSCwUYABEYAAYHERAAFQAACAUUERQAExcLABANERIUCAAAAA0LBQ0AFhMKAA0RBRQQFQ8ICxYYEhgSDQAWCRgXDw0VAA0UGAwAChMHDQ4KCgYSGBgNDBYWDQAAChEWAA0PAAoNEgkWFgkMDgAFChgUBxMOFAkLEA0YBw0KABYNCw==",
           "dtype": "i1"
          },
          "sizemode": "area",
          "sizeref": 0.07
         },
         "mode": "markers",
         "name": "MA",
         "showlegend": true,
         "subplot": "map",
         "type": "scattermap"
        },
        {
         "hovertemplate": "state=SD<br>-magnitude=%{marker.size}<br>latitude=%{lat}<br>longitude=%{lon}<extra></extra>",
         "lat": {
          "bdata": "KywrKywrKysrKyg=",
          "dtype": "i1"
         },
         "legendgroup": "SD",
         "lon": {
          "bdata": "mZmZoKCgoJmgoLA=",
          "dtype": "i1"
         },
         "marker": {
          "color": "#FF97FF",
          "size": {
           "bdata": "BAAOAA8JAAsNBQ8=",
           "dtype": "i1"
          },
          "sizemode": "area",
          "sizeref": 0.07
         },
         "mode": "markers",
         "name": "SD",
         "showlegend": true,
         "subplot": "map",
         "type": "scattermap"
        },
        {
         "hovertemplate": "state=OK<br>-magnitude=%{marker.size}<br>latitude=%{lat}<br>longitude=%{lon}<extra></extra>",
         "lat": {
          "bdata": "IyQkJCQjJCMjIyIjIyMjIyMkJCMkJCMiIyQjIiIjIyMjJCMjJCQkIyQjJCQjJCQjIyMjJCMiIyIiIyMjIyMkIyMjIw==",
          "dtype": "i1"
         },
         "legendgroup": "OK",
         "lon": {
          "bdata": "n5+hoaGfoZ+fn5+fn6Gfn5+foZ+hoZ+fn5+fn56fn5+fn6Cfn6Ggn6GfoZ+hn5+gn6GgoJ+en5+en5+foZ+fn5+hnw==",
          "dtype": "i1"
         },
         "marker": {
          "color": "#FECB52",
          "size": {
           "bdata": "EhYABxIFFRYUCggIEA0MFAAOFBIYBgUOEBIUDhQHDRIMGAcAEhAKCwkGEgUAAAwMDBgAEw8HABIPGBIHFAUNCgsICA==",
           "dtype": "i1"
          },
          "sizemode": "area",
          "sizeref": 0.07
         },
         "mode": "markers",
         "name": "OK",
         "showlegend": true,
         "subplot": "map",
         "type": "scattermap"
        },
        {
         "hovertemplate": "state=HI<br>-magnitude=%{marker.size}<br>latitude=%{lat}<br>longitude=%{lon}<extra></extra>",
         "lat": {
          "bdata": "ExMWFBQVFRUVFRUVFRMVFRUVFRYVFRQ=",
          "dtype": "i1"
         },
         "legendgroup": "HI",
         "lon": {
          "bdata": "ZP9m/2H/ZP9k/2P/Y/9j/2P/Yv9j/2L/Yv9k/2L/Yf9j/2P/Y/9h/2P/Yv9k/w==",
          "dtype": "i2"
         },
         "marker": {
          "color": "#636efa",
          "size": {
           "bdata": "ABAHCgATAAYXCw8KDBQUCBYNEw0IBhU=",
           "dtype": "i1"
          },
          "sizemode": "area",
          "sizeref": 0.07
         },
         "mode": "markers",
         "name": "HI",
         "showlegend": true,
         "subplot": "map",
         "type": "scattermap"
        },
        {
         "hovertemplate": "state=ME<br>-magnitude=%{marker.size}<br>latitude=%{lat}<br>longitude=%{lon}<extra></extra>",
         "lat": {
          "bdata": "LCsrLSwrKysrKysrKywrLCssLCwsKyssLSwsLCsrLCssLCwsKy4rKyssLCwrLisrKywrKywsKysrLCwsLCsrKy0rLCwsKywrLCwsLCsrKyssKywrLCwsLCsrLCwrLCsrKywsKysrLCwsKyssLCsrLCsrLCwrLCwsLCwsLC4sLCssLCwsLC0sLCwrLisrLCs=",
          "dtype": "i1"
         },
         "legendgroup": "ME",
         "lon": {
          "bdata": "u7q6vby6urq6urq6urq6vLq6u7q6uru8vLu8urq6u7q6vLy8ur26u7u8uru6vbq7urq6ury6urq6vLu8u7u6uru6ury7u7u6ury7urq6urq6uru7u7y6vLq6u7q6u7q6uru6urq6u7u6urq7urq6urq6u7u6vLu6vLy6u7y7u7q8vLu6u7q8u7y7vLq6vLo=",
          "dtype": "i1"
         },
         "marker": {
          "color": "#EF553B",
          "size": {
           "bdata": "AAUYEBcYEREQGBQUExgQEgAQBQ0ICAYEDBgGEBQWCRQABhYYABcKDwYUEBgTDAAECxYADQ8WGBgPEg0YDwgWFRgSFgAMEAcNFgsNCxYYEQcFBRgUFgsUFBYRABAADBESFhEPDw4SEgoHDQ0QDRIUAAAQEgAWAAALFw0WExIWAAwWFhESABUWGBAFExIJAAA=",
           "dtype": "i1"
          },
          "sizemode": "area",
          "sizeref": 0.07
         },
         "mode": "markers",
         "name": "ME",
         "showlegend": true,
         "subplot": "map",
         "type": "scattermap"
        },
        {
         "hovertemplate": "state=MD<br>-magnitude=%{marker.size}<br>latitude=%{lat}<br>longitude=%{lon}<extra></extra>",
         "lat": {
          "bdata": "JicnJyYnJycnJicnJycnJyYmJycnJCcnJycnJycnJycnJycnJycnJyYnJyYnJycnJyYnJycnJyYmJicnJicnJycnJycnJyYnJyYnJycnJycnJycnJiYnJycmJicnJyYmJycnJyYnJycnJycnJyYnJycnJycnJycnJycnJycnJycnJyYnJycnJycnJycnJyYnJycnJycnJycnJycnJycnJycnJycnJycnJycnJyc=",
          "dtype": "i1"
         },
         "legendgroup": "MD",
         "lon": {
          "bdata": "tbS0tLSztLS0tLSztLSzs7Wzs7O0s7OztLSzs7S0s7S0s7SztLOytLSys7S0s7SztbS0tbS0tLS0tLSztLS0s7S0tLS0tLSztLSzs7O0s7Ozs7OztLS0sbO0tLOztLS0s7S0tLW0tLS0s7SztLS1s7O0tLOztLS0s7O0tLOztLS0tLOztLS0s7S0tLS0tLS0tLS0tbOztLSzsrKztLOztLO0tLS0tLS0s7S0tLQ=",
          "dtype": "i1"
         },
         "marker": {
          "color": "#00cc96",
          "size": {
           "bdata": "EBASDhgFEgAYDBAUGBIIFQ0QBRQTEhcJGAkSFBMSDRUAGAAQFRYYExcSFQAQGAcFDAAYEAAYDQYFCQcWDQAYBxIAEAUIBAYTBxIYCgoAERgAERQMFBUHABAGGBgIDQgMDQ4JDgAGDAoLDRAHAA4HFxAVGBAWEQ0AAAQJDAcSDgALGAcLDg4HBhIVABMVFwgNCxgGCwkFFAsNExIQBxIFABYUCBUABgYJBw0XChQ=",
           "dtype": "i1"
          },
          "sizemode": "area",
          "sizeref": 0.07
         },
         "mode": "markers",
         "name": "MD",
         "showlegend": true,
         "subplot": "map",
         "type": "scattermap"
        },
        {
         "hovertemplate": "state=MI<br>-magnitude=%{marker.size}<br>latitude=%{lat}<br>longitude=%{lon}<extra></extra>",
         "lat": {
          "bdata": "LCsqKiwqKioqKyoqKSsqKioqKikqKiwqKyoqKiwqKioqKioqKysqKyorKioqKSorKiouKioqKikqKiotLCoqLCopKisqKisqKioqKioqKiorKSsqKiorKisqKioqKSoqKissKysrKyoqKioqKywqKiouKi4tKiotKikqLCoqLCsqKisqKioqKysqKyoqKyosKyopKioqKioqKSoqKi4uLi4qKioqKioqKispKioqKisqKioqKiorKiwsKykqKyoqKioqKioqKyoqKyorKioqKioqKyo=",
          "dtype": "i1"
         },
         "legendgroup": "MI",
         "lon": {
          "bdata": "q6yqq6utrq2rq6qqrKuqrK2tra2rqqyurqytrayuq62tq62traurqq2sqq2sraqqq6ysqqqtrKyrq62rrK6sqq2tra6rrqutra2traurrautrayrq62trauqq62srausq62qrKytra2qrausrautq62sraqpqq2sq6qqq66tq6qsqqqsra2tqqquq62trKytq6usra2trK6sra2traupqaitrq2ura2traysra2tra2trq2tra6rrqurrayura2uq6yrrKysqqytq6yqrqyuq6urqqs=",
          "dtype": "i1"
         },
         "marker": {
          "color": "#ab63fa",
          "size": {
           "bdata": "EAUMCwscCQcADQUSBxgLBRINFRgWCAkAEAAAExgAFBQSBwcUFhUWEBgUABMHABQYDxEQEQQICBgUExgYCQcLDw0QGBYLExcXExgXGBQAExAYFhILGAgPBRcIBRMPDRYJEBEYCwgWGA0YABgUBgYUFA0TBgYUDAgHBxgMEQAKBgYUCQAODxQQFBIMCgsWGAYLFA0JBw0FBREYCQYHExgYEhQLDA0XCQAAEQAABQgSGBEHAAwYFhQUBxcFBggHBwkSBQsUFAoUGBQADhQVCBAMDxgKFAU=",
           "dtype": "i1"
          },
          "sizemode": "area",
          "sizeref": 0.07
         },
         "mode": "markers",
         "name": "MI",
         "showlegend": true,
         "subplot": "map",
         "type": "scattermap"
        },
        {
         "hovertemplate": "state=FL<br>-magnitude=%{marker.size}<br>latitude=%{lat}<br>longitude=%{lon}<extra></extra>",
         "lat": {
          "bdata": "GhwaGhweHRseHhocHBwbHB4dGxkdHBocGh4dHhsdHhwcHB0dHRwcHRwbHhwbHR0cHR0cHB0bHhwcHBwcHBweHhwdHB4cHhwcHhwcHB0cHBwdHR0dHRseHB4bHhoaGhkcHBocGhoaHR4dHh0cHR0dHhocHBwbHR4bHhscHRwaHB0eGBodHBwaGx4eHhseHhoZHBscGx4dHBwcHBoeGxwaGhwbHBodGxseHB0cGhoaGRoZHBocGh4aHB0eGhsaGhwaHBwaHh4eHR4eHh4eGhwaHB0YHBsaHhgdGx4dHBwbGh4cHBwcHR4dGhwcHBsbHBkZGg==",
          "dtype": "i1"
         },
         "legendgroup": "FL",
         "lon": {
          "bdata": "sLCwsK+uq66vqbCvrq+ur6+vrrCvr6+vsKyvqa6vr66ur6+vrq6vrq+uqq+urq+vrq+vr66ur66vrq6vrq6vqq+ur6uvq7Cwr66ur6+vr66ur66vrq6vrqmuq6+vr6+wsK6ur7Cwrq+ur66vr6+vr7Cwrq6vr6+vr7Cwr66wr66rr6+usLCwsK+rrK6qr7Cwr66wrq+vr7Cwr7Curq+wr6+ur7Cvrq6vr66wrq+vsLCwrq+wsKuwr6+qr66wsLCur6+wrKmqrq6prKqur7CwsK+vrq6wqq+urq+urrCurqywr6+urq+vsK+vrq6ur7CwsA==",
          "dtype": "i1"
         },
         "marker": {
          "color": "#FFA15A",
          "size": {
           "bdata": "HAALDQAcBwkOCwQTFRQQEgAXDAURDQAFBwkGGAAFBhgWFAcVChQWABQKCxMYFhMAGBQKFAwUEBgXDAkHEBEYDBgAEgoMBhUODhUUFgcNEBMSFQAWEQsHDQYSCBYYFg0NDQ8HFwUMCAwAFAwVAAgIDgsSFBQMDwAMEgAQGBQYABQAFAYJChAIEg0IBwcMDQANEBUMABgRDgwOFhIMCgwABwgUABQKBRYHBAQFDBgGChQUCA8KAAYWABIPAAgTFAkMDQcSABgWFggEFxgHEAwMCBISEQ0MBhIVDRgUCA8LDg0NAAYNBA4WDQ8HEgALBRgHBw==",
           "dtype": "i1"
          },
          "sizemode": "area",
          "sizeref": 0.07
         },
         "mode": "markers",
         "name": "FL",
         "showlegend": true,
         "subplot": "map",
         "type": "scattermap"
        },
        {
         "hovertemplate": "state=MO<br>-magnitude=%{marker.size}<br>latitude=%{lat}<br>longitude=%{lon}<extra></extra>",
         "lat": {
          "bdata": "JSYmJSYlJSYmKCYmJygoJiYnJyYmJyYmJyYmJCYmJCYlJSUmJiYmJyUmJyUmJCYoJiUmJicnJyYkJiYnJiYlJCUlJSYmKCgoJSYmJiYmJiYmJicmJiYnKCYmJiYmJiYmJyYmJiYmJiYmKA==",
          "dtype": "i1"
         },
         "legendgroup": "MO",
         "lon": {
          "bdata": "pqSjo6Sno6KmoaKioqKipqSooqKioqKloqamp6Kmpqano6alpqampaamoqWipqKipqOlpqOipKajpqaioqSjoqOmpKamoqSipKampqampqampqKipqKioqamoqampqampaampqampqalog==",
          "dtype": "i1"
         },
         "marker": {
          "color": "#19d3f3",
          "size": {
           "bdata": "Cg0bAA0GCxMUAAcXFAoUGBYNCREOFREMABIFExYRGBgNFwoGBhgHFAsYCwcUBwoKCgsQEhIQBRUMFBQYABUQCQgKChgYBhAIABUSCQATEgYQCwUWFhQLCBMAEBQVDQYJGAwFFBAUBw4FCQ==",
           "dtype": "i1"
          },
          "sizemode": "area",
          "sizeref": 0.07
         },
         "mode": "markers",
         "name": "MO",
         "showlegend": true,
         "subplot": "map",
         "type": "scattermap"
        },
        {
         "hovertemplate": "state=TN<br>-magnitude=%{marker.size}<br>latitude=%{lat}<br>longitude=%{lon}<extra></extra>",
         "lat": {
          "bdata": "IyMkIyQkIyMjJCQkIyQkJCQkJCQjIyMkJCQkIyQjIyMkJCMkJCQjJCQjJCQkIyMjIyQjIyQjIyMjIyQkIyQkJCMjJCQkIyQjIyQjIyMjIyQkJCMkIyMjIyMkIyMjJCQjIyMjJCMjIyMjJCQjIyMkIyQjIyQjJCQkJCMkJCMkIyQjJCQjIyMkIyQkJCMkIyMjJCMkIyQjJCMkJCMjJCQjIyMkJCQjIyMkIyMjIyQ=",
          "dtype": "i1"
         },
         "legendgroup": "TN",
         "lon": {
          "bdata": "rKitrK6vqqqnqKunrKipqaqoqqeqp6iqqqqqp6qqqayoqaeqqqqqqqmqqqmnp6qnp62nrK6spqeqrKiqq6qqqqmnqqqurK2rraqsrK2sq6yurq2qrKmnq6eqqqetqqqsrK2rq62trKurrKqqqqytrausrKqsrquur62vrq2rrKqsrK2rp6qrqqquraqoq6qnq6uqrKqqqqurqqesqqqsrKmqp66rq6qpqqqrp6k=",
          "dtype": "i1"
         },
         "marker": {
          "color": "#FF6692",
          "size": {
           "bdata": "CxAVERMNBRgAFgQUBwAREhgOFBISGBAPDRQVFhIYEAwVFg0MEg8NFBIRBg0EFAAUGBgKCRQACBQUGAcNERQYGAoAExMWEQkWFgcTDQASCBQUGBcMFBQUABYWEhYUCA0OFhgAFA0UDQUWFgsYAAYUFgAKFQUMDwANABgJDBMMCQsIDQAJCxISABAYCwUWFg8AGBYODBgVEggWEAkOCQkYABUSFQsEFgQRBQoLBw0=",
           "dtype": "i1"
          },
          "sizemode": "area",
          "sizeref": 0.07
         },
         "mode": "markers",
         "name": "TN",
         "showlegend": true,
         "subplot": "map",
         "type": "scattermap"
        },
        {
         "hovertemplate": "state=SC<br>-magnitude=%{marker.size}<br>latitude=%{lat}<br>longitude=%{lon}<extra></extra>",
         "lat": {
          "bdata": "IiEgIiIiIiEhISAiIiIhIiIiIiIiICAhISIjISIiIiMiIiIiIiAiIiIiISMhIiIiIiMiISIhIiMhIiIiIiAgISEiIiIiISIhIiMhISIiISIhIiEhIiIiIiIhIw==",
          "dtype": "i1"
         },
         "legendgroup": "SC",
         "lon": {
          "bdata": "rq+wsa6urrCwsbGwsLCyrrCusLCwsLCxr6+vsrGusK+urq6usLGwsK6usK6wrq6urq+vsLCwr7CvsK6vrrCwsLKvr66vsa6vrq+vsa+vr6+yr7Gxr66usK+wsA==",
          "dtype": "i1"
         },
         "marker": {
          "color": "#B6E880",
          "size": {
           "bdata": "ExoAAAwAEQAAABQAEwwAAAASFgwABQcQFgAWDBEHGBMQCRQJGAcSEhIXCQAUBRYYABYYChIUCBIAFAwYABATABMLAAUNCwsVDBASCRQQFA4MDBIUDQ0VAAsEBQ==",
           "dtype": "i1"
          },
          "sizemode": "area",
          "sizeref": 0.07
         },
         "mode": "markers",
         "name": "SC",
         "showlegend": true,
         "subplot": "map",
         "type": "scattermap"
        },
        {
         "hovertemplate": "state=LA<br>-magnitude=%{marker.size}<br>latitude=%{lat}<br>longitude=%{lon}<extra></extra>",
         "lat": {
          "bdata": "HiAeHx4gHR4eHh4eHh4fIB4gICAgIB4eHx4eHg==",
          "dtype": "i1"
         },
         "legendgroup": "LA",
         "lon": {
          "bdata": "paWmo6alpqempaSlpaajpKWko6Sko6SkpKWmpw==",
          "dtype": "i1"
         },
         "marker": {
          "color": "#FF97FF",
          "size": {
           "bdata": "FxsAEAgNBxUEEQkNDwgOFhQYEAoAFwcJDRMABg==",
           "dtype": "i1"
          },
          "sizemode": "area",
          "sizeref": 0.07
         },
         "mode": "markers",
         "name": "LA",
         "showlegend": true,
         "subplot": "map",
         "type": "scattermap"
        },
        {
         "hovertemplate": "state=AR<br>-magnitude=%{marker.size}<br>latitude=%{lat}<br>longitude=%{lon}<extra></extra>",
         "lat": {
          "bdata": "ISQjIyQkJCIjIyMkISMkIiQkIiQhIiIjIyMkIw==",
          "dtype": "i1"
         },
         "legendgroup": "AR",
         "lon": {
          "bdata": "paWipKSioqSlpaSmo6OkpKSio6ako6OkpKaipQ==",
          "dtype": "i1"
         },
         "marker": {
          "color": "#FECB52",
          "size": {
           "bdata": "FRUVCBgAGBgNAAcXFAwFGBINFRESGBQVAA0MBg==",
           "dtype": "i1"
          },
          "sizemode": "area",
          "sizeref": 0.07
         },
         "mode": "markers",
         "name": "AR",
         "showlegend": true,
         "subplot": "map",
         "type": "scattermap"
        },
        {
         "hovertemplate": "state=NY<br>-magnitude=%{marker.size}<br>latitude=%{lat}<br>longitude=%{lon}<extra></extra>",
         "lat": {
          "bdata": "KCoqKyoqKCsqKyoqKiorKysqKSsqKSorKCoqKykqKykrKSgpKCooKykqKCsoKCooKCgoKCspKSsoKSgoKSkoKCgoKisqKCgpKSkrKSgoKSgqKiooKigpKCkqKCkqKSkrKSorKikpKygoKigoKigpKCwqKisqLCsqKyoqKSkqKSoqKioqKSsrKyooKCgoKigpKCgqKioqKikqKSgqKCgoKSwpKSgqKikpKSsqKCgoKisrKSgpKCkqKCgpKSsqLCgrKyoqKiwqKiorKyopKikrKisrKSsqLCkpKysoKikpKCgsKCsoKSgoKSkpKSosKSgoKCkrKigrKSgoKCgoKCgqKiwpKigoKSspKCgsKioqKCspKCgoKCkpKCsrKykpKCgoKCwrKCgoKywoKSwsKCgoKCssKSooKygpKigrKSgqKCkrKigoLCkpKCkpKCgoKCgpKCosKygrKSkrKCwoKCgoKCkoKCkpKCkoKCkpKCgrKCgoKSgoKCgoKSgpKCooKCksKCopKCkoLCgsKSooKCgoKykpKikqKigoKCgoLCgsKigoKCwpKCwoKCgoKCgoKCso",
          "dtype": "i1"
         },
         "legendgroup": "NY",
         "lon": {
          "bdata": "t7W3s7e3t7eys7O0srOzs7Oyt7K0trO3t7G3s7e0tbezt7e2t7e3tLa1t7O2t7e4tbe3uLO2t7O3t7e3uLe4tre3s7O3t7a2ube0t7a3traxtrG3sbe2t7a0t7e3treyt7ezt7a3s7a3sre4t7e3t7S3tLS3tra0tLS1t7a2t7W3tbOytrW0tLO3t7e2t7e3t7extbW2tLe2tre3t7e3t7W3t7ezsra2t7O0t7a3tLS0tre3t7a0t7a3t7W1t7exsrO3t7W0tLeys7S3sra2srKztrO0tba3s7e3tLe2t7e2t7e3tre4t7e3tre1t7e3t7e2tbe0tre3t7e3t7e3t7e3t7e3tra4t7e1sre2t7W2tre3t7e2t7e1tba2t7e3t7a2t7e3tba3trW3t7e3t7W3t7a3tbe3t7e3tre3t7e1t7e3t7e3t7e3t7e3t7e2t7e3t7a0t7e3t7e3t7a3t7e3t7i3t7e3t7e3t7e3t7e3t7e3t7e3t7e3t7e3t7a3tre2t7e3t7e3t7W2t7a3tra3t7e3t7e3t7e3tre3t7e3t7e3t7a4t7a3t7e3t7G3",
          "dtype": "i1"
         },
         "marker": {
          "color": "#636efa",
          "size": {
           "bdata": "GwwAABkFEhUUCg4HEhUIFBQVDQcHChQYABQGCwUNAAgGDhYGBQcSEhQKABgUCRIYAAAAEAsAFhgPFQkWBgcWFA8WGA0YFgcUABULFBEYBgUVGBAYFxMWGBUVFQgLBhMREAUXBRQSBRgUFBIFCBANEw0JFhYKFhgLEAAXFA4YCRgUAAwXDRANFBUWBxYHEAAWFhgTDRYGDxQXGA4ADAwYDRcADhEGEBUGFAAUDw0RDQ8WFBARChgNBgcNAAYIBwsUEhEXGBQXCA0AGBgPAAwAABgYCRcIGAAUCwANFQgKFRYWGBQWFQ8VFRMADRIPFBcAGAATDgYWEhQJDRYFGA4UDQ0UABISCwoQAAgSGBYUCA8SBRcYFBcACg0AABMJBhQOGBQTDA4HFRcMEBYUEwAFGBQLDhgHBRgHChIOFhcMFg0HFRgTGBMICRYABxIPCRYYBxcNFAAWGAATBRIWAAgJEQsTCgcYABgVCA0QFA8LABMQFBcWGAkGFA0JEBcHDQ0QGBYYFgAQABQAEw4WCRQREAgVGBgQFRILFQAUExQYBgwVDQsYFhMSGBIUABYWDQAO",
           "dtype": "i1"
          },
          "sizemode": "area",
          "sizeref": 0.07
         },
         "mode": "markers",
         "name": "NY",
         "showlegend": true,
         "subplot": "map",
         "type": "scattermap"
        },
        {
         "hovertemplate": "state=WI<br>-magnitude=%{marker.size}<br>latitude=%{lat}<br>longitude=%{lon}<extra></extra>",
         "lat": {
          "bdata": "KywtLSsqKissKisqKy4rKywsKy0rKysqKioqKisrLCsqKysrKywrKywrKisrLSsrKiorKyoqKysrKyoqKiorKiosKywsLCoqKi0sLCwrLCwsKywsKysqKisrKy0tKyoqKisrKioqLCwqKysrKysuKiwqLCosLCwtLCwrKywqKiwtLCstKysrKyssLCwsKysrKysrKyssLCsrKyss",
          "dtype": "i1"
         },
         "legendgroup": "WI",
         "lon": {
          "bdata": "qaippKempammqainp6Wop6iop6eoqKinqaipqaiop6mpqKioqKioqaipqKepp6ioqaepqKioqKmoqamoqaioqKmmqaipqKmoqKipqKeoqKioqaioqamoqKipqaioqKeop6ipqainqKSoqaepqamlqKeoqKmopailpaioqaWoqaikpKioqKeop6WmqKSnp6enqKeopqeop6mnqKin",
          "dtype": "i1"
         },
         "marker": {
          "color": "#EF553B",
          "size": {
           "bdata": "HBAcFAAQGRsSFQwNDQ4ADQgHBwYAEAUOFAoPGBQSABYAFBgMFgAAFgUYABIUCwwNGBgYCRgWEBgGBQsSGBgAFBIABQUTGBcYGBAYCxgAFw4NDAsQFRILExYTEhUEBgYMCQAAABQAEQAGBwAYFBgADwcGFhIUDQAUFQcADRENCQAHDhQWEhYTAAgUEQASBxANEAASFgoYFBQMAA4H",
           "dtype": "i1"
          },
          "sizemode": "area",
          "sizeref": 0.07
         },
         "mode": "markers",
         "name": "WI",
         "showlegend": true,
         "subplot": "map",
         "type": "scattermap"
        },
        {
         "hovertemplate": "state=GA<br>-magnitude=%{marker.size}<br>latitude=%{lat}<br>longitude=%{lon}<extra></extra>",
         "lat": {
          "bdata": "IiIhIiIiISIhISIhISIhISIhISEiIiEiISEiISIgIiEhISEhHiEhICIhIh8eHyEiIR8hISIfHx4iHyIiIiIiIR8hIiEiIiIiIiIiISEhIiIgIiEiIiEgIiIgISIhISEhIiIhIiIhICIiIiIhIiIiIiIhISEgISIhICAiIiIiISEiISEiIiEiIiEiISIfHyIhISIhHyEhICIiISEhIiEhIR8hISEiICEhIiEfHx8fICAhISEfIR8hICIiISEhIiE=",
          "dtype": "i1"
         },
         "legendgroup": "GA",
         "lon": {
          "bdata": "q62trKysrKysrKusrK2srKysrKysrKysrKytrK2vrKyrrKysrK2traysrK2trKurrqyrrKysr62srqusq6ysrK6srKyrrKysra2srK2srKytrKysraysrK2vrK2rrKysrKysrKusr6ysq6ysrKysrKysrKysrK2sr62srKysrKytrKysrKysrK2srayurq2tra2tra2urKysrKysrKytrK2srKysrKysraytr6ytraysrKyvrK2srK2srq2sra4=",
          "dtype": "i1"
         },
         "marker": {
          "color": "#00cc96",
          "size": {
           "bdata": "ERsTChAEABQOGBAYGBEFDRgAEhYVDxgUFgsRABgIEAsGCxUWFBQNBwwGBgwLGAkIFAwIFAQVChMUBwcKFAkUEAAUAAsGBxgJFhMYGA0OCw4KEhgAGA0AFhYJDRgLDAAIDQcREwwUBxQAEgkGCxgADxQAFgwWBxgTCQ0UDQ0OBxgPCAAAFQsSBwsICQwAABANBhYTERYQEQcABwkJBxAUFREHCg8UChQXCwwLEA8OEg0JCQ0NCAAWGBQNGBQSBQ4=",
           "dtype": "i1"
          },
          "sizemode": "area",
          "sizeref": 0.07
         },
         "mode": "markers",
         "name": "GA",
         "showlegend": true,
         "subplot": "map",
         "type": "scattermap"
        },
        {
         "hovertemplate": "state=AL<br>-magnitude=%{marker.size}<br>latitude=%{lat}<br>longitude=%{lon}<extra></extra>",
         "lat": {
          "bdata": "IiAfHiAhISEhIiIhIh8gICAiIiEiICIgIiEhICIiISEiIiIhIiEiHiEhHyIhIR4hISEhIiIiIB8iISAhIiIiISAhHiIiIiEhIiEiIiEgIiEgISIhISEhIiIiICEhICIgIiIiISIfICIeHyEhHyIhISIiHyAeIB4fHh8eICAhISIhIA==",
          "dtype": "i1"
         },
         "legendgroup": "AL",
         "lon": {
          "bdata": "q6urqaqqq6qqq6qqqqmrqqqrqqqqqqqrqaqqqqmqqamqqqqpqampqaqqq6qrqqipqamrqqqqqquqqaqpqqqqqaqpqKuqqampqKmqqqqqqaqrq6uqqaqqqqqqqqqqqqqqqqqqqqqqq6qoq6mpq6qqqaqqqquoqqmrqKqpqqupqqqqqw==",
          "dtype": "i1"
         },
         "marker": {
          "color": "#ab63fa",
          "size": {
           "bdata": "EAgFDREAGAAYGAsLGBQRCwcRAAANGAYYABYAEgcIFA0YDwgUGAgHCQwEEBQAFBgWGAoMAAQUCRQYDBQUFgkKBwwKGBgEDRYHFBAUGBgUFAYMCAoYAAoAEBIPDhAHDRcUERgREhERFA4AFgwUGBYAFAsOEQoABQ4YFRQYFBgUDggHFg==",
           "dtype": "i1"
          },
          "sizemode": "area",
          "sizeref": 0.07
         },
         "mode": "markers",
         "name": "AL",
         "showlegend": true,
         "subplot": "map",
         "type": "scattermap"
        },
        {
         "hovertemplate": "state=CO<br>-magnitude=%{marker.size}<br>latitude=%{lat}<br>longitude=%{lon}<extra></extra>",
         "lat": {
          "bdata": "JycnJiclJycnKCcnJycnKCcmJycnKCYnJyYoJycnJycnJicoJycnJycnJicnKCYmJyYnKCcnJycnJycnJycnKCcoJiclLycnKCgnJycoJyYnJygmHSY=",
          "dtype": "i1"
         },
         "legendgroup": "CO",
         "lon": {
          "bdata": "lZiYmJeWl5iWl5eYl5iXmJeYl5eXl5iXl5eXl5eXl5iXmJeXlpeYlpiXl5iYmJaXmJiVl5eYl5eXl5iVmJiXl5iXmJiVhpiXl5iYlJiXl5WXlpeYr5U=",
          "dtype": "i1"
         },
         "marker": {
          "color": "#FFA15A",
          "size": {
           "bdata": "FAUFABIYBwoFDgUMBxAUFQ4IBQYXBA4HBgUTCQgIBQcREAgAEQkQDgYHCxQVCwUYDQANBwkHDwoOGAcQEg4HEAYJDQgJAAQJBhMFDQcMEgYWCwQKFBc=",
           "dtype": "i1"
          },
          "sizemode": "area",
          "sizeref": 0.07
         },
         "mode": "markers",
         "name": "CO",
         "showlegend": true,
         "subplot": "map",
         "type": "scattermap"
        },
        {
         "hovertemplate": "state=NH<br>-magnitude=%{marker.size}<br>latitude=%{lat}<br>longitude=%{lon}<extra></extra>",
         "lat": {
          "bdata": "KiosKysrKysrKisqKyoqKioqKiorKyorKisqKysrKisrKisrKysrKioqKisrKiorKiwrLCorKyssLCoqKywrKyoqKiorKysrKioqKywqKisrKysrKisrKisrKyssKysqKisqKysrKyorKiorKyorKisqKysqKiorKisqKyoqKisqKyorKyorKissKisrKysrKyoqKyoqKiwrKysrKiwrKisqKisrKisrKysrKyorKyorKissKyoqKisrKysqKysqKysrLCsqKisqKisrKiwqKysrKysqKysrKis=",
          "dtype": "i1"
         },
         "legendgroup": "NH",
         "lon": {
          "bdata": "ubm5ubm5urq5urm5ubq5ubm5ubm4urm4urm4urm5ubm6uLm5uLm6ubm5ubm5urm5ubm5ubm5urm5uLm5ubm5ubm4urm5ubm5ubm5ubm5urm5ubm5ubm5ubm5urm5urq5ubi5ubi5uLm5ubm4ubm5ubq5ubq5ubm4ubi5ubm5ubm5ubm5ubm4uLm5ubq4ubm5uLm5ubm5ubm6uLi5ubm4ubq5uLm5ubm5ubm6ubm5ubi5urm5ubm5ubi5uLq5uLq5urm5ubm6ubm5ubq5ubm5ubm5ubm4ubq5urk=",
          "dtype": "i1"
         },
         "marker": {
          "color": "#19d3f3",
          "size": {
           "bdata": "AAwABQ4TDRYICRUJGAYIDgcWEhcNCxgWBRISBRAFCxgWABALDQ0NDQAQFQAQFBMQFgoYGA0AFgAWAAAAEgASCw0OGA4WDRYUFBMVABIJAA0NBQAIFg8QAAgNGBEYDBgSDRANDRYYEgkAFgkODQ0PFBgPBRARFhcNAA0KDg4SGBAAAAAHFAAACgoEDRIAFA4ODQAMEBAMDwAQGBgQDQ4NGA0YExIOFBgPCRILCw0XCxYRAAYMCxYYAAASEBUNDQASABULFhILGBgAEwkUCxgICRQAGAAQCw0LCwY=",
           "dtype": "i1"
          },
          "sizemode": "area",
          "sizeref": 0.07
         },
         "mode": "markers",
         "name": "NH",
         "showlegend": true,
         "subplot": "map",
         "type": "scattermap"
        },
        {
         "hovertemplate": "state=WA<br>-magnitude=%{marker.size}<br>latitude=%{lat}<br>longitude=%{lon}<extra></extra>",
         "lat": {
          "bdata": "Ly8vLy4vMC4vLy8tLS0uLi4vLS8vLy8vLzAvLzAwMDAvMC4vLzAtMC8vLy8vLy8wMDAuMC8vLzAuLy8vLi4wLzAwMDAvLy8vLy8vMDAwLy8vLzAuLy8vMC0uMC8wLy4vMDAuLzAvLy8vMC8vLy8vLi4vMDAuLzAwMDAuMC4wLy8wLy8wLi8vMC8wLy8wLy8vLzAvMC8vLy8vLy8wLy8wLzAwLy8vMDAvLy8vLzAvLy8vMC8vMC8vMC8wLi4vLy8vLy8wLy4vLzAuLS8uLy8uLi8vLzAvLy8vLy8vLzAvLy8vLy8vLy8vLy8wLy4wMC8vLS8vLTAvMC8uMC8vLi8vLy8uLy8=",
          "dtype": "i1"
         },
         "legendgroup": "WA",
         "lon": {
          "bdata": "hoaGhomGhoeGhoaGhoaGhouHhoSKhoaGhoaGhoaGhoaGhoaGhoaGhoaGhoaFhoaGhouJhoSGhoaEhYaGiYaGhoaEh4aIhoaGhoaFhoaGooiGhoWFhoaGhoaGhoaGh4eHhoaHhoeGhoaGhoiGhoaGiomGhoaEiIWFh4aKhoiLhoaFhoeFhoSGhYSJiIiGhIaHhYaEhoiGhYeGhoaGhoWGhoaGhoaHhoaGhoaGhoaGhoaEhoaGhYaGhIaGh4SGhoaGhoaIhoWGhoaLh4iGhouLhIaGhoaGioaGiIaGhoWGh4aGhoaGhouLhomGhoaGhoeGhoaGhoaGiYaLhoaGioaHhouJhoY=",
          "dtype": "i1"
         },
         "marker": {
          "color": "#FF6692",
          "size": {
           "bdata": "GRsQCwoMChcUCBARDgAIDgcSBxYSFREVDQgPFBgLFgkWGBgTDxgWDQsNFAsOCRQSCBUEDw8YEBcKBwwYCwkHDgwWEBgTEhMVEw0IGAAXCgAWFgAAFRQLERIGFAgADxgXBwgPABYSEA0SDwoHDRYTERYUFBgADBEJBQsSCBQYDRQWFQAJGBMNCxcQGBEWDxcSEBgNEhQAFg4IEhEYFgwMEhYYDAoYBwgACBITFBUHCBMYBwAFCBQVEBUSCBMAFAsKFhQOCA4NExARDRARBxEYEhQKDAkAGA8MDA0NDRYWFhgMFAwGDQYYDhARBxMGEBMIFhQRGBgNDhULEwAQABQVFgAHFAo=",
           "dtype": "i1"
          },
          "sizemode": "area",
          "sizeref": 0.07
         },
         "mode": "markers",
         "name": "WA",
         "showlegend": true,
         "subplot": "map",
         "type": "scattermap"
        },
        {
         "hovertemplate": "state=OH<br>-magnitude=%{marker.size}<br>latitude=%{lat}<br>longitude=%{lon}<extra></extra>",
         "lat": {
          "bdata": "KSgoJycpKCkpKCcoKCcpJycpJygoJykpKSgoKSgnKSgpKSkpKSknKSgoKSkpKScpKCknKSgmKScoKCgoJykpJyknKScpKSgnJyknJykpKSgpKCgoKCgnJykpKSkpKSknKSkpKSkoKSkpJycnJycnKCgnJykpJycpKSkpJyknKScnKScoJygnKScoJignKCcnKScnKScoJycnKCcnKCcoKCcnKCcnJycnKScmKCcnKScnKCgoJycnJygnJycnKCgpKCcoKScnJygnKCYoKCcoKCcoKCgnKCcoJygoKCgmJygnJycoJycnJycoJygoJyYnJycnJygnKCcmJicnKCcnKCkmJygnKCgnKCcnJygnJycoKCcpJygnJygoJygoJygnJycoJygoJycnJygnJycnJycnJycnKCcnJycnKCcoJycoKCcnJycoKCcoJygnKCkpJykoKSkoJycnJycnJycnJycpKScoJygpKSkpKSkoKCkpKSgpKSkpJygoKSkpKCcpKSknKSkpKSgoKCcoJycnKCkpJygpKCcnKCco",
          "dtype": "i1"
         },
         "legendgroup": "OH",
         "lon": {
          "bdata": "rq2srq6wr6+vr6ywr6ywrKytr66wsK2vr66vra+vrq2ssLCvra6sr6+ur6+vr66vrK+ssK6trK6ura2srK+trbCtrKytr62urK+trK6srqywrK2tsK2srK+vr62vrq+tr6+vrq+vrq+vrqysrKysrK6trK+vrKysr6+vrK2sr6ysr66vrq+srK2urq6ura+ssK6tr6yvr6ysra6sr66wr6ysrKyurqyvr6yur62tra2srq+vra2vrq6trqysr7Ctr6yvr6ysra2trK2trayvra+wrrCsrKytrK2wra+srK2urKywrqyvrKyvrq2vr66urK2trLCsrKysraysrq+sra2urK6sra+sra6trK+vrqyvraywrK6ura2trKytrqyurK6urK2vrKysrK2srKysrKyvrK6sr6+srKytr6ytr6ytrq6srK6vrKysrK6ur7Cvra+ur6+trKytrKysrKytrqytr62trKyvrK+vr7Cwr66vsK6tr6+vra6ur6+wrKyurq2tsLCvrbCuraytrK6ura+vrrCvr6ysra2v",
          "dtype": "i1"
         },
         "marker": {
          "color": "#B6E880",
          "size": {
           "bdata": "FQsFHA0WFAcWEAANDwcSGA0WDwoYFhATFBIYDw0GAA0SCxYJFBIHEgsUEBIYAAkMEBQHEQUSCwUHDAAPAAAUGAcYDAAYCQsJCBATFBgYFhANGBQWBxMUFBQMFBYMFQ0IFBQOGBQSFRIYBRIFBxcMBgUKFAcPEAwWCQ0KEgkODBgMBBIAFRYMABIYEgAWEhgUChcFEgwHFBYNFhEUDRIPEAoJEhQYABIUBBgODAAYDg4NEA0UCgsREwwXCBESFgAWGBMPCBgNERgYGA4UAA4HCwkSABQUBgwXEwcMAAAYFBIUBhQRGBgYExASBgcWDhYNFQgAEQAAEhMWBxEHFAAMAAkYFRQUFhYPCwASCg4UABAKAA0OFgsQDQ4OAAUWDg0QAAAJFBgSDBcUFAcJExASGBcYEREJBw0QFRINFxQWEgUUCw0AFgoSGAwTAA8YEgwOFxUSDA4ACwAUAAoNDQ0QFA0IBQwSBggWDgwLFhMTFxASAAoQFBYLDA0GEQsWBwwEBAALDQ0LCA0JDgUYCBIAFhYJFg8WBg4YCAsO",
           "dtype": "i1"
          },
          "sizemode": "area",
          "sizeref": 0.07
         },
         "mode": "markers",
         "name": "OH",
         "showlegend": true,
         "subplot": "map",
         "type": "scattermap"
        },
        {
         "hovertemplate": "state=AZ<br>-magnitude=%{marker.size}<br>latitude=%{lat}<br>longitude=%{lon}<extra></extra>",
         "lat": {
          "bdata": "ISAhISAhICIhISEhISEjISEiICEgIyMhISIiIiAiISEjIiEiIiQjJCEjICIiIiIhISEhICAfISIhIiEiIiMhISAiIh8jICEhISEfIR8gICEhHyMgIyAiISIhISIjISIgIyI=",
          "dtype": "i1"
         },
         "legendgroup": "AZ",
         "lon": {
          "bdata": "kZGQkJGQkZGRkZCRkZGRkZGOkpGSkY6RkZKRkZKSkJGRkJGQkJGRk5CRkpCRkZGRkJGRk5ORkJCQkJGRjo+QkZKTkpGRkJCRkZGSkJGRkZGQkZKSjpKQkZGRkJCRkZGSj5A=",
          "dtype": "i1"
         },
         "marker": {
          "color": "#FF97FF",
          "size": {
           "bdata": "AA4aGAoABgAQEgYMCwsEFAcMCBUNDxAAFQAYGAYNGBgYDwAUCxgNGAAUGBQWBxgOFAsWEhQFGAgADA8NDg4HBQUABgwOFhAUFw0PDQYPEQYJBxANFAASEAAMCBAMFhAHAAA=",
           "dtype": "i1"
          },
          "sizemode": "area",
          "sizeref": 0.07
         },
         "mode": "markers",
         "name": "AZ",
         "showlegend": true,
         "subplot": "map",
         "type": "scattermap"
        },
        {
         "hovertemplate": "state=VA<br>-magnitude=%{marker.size}<br>latitude=%{lat}<br>longitude=%{lon}<extra></extra>",
         "lat": {
          "bdata": "JiQmJCUkJCQmJiYmJSYmJyYmJiYmJiYmJiYmJyUmJSYnJiYkJiYkJiYmJiUmJiYmJiUkJSUmJSYmJSQmJSUkJiYmJiclJyYmJiYlJiYmJyUlJSUmJiYlJiYmJiYlJSUmJSYlJCYlJSQmJiYmJiYmJSUkJiUlJCUmJiQkJiYmJiYnJiUkJCcmJSYkJiclJCYmJSYlJyUkJCYlJSQlJyYkJCUlJiYkJCUmJSYlJSYlJCclJiQmJCQkJiQkJiUlJiYmJiYkJSUmJSYlJiUlJiQlJiUmJiUnJSQkJSYlJSclJyYmJyYlJCYmJSUkJyYmJSQmJyclJiUmJSYkJCYmJycmJicmJyUmJiQnJicmJyUmJCYmJCUlJycmJCclJCQkJCQmJSQ=",
          "dtype": "i1"
         },
         "legendgroup": "VA",
         "lon": {
          "bdata": "sa+zrrO0tLSzs7OzsbOzs7Ozs7Kzs7OzsrKzs7OztLKzs7O1s7OxsrOxs7Ozs7Ozs7KysbWztLKysbSysrW1s7Ozs7Kzs7Ozs7O1srOzsrOxsbGzs7OzsrOzs7OxrrGzsbOyrrOwsK6ys7Ozs7Ozsa6us66xsbOzsq+vs7Ozs7Ozs7CxsbOzsrOvsrOxsbOys7Oxs7G0sbOvsbCws7KusbKws7O0tLCysrOwsbOysLOxsrGyr6+ws6+usbCys7Kzs7OxsbGyr7Ows7Oxs7Cxs7Czs7GysLCvsbOwsLKzs7Kzs7Ozr7OytLGus7OztLSzs7OzsrGzs7K0tLOzsrOzs7Ozs7Czs7Gzs7Oys7GzsbOyr7GzsrOztLOztLS0tLSztLQ=",
          "dtype": "i1"
         },
         "marker": {
          "color": "#FECB52",
          "size": {
           "bdata": "FBwIGAgWDRIPFgkTFhYTFAgYFg8SCRIYGA4YAAASFhQADxgNABgADRUWCg0YGBQUEg0WEhYXEgwSCRQJCQAAExAVCg0VFxQIBw0GDhMABQcFDwcMDhUUFhIPFhgXBgwUEgkADBgSDRcQEAUNCg8UBxQUEwAUBA8GERITBw8GBgAOFxcAAAsSEBcUBwgKFA4UAAsYDAwHFBQAFgAKBwAWGBAUAA0TGBQNGBYYABgVGBIQFgcXCRISBxEVFgcYFRgKCREADQ0YAAsYCAcYGBgXCQsACgcNFBYLGBAADQoYGBgIDBQAABINGBIYFAwYCQoMEgkYFhgACRQACBISEBAVEgAMFgwPCgAWBw0HCwAFDg0NDg0AFRIJBwsYDgcHBxYHEhE=",
           "dtype": "i1"
          },
          "sizemode": "area",
          "sizeref": 0.07
         },
         "mode": "markers",
         "name": "VA",
         "showlegend": true,
         "subplot": "map",
         "type": "scattermap"
        },
        {
         "hovertemplate": "state=WY<br>-magnitude=%{marker.size}<br>latitude=%{lat}<br>longitude=%{lon}<extra></extra>",
         "lat": {
          "bdata": "KiwpKSkqLCspKSws",
          "dtype": "i1"
         },
         "legendgroup": "WY",
         "lon": {
          "bdata": "lpSYl5KWl5SYlZOW",
          "dtype": "i1"
         },
         "marker": {
          "color": "#636efa",
          "size": {
           "bdata": "ABkEDA8UCA8HCAwH",
           "dtype": "i1"
          },
          "sizemode": "area",
          "sizeref": 0.07
         },
         "mode": "markers",
         "name": "WY",
         "showlegend": true,
         "subplot": "map",
         "type": "scattermap"
        },
        {
         "hovertemplate": "state=OR<br>-magnitude=%{marker.size}<br>latitude=%{lat}<br>longitude=%{lon}<extra></extra>",
         "lat": {
          "bdata": "Ki0rLSosKi0tLS0tLC0tLS0tKywsLC0tKyotLC0qKiwtLC0sLC0tKywrKy4sLCwtLS0tLS0rLS0sLS0tLC0rLS0tLSwuLS0sLC0sLS0tLS0tLSwtLC0tLS0sKy0rLSwsLSorKiwtLS0tLSstLSw=",
          "dtype": "i1"
         },
         "legendgroup": "OR",
         "lon": {
          "bdata": "hoaEhoWFhIaFhoaGhYaHhoWGhIWGhYaIhYaHh4aFhYeGhYaGhYaFhYeFhYWFhoWHhYWGhYaEh4aFhoWFh4WEioaFhoaFhoaFh4aGioaFh4eJhoeLhIiGhoqFioaFhoWEioaEh4WGhoWGi4WGhoQ=",
          "dtype": "i1"
         },
         "marker": {
          "color": "#EF553B",
          "size": {
           "bdata": "CQcNFAAUDBEPFA8WCBUKCRgJDgkSDQoACBAIFgAGFwAJFxYKFgcPGA0NGAgHCRIHFA0QFw8WDxgMCBcVCAgUAA0GDRMYCwYYDRUUEhQXBgsMCQwAFAkWEQ4NDxMHGAYNFBUAAAoAEQkGBw0GFAY=",
           "dtype": "i1"
          },
          "sizemode": "area",
          "sizeref": 0.07
         },
         "mode": "markers",
         "name": "OR",
         "showlegend": true,
         "subplot": "map",
         "type": "scattermap"
        },
        {
         "hovertemplate": "state=NC<br>-magnitude=%{marker.size}<br>latitude=%{lat}<br>longitude=%{lon}<extra></extra>",
         "lat": {
          "bdata": "IyQjIyMjIyMjIyIjJCIjJCIiIyMjIyMkJCIiIiMjIyMjJCMkIyMjIyQjIyMjIyMjJCMjIyQiIyMjIyMkIyMjIyMjIyMjIiMjIyMkJCMjIyMkJCMjJCMjJCMjJCMjJCMkIyIjJCQjIyMjIyMjIyMjIyQkIyMkIyMjIyQkIyQkIiMjIyQkJCMkIyQjIyMjIyMjJCQjIiQjIyMkIyQiJCMjIyMkIyMkIyMjIyMjIyMjIyQjIyMjIyQjJCMjJCMjJCQiIyMjIyMjIyMkIyMkJCMkIyMjJCMjIyMkJCMjIyMjIyIiIyQjIiQkJCMkIyMjIyQkIyMjIyMjJCMjIiQjIyMjIyMjJCMjIyM=",
          "dtype": "i1"
         },
         "legendgroup": "NC",
         "lon": {
          "bdata": "sK+trq2xrq+us7OysLOysLOzsrOwsrKysLOzs7Cwsq+vsK+0sLOvsrGzsa+wsLCvsa+wrrGzsrKysrCysrKys6+wsrKwtK6vsK6xtLGwr7Gwr7Kwsa+wsLCwsbCvsK+ws7Oyr7Cwr6+urq+usq+vsrGwsLCyrrCvs7Gvrq+ysbCtsLCxr7CxsLGwsLGur7CvsrGws6+wsK2wsbCwr7CwsK+yr7CwsbCxsa+vrq+ysLGwsK6usbCwr66ysK2ysLG0srOws7CysLCxrq6vsrKwsrKxr66urrGxsbKysa+yr7OzrbCzsrCwsLKwsLKwsrGwr7CwsLCytLCws7GvsLWxs7KwsrKwr7A=",
          "dtype": "i1"
         },
         "marker": {
          "color": "#00cc96",
          "size": {
           "bdata": "BAUMDRYYDhYKFBgADRAOGA0HCwcSGAsYFBgSEAAWFhQNCgsADA4LFA0KFQkAFxINFwAICwwYBQYFBRAKGBQABwYGFRQKABIABhcVFBQFCA4UBREYDhUHCBUIDBIWAAAUEAAAEhgTEAcNChMRGAsWABASCBIUCxULEhQTEgAYExQAEBgPBxgAChYNEgwRBwAAAAASCQwUGA0FBRYAGBYPEBYJFgASDA4LCw8AERYJDBQPGBQVCBIKBRANDhEAFhcQCRIKBwAYBw4WBwwMAAoXDAAYBxQSAAYYCggAAAoFBhcUBRMRFxgUCQcHFBALCgUFBwYVGBgTCAcYCBEAFQYKGAUJBREEGAA=",
           "dtype": "i1"
          },
          "sizemode": "area",
          "sizeref": 0.07
         },
         "mode": "markers",
         "name": "NC",
         "showlegend": true,
         "subplot": "map",
         "type": "scattermap"
        },
        {
         "hovertemplate": "state=ID<br>-magnitude=%{marker.size}<br>latitude=%{lat}<br>longitude=%{lon}<extra></extra>",
         "lat": {
          "bdata": "KyouLDAwKy0rLis=",
          "dtype": "i1"
         },
         "legendgroup": "ID",
         "lon": {
          "bdata": "jZCMjYyMjI+MjIw=",
          "dtype": "i1"
         },
         "marker": {
          "color": "#ab63fa",
          "size": {
           "bdata": "CRIUDA4NGAAABxQ=",
           "dtype": "i1"
          },
          "sizemode": "area",
          "sizeref": 0.07
         },
         "mode": "markers",
         "name": "ID",
         "showlegend": true,
         "subplot": "map",
         "type": "scattermap"
        },
        {
         "hovertemplate": "state=KS<br>-magnitude=%{marker.size}<br>latitude=%{lat}<br>longitude=%{lon}<extra></extra>",
         "lat": {
          "bdata": "JyYsJiYmJicmJiYmJyYlJyclJiYmJSYlJiUlJyUlJiUlJScnJiYmJSYmJiYlJScm",
          "dtype": "i1"
         },
         "legendgroup": "KS",
         "lon": {
          "bdata": "oKGLoqChoqGioaKioKKhoqGfoqKin52foZ+fop+foaGgn6GioqGhn52hoqKfn6Kh",
          "dtype": "i1"
         },
         "marker": {
          "color": "#FFA15A",
          "size": {
           "bdata": "DA0WDhcHAAAWEQsRABQUBhAKEw4IGBIPCRUABxgAABEIFAUABgkFDQUMFxQHABIY",
           "dtype": "i1"
          },
          "sizemode": "area",
          "sizeref": 0.07
         },
         "mode": "markers",
         "name": "KS",
         "showlegend": true,
         "subplot": "map",
         "type": "scattermap"
        },
        {
         "hovertemplate": "state=NM<br>-magnitude=%{marker.size}<br>latitude=%{lat}<br>longitude=%{lon}<extra></extra>",
         "lat": {
          "bdata": "ICAjISMjICMjIyMjISMjIyMjIyIjJCQjICIjIyMjJCIkIyQjIyEhIyQhIyMjICMjICM=",
          "dtype": "i1"
         },
         "legendgroup": "NM",
         "lon": {
          "bdata": "lpeWmJaWlpeWlpaWlJeWlZaWlpaWlZSWlpaWlpaWl5mWlpaWlpiYlpWYlpaWlpaZmJY=",
          "dtype": "i1"
         },
         "marker": {
          "color": "#19d3f3",
          "size": {
           "bdata": "DQUQDRISEBQTGBMWDgAYGBgKGAATBRYWDhAUEAYNBwoIFBgGEBEYCQcGCwsSBAsMFBA=",
           "dtype": "i1"
          },
          "sizemode": "area",
          "sizeref": 0.07
         },
         "mode": "markers",
         "name": "NM",
         "showlegend": true,
         "subplot": "map",
         "type": "scattermap"
        },
        {
         "hovertemplate": "state=WV<br>-magnitude=%{marker.size}<br>latitude=%{lat}<br>longitude=%{lon}<extra></extra>",
         "lat": {
          "bdata": "JyUmJycnJycnJycnJyYnJyUmJiUnJygmJyYlJicnJyYmJyYnJSYlJyYmJiclJycnKCgnJycnJiYlJygnJSUnJiYmJycnJyclJyclJicnJycnJyc=",
          "dtype": "i1"
         },
         "legendgroup": "WV",
         "lon": {
          "bdata": "sK+xsLGwsLKxsrKws6+ws6+vr7CwsLCvsa+vsa+wsa+vr6+xsK6vsbCur7CvsK+wsLCwsbGwsK+vsLCvr6+vr6+xsLKwsLGvsbCwr7GzsrCzsrM=",
          "dtype": "i1"
         },
         "marker": {
          "color": "#FF6692",
          "size": {
           "bdata": "FBIYEQ0SGAAWEwYYEhAPDAYUDAUYFggHDRYVFgoIFBITFRgIABEYGBQAAAkWFhQVFgANEhgADQsUFxANFhcUFhQXGBYYFA8AFhYADgAUEBUYAAU=",
           "dtype": "i1"
          },
          "sizemode": "area",
          "sizeref": 0.07
         },
         "mode": "markers",
         "name": "WV",
         "showlegend": true,
         "subplot": "map",
         "type": "scattermap"
        },
        {
         "hovertemplate": "state=UT<br>-magnitude=%{marker.size}<br>latitude=%{lat}<br>longitude=%{lon}<extra></extra>",
         "lat": {
          "bdata": "JSkoKSUoJiUoJSkoJScoKCkoKCUpJygpKCgmJyUoKCgoJSUmKCgoKCEoKSgoKSUlKQ==",
          "dtype": "i1"
         },
         "legendgroup": "UT",
         "lon": {
          "bdata": "j5CQkY+Rk4+Rj5GTj5GRkZGRko+RkZGRkZGRkZORkZCRj4+TkpGRkYuRkZGRkI+PkA==",
          "dtype": "i1"
         },
         "marker": {
          "color": "#B6E880",
          "size": {
           "bdata": "FQ0MCQoQFBYUCxYJGBQUABAUDRMLChIXBhEWEBAKAAUWFgAADBQYCgoPEhQUAAcJBQ==",
           "dtype": "i1"
          },
          "sizemode": "area",
          "sizeref": 0.07
         },
         "mode": "markers",
         "name": "UT",
         "showlegend": true,
         "subplot": "map",
         "type": "scattermap"
        },
        {
         "hovertemplate": "state=IA<br>-magnitude=%{marker.size}<br>latitude=%{lat}<br>longitude=%{lon}<extra></extra>",
         "lat": {
          "bdata": "KisqKSkqKikpKCopKSopKSkpKSgpKikpKSopKSoqKikrKSkoKSkpKSoqKykpKQ==",
          "dtype": "i1"
         },
         "legendgroup": "IA",
         "lon": {
          "bdata": "paKjoaOkoKShpKWlpaOjpqalpaOjpaKkpKajoaSjoaWipaSho6OlpaWio6Wlpg==",
          "dtype": "i1"
         },
         "marker": {
          "color": "#FF97FF",
          "size": {
           "bdata": "HBEFCQYECwkQChAXFAwODRMHERIOFAoMEgcIBgwSBQATABIJABQHDQgACxYNFA==",
           "dtype": "i1"
          },
          "sizemode": "area",
          "sizeref": 0.07
         },
         "mode": "markers",
         "name": "IA",
         "showlegend": true,
         "subplot": "map",
         "type": "scattermap"
        },
        {
         "hovertemplate": "state=NJ<br>-magnitude=%{marker.size}<br>latitude=%{lat}<br>longitude=%{lon}<extra></extra>",
         "lat": {
          "bdata": "KCcnKCcoKCYoKCcoKCcnKCgoKCcoJygnKCcnKCgoKScnKCgnJygoJygoKCgoKCgoJygpKCgnKCgoJygnKCcoKCgoKCgoKScoJignKSgoJygoKCgoKCgoKCcnJycoJycnKCcoKCgoJygoJygoKCgoKSgoKCgoJycoKCgoKScoJygnKCcoKCcoKSgoKCgnKCcoKCgoJygoJygnKCgoKCgoKCgoKCcoKCgpKCgoKCgpKCgnKScoKCgoJycoKCgnKCgoKCgnKCgoKCgoKCgoKSgoJygoKCgoKCgoKSgoKCgoKCgnKCgoKCgoJygpKCgoJygoKCkpKCgoKCcoKCgpKSkoKCcoJygoJygnKSgoJygnKSgnKCcoKCgoKCgoKCgoKCcoKCgp",
          "dtype": "i1"
         },
         "legendgroup": "NJ",
         "lon": {
          "bdata": "tra1tra2tra2trW2tra1tra2tra1tba1trW2t7a1trW2tra1tra2tra2tra2tra2tra2tra1tra2tba1trW2tre2tra2tra2tra2tra2tra2tra2tra2tra2tra2tra2trW2tra2tra2tba2tra2tra2tra2tba2tra2tra2tra2trW2trW2tra2tra1trW2tra2tbe2tba2tra2tra2tbW2trW2tra2tra2tra2tra2tra2tra2tba2trW2tra2tre1tra2tra2tra2tra2tra2tra2tra2tra3tra2tra2t7a3tra2tba2tra2tba2tra2t7a3tra2tra2tra2tra2tba2tba2tra2tba2tra2tra2tre2tra2tra2tra2t7a2",
          "dtype": "i1"
         },
         "marker": {
          "color": "#FECB52",
          "size": {
           "bdata": "ChYNEhYYAAAJAA8YDRYQFBEQGAAYABMADhQYEwAGGBgWExIYFAkNCAgLBQwAGAYLEA0UDRYNCg0EDAcOGBgYEBgYAA0XChUNExgQBxYRFBgKCRMKFBIJCAwOABMGCAcUDAsHEg0OCQ0SDBINFBMAGA8UFhYICAYABRUKEwAFDRALFQ0WDxYRFwoIGBcUCxYUDRISExUMDggJChIUEAsNABQQFAoPFQ0YCwAIBxQABQAIEhQGDAsNFhUIAAATDwYACwAWGA0QCBEXChgMDxMNAAkNAAAAFAsOGBEQFQ0UDhQKFBUWGAgNGAsNABQACxgXDRYYFhAIAAcJDQ0HDhYNFhMNGBUWFAkAGBYQEw0YFhYSBhYJFBANEwAQBgcNBQALAAcO",
           "dtype": "i1"
          },
          "sizemode": "area",
          "sizeref": 0.07
         },
         "mode": "markers",
         "name": "NJ",
         "showlegend": true,
         "subplot": "map",
         "type": "scattermap"
        },
        {
         "hovertemplate": "state=AK<br>-magnitude=%{marker.size}<br>latitude=%{lat}<br>longitude=%{lon}<extra></extra>",
         "lat": {
          "bdata": "QD08PTo6Ojo6QTw9Oj09",
          "dtype": "i1"
         },
         "legendgroup": "AK",
         "lon": {
          "bdata": "bf9r/2v/a/96/3r/ev96/3r/a/9p/2v/ev9r/2v/",
          "dtype": "i2"
         },
         "marker": {
          "color": "#636efa",
          "size": {
           "bdata": "GhMRFRISERYRAAcUAAwN",
           "dtype": "i1"
          },
          "sizemode": "area",
          "sizeref": 0.07
         },
         "mode": "markers",
         "name": "AK",
         "showlegend": true,
         "subplot": "map",
         "type": "scattermap"
        },
        {
         "hovertemplate": "state=NE<br>-magnitude=%{marker.size}<br>latitude=%{lat}<br>longitude=%{lon}<extra></extra>",
         "lat": {
          "bdata": "KSkoKCkpKSgoKCopKSkoKSgqKSgo",
          "dtype": "i1"
         },
         "legendgroup": "NE",
         "lon": {
          "bdata": "oKGdoKCgoKGgnp+goKGgoJ6foKCg",
          "dtype": "i1"
         },
         "marker": {
          "color": "#EF553B",
          "size": {
           "bdata": "DQ8RFAwOEQ8XGBASFQ0UFAkHBxIU",
           "dtype": "i1"
          },
          "sizemode": "area",
          "sizeref": 0.07
         },
         "mode": "markers",
         "name": "NE",
         "showlegend": true,
         "subplot": "map",
         "type": "scattermap"
        },
        {
         "hovertemplate": "state=KY<br>-magnitude=%{marker.size}<br>latitude=%{lat}<br>longitude=%{lon}<extra></extra>",
         "lat": {
          "bdata": "JSQmJSUmJiQmJCQlJCQmJyUkJCUkJiYmJiYkJSYnJiUmJCUmJiUlJCQkJiYlJiYnJiYmJiUlJiYlJSUlJSUlJiUlJiQmJSUmJiQlJycmJCUmJiQmJSQkJCYlJCcmJQ==",
          "dtype": "i1"
         },
         "legendgroup": "KY",
         "lon": {
          "bdata": "q6ysrqurrKirqqqoqaqrrKypqKyorKusrq6srK2srKysrKytq6ysqKmorqurrKysraytq6urq66uraupq62trq2sq6ysrKytrKyqrKysrKmtq6irqKmoqqusrqysqg==",
          "dtype": "i1"
         },
         "marker": {
          "color": "#00cc96",
          "size": {
           "bdata": "CA0UCRgXFhUMFgAYEBgABAUMEAYPEgUQCRgOEAoLGBgNERcNFBYNGA4YGBIADxAIDRgAEBYUEgsXCwAMExgXEBEIDQATABAYFg0LChcGGAYWDQQMGAcKDQoJEAUIBg==",
           "dtype": "i1"
          },
          "sizemode": "area",
          "sizeref": 0.07
         },
         "mode": "markers",
         "name": "KY",
         "showlegend": true,
         "subplot": "map",
         "type": "scattermap"
        },
        {
         "hovertemplate": "state=DE<br>-magnitude=%{marker.size}<br>latitude=%{lat}<br>longitude=%{lon}<extra></extra>",
         "lat": {
          "bdata": "JyYmJycnJicnJicnJycnJicnJyYmJicnJycnJicmJycnJycnJycn",
          "dtype": "i1"
         },
         "legendgroup": "DE",
         "lon": {
          "bdata": "tbW1tbW1tbW1tbW1tbW1tbW1tbW1tbW1tbW1tbW1tbW1tbW1tbW1",
          "dtype": "i1"
         },
         "marker": {
          "color": "#ab63fa",
          "size": {
           "bdata": "HAARFgcNCxUUDxQOGBYNExgAEwAHBAYWDhEKEBUIFw0XDRYTCgsU",
           "dtype": "i1"
          },
          "sizemode": "area",
          "sizeref": 0.07
         },
         "mode": "markers",
         "name": "DE",
         "showlegend": true,
         "subplot": "map",
         "type": "scattermap"
        },
        {
         "hovertemplate": "state=MT<br>-magnitude=%{marker.size}<br>latitude=%{lat}<br>longitude=%{lon}<extra></extra>",
         "lat": {
          "bdata": "MDAtLS0tLS0vLS0tLy4t",
          "dtype": "i1"
         },
         "legendgroup": "MT",
         "lon": {
          "bdata": "jZKVkZGQkZKSlJGUkY6U",
          "dtype": "i1"
         },
         "marker": {
          "color": "#FFA15A",
          "size": {
           "bdata": "ChgFDgcAGBQGCQcUDQ8S",
           "dtype": "i1"
          },
          "sizemode": "area",
          "sizeref": 0.07
         },
         "mode": "markers",
         "name": "MT",
         "showlegend": true,
         "subplot": "map",
         "type": "scattermap"
        },
        {
         "hovertemplate": "state=NV<br>-magnitude=%{marker.size}<br>latitude=%{lat}<br>longitude=%{lon}<extra></extra>",
         "lat": {
          "bdata": "JCcnJCYkJyMkJCQnJCQj",
          "dtype": "i1"
         },
         "legendgroup": "NV",
         "lon": {
          "bdata": "jomJjYmNiY2NjY6KjY2O",
          "dtype": "i1"
         },
         "marker": {
          "color": "#19d3f3",
          "size": {
           "bdata": "GAcSAAoVDQgYFQYGFhYI",
           "dtype": "i1"
          },
          "sizemode": "area",
          "sizeref": 0.07
         },
         "mode": "markers",
         "name": "NV",
         "showlegend": true,
         "subplot": "map",
         "type": "scattermap"
        },
        {
         "hovertemplate": "state=VT<br>-magnitude=%{marker.size}<br>latitude=%{lat}<br>longitude=%{lon}<extra></extra>",
         "lat": {
          "bdata": "KiwsLCwsKywsKyorKysrLCssLCssLCssLCsrKiosKywrKyssLCwrLCsrKywsKysrLCwrLCwrLCwsLCosLCwrKysrLCssKywrLCwrKyosLCwsLCwrLCsrLCssLCwsLCwtKysrLCsrKywrLCwrLCwrLA==",
          "dtype": "i1"
         },
         "legendgroup": "VT",
         "lon": {
          "bdata": "uLe5t7e3t7e3uLe3uLi4t7i3t7e4uLe4uLi4uLi3uLi4uLi4t7i4uLi4uLe3t7e3uLe4t7i3uLi4uLi4t7i3t7e4uLi4uLi3uLi3t7i4t7e3t7e3uLe4t7e3uLe4t7i4t7i4uLi3uLe4t7i4uLi3uA==",
          "dtype": "i1"
         },
         "marker": {
          "color": "#FF6692",
          "size": {
           "bdata": "DQUSDRYVChgWGAoQCRIGERIWEhQLABgRAAAVAAoTABgAFhAIBg8LABMYFRQSDhMSEhgJEhMFEAwYBQkADxMOCw0AEwASDRAWGBQSGBMAEQUJDRINGAAUERUUFAARGBAAGBQRFAcLDBAHDg4YGBgACw==",
           "dtype": "i1"
          },
          "sizemode": "area",
          "sizeref": 0.07
         },
         "mode": "markers",
         "name": "VT",
         "showlegend": true,
         "subplot": "map",
         "type": "scattermap"
        },
        {
         "hovertemplate": "state=DC<br>-magnitude=%{marker.size}<br>latitude=%{lat}<br>longitude=%{lon}<extra></extra>",
         "lat": {
          "bdata": "JiYmJiYmJg==",
          "dtype": "i1"
         },
         "legendgroup": "DC",
         "lon": {
          "bdata": "s7Ozs7Szsw==",
          "dtype": "i1"
         },
         "marker": {
          "color": "#B6E880",
          "size": {
           "bdata": "ExMLCREHFQ==",
           "dtype": "i1"
          },
          "sizemode": "area",
          "sizeref": 0.07
         },
         "mode": "markers",
         "name": "DC",
         "showlegend": true,
         "subplot": "map",
         "type": "scattermap"
        },
        {
         "hovertemplate": "state=CT<br>-magnitude=%{marker.size}<br>latitude=%{lat}<br>longitude=%{lon}<extra></extra>",
         "lat": {
          "bdata": "KSkpKSkpKSkpKSkpKSkpKSkpKSkpKSkpKSkpKSkpKSkpKSkpKSkpKSkpKSkpKSkpKSkpKSkpKSkpKSkpKSkpKSkpKSkpKSkpKSkpKSkpKSkpKSkqKSkpKSkpKSkpKSkpKikpKSkpKSkpKSkpKSkpKSkpKSkpKSkpKSkp",
          "dtype": "i1"
         },
         "legendgroup": "CT",
         "lon": {
          "bdata": "uLi4uLi4t7i3uLi3uLe3uLi3uLi4uLi5uLi3uLe3uLi4uLe3t7e4uLi4t7i4ube4t7i3uLi3uLm4uLi4uLe4t7e4t7e4t7i3uLe3uLe3t7i4uLe4uLe4uLi3t7i4uLi3uLe4t7e3uLi4uLi5t7i5uLe4t7e3uLi5uLi3",
          "dtype": "i1"
         },
         "marker": {
          "color": "#FF97FF",
          "size": {
           "bdata": "DhAYBwoQCw8OGA4TChYHCgkACwAAFQcWGBQNDhgJFwsYFBQIFxcMAAgQFhIVFxQIAAcFCwQSEQYVEAANBQkACAsLCxIAEgcQFwwLEhgAGAAABhYNExYFGA8TCggWERMNCQ0UABQSFBcAAAAYGBYUEhgQGBgXDQ8SGBAN",
           "dtype": "i1"
          },
          "sizemode": "area",
          "sizeref": 0.07
         },
         "mode": "markers",
         "name": "CT",
         "showlegend": true,
         "subplot": "map",
         "type": "scattermap"
        },
        {
         "hovertemplate": "state=RI<br>-magnitude=%{marker.size}<br>latitude=%{lat}<br>longitude=%{lon}<extra></extra>",
         "lat": {
          "bdata": "KSkpKSkpKSkpKSkpKSkpKSkpKikp",
          "dtype": "i1"
         },
         "legendgroup": "RI",
         "lon": {
          "bdata": "ubm5ubm5ubm5ubm5ubm5ubm5ubm5",
          "dtype": "i1"
         },
         "marker": {
          "color": "#FECB52",
          "size": {
           "bdata": "CxgPGAUOChgRGAUKChgHCwoRFwUK",
           "dtype": "i1"
          },
          "sizemode": "area",
          "sizeref": 0.07
         },
         "mode": "markers",
         "name": "RI",
         "showlegend": true,
         "subplot": "map",
         "type": "scattermap"
        },
        {
         "hovertemplate": "state=ND<br>-magnitude=%{marker.size}<br>latitude=%{lat}<br>longitude=%{lon}<extra></extra>",
         "lat": {
          "bdata": "Li8uMA==",
          "dtype": "i1"
         },
         "legendgroup": "ND",
         "lon": {
          "bdata": "oJ+dmQ==",
          "dtype": "i1"
         },
         "marker": {
          "color": "#636efa",
          "size": {
           "bdata": "Dg0SCw==",
           "dtype": "i1"
          },
          "sizemode": "area",
          "sizeref": 0.07
         },
         "mode": "markers",
         "name": "ND",
         "showlegend": true,
         "subplot": "map",
         "type": "scattermap"
        }
       ],
       "layout": {
        "height": 1200,
        "legend": {
         "itemsizing": "constant",
         "title": {
          "text": "state"
         },
         "tracegroupgap": 0
        },
        "map": {
         "center": {
          "lat": 38.422156093602055,
          "lon": -87.39659137021506
         },
         "domain": {
          "x": [
           0,
           1
          ],
          "y": [
           0,
           1
          ]
         },
         "zoom": 2.5
        },
        "mapbox": {
         "center": {
          "lat": 38.422156093602055,
          "lon": -87.39659137021506
         },
         "zoom": 2.5
        },
        "margin": {
         "t": 60
        },
        "template": {
         "data": {
          "bar": [
           {
            "error_x": {
             "color": "#2a3f5f"
            },
            "error_y": {
             "color": "#2a3f5f"
            },
            "marker": {
             "line": {
              "color": "#E5ECF6",
              "width": 0.5
             },
             "pattern": {
              "fillmode": "overlay",
              "size": 10,
              "solidity": 0.2
             }
            },
            "type": "bar"
           }
          ],
          "barpolar": [
           {
            "marker": {
             "line": {
              "color": "#E5ECF6",
              "width": 0.5
             },
             "pattern": {
              "fillmode": "overlay",
              "size": 10,
              "solidity": 0.2
             }
            },
            "type": "barpolar"
           }
          ],
          "carpet": [
           {
            "aaxis": {
             "endlinecolor": "#2a3f5f",
             "gridcolor": "white",
             "linecolor": "white",
             "minorgridcolor": "white",
             "startlinecolor": "#2a3f5f"
            },
            "baxis": {
             "endlinecolor": "#2a3f5f",
             "gridcolor": "white",
             "linecolor": "white",
             "minorgridcolor": "white",
             "startlinecolor": "#2a3f5f"
            },
            "type": "carpet"
           }
          ],
          "choropleth": [
           {
            "colorbar": {
             "outlinewidth": 0,
             "ticks": ""
            },
            "type": "choropleth"
           }
          ],
          "contour": [
           {
            "colorbar": {
             "outlinewidth": 0,
             "ticks": ""
            },
            "colorscale": [
             [
              0,
              "#0d0887"
             ],
             [
              0.1111111111111111,
              "#46039f"
             ],
             [
              0.2222222222222222,
              "#7201a8"
             ],
             [
              0.3333333333333333,
              "#9c179e"
             ],
             [
              0.4444444444444444,
              "#bd3786"
             ],
             [
              0.5555555555555556,
              "#d8576b"
             ],
             [
              0.6666666666666666,
              "#ed7953"
             ],
             [
              0.7777777777777778,
              "#fb9f3a"
             ],
             [
              0.8888888888888888,
              "#fdca26"
             ],
             [
              1,
              "#f0f921"
             ]
            ],
            "type": "contour"
           }
          ],
          "contourcarpet": [
           {
            "colorbar": {
             "outlinewidth": 0,
             "ticks": ""
            },
            "type": "contourcarpet"
           }
          ],
          "heatmap": [
           {
            "colorbar": {
             "outlinewidth": 0,
             "ticks": ""
            },
            "colorscale": [
             [
              0,
              "#0d0887"
             ],
             [
              0.1111111111111111,
              "#46039f"
             ],
             [
              0.2222222222222222,
              "#7201a8"
             ],
             [
              0.3333333333333333,
              "#9c179e"
             ],
             [
              0.4444444444444444,
              "#bd3786"
             ],
             [
              0.5555555555555556,
              "#d8576b"
             ],
             [
              0.6666666666666666,
              "#ed7953"
             ],
             [
              0.7777777777777778,
              "#fb9f3a"
             ],
             [
              0.8888888888888888,
              "#fdca26"
             ],
             [
              1,
              "#f0f921"
             ]
            ],
            "type": "heatmap"
           }
          ],
          "histogram": [
           {
            "marker": {
             "pattern": {
              "fillmode": "overlay",
              "size": 10,
              "solidity": 0.2
             }
            },
            "type": "histogram"
           }
          ],
          "histogram2d": [
           {
            "colorbar": {
             "outlinewidth": 0,
             "ticks": ""
            },
            "colorscale": [
             [
              0,
              "#0d0887"
             ],
             [
              0.1111111111111111,
              "#46039f"
             ],
             [
              0.2222222222222222,
              "#7201a8"
             ],
             [
              0.3333333333333333,
              "#9c179e"
             ],
             [
              0.4444444444444444,
              "#bd3786"
             ],
             [
              0.5555555555555556,
              "#d8576b"
             ],
             [
              0.6666666666666666,
              "#ed7953"
             ],
             [
              0.7777777777777778,
              "#fb9f3a"
             ],
             [
              0.8888888888888888,
              "#fdca26"
             ],
             [
              1,
              "#f0f921"
             ]
            ],
            "type": "histogram2d"
           }
          ],
          "histogram2dcontour": [
           {
            "colorbar": {
             "outlinewidth": 0,
             "ticks": ""
            },
            "colorscale": [
             [
              0,
              "#0d0887"
             ],
             [
              0.1111111111111111,
              "#46039f"
             ],
             [
              0.2222222222222222,
              "#7201a8"
             ],
             [
              0.3333333333333333,
              "#9c179e"
             ],
             [
              0.4444444444444444,
              "#bd3786"
             ],
             [
              0.5555555555555556,
              "#d8576b"
             ],
             [
              0.6666666666666666,
              "#ed7953"
             ],
             [
              0.7777777777777778,
              "#fb9f3a"
             ],
             [
              0.8888888888888888,
              "#fdca26"
             ],
             [
              1,
              "#f0f921"
             ]
            ],
            "type": "histogram2dcontour"
           }
          ],
          "mesh3d": [
           {
            "colorbar": {
             "outlinewidth": 0,
             "ticks": ""
            },
            "type": "mesh3d"
           }
          ],
          "parcoords": [
           {
            "line": {
             "colorbar": {
              "outlinewidth": 0,
              "ticks": ""
             }
            },
            "type": "parcoords"
           }
          ],
          "pie": [
           {
            "automargin": true,
            "type": "pie"
           }
          ],
          "scatter": [
           {
            "fillpattern": {
             "fillmode": "overlay",
             "size": 10,
             "solidity": 0.2
            },
            "type": "scatter"
           }
          ],
          "scatter3d": [
           {
            "line": {
             "colorbar": {
              "outlinewidth": 0,
              "ticks": ""
             }
            },
            "marker": {
             "colorbar": {
              "outlinewidth": 0,
              "ticks": ""
             }
            },
            "type": "scatter3d"
           }
          ],
          "scattercarpet": [
           {
            "marker": {
             "colorbar": {
              "outlinewidth": 0,
              "ticks": ""
             }
            },
            "type": "scattercarpet"
           }
          ],
          "scattergeo": [
           {
            "marker": {
             "colorbar": {
              "outlinewidth": 0,
              "ticks": ""
             }
            },
            "type": "scattergeo"
           }
          ],
          "scattergl": [
           {
            "marker": {
             "colorbar": {
              "outlinewidth": 0,
              "ticks": ""
             }
            },
            "type": "scattergl"
           }
          ],
          "scattermap": [
           {
            "marker": {
             "colorbar": {
              "outlinewidth": 0,
              "ticks": ""
             }
            },
            "type": "scattermap"
           }
          ],
          "scattermapbox": [
           {
            "marker": {
             "colorbar": {
              "outlinewidth": 0,
              "ticks": ""
             }
            },
            "type": "scattermapbox"
           }
          ],
          "scatterpolar": [
           {
            "marker": {
             "colorbar": {
              "outlinewidth": 0,
              "ticks": ""
             }
            },
            "type": "scatterpolar"
           }
          ],
          "scatterpolargl": [
           {
            "marker": {
             "colorbar": {
              "outlinewidth": 0,
              "ticks": ""
             }
            },
            "type": "scatterpolargl"
           }
          ],
          "scatterternary": [
           {
            "marker": {
             "colorbar": {
              "outlinewidth": 0,
              "ticks": ""
             }
            },
            "type": "scatterternary"
           }
          ],
          "surface": [
           {
            "colorbar": {
             "outlinewidth": 0,
             "ticks": ""
            },
            "colorscale": [
             [
              0,
              "#0d0887"
             ],
             [
              0.1111111111111111,
              "#46039f"
             ],
             [
              0.2222222222222222,
              "#7201a8"
             ],
             [
              0.3333333333333333,
              "#9c179e"
             ],
             [
              0.4444444444444444,
              "#bd3786"
             ],
             [
              0.5555555555555556,
              "#d8576b"
             ],
             [
              0.6666666666666666,
              "#ed7953"
             ],
             [
              0.7777777777777778,
              "#fb9f3a"
             ],
             [
              0.8888888888888888,
              "#fdca26"
             ],
             [
              1,
              "#f0f921"
             ]
            ],
            "type": "surface"
           }
          ],
          "table": [
           {
            "cells": {
             "fill": {
              "color": "#EBF0F8"
             },
             "line": {
              "color": "white"
             }
            },
            "header": {
             "fill": {
              "color": "#C8D4E3"
             },
             "line": {
              "color": "white"
             }
            },
            "type": "table"
           }
          ]
         },
         "layout": {
          "annotationdefaults": {
           "arrowcolor": "#2a3f5f",
           "arrowhead": 0,
           "arrowwidth": 1
          },
          "autotypenumbers": "strict",
          "coloraxis": {
           "colorbar": {
            "outlinewidth": 0,
            "ticks": ""
           }
          },
          "colorscale": {
           "diverging": [
            [
             0,
             "#8e0152"
            ],
            [
             0.1,
             "#c51b7d"
            ],
            [
             0.2,
             "#de77ae"
            ],
            [
             0.3,
             "#f1b6da"
            ],
            [
             0.4,
             "#fde0ef"
            ],
            [
             0.5,
             "#f7f7f7"
            ],
            [
             0.6,
             "#e6f5d0"
            ],
            [
             0.7,
             "#b8e186"
            ],
            [
             0.8,
             "#7fbc41"
            ],
            [
             0.9,
             "#4d9221"
            ],
            [
             1,
             "#276419"
            ]
           ],
           "sequential": [
            [
             0,
             "#0d0887"
            ],
            [
             0.1111111111111111,
             "#46039f"
            ],
            [
             0.2222222222222222,
             "#7201a8"
            ],
            [
             0.3333333333333333,
             "#9c179e"
            ],
            [
             0.4444444444444444,
             "#bd3786"
            ],
            [
             0.5555555555555556,
             "#d8576b"
            ],
            [
             0.6666666666666666,
             "#ed7953"
            ],
            [
             0.7777777777777778,
             "#fb9f3a"
            ],
            [
             0.8888888888888888,
             "#fdca26"
            ],
            [
             1,
             "#f0f921"
            ]
           ],
           "sequentialminus": [
            [
             0,
             "#0d0887"
            ],
            [
             0.1111111111111111,
             "#46039f"
            ],
            [
             0.2222222222222222,
             "#7201a8"
            ],
            [
             0.3333333333333333,
             "#9c179e"
            ],
            [
             0.4444444444444444,
             "#bd3786"
            ],
            [
             0.5555555555555556,
             "#d8576b"
            ],
            [
             0.6666666666666666,
             "#ed7953"
            ],
            [
             0.7777777777777778,
             "#fb9f3a"
            ],
            [
             0.8888888888888888,
             "#fdca26"
            ],
            [
             1,
             "#f0f921"
            ]
           ]
          },
          "colorway": [
           "#636efa",
           "#EF553B",
           "#00cc96",
           "#ab63fa",
           "#FFA15A",
           "#19d3f3",
           "#FF6692",
           "#B6E880",
           "#FF97FF",
           "#FECB52"
          ],
          "font": {
           "color": "#2a3f5f"
          },
          "geo": {
           "bgcolor": "white",
           "lakecolor": "white",
           "landcolor": "#E5ECF6",
           "showlakes": true,
           "showland": true,
           "subunitcolor": "white"
          },
          "hoverlabel": {
           "align": "left"
          },
          "hovermode": "closest",
          "mapbox": {
           "style": "light"
          },
          "paper_bgcolor": "white",
          "plot_bgcolor": "#E5ECF6",
          "polar": {
           "angularaxis": {
            "gridcolor": "white",
            "linecolor": "white",
            "ticks": ""
           },
           "bgcolor": "#E5ECF6",
           "radialaxis": {
            "gridcolor": "white",
            "linecolor": "white",
            "ticks": ""
           }
          },
          "scene": {
           "xaxis": {
            "backgroundcolor": "#E5ECF6",
            "gridcolor": "white",
            "gridwidth": 2,
            "linecolor": "white",
            "showbackground": true,
            "ticks": "",
            "zerolinecolor": "white"
           },
           "yaxis": {
            "backgroundcolor": "#E5ECF6",
            "gridcolor": "white",
            "gridwidth": 2,
            "linecolor": "white",
            "showbackground": true,
            "ticks": "",
            "zerolinecolor": "white"
           },
           "zaxis": {
            "backgroundcolor": "#E5ECF6",
            "gridcolor": "white",
            "gridwidth": 2,
            "linecolor": "white",
            "showbackground": true,
            "ticks": "",
            "zerolinecolor": "white"
           }
          },
          "shapedefaults": {
           "line": {
            "color": "#2a3f5f"
           }
          },
          "ternary": {
           "aaxis": {
            "gridcolor": "white",
            "linecolor": "white",
            "ticks": ""
           },
           "baxis": {
            "gridcolor": "white",
            "linecolor": "white",
            "ticks": ""
           },
           "bgcolor": "#E5ECF6",
           "caxis": {
            "gridcolor": "white",
            "linecolor": "white",
            "ticks": ""
           }
          },
          "title": {
           "x": 0.05
          },
          "xaxis": {
           "automargin": true,
           "gridcolor": "white",
           "linecolor": "white",
           "ticks": "",
           "title": {
            "standoff": 15
           },
           "zerolinecolor": "white",
           "zerolinewidth": 2
          },
          "yaxis": {
           "automargin": true,
           "gridcolor": "white",
           "linecolor": "white",
           "ticks": "",
           "title": {
            "standoff": 15
           },
           "zerolinecolor": "white",
           "zerolinewidth": 2
          }
         }
        },
        "width": 1200
       }
      }
     },
     "metadata": {},
     "output_type": "display_data"
    }
   ],
   "source": [
    "fig = px.scatter_map(\n",
    "                df_cleaned,\n",
    "                lat=\"latitude\",\n",
    "                lon=\"longitude\",\n",
    "                color='state',\n",
    "                size='-magnitude',\n",
    "                color_continuous_scale=px.colors.cyclical.IceFire,\n",
    "                size_max=20,\n",
    "                zoom=2.5,\n",
    "                width=1200,  # <-- 그래프 전체 가로 크기\n",
    "                height=1200\n",
    "                )\n",
    "fig.show()"
   ]
  },
  {
   "cell_type": "markdown",
   "id": "9766e0d0",
   "metadata": {},
   "source": [
    "### Top 10 state metheo frequency"
   ]
  },
  {
   "cell_type": "code",
   "execution_count": 11,
   "id": "b34cf06b",
   "metadata": {},
   "outputs": [],
   "source": [
    "top_10_state_list = df_state.head(10).index"
   ]
  },
  {
   "cell_type": "code",
   "execution_count": 12,
   "id": "59d65ac0",
   "metadata": {},
   "outputs": [],
   "source": [
    "df_cleaned_top10 = df_cleaned[df_cleaned['state'].isin(top_10_state_list)]"
   ]
  },
  {
   "cell_type": "code",
   "execution_count": 13,
   "id": "91663a75",
   "metadata": {},
   "outputs": [
    {
     "data": {
      "text/html": [
       "<div>\n",
       "<style scoped>\n",
       "    .dataframe tbody tr th:only-of-type {\n",
       "        vertical-align: middle;\n",
       "    }\n",
       "\n",
       "    .dataframe tbody tr th {\n",
       "        vertical-align: top;\n",
       "    }\n",
       "\n",
       "    .dataframe thead th {\n",
       "        text-align: right;\n",
       "    }\n",
       "</style>\n",
       "<table border=\"1\" class=\"dataframe\">\n",
       "  <thead>\n",
       "    <tr style=\"text-align: right;\">\n",
       "      <th></th>\n",
       "      <th>date</th>\n",
       "      <th>time</th>\n",
       "      <th>address</th>\n",
       "      <th>state</th>\n",
       "      <th>latitude</th>\n",
       "      <th>longitude</th>\n",
       "      <th>elevation</th>\n",
       "      <th>magnitude</th>\n",
       "      <th>white</th>\n",
       "      <th>red</th>\n",
       "      <th>blue</th>\n",
       "      <th>green</th>\n",
       "      <th>purple</th>\n",
       "      <th>orange</th>\n",
       "      <th>yellow</th>\n",
       "      <th>-magnitude</th>\n",
       "    </tr>\n",
       "    <tr>\n",
       "      <th>id</th>\n",
       "      <th></th>\n",
       "      <th></th>\n",
       "      <th></th>\n",
       "      <th></th>\n",
       "      <th></th>\n",
       "      <th></th>\n",
       "      <th></th>\n",
       "      <th></th>\n",
       "      <th></th>\n",
       "      <th></th>\n",
       "      <th></th>\n",
       "      <th></th>\n",
       "      <th></th>\n",
       "      <th></th>\n",
       "      <th></th>\n",
       "      <th></th>\n",
       "    </tr>\n",
       "  </thead>\n",
       "  <tbody>\n",
       "    <tr>\n",
       "      <th>2</th>\n",
       "      <td>1995-06-20</td>\n",
       "      <td>0 days 17:00:00</td>\n",
       "      <td>Munhall, PA</td>\n",
       "      <td>PA</td>\n",
       "      <td>40</td>\n",
       "      <td>-79</td>\n",
       "      <td>329</td>\n",
       "      <td>-13</td>\n",
       "      <td>0</td>\n",
       "      <td>1</td>\n",
       "      <td>0</td>\n",
       "      <td>0</td>\n",
       "      <td>0</td>\n",
       "      <td>1</td>\n",
       "      <td>0</td>\n",
       "      <td>13</td>\n",
       "    </tr>\n",
       "    <tr>\n",
       "      <th>4</th>\n",
       "      <td>1995-08-01</td>\n",
       "      <td>0 days 16:00:00</td>\n",
       "      <td>Pottstown, PA</td>\n",
       "      <td>PA</td>\n",
       "      <td>40</td>\n",
       "      <td>-75</td>\n",
       "      <td>46</td>\n",
       "      <td>-16</td>\n",
       "      <td>0</td>\n",
       "      <td>1</td>\n",
       "      <td>0</td>\n",
       "      <td>0</td>\n",
       "      <td>0</td>\n",
       "      <td>0</td>\n",
       "      <td>0</td>\n",
       "      <td>16</td>\n",
       "    </tr>\n",
       "    <tr>\n",
       "      <th>6</th>\n",
       "      <td>1996-03-15</td>\n",
       "      <td>0 days 01:30:00</td>\n",
       "      <td>Oceanside, CA</td>\n",
       "      <td>CA</td>\n",
       "      <td>33</td>\n",
       "      <td>-117</td>\n",
       "      <td>56</td>\n",
       "      <td>-26</td>\n",
       "      <td>0</td>\n",
       "      <td>0</td>\n",
       "      <td>0</td>\n",
       "      <td>1</td>\n",
       "      <td>0</td>\n",
       "      <td>0</td>\n",
       "      <td>1</td>\n",
       "      <td>26</td>\n",
       "    </tr>\n",
       "    <tr>\n",
       "      <th>7</th>\n",
       "      <td>1996-06-04</td>\n",
       "      <td>0 days 01:30:00</td>\n",
       "      <td>Temple, TX</td>\n",
       "      <td>TX</td>\n",
       "      <td>31</td>\n",
       "      <td>-97</td>\n",
       "      <td>195</td>\n",
       "      <td>-14</td>\n",
       "      <td>0</td>\n",
       "      <td>0</td>\n",
       "      <td>0</td>\n",
       "      <td>0</td>\n",
       "      <td>0</td>\n",
       "      <td>1</td>\n",
       "      <td>1</td>\n",
       "      <td>14</td>\n",
       "    </tr>\n",
       "    <tr>\n",
       "      <th>9</th>\n",
       "      <td>1996-11-16</td>\n",
       "      <td>0 days 21:30:00</td>\n",
       "      <td>Belchertown, MA</td>\n",
       "      <td>MA</td>\n",
       "      <td>42</td>\n",
       "      <td>-72</td>\n",
       "      <td>116</td>\n",
       "      <td>-27</td>\n",
       "      <td>0</td>\n",
       "      <td>0</td>\n",
       "      <td>0</td>\n",
       "      <td>0</td>\n",
       "      <td>0</td>\n",
       "      <td>0</td>\n",
       "      <td>1</td>\n",
       "      <td>27</td>\n",
       "    </tr>\n",
       "    <tr>\n",
       "      <th>...</th>\n",
       "      <td>...</td>\n",
       "      <td>...</td>\n",
       "      <td>...</td>\n",
       "      <td>...</td>\n",
       "      <td>...</td>\n",
       "      <td>...</td>\n",
       "      <td>...</td>\n",
       "      <td>...</td>\n",
       "      <td>...</td>\n",
       "      <td>...</td>\n",
       "      <td>...</td>\n",
       "      <td>...</td>\n",
       "      <td>...</td>\n",
       "      <td>...</td>\n",
       "      <td>...</td>\n",
       "      <td>...</td>\n",
       "    </tr>\n",
       "    <tr>\n",
       "      <th>7488</th>\n",
       "      <td>2014-12-31</td>\n",
       "      <td>0 days 20:00:00</td>\n",
       "      <td>Kings Mountain, NC</td>\n",
       "      <td>NC</td>\n",
       "      <td>35</td>\n",
       "      <td>-81</td>\n",
       "      <td>298</td>\n",
       "      <td>-24</td>\n",
       "      <td>1</td>\n",
       "      <td>1</td>\n",
       "      <td>0</td>\n",
       "      <td>0</td>\n",
       "      <td>0</td>\n",
       "      <td>1</td>\n",
       "      <td>1</td>\n",
       "      <td>24</td>\n",
       "    </tr>\n",
       "    <tr>\n",
       "      <th>7489</th>\n",
       "      <td>2014-12-31</td>\n",
       "      <td>0 days 20:00:00</td>\n",
       "      <td>Winston-Salem, NC</td>\n",
       "      <td>NC</td>\n",
       "      <td>35</td>\n",
       "      <td>-80</td>\n",
       "      <td>264</td>\n",
       "      <td>0</td>\n",
       "      <td>0</td>\n",
       "      <td>0</td>\n",
       "      <td>1</td>\n",
       "      <td>0</td>\n",
       "      <td>0</td>\n",
       "      <td>0</td>\n",
       "      <td>0</td>\n",
       "      <td>0</td>\n",
       "    </tr>\n",
       "    <tr>\n",
       "      <th>7491</th>\n",
       "      <td>2014-12-31</td>\n",
       "      <td>0 days 22:20:00</td>\n",
       "      <td>, OH</td>\n",
       "      <td>OH</td>\n",
       "      <td>39</td>\n",
       "      <td>-83</td>\n",
       "      <td>309</td>\n",
       "      <td>-11</td>\n",
       "      <td>0</td>\n",
       "      <td>0</td>\n",
       "      <td>0</td>\n",
       "      <td>0</td>\n",
       "      <td>0</td>\n",
       "      <td>0</td>\n",
       "      <td>1</td>\n",
       "      <td>11</td>\n",
       "    </tr>\n",
       "    <tr>\n",
       "      <th>7492</th>\n",
       "      <td>2014-12-31</td>\n",
       "      <td>0 days 22:40:00</td>\n",
       "      <td>, NY</td>\n",
       "      <td>NY</td>\n",
       "      <td>40</td>\n",
       "      <td>-73</td>\n",
       "      <td>28</td>\n",
       "      <td>-14</td>\n",
       "      <td>0</td>\n",
       "      <td>0</td>\n",
       "      <td>0</td>\n",
       "      <td>0</td>\n",
       "      <td>0</td>\n",
       "      <td>1</td>\n",
       "      <td>0</td>\n",
       "      <td>14</td>\n",
       "    </tr>\n",
       "    <tr>\n",
       "      <th>7494</th>\n",
       "      <td>2014-12-31</td>\n",
       "      <td>0 days 19:12:00</td>\n",
       "      <td>Massillon, OH</td>\n",
       "      <td>OH</td>\n",
       "      <td>40</td>\n",
       "      <td>-81</td>\n",
       "      <td>310</td>\n",
       "      <td>-14</td>\n",
       "      <td>0</td>\n",
       "      <td>0</td>\n",
       "      <td>0</td>\n",
       "      <td>0</td>\n",
       "      <td>0</td>\n",
       "      <td>0</td>\n",
       "      <td>1</td>\n",
       "      <td>14</td>\n",
       "    </tr>\n",
       "  </tbody>\n",
       "</table>\n",
       "<p>3773 rows × 16 columns</p>\n",
       "</div>"
      ],
      "text/plain": [
       "           date            time             address state  latitude  \\\n",
       "id                                                                    \n",
       "2    1995-06-20 0 days 17:00:00         Munhall, PA    PA        40   \n",
       "4    1995-08-01 0 days 16:00:00       Pottstown, PA    PA        40   \n",
       "6    1996-03-15 0 days 01:30:00       Oceanside, CA    CA        33   \n",
       "7    1996-06-04 0 days 01:30:00          Temple, TX    TX        31   \n",
       "9    1996-11-16 0 days 21:30:00     Belchertown, MA    MA        42   \n",
       "...         ...             ...                 ...   ...       ...   \n",
       "7488 2014-12-31 0 days 20:00:00  Kings Mountain, NC    NC        35   \n",
       "7489 2014-12-31 0 days 20:00:00   Winston-Salem, NC    NC        35   \n",
       "7491 2014-12-31 0 days 22:20:00                , OH    OH        39   \n",
       "7492 2014-12-31 0 days 22:40:00                , NY    NY        40   \n",
       "7494 2014-12-31 0 days 19:12:00       Massillon, OH    OH        40   \n",
       "\n",
       "      longitude  elevation  magnitude  white  red  blue  green  purple  \\\n",
       "id                                                                       \n",
       "2           -79        329        -13      0    1     0      0       0   \n",
       "4           -75         46        -16      0    1     0      0       0   \n",
       "6          -117         56        -26      0    0     0      1       0   \n",
       "7           -97        195        -14      0    0     0      0       0   \n",
       "9           -72        116        -27      0    0     0      0       0   \n",
       "...         ...        ...        ...    ...  ...   ...    ...     ...   \n",
       "7488        -81        298        -24      1    1     0      0       0   \n",
       "7489        -80        264          0      0    0     1      0       0   \n",
       "7491        -83        309        -11      0    0     0      0       0   \n",
       "7492        -73         28        -14      0    0     0      0       0   \n",
       "7494        -81        310        -14      0    0     0      0       0   \n",
       "\n",
       "      orange  yellow  -magnitude  \n",
       "id                                \n",
       "2          1       0          13  \n",
       "4          0       0          16  \n",
       "6          0       1          26  \n",
       "7          1       1          14  \n",
       "9          0       1          27  \n",
       "...      ...     ...         ...  \n",
       "7488       1       1          24  \n",
       "7489       0       0           0  \n",
       "7491       0       1          11  \n",
       "7492       1       0          14  \n",
       "7494       0       1          14  \n",
       "\n",
       "[3773 rows x 16 columns]"
      ]
     },
     "execution_count": 13,
     "metadata": {},
     "output_type": "execute_result"
    }
   ],
   "source": [
    "df_cleaned_top10"
   ]
  },
  {
   "cell_type": "code",
   "execution_count": 14,
   "id": "db8eeb40",
   "metadata": {},
   "outputs": [],
   "source": [
    "df_cleaned_gb= df_cleaned_top10.groupby(by = ['state', 'latitude', 'longitude']).mean(numeric_only=True)\n",
    "df_cleaned_gb_indexes = df_cleaned_gb.index\n",
    "\n"
   ]
  },
  {
   "cell_type": "code",
   "execution_count": 15,
   "id": "93a94031",
   "metadata": {},
   "outputs": [],
   "source": [
    "index_dict = []\n",
    "for idx, mag in zip(df_cleaned_gb_indexes, df_cleaned_gb['-magnitude']):\n",
    "    index_dict.append({'state':idx[0], 'lat': idx[1], 'long' : idx[2], 'mag':mag })"
   ]
  },
  {
   "cell_type": "code",
   "execution_count": 16,
   "id": "b47d9c34",
   "metadata": {},
   "outputs": [
    {
     "data": {
      "application/vnd.plotly.v1+json": {
       "config": {
        "plotlyServerURL": "https://plot.ly"
       },
       "data": [
        {
         "hovertemplate": "state=CA<br>mag=%{marker.size}<br>lat=%{lat}<br>long=%{lon}<extra></extra>",
         "lat": {
          "bdata": "ICAgISEhIiIiIiIjIyMjJCQkJCQlJSUlJiYmJicnJycoKCkpKQ==",
          "dtype": "i1"
         },
         "legendgroup": "CA",
         "lon": {
          "bdata": "i/+M/43/iv+L/4z/iP+J/4r/i/+M/4j/if+K/4v/eP+G/4f/if+K/4b/h/+J/4r/hf+G/4f/iP+F/4b/h/+I/4T/hv+E/4b/h/8=",
          "dtype": "i2"
         },
         "marker": {
          "color": "#636efa",
          "size": {
           "bdata": "FDuxEzuxJUAAAAAAAIAsQAAAAAAAACpAXXTRRRddLEARZ+UnxFkrQAAAAAAAACtAAAAAAABAM0A7sRM7sRMwQN6nuGQI1idAIiIiIiIiLEAAAAAAAIAlQAAAAAAAACNAAAAAAACAL0AAAAAAAAAtQAAAAAAAgDRAAAAAAAAALEAAAAAAAAAAAIqd2Imd2DBASZIkSZIkKkAAAAAAAAAgQEiDNEiDNCpAmpmZmZlZKEAAAAAAAAAvQAAAAAAAAChAAAAAAAAAIEA5juM4juMpQIuv+Iqv+CpA27Zt27ZtH0AAAAAAAAAAAKuqqqqqqiZAxU7sxE7sIkCSJEmSJEkuQAAAAAAAgCtAAAAAAACAKEAAAAAAAAAgQAAAAAAAACJAAAAAAAAAMkA=",
           "dtype": "f8"
          },
          "sizemode": "area",
          "sizeref": 0.009466666666666667
         },
         "mode": "markers",
         "name": "CA",
         "showlegend": true,
         "subplot": "map",
         "type": "scattermap"
        },
        {
         "hovertemplate": "state=MA<br>mag=%{marker.size}<br>lat=%{lat}<br>long=%{lon}<extra></extra>",
         "lat": {
          "bdata": "KSkqKioq",
          "dtype": "i1"
         },
         "legendgroup": "MA",
         "lon": {
          "bdata": "ubq3uLm6",
          "dtype": "i1"
         },
         "marker": {
          "color": "#EF553B",
          "size": {
           "bdata": "0UUXXXTRI0Di4eHh4eErQJqZmZmZmSdAIiIiIiIiK0CrqqqqqooqQIMp8lk3mCxA",
           "dtype": "f8"
          },
          "sizemode": "area",
          "sizeref": 0.009466666666666667
         },
         "mode": "markers",
         "name": "MA",
         "showlegend": true,
         "subplot": "map",
         "type": "scattermap"
        },
        {
         "hovertemplate": "state=NC<br>mag=%{marker.size}<br>lat=%{lat}<br>long=%{lon}<extra></extra>",
         "lat": {
          "bdata": "IiIiIiIjIyMjIyMjIyQkJCQk",
          "dtype": "i1"
         },
         "legendgroup": "NC",
         "lon": {
          "bdata": "sLGys7Strq+wsbKzta+wsbK0",
          "dtype": "i1"
         },
         "marker": {
          "color": "#00cc96",
          "size": {
           "bdata": "AAAAAAAAAAAAAAAAAAAzQAAAAAAAADdAO7ETO7ETL0AAAAAAAAAgQAAAAAAAACdASZIkSZIkLUAAAAAAAJAnQHwaYbmnEStA27Zt27ZtKUAwRT7rBlMmQLrooosuuixAAAAAAAAAGEC66KKLLrokQAAAAAAAIDBAvYbyGsprLkAAAAAAAAAnQKuqqqqqqiJA",
           "dtype": "f8"
          },
          "sizemode": "area",
          "sizeref": 0.009466666666666667
         },
         "mode": "markers",
         "name": "NC",
         "showlegend": true,
         "subplot": "map",
         "type": "scattermap"
        },
        {
         "hovertemplate": "state=NJ<br>mag=%{marker.size}<br>lat=%{lat}<br>long=%{lon}<extra></extra>",
         "lat": {
          "bdata": "JicnKCgoKQ==",
          "dtype": "i1"
         },
         "legendgroup": "NJ",
         "lon": {
          "bdata": "trW2tba3tg==",
          "dtype": "i1"
         },
         "marker": {
          "color": "#ab63fa",
          "size": {
           "bdata": "AAAAAAAAI0D3NMJyTyMwQKK8hvIayipAAAAAAAAAJECh7H1NCMoqQIwuuuiiiy5A6Hme53meMUA=",
           "dtype": "f8"
          },
          "sizemode": "area",
          "sizeref": 0.009466666666666667
         },
         "mode": "markers",
         "name": "NJ",
         "showlegend": true,
         "subplot": "map",
         "type": "scattermap"
        },
        {
         "hovertemplate": "state=NY<br>mag=%{marker.size}<br>lat=%{lat}<br>long=%{lon}<extra></extra>",
         "lat": {
          "bdata": "KCgoKCkpKSkqKioqKioqKysrKysrKywsLCw=",
          "dtype": "i1"
         },
         "legendgroup": "NY",
         "lon": {
          "bdata": "tba3uLa3uLmxsrO0tba3sbKztLW2t7S1trc=",
          "dtype": "i1"
         },
         "marker": {
          "color": "#FFA15A",
          "size": {
           "bdata": "AAAAAAAAAAAAAAAAACArQIuv+Iqv+C1Aq6qqqqqqMUAlSZIkSZIsQIfyGsprKC1AVVVVVVVVI0AAAAAAAAAAAM3MzMzMzDNA5DiO4ziOL0AAAAAAAOAwQAAAAAAAQCxAAAAAAAAALECrqqqqqio0QDw8PDw8PCxAAAAAAAAAJEBmZmZmZmYqQOQ4juM4jixAmpmZmZkZMkAAAAAAAAAiQFVVVVVVVS1A5DiO4ziOL0AAAAAAAAAqQFVVVVVVVTRAVVVVVVXVNECrqqqqqioqQA==",
           "dtype": "f8"
          },
          "sizemode": "area",
          "sizeref": 0.009466666666666667
         },
         "mode": "markers",
         "name": "NY",
         "showlegend": true,
         "subplot": "map",
         "type": "scattermap"
        },
        {
         "hovertemplate": "state=OH<br>mag=%{marker.size}<br>lat=%{lat}<br>long=%{lon}<extra></extra>",
         "lat": {
          "bdata": "JiYmJycnJycoKCgoKCkpKSkp",
          "dtype": "i1"
         },
         "legendgroup": "OH",
         "lon": {
          "bdata": "rK2urK2ur7Csra6vsKytrq+w",
          "dtype": "i1"
         },
         "marker": {
          "color": "#19d3f3",
          "size": {
           "bdata": "AAAAAAAAN0AAAAAAAAAqQAAAAAAAgDNAelnEJ5BKLEDaS2gvob0sQMTDw8PDwytAAAAAAAAAMEAAAAAAAAA2QAAAAAAAACxAchzHcRzHK0CMLrrooosnQF100UUXXS5A2Ymd2ImdKkC3bdu2bdssQAAAAAAAAC5A0UUXXXTRL0AOa9+w9g0tQGZmZmZmZixA",
           "dtype": "f8"
          },
          "sizemode": "area",
          "sizeref": 0.009466666666666667
         },
         "mode": "markers",
         "name": "OH",
         "showlegend": true,
         "subplot": "map",
         "type": "scattermap"
        },
        {
         "hovertemplate": "state=PA<br>mag=%{marker.size}<br>lat=%{lat}<br>long=%{lon}<extra></extra>",
         "lat": {
          "bdata": "JycnJycoKCgoKCgoKSkpKSkpKSo=",
          "dtype": "i1"
         },
         "legendgroup": "PA",
         "lon": {
          "bdata": "sLGztLWwsbKztLW2sLGys7S1trA=",
          "dtype": "i1"
         },
         "marker": {
          "color": "#FF6692",
          "size": {
           "bdata": "AAAAAACANEAlSZIkSZIqQDMzMzMzMydAWlpaWlpaKEBVVVVVVVUpQAtZyEIWsipAh7VvWPuGLUB4eHh4eHguQJqZmZmZmShApze96U3vKkAPDw8PDw8rQAAAAAAA4ClAAAAAAAAALEAAAAAAAMAwQNu2bdu2bTFAAAAAAAAAL0AAAAAAAOAsQPVJn/RJnyhAAAAAAACALkAAAAAAAAAsQA==",
           "dtype": "f8"
          },
          "sizemode": "area",
          "sizeref": 0.009466666666666667
         },
         "mode": "markers",
         "name": "PA",
         "showlegend": true,
         "subplot": "map",
         "type": "scattermap"
        },
        {
         "hovertemplate": "state=TX<br>mag=%{marker.size}<br>lat=%{lat}<br>long=%{lon}<extra></extra>",
         "lat": {
          "bdata": "GRoaGxsbHBwcHBwdHR0dHR0dHR0eHh4eHh4eHh4eHx8fHx8fHx8fHx8gICAgICAgICEhISEhISEiIiMk",
          "dtype": "i1"
         },
         "legendgroup": "TX",
         "lon": {
          "bdata": "n56fnZ6fnJ2en6CZm5ydnp+goaKYm5ydnp+goaKjlpeam5ydnp+goaKbnJ2en6Chopudnp+goaKam5ub",
          "dtype": "i1"
         },
         "marker": {
          "color": "#B6E880",
          "size": {
           "bdata": "AAAAAAAAIEAAAAAAAEAxQAAAAAAAABhAAAAAAAAAN0AAAAAAAAAnQAAAAAAAADBAq6qqqqqqN0Crqqqqqqo0QAAAAAAAADRAAAAAAAAAAAAAAAAAAAAzQAAAAAAAADJAAAAAAAAAN0CrqqqqqqonQNmJndiJnTNAiYiIiIhIMEDHcRzHcRwzQGZmZmZmZjJA4T6C+wjuK0AAAAAAAAA1QAAAAAAAAC9AAAAAAAAAM0AAAAAAAAAsQEmSJEmSJCtAq6qqqqoqMED41ZhID1QsQLrooosuujFAKK+hvIbyKEAAAAAAAAAwQAAAAAAAADZAAAAAAAAAMEAAAAAAAAA1QAAAAAAAgClAAAAAAAAAMEAAAAAAAAAzQAAAAAAAACNAAAAAAAAAL0CSJEmSJEkqQAAAAAAAAC5AAAAAAAAAKECSJEmSJEkyQFVVVVVVVSdAAAAAAAAALkCrqqqqqqooQAAAAAAAACdAVVVVVVVVLEAAAAAAAAArQKuqqqqqqjFAAAAAAAAANkAAAAAAAAAtQAAAAAAAADBAVVVVVVVVKUAAAAAAAAAxQAAAAAAAICZAAAAAAAAALkBVVVVVVVUrQAAAAAAAAAAAVVVVVVVVM0AAAAAAAAAxQAAAAAAAADVA",
           "dtype": "f8"
          },
          "sizemode": "area",
          "sizeref": 0.009466666666666667
         },
         "mode": "markers",
         "name": "TX",
         "showlegend": true,
         "subplot": "map",
         "type": "scattermap"
        },
        {
         "hovertemplate": "state=VA<br>mag=%{marker.size}<br>lat=%{lat}<br>long=%{lon}<extra></extra>",
         "lat": {
          "bdata": "JCQkJCQkJCUlJSUlJSUlJiYmJyc=",
          "dtype": "i1"
         },
         "legendgroup": "VA",
         "lon": {
          "bdata": "rq+wsbK0ta6vsLGys7S1sbKzsrM=",
          "dtype": "i1"
         },
         "marker": {
          "color": "#FF97FF",
          "size": {
           "bdata": "t23btm3bNEDNzMzMzMwuQJqZmZmZmTFAL7rooosuIEAAAAAAAAA2QB4eHh4eHipAAAAAAAAAGkBVVVVVVVUhQAAAAAAAAAAAbtu2bdu2LkDkOI7jOI4tQAAAAAAAwC5A7+7u7u7uJkAzMzMzMzMyQKuqqqqqqiJAVVVVVVVVNUAndmIndmIwQJeWlpaWli1AAAAAAAAAKkBOb3rTm94qQA==",
           "dtype": "f8"
          },
          "sizemode": "area",
          "sizeref": 0.009466666666666667
         },
         "mode": "markers",
         "name": "VA",
         "showlegend": true,
         "subplot": "map",
         "type": "scattermap"
        },
        {
         "hovertemplate": "state=WA<br>mag=%{marker.size}<br>lat=%{lat}<br>long=%{lon}<extra></extra>",
         "lat": {
          "bdata": "LS0uLi4uLi4uLi8vLy8vLy8vLzAwMDAwMDA=",
          "dtype": "i1"
         },
         "legendgroup": "WA",
         "lon": {
          "bdata": "hoeEhYaHiImKi4SFhoeIiYqLooSFhoeIiYs=",
          "dtype": "i1"
         },
         "marker": {
          "color": "#FECB52",
          "size": {
           "bdata": "AAAAAAAAL0AAAAAAAAAqQAAAAAAAgCdAAAAAAAAAHEAAAAAAAEAuQAAAAAAAgDFAAAAAAAAANECamZmZmZklQFVVVVVVVSdAAAAAAACALUBu27Zt27YyQFVVVVVVVSpAcB/BfQT3LUBmZmZmZmYxQDmO4ziO4yxAAAAAAAAAMEAAAAAAAAA1QAAAAAAAgCdAAAAAAAAAJEAAAAAAAAAzQAAAAAAAgChAVVVVVVX1LkCrqqqqqqosQAAAAAAAACxAAAAAAAAALkAAAAAAAIA2QA==",
           "dtype": "f8"
          },
          "sizemode": "area",
          "sizeref": 0.009466666666666667
         },
         "mode": "markers",
         "name": "WA",
         "showlegend": true,
         "subplot": "map",
         "type": "scattermap"
        }
       ],
       "layout": {
        "height": 1200,
        "legend": {
         "itemsizing": "constant",
         "title": {
          "text": "state"
         },
         "tracegroupgap": 0
        },
        "map": {
         "center": {
          "lat": 37.38235294117647,
          "lon": -93.91596638655462
         },
         "domain": {
          "x": [
           0,
           1
          ],
          "y": [
           0,
           1
          ]
         },
         "zoom": 2.5
        },
        "mapbox": {
         "center": {
          "lat": 37.38235294117647,
          "lon": -93.91596638655462
         },
         "zoom": 2.5
        },
        "margin": {
         "t": 60
        },
        "template": {
         "data": {
          "bar": [
           {
            "error_x": {
             "color": "#2a3f5f"
            },
            "error_y": {
             "color": "#2a3f5f"
            },
            "marker": {
             "line": {
              "color": "#E5ECF6",
              "width": 0.5
             },
             "pattern": {
              "fillmode": "overlay",
              "size": 10,
              "solidity": 0.2
             }
            },
            "type": "bar"
           }
          ],
          "barpolar": [
           {
            "marker": {
             "line": {
              "color": "#E5ECF6",
              "width": 0.5
             },
             "pattern": {
              "fillmode": "overlay",
              "size": 10,
              "solidity": 0.2
             }
            },
            "type": "barpolar"
           }
          ],
          "carpet": [
           {
            "aaxis": {
             "endlinecolor": "#2a3f5f",
             "gridcolor": "white",
             "linecolor": "white",
             "minorgridcolor": "white",
             "startlinecolor": "#2a3f5f"
            },
            "baxis": {
             "endlinecolor": "#2a3f5f",
             "gridcolor": "white",
             "linecolor": "white",
             "minorgridcolor": "white",
             "startlinecolor": "#2a3f5f"
            },
            "type": "carpet"
           }
          ],
          "choropleth": [
           {
            "colorbar": {
             "outlinewidth": 0,
             "ticks": ""
            },
            "type": "choropleth"
           }
          ],
          "contour": [
           {
            "colorbar": {
             "outlinewidth": 0,
             "ticks": ""
            },
            "colorscale": [
             [
              0,
              "#0d0887"
             ],
             [
              0.1111111111111111,
              "#46039f"
             ],
             [
              0.2222222222222222,
              "#7201a8"
             ],
             [
              0.3333333333333333,
              "#9c179e"
             ],
             [
              0.4444444444444444,
              "#bd3786"
             ],
             [
              0.5555555555555556,
              "#d8576b"
             ],
             [
              0.6666666666666666,
              "#ed7953"
             ],
             [
              0.7777777777777778,
              "#fb9f3a"
             ],
             [
              0.8888888888888888,
              "#fdca26"
             ],
             [
              1,
              "#f0f921"
             ]
            ],
            "type": "contour"
           }
          ],
          "contourcarpet": [
           {
            "colorbar": {
             "outlinewidth": 0,
             "ticks": ""
            },
            "type": "contourcarpet"
           }
          ],
          "heatmap": [
           {
            "colorbar": {
             "outlinewidth": 0,
             "ticks": ""
            },
            "colorscale": [
             [
              0,
              "#0d0887"
             ],
             [
              0.1111111111111111,
              "#46039f"
             ],
             [
              0.2222222222222222,
              "#7201a8"
             ],
             [
              0.3333333333333333,
              "#9c179e"
             ],
             [
              0.4444444444444444,
              "#bd3786"
             ],
             [
              0.5555555555555556,
              "#d8576b"
             ],
             [
              0.6666666666666666,
              "#ed7953"
             ],
             [
              0.7777777777777778,
              "#fb9f3a"
             ],
             [
              0.8888888888888888,
              "#fdca26"
             ],
             [
              1,
              "#f0f921"
             ]
            ],
            "type": "heatmap"
           }
          ],
          "histogram": [
           {
            "marker": {
             "pattern": {
              "fillmode": "overlay",
              "size": 10,
              "solidity": 0.2
             }
            },
            "type": "histogram"
           }
          ],
          "histogram2d": [
           {
            "colorbar": {
             "outlinewidth": 0,
             "ticks": ""
            },
            "colorscale": [
             [
              0,
              "#0d0887"
             ],
             [
              0.1111111111111111,
              "#46039f"
             ],
             [
              0.2222222222222222,
              "#7201a8"
             ],
             [
              0.3333333333333333,
              "#9c179e"
             ],
             [
              0.4444444444444444,
              "#bd3786"
             ],
             [
              0.5555555555555556,
              "#d8576b"
             ],
             [
              0.6666666666666666,
              "#ed7953"
             ],
             [
              0.7777777777777778,
              "#fb9f3a"
             ],
             [
              0.8888888888888888,
              "#fdca26"
             ],
             [
              1,
              "#f0f921"
             ]
            ],
            "type": "histogram2d"
           }
          ],
          "histogram2dcontour": [
           {
            "colorbar": {
             "outlinewidth": 0,
             "ticks": ""
            },
            "colorscale": [
             [
              0,
              "#0d0887"
             ],
             [
              0.1111111111111111,
              "#46039f"
             ],
             [
              0.2222222222222222,
              "#7201a8"
             ],
             [
              0.3333333333333333,
              "#9c179e"
             ],
             [
              0.4444444444444444,
              "#bd3786"
             ],
             [
              0.5555555555555556,
              "#d8576b"
             ],
             [
              0.6666666666666666,
              "#ed7953"
             ],
             [
              0.7777777777777778,
              "#fb9f3a"
             ],
             [
              0.8888888888888888,
              "#fdca26"
             ],
             [
              1,
              "#f0f921"
             ]
            ],
            "type": "histogram2dcontour"
           }
          ],
          "mesh3d": [
           {
            "colorbar": {
             "outlinewidth": 0,
             "ticks": ""
            },
            "type": "mesh3d"
           }
          ],
          "parcoords": [
           {
            "line": {
             "colorbar": {
              "outlinewidth": 0,
              "ticks": ""
             }
            },
            "type": "parcoords"
           }
          ],
          "pie": [
           {
            "automargin": true,
            "type": "pie"
           }
          ],
          "scatter": [
           {
            "fillpattern": {
             "fillmode": "overlay",
             "size": 10,
             "solidity": 0.2
            },
            "type": "scatter"
           }
          ],
          "scatter3d": [
           {
            "line": {
             "colorbar": {
              "outlinewidth": 0,
              "ticks": ""
             }
            },
            "marker": {
             "colorbar": {
              "outlinewidth": 0,
              "ticks": ""
             }
            },
            "type": "scatter3d"
           }
          ],
          "scattercarpet": [
           {
            "marker": {
             "colorbar": {
              "outlinewidth": 0,
              "ticks": ""
             }
            },
            "type": "scattercarpet"
           }
          ],
          "scattergeo": [
           {
            "marker": {
             "colorbar": {
              "outlinewidth": 0,
              "ticks": ""
             }
            },
            "type": "scattergeo"
           }
          ],
          "scattergl": [
           {
            "marker": {
             "colorbar": {
              "outlinewidth": 0,
              "ticks": ""
             }
            },
            "type": "scattergl"
           }
          ],
          "scattermap": [
           {
            "marker": {
             "colorbar": {
              "outlinewidth": 0,
              "ticks": ""
             }
            },
            "type": "scattermap"
           }
          ],
          "scattermapbox": [
           {
            "marker": {
             "colorbar": {
              "outlinewidth": 0,
              "ticks": ""
             }
            },
            "type": "scattermapbox"
           }
          ],
          "scatterpolar": [
           {
            "marker": {
             "colorbar": {
              "outlinewidth": 0,
              "ticks": ""
             }
            },
            "type": "scatterpolar"
           }
          ],
          "scatterpolargl": [
           {
            "marker": {
             "colorbar": {
              "outlinewidth": 0,
              "ticks": ""
             }
            },
            "type": "scatterpolargl"
           }
          ],
          "scatterternary": [
           {
            "marker": {
             "colorbar": {
              "outlinewidth": 0,
              "ticks": ""
             }
            },
            "type": "scatterternary"
           }
          ],
          "surface": [
           {
            "colorbar": {
             "outlinewidth": 0,
             "ticks": ""
            },
            "colorscale": [
             [
              0,
              "#0d0887"
             ],
             [
              0.1111111111111111,
              "#46039f"
             ],
             [
              0.2222222222222222,
              "#7201a8"
             ],
             [
              0.3333333333333333,
              "#9c179e"
             ],
             [
              0.4444444444444444,
              "#bd3786"
             ],
             [
              0.5555555555555556,
              "#d8576b"
             ],
             [
              0.6666666666666666,
              "#ed7953"
             ],
             [
              0.7777777777777778,
              "#fb9f3a"
             ],
             [
              0.8888888888888888,
              "#fdca26"
             ],
             [
              1,
              "#f0f921"
             ]
            ],
            "type": "surface"
           }
          ],
          "table": [
           {
            "cells": {
             "fill": {
              "color": "#EBF0F8"
             },
             "line": {
              "color": "white"
             }
            },
            "header": {
             "fill": {
              "color": "#C8D4E3"
             },
             "line": {
              "color": "white"
             }
            },
            "type": "table"
           }
          ]
         },
         "layout": {
          "annotationdefaults": {
           "arrowcolor": "#2a3f5f",
           "arrowhead": 0,
           "arrowwidth": 1
          },
          "autotypenumbers": "strict",
          "coloraxis": {
           "colorbar": {
            "outlinewidth": 0,
            "ticks": ""
           }
          },
          "colorscale": {
           "diverging": [
            [
             0,
             "#8e0152"
            ],
            [
             0.1,
             "#c51b7d"
            ],
            [
             0.2,
             "#de77ae"
            ],
            [
             0.3,
             "#f1b6da"
            ],
            [
             0.4,
             "#fde0ef"
            ],
            [
             0.5,
             "#f7f7f7"
            ],
            [
             0.6,
             "#e6f5d0"
            ],
            [
             0.7,
             "#b8e186"
            ],
            [
             0.8,
             "#7fbc41"
            ],
            [
             0.9,
             "#4d9221"
            ],
            [
             1,
             "#276419"
            ]
           ],
           "sequential": [
            [
             0,
             "#0d0887"
            ],
            [
             0.1111111111111111,
             "#46039f"
            ],
            [
             0.2222222222222222,
             "#7201a8"
            ],
            [
             0.3333333333333333,
             "#9c179e"
            ],
            [
             0.4444444444444444,
             "#bd3786"
            ],
            [
             0.5555555555555556,
             "#d8576b"
            ],
            [
             0.6666666666666666,
             "#ed7953"
            ],
            [
             0.7777777777777778,
             "#fb9f3a"
            ],
            [
             0.8888888888888888,
             "#fdca26"
            ],
            [
             1,
             "#f0f921"
            ]
           ],
           "sequentialminus": [
            [
             0,
             "#0d0887"
            ],
            [
             0.1111111111111111,
             "#46039f"
            ],
            [
             0.2222222222222222,
             "#7201a8"
            ],
            [
             0.3333333333333333,
             "#9c179e"
            ],
            [
             0.4444444444444444,
             "#bd3786"
            ],
            [
             0.5555555555555556,
             "#d8576b"
            ],
            [
             0.6666666666666666,
             "#ed7953"
            ],
            [
             0.7777777777777778,
             "#fb9f3a"
            ],
            [
             0.8888888888888888,
             "#fdca26"
            ],
            [
             1,
             "#f0f921"
            ]
           ]
          },
          "colorway": [
           "#636efa",
           "#EF553B",
           "#00cc96",
           "#ab63fa",
           "#FFA15A",
           "#19d3f3",
           "#FF6692",
           "#B6E880",
           "#FF97FF",
           "#FECB52"
          ],
          "font": {
           "color": "#2a3f5f"
          },
          "geo": {
           "bgcolor": "white",
           "lakecolor": "white",
           "landcolor": "#E5ECF6",
           "showlakes": true,
           "showland": true,
           "subunitcolor": "white"
          },
          "hoverlabel": {
           "align": "left"
          },
          "hovermode": "closest",
          "mapbox": {
           "style": "light"
          },
          "paper_bgcolor": "white",
          "plot_bgcolor": "#E5ECF6",
          "polar": {
           "angularaxis": {
            "gridcolor": "white",
            "linecolor": "white",
            "ticks": ""
           },
           "bgcolor": "#E5ECF6",
           "radialaxis": {
            "gridcolor": "white",
            "linecolor": "white",
            "ticks": ""
           }
          },
          "scene": {
           "xaxis": {
            "backgroundcolor": "#E5ECF6",
            "gridcolor": "white",
            "gridwidth": 2,
            "linecolor": "white",
            "showbackground": true,
            "ticks": "",
            "zerolinecolor": "white"
           },
           "yaxis": {
            "backgroundcolor": "#E5ECF6",
            "gridcolor": "white",
            "gridwidth": 2,
            "linecolor": "white",
            "showbackground": true,
            "ticks": "",
            "zerolinecolor": "white"
           },
           "zaxis": {
            "backgroundcolor": "#E5ECF6",
            "gridcolor": "white",
            "gridwidth": 2,
            "linecolor": "white",
            "showbackground": true,
            "ticks": "",
            "zerolinecolor": "white"
           }
          },
          "shapedefaults": {
           "line": {
            "color": "#2a3f5f"
           }
          },
          "ternary": {
           "aaxis": {
            "gridcolor": "white",
            "linecolor": "white",
            "ticks": ""
           },
           "baxis": {
            "gridcolor": "white",
            "linecolor": "white",
            "ticks": ""
           },
           "bgcolor": "#E5ECF6",
           "caxis": {
            "gridcolor": "white",
            "linecolor": "white",
            "ticks": ""
           }
          },
          "title": {
           "x": 0.05
          },
          "xaxis": {
           "automargin": true,
           "gridcolor": "white",
           "linecolor": "white",
           "ticks": "",
           "title": {
            "standoff": 15
           },
           "zerolinecolor": "white",
           "zerolinewidth": 2
          },
          "yaxis": {
           "automargin": true,
           "gridcolor": "white",
           "linecolor": "white",
           "ticks": "",
           "title": {
            "standoff": 15
           },
           "zerolinecolor": "white",
           "zerolinewidth": 2
          }
         }
        },
        "width": 1200
       }
      }
     },
     "metadata": {},
     "output_type": "display_data"
    }
   ],
   "source": [
    "fig = px.scatter_map(\n",
    "                index_dict,\n",
    "                lat=\"lat\",\n",
    "                lon=\"long\",\n",
    "                color='state',\n",
    "                size='mag',\n",
    "                color_continuous_scale=px.colors.cyclical.IceFire,\n",
    "                size_max=50,\n",
    "                zoom=2.5,\n",
    "                width=1200,  # <-- 그래프 전체 가로 크기\n",
    "                height=1200\n",
    "                )\n",
    "fig.show()"
   ]
  },
  {
   "cell_type": "markdown",
   "id": "4263dec4",
   "metadata": {},
   "source": [
    "### Bottom 10 state metheo frequency"
   ]
  },
  {
   "cell_type": "code",
   "execution_count": 17,
   "id": "b49db48f",
   "metadata": {},
   "outputs": [],
   "source": [
    "bottom_10_state_list = df_state.tail(10).index"
   ]
  },
  {
   "cell_type": "code",
   "execution_count": 20,
   "id": "8fadafa3",
   "metadata": {},
   "outputs": [],
   "source": [
    "df_cleaned_bottom10 = df_cleaned[df_cleaned['state'].isin(bottom_10_state_list)]"
   ]
  },
  {
   "cell_type": "code",
   "execution_count": 21,
   "id": "407fb9f9",
   "metadata": {},
   "outputs": [
    {
     "data": {
      "text/html": [
       "<div>\n",
       "<style scoped>\n",
       "    .dataframe tbody tr th:only-of-type {\n",
       "        vertical-align: middle;\n",
       "    }\n",
       "\n",
       "    .dataframe tbody tr th {\n",
       "        vertical-align: top;\n",
       "    }\n",
       "\n",
       "    .dataframe thead th {\n",
       "        text-align: right;\n",
       "    }\n",
       "</style>\n",
       "<table border=\"1\" class=\"dataframe\">\n",
       "  <thead>\n",
       "    <tr style=\"text-align: right;\">\n",
       "      <th></th>\n",
       "      <th>date</th>\n",
       "      <th>time</th>\n",
       "      <th>address</th>\n",
       "      <th>state</th>\n",
       "      <th>latitude</th>\n",
       "      <th>longitude</th>\n",
       "      <th>elevation</th>\n",
       "      <th>magnitude</th>\n",
       "      <th>white</th>\n",
       "      <th>red</th>\n",
       "      <th>blue</th>\n",
       "      <th>green</th>\n",
       "      <th>purple</th>\n",
       "      <th>orange</th>\n",
       "      <th>yellow</th>\n",
       "      <th>-magnitude</th>\n",
       "    </tr>\n",
       "    <tr>\n",
       "      <th>id</th>\n",
       "      <th></th>\n",
       "      <th></th>\n",
       "      <th></th>\n",
       "      <th></th>\n",
       "      <th></th>\n",
       "      <th></th>\n",
       "      <th></th>\n",
       "      <th></th>\n",
       "      <th></th>\n",
       "      <th></th>\n",
       "      <th></th>\n",
       "      <th></th>\n",
       "      <th></th>\n",
       "      <th></th>\n",
       "      <th></th>\n",
       "      <th></th>\n",
       "    </tr>\n",
       "  </thead>\n",
       "  <tbody>\n",
       "    <tr>\n",
       "      <th>10</th>\n",
       "      <td>1996-12-09</td>\n",
       "      <td>0 days 20:46:00</td>\n",
       "      <td>Keystone, SD</td>\n",
       "      <td>SD</td>\n",
       "      <td>43</td>\n",
       "      <td>-103</td>\n",
       "      <td>1653</td>\n",
       "      <td>-4</td>\n",
       "      <td>0</td>\n",
       "      <td>0</td>\n",
       "      <td>0</td>\n",
       "      <td>1</td>\n",
       "      <td>0</td>\n",
       "      <td>0</td>\n",
       "      <td>0</td>\n",
       "      <td>4</td>\n",
       "    </tr>\n",
       "    <tr>\n",
       "      <th>69</th>\n",
       "      <td>2005-10-23</td>\n",
       "      <td>0 days 18:25:00</td>\n",
       "      <td>Casper, WY</td>\n",
       "      <td>WY</td>\n",
       "      <td>42</td>\n",
       "      <td>-106</td>\n",
       "      <td>1592</td>\n",
       "      <td>0</td>\n",
       "      <td>0</td>\n",
       "      <td>0</td>\n",
       "      <td>0</td>\n",
       "      <td>0</td>\n",
       "      <td>0</td>\n",
       "      <td>1</td>\n",
       "      <td>0</td>\n",
       "      <td>0</td>\n",
       "    </tr>\n",
       "    <tr>\n",
       "      <th>85</th>\n",
       "      <td>2007-07-18</td>\n",
       "      <td>0 days 02:30:00</td>\n",
       "      <td>Hill City, ID</td>\n",
       "      <td>ID</td>\n",
       "      <td>43</td>\n",
       "      <td>-115</td>\n",
       "      <td>1552</td>\n",
       "      <td>-9</td>\n",
       "      <td>0</td>\n",
       "      <td>0</td>\n",
       "      <td>0</td>\n",
       "      <td>0</td>\n",
       "      <td>0</td>\n",
       "      <td>0</td>\n",
       "      <td>1</td>\n",
       "      <td>9</td>\n",
       "    </tr>\n",
       "    <tr>\n",
       "      <th>112</th>\n",
       "      <td>2009-12-18</td>\n",
       "      <td>0 days 00:07:00</td>\n",
       "      <td>Malta, ID</td>\n",
       "      <td>ID</td>\n",
       "      <td>42</td>\n",
       "      <td>-112</td>\n",
       "      <td>1472</td>\n",
       "      <td>-18</td>\n",
       "      <td>0</td>\n",
       "      <td>1</td>\n",
       "      <td>0</td>\n",
       "      <td>0</td>\n",
       "      <td>0</td>\n",
       "      <td>0</td>\n",
       "      <td>0</td>\n",
       "      <td>18</td>\n",
       "    </tr>\n",
       "    <tr>\n",
       "      <th>155</th>\n",
       "      <td>2013-02-22</td>\n",
       "      <td>0 days 21:00:00</td>\n",
       "      <td>Fairbanks, AK</td>\n",
       "      <td>AK</td>\n",
       "      <td>64</td>\n",
       "      <td>-147</td>\n",
       "      <td>137</td>\n",
       "      <td>-26</td>\n",
       "      <td>0</td>\n",
       "      <td>0</td>\n",
       "      <td>0</td>\n",
       "      <td>1</td>\n",
       "      <td>0</td>\n",
       "      <td>0</td>\n",
       "      <td>0</td>\n",
       "      <td>26</td>\n",
       "    </tr>\n",
       "    <tr>\n",
       "      <th>...</th>\n",
       "      <td>...</td>\n",
       "      <td>...</td>\n",
       "      <td>...</td>\n",
       "      <td>...</td>\n",
       "      <td>...</td>\n",
       "      <td>...</td>\n",
       "      <td>...</td>\n",
       "      <td>...</td>\n",
       "      <td>...</td>\n",
       "      <td>...</td>\n",
       "      <td>...</td>\n",
       "      <td>...</td>\n",
       "      <td>...</td>\n",
       "      <td>...</td>\n",
       "      <td>...</td>\n",
       "      <td>...</td>\n",
       "    </tr>\n",
       "    <tr>\n",
       "      <th>6702</th>\n",
       "      <td>2014-12-29</td>\n",
       "      <td>0 days 18:32:00</td>\n",
       "      <td>Pawtucket, RI</td>\n",
       "      <td>RI</td>\n",
       "      <td>41</td>\n",
       "      <td>-71</td>\n",
       "      <td>27</td>\n",
       "      <td>-10</td>\n",
       "      <td>0</td>\n",
       "      <td>0</td>\n",
       "      <td>0</td>\n",
       "      <td>1</td>\n",
       "      <td>0</td>\n",
       "      <td>0</td>\n",
       "      <td>0</td>\n",
       "      <td>10</td>\n",
       "    </tr>\n",
       "    <tr>\n",
       "      <th>6798</th>\n",
       "      <td>2014-12-29</td>\n",
       "      <td>0 days 18:52:00</td>\n",
       "      <td>Smithfield, RI</td>\n",
       "      <td>RI</td>\n",
       "      <td>41</td>\n",
       "      <td>-71</td>\n",
       "      <td>102</td>\n",
       "      <td>-17</td>\n",
       "      <td>0</td>\n",
       "      <td>0</td>\n",
       "      <td>1</td>\n",
       "      <td>0</td>\n",
       "      <td>0</td>\n",
       "      <td>1</td>\n",
       "      <td>1</td>\n",
       "      <td>17</td>\n",
       "    </tr>\n",
       "    <tr>\n",
       "      <th>6860</th>\n",
       "      <td>2014-12-29</td>\n",
       "      <td>0 days 18:23:00</td>\n",
       "      <td>North Smithfield, RI</td>\n",
       "      <td>RI</td>\n",
       "      <td>42</td>\n",
       "      <td>-71</td>\n",
       "      <td>86</td>\n",
       "      <td>-23</td>\n",
       "      <td>0</td>\n",
       "      <td>0</td>\n",
       "      <td>0</td>\n",
       "      <td>1</td>\n",
       "      <td>0</td>\n",
       "      <td>0</td>\n",
       "      <td>0</td>\n",
       "      <td>23</td>\n",
       "    </tr>\n",
       "    <tr>\n",
       "      <th>7238</th>\n",
       "      <td>2014-12-29</td>\n",
       "      <td>0 days 18:15:00</td>\n",
       "      <td>Woonsocket, RI</td>\n",
       "      <td>RI</td>\n",
       "      <td>41</td>\n",
       "      <td>-71</td>\n",
       "      <td>43</td>\n",
       "      <td>-5</td>\n",
       "      <td>1</td>\n",
       "      <td>0</td>\n",
       "      <td>0</td>\n",
       "      <td>0</td>\n",
       "      <td>0</td>\n",
       "      <td>0</td>\n",
       "      <td>0</td>\n",
       "      <td>5</td>\n",
       "    </tr>\n",
       "    <tr>\n",
       "      <th>7248</th>\n",
       "      <td>2014-12-29</td>\n",
       "      <td>0 days 18:15:00</td>\n",
       "      <td>Lincoln, RI</td>\n",
       "      <td>RI</td>\n",
       "      <td>41</td>\n",
       "      <td>-71</td>\n",
       "      <td>42</td>\n",
       "      <td>-10</td>\n",
       "      <td>1</td>\n",
       "      <td>0</td>\n",
       "      <td>0</td>\n",
       "      <td>0</td>\n",
       "      <td>0</td>\n",
       "      <td>0</td>\n",
       "      <td>0</td>\n",
       "      <td>10</td>\n",
       "    </tr>\n",
       "  </tbody>\n",
       "</table>\n",
       "<p>132 rows × 16 columns</p>\n",
       "</div>"
      ],
      "text/plain": [
       "           date            time               address state  latitude  \\\n",
       "id                                                                      \n",
       "10   1996-12-09 0 days 20:46:00          Keystone, SD    SD        43   \n",
       "69   2005-10-23 0 days 18:25:00            Casper, WY    WY        42   \n",
       "85   2007-07-18 0 days 02:30:00         Hill City, ID    ID        43   \n",
       "112  2009-12-18 0 days 00:07:00             Malta, ID    ID        42   \n",
       "155  2013-02-22 0 days 21:00:00         Fairbanks, AK    AK        64   \n",
       "...         ...             ...                   ...   ...       ...   \n",
       "6702 2014-12-29 0 days 18:32:00         Pawtucket, RI    RI        41   \n",
       "6798 2014-12-29 0 days 18:52:00        Smithfield, RI    RI        41   \n",
       "6860 2014-12-29 0 days 18:23:00  North Smithfield, RI    RI        42   \n",
       "7238 2014-12-29 0 days 18:15:00        Woonsocket, RI    RI        41   \n",
       "7248 2014-12-29 0 days 18:15:00           Lincoln, RI    RI        41   \n",
       "\n",
       "      longitude  elevation  magnitude  white  red  blue  green  purple  \\\n",
       "id                                                                       \n",
       "10         -103       1653         -4      0    0     0      1       0   \n",
       "69         -106       1592          0      0    0     0      0       0   \n",
       "85         -115       1552         -9      0    0     0      0       0   \n",
       "112        -112       1472        -18      0    1     0      0       0   \n",
       "155        -147        137        -26      0    0     0      1       0   \n",
       "...         ...        ...        ...    ...  ...   ...    ...     ...   \n",
       "6702        -71         27        -10      0    0     0      1       0   \n",
       "6798        -71        102        -17      0    0     1      0       0   \n",
       "6860        -71         86        -23      0    0     0      1       0   \n",
       "7238        -71         43         -5      1    0     0      0       0   \n",
       "7248        -71         42        -10      1    0     0      0       0   \n",
       "\n",
       "      orange  yellow  -magnitude  \n",
       "id                                \n",
       "10         0       0           4  \n",
       "69         1       0           0  \n",
       "85         0       1           9  \n",
       "112        0       0          18  \n",
       "155        0       0          26  \n",
       "...      ...     ...         ...  \n",
       "6702       0       0          10  \n",
       "6798       1       1          17  \n",
       "6860       0       0          23  \n",
       "7238       0       0           5  \n",
       "7248       0       0          10  \n",
       "\n",
       "[132 rows x 16 columns]"
      ]
     },
     "execution_count": 21,
     "metadata": {},
     "output_type": "execute_result"
    }
   ],
   "source": [
    "df_cleaned_bottom10"
   ]
  },
  {
   "cell_type": "code",
   "execution_count": 22,
   "id": "f727fcee",
   "metadata": {},
   "outputs": [],
   "source": [
    "df_cleaned_gb= df_cleaned_bottom10.groupby(by = ['state', 'latitude', 'longitude']).mean(numeric_only=True)\n",
    "df_cleaned_gb_indexes = df_cleaned_gb.index\n",
    "\n"
   ]
  },
  {
   "cell_type": "code",
   "execution_count": 23,
   "id": "11fc815f",
   "metadata": {},
   "outputs": [],
   "source": [
    "index_dict = []\n",
    "for idx, mag in zip(df_cleaned_gb_indexes, df_cleaned_gb['-magnitude']):\n",
    "    index_dict.append({'state':idx[0], 'lat': idx[1], 'long' : idx[2], 'mag':mag })"
   ]
  },
  {
   "cell_type": "code",
   "execution_count": 24,
   "id": "29cc8423",
   "metadata": {},
   "outputs": [
    {
     "data": {
      "application/vnd.plotly.v1+json": {
       "config": {
        "plotlyServerURL": "https://plot.ly"
       },
       "data": [
        {
         "hovertemplate": "state=AK<br>mag=%{marker.size}<br>lat=%{lat}<br>long=%{lon}<extra></extra>",
         "lat": {
          "bdata": "Ojw8PUBB",
          "dtype": "i1"
         },
         "legendgroup": "AK",
         "lon": {
          "bdata": "ev9p/2v/a/9t/2v/",
          "dtype": "i2"
         },
         "marker": {
          "color": "#636efa",
          "size": {
           "bdata": "q6qqqqqqLkAAAAAAAAAcQAAAAAAAADFAAAAAAAAAMUAAAAAAAAA6QAAAAAAAAAAA",
           "dtype": "f8"
          },
          "sizemode": "area",
          "sizeref": 0.0104
         },
         "mode": "markers",
         "name": "AK",
         "showlegend": true,
         "subplot": "map",
         "type": "scattermap"
        },
        {
         "hovertemplate": "state=DC<br>mag=%{marker.size}<br>lat=%{lat}<br>long=%{lon}<extra></extra>",
         "lat": {
          "bdata": "JiY=",
          "dtype": "i1"
         },
         "legendgroup": "DC",
         "lon": {
          "bdata": "s7Q=",
          "dtype": "i1"
         },
         "marker": {
          "color": "#EF553B",
          "size": {
           "bdata": "q6qqqqqqLEAAAAAAAAAxQA==",
           "dtype": "f8"
          },
          "sizemode": "area",
          "sizeref": 0.0104
         },
         "mode": "markers",
         "name": "DC",
         "showlegend": true,
         "subplot": "map",
         "type": "scattermap"
        },
        {
         "hovertemplate": "state=ID<br>mag=%{marker.size}<br>lat=%{lat}<br>long=%{lon}<extra></extra>",
         "lat": {
          "bdata": "KisrLC0uMA==",
          "dtype": "i1"
         },
         "legendgroup": "ID",
         "lon": {
          "bdata": "kIyNjY+MjA==",
          "dtype": "i1"
         },
         "marker": {
          "color": "#00cc96",
          "size": {
           "bdata": "AAAAAAAAMkBVVVVVVVUtQAAAAAAAACJAAAAAAAAAKEAAAAAAAAAAAAAAAAAAACtAAAAAAAAAK0A=",
           "dtype": "f8"
          },
          "sizemode": "area",
          "sizeref": 0.0104
         },
         "mode": "markers",
         "name": "ID",
         "showlegend": true,
         "subplot": "map",
         "type": "scattermap"
        },
        {
         "hovertemplate": "state=MT<br>mag=%{marker.size}<br>lat=%{lat}<br>long=%{lon}<extra></extra>",
         "lat": {
          "bdata": "LS0tLS0uLy8wMA==",
          "dtype": "i1"
         },
         "legendgroup": "MT",
         "lon": {
          "bdata": "kJGSlJWOkZKNkg==",
          "dtype": "i1"
         },
         "marker": {
          "color": "#ab63fa",
          "size": {
           "bdata": "AAAAAAAAAAAAAAAAAAAqQAAAAAAAADRAVVVVVVVVL0AAAAAAAAAUQAAAAAAAAC5AAAAAAAAAKkAAAAAAAAAYQAAAAAAAACRAAAAAAAAAOEA=",
           "dtype": "f8"
          },
          "sizemode": "area",
          "sizeref": 0.0104
         },
         "mode": "markers",
         "name": "MT",
         "showlegend": true,
         "subplot": "map",
         "type": "scattermap"
        },
        {
         "hovertemplate": "state=ND<br>mag=%{marker.size}<br>lat=%{lat}<br>long=%{lon}<extra></extra>",
         "lat": {
          "bdata": "Li4vMA==",
          "dtype": "i1"
         },
         "legendgroup": "ND",
         "lon": {
          "bdata": "naCfmQ==",
          "dtype": "i1"
         },
         "marker": {
          "color": "#FFA15A",
          "size": {
           "bdata": "AAAAAAAAMkAAAAAAAAAsQAAAAAAAACpAAAAAAAAAJkA=",
           "dtype": "f8"
          },
          "sizemode": "area",
          "sizeref": 0.0104
         },
         "mode": "markers",
         "name": "ND",
         "showlegend": true,
         "subplot": "map",
         "type": "scattermap"
        },
        {
         "hovertemplate": "state=NE<br>mag=%{marker.size}<br>lat=%{lat}<br>long=%{lon}<extra></extra>",
         "lat": {
          "bdata": "KCgoKCkpKg==",
          "dtype": "i1"
         },
         "legendgroup": "NE",
         "lon": {
          "bdata": "nZ6goaChnw==",
          "dtype": "i1"
         },
         "marker": {
          "color": "#19d3f3",
          "size": {
           "bdata": "AAAAAAAAMUAAAAAAAIAwQDMzMzMzMzRAAAAAAAAALkAAAAAAAIAuQAAAAAAAACxAAAAAAAAAJ0A=",
           "dtype": "f8"
          },
          "sizemode": "area",
          "sizeref": 0.0104
         },
         "mode": "markers",
         "name": "NE",
         "showlegend": true,
         "subplot": "map",
         "type": "scattermap"
        },
        {
         "hovertemplate": "state=NV<br>mag=%{marker.size}<br>lat=%{lat}<br>long=%{lon}<extra></extra>",
         "lat": {
          "bdata": "IyMkJCYnJw==",
          "dtype": "i1"
         },
         "legendgroup": "NV",
         "lon": {
          "bdata": "jY6NjomJig==",
          "dtype": "i1"
         },
         "marker": {
          "color": "#FF6692",
          "size": {
           "bdata": "AAAAAAAAIEAAAAAAAAAgQFVVVVVVVTJAAAAAAAAALkAAAAAAAAAkQFVVVVVVVSlAAAAAAAAAGEA=",
           "dtype": "f8"
          },
          "sizemode": "area",
          "sizeref": 0.0104
         },
         "mode": "markers",
         "name": "NV",
         "showlegend": true,
         "subplot": "map",
         "type": "scattermap"
        },
        {
         "hovertemplate": "state=RI<br>mag=%{marker.size}<br>lat=%{lat}<br>long=%{lon}<extra></extra>",
         "lat": {
          "bdata": "KSo=",
          "dtype": "i1"
         },
         "legendgroup": "RI",
         "lon": {
          "bdata": "ubk=",
          "dtype": "i1"
         },
         "marker": {
          "color": "#B6E880",
          "size": {
           "bdata": "MzMzMzOzK0AAAAAAAAA3QA==",
           "dtype": "f8"
          },
          "sizemode": "area",
          "sizeref": 0.0104
         },
         "mode": "markers",
         "name": "RI",
         "showlegend": true,
         "subplot": "map",
         "type": "scattermap"
        },
        {
         "hovertemplate": "state=SD<br>mag=%{marker.size}<br>lat=%{lat}<br>long=%{lon}<extra></extra>",
         "lat": {
          "bdata": "KCsrLCw=",
          "dtype": "i1"
         },
         "legendgroup": "SD",
         "lon": {
          "bdata": "sJmgmaA=",
          "dtype": "i1"
         },
         "marker": {
          "color": "#FF97FF",
          "size": {
           "bdata": "AAAAAAAALkBVVVVVVVUjQJqZmZmZmRVAAAAAAAAAAAAAAAAAAAAuQA==",
           "dtype": "f8"
          },
          "sizemode": "area",
          "sizeref": 0.0104
         },
         "mode": "markers",
         "name": "SD",
         "showlegend": true,
         "subplot": "map",
         "type": "scattermap"
        },
        {
         "hovertemplate": "state=WY<br>mag=%{marker.size}<br>lat=%{lat}<br>long=%{lon}<extra></extra>",
         "lat": {
          "bdata": "KSkpKSorLCwsLA==",
          "dtype": "i1"
         },
         "legendgroup": "WY",
         "lon": {
          "bdata": "kpWXmJaUk5SWlw==",
          "dtype": "i1"
         },
         "marker": {
          "color": "#FECB52",
          "size": {
           "bdata": "AAAAAAAALkAAAAAAAAAgQAAAAAAAAChAAAAAAAAAFkAAAAAAAAAkQAAAAAAAAC5AAAAAAAAAKEAAAAAAAAA5QAAAAAAAABxAAAAAAAAAIEA=",
           "dtype": "f8"
          },
          "sizemode": "area",
          "sizeref": 0.0104
         },
         "mode": "markers",
         "name": "WY",
         "showlegend": true,
         "subplot": "map",
         "type": "scattermap"
        }
       ],
       "layout": {
        "height": 1200,
        "legend": {
         "itemsizing": "constant",
         "title": {
          "text": "state"
         },
         "tracegroupgap": 0
        },
        "map": {
         "center": {
          "lat": 44.45,
          "lon": -108.6
         },
         "domain": {
          "x": [
           0,
           1
          ],
          "y": [
           0,
           1
          ]
         },
         "zoom": 2.5
        },
        "mapbox": {
         "center": {
          "lat": 44.45,
          "lon": -108.6
         },
         "zoom": 2.5
        },
        "margin": {
         "t": 60
        },
        "template": {
         "data": {
          "bar": [
           {
            "error_x": {
             "color": "#2a3f5f"
            },
            "error_y": {
             "color": "#2a3f5f"
            },
            "marker": {
             "line": {
              "color": "#E5ECF6",
              "width": 0.5
             },
             "pattern": {
              "fillmode": "overlay",
              "size": 10,
              "solidity": 0.2
             }
            },
            "type": "bar"
           }
          ],
          "barpolar": [
           {
            "marker": {
             "line": {
              "color": "#E5ECF6",
              "width": 0.5
             },
             "pattern": {
              "fillmode": "overlay",
              "size": 10,
              "solidity": 0.2
             }
            },
            "type": "barpolar"
           }
          ],
          "carpet": [
           {
            "aaxis": {
             "endlinecolor": "#2a3f5f",
             "gridcolor": "white",
             "linecolor": "white",
             "minorgridcolor": "white",
             "startlinecolor": "#2a3f5f"
            },
            "baxis": {
             "endlinecolor": "#2a3f5f",
             "gridcolor": "white",
             "linecolor": "white",
             "minorgridcolor": "white",
             "startlinecolor": "#2a3f5f"
            },
            "type": "carpet"
           }
          ],
          "choropleth": [
           {
            "colorbar": {
             "outlinewidth": 0,
             "ticks": ""
            },
            "type": "choropleth"
           }
          ],
          "contour": [
           {
            "colorbar": {
             "outlinewidth": 0,
             "ticks": ""
            },
            "colorscale": [
             [
              0,
              "#0d0887"
             ],
             [
              0.1111111111111111,
              "#46039f"
             ],
             [
              0.2222222222222222,
              "#7201a8"
             ],
             [
              0.3333333333333333,
              "#9c179e"
             ],
             [
              0.4444444444444444,
              "#bd3786"
             ],
             [
              0.5555555555555556,
              "#d8576b"
             ],
             [
              0.6666666666666666,
              "#ed7953"
             ],
             [
              0.7777777777777778,
              "#fb9f3a"
             ],
             [
              0.8888888888888888,
              "#fdca26"
             ],
             [
              1,
              "#f0f921"
             ]
            ],
            "type": "contour"
           }
          ],
          "contourcarpet": [
           {
            "colorbar": {
             "outlinewidth": 0,
             "ticks": ""
            },
            "type": "contourcarpet"
           }
          ],
          "heatmap": [
           {
            "colorbar": {
             "outlinewidth": 0,
             "ticks": ""
            },
            "colorscale": [
             [
              0,
              "#0d0887"
             ],
             [
              0.1111111111111111,
              "#46039f"
             ],
             [
              0.2222222222222222,
              "#7201a8"
             ],
             [
              0.3333333333333333,
              "#9c179e"
             ],
             [
              0.4444444444444444,
              "#bd3786"
             ],
             [
              0.5555555555555556,
              "#d8576b"
             ],
             [
              0.6666666666666666,
              "#ed7953"
             ],
             [
              0.7777777777777778,
              "#fb9f3a"
             ],
             [
              0.8888888888888888,
              "#fdca26"
             ],
             [
              1,
              "#f0f921"
             ]
            ],
            "type": "heatmap"
           }
          ],
          "histogram": [
           {
            "marker": {
             "pattern": {
              "fillmode": "overlay",
              "size": 10,
              "solidity": 0.2
             }
            },
            "type": "histogram"
           }
          ],
          "histogram2d": [
           {
            "colorbar": {
             "outlinewidth": 0,
             "ticks": ""
            },
            "colorscale": [
             [
              0,
              "#0d0887"
             ],
             [
              0.1111111111111111,
              "#46039f"
             ],
             [
              0.2222222222222222,
              "#7201a8"
             ],
             [
              0.3333333333333333,
              "#9c179e"
             ],
             [
              0.4444444444444444,
              "#bd3786"
             ],
             [
              0.5555555555555556,
              "#d8576b"
             ],
             [
              0.6666666666666666,
              "#ed7953"
             ],
             [
              0.7777777777777778,
              "#fb9f3a"
             ],
             [
              0.8888888888888888,
              "#fdca26"
             ],
             [
              1,
              "#f0f921"
             ]
            ],
            "type": "histogram2d"
           }
          ],
          "histogram2dcontour": [
           {
            "colorbar": {
             "outlinewidth": 0,
             "ticks": ""
            },
            "colorscale": [
             [
              0,
              "#0d0887"
             ],
             [
              0.1111111111111111,
              "#46039f"
             ],
             [
              0.2222222222222222,
              "#7201a8"
             ],
             [
              0.3333333333333333,
              "#9c179e"
             ],
             [
              0.4444444444444444,
              "#bd3786"
             ],
             [
              0.5555555555555556,
              "#d8576b"
             ],
             [
              0.6666666666666666,
              "#ed7953"
             ],
             [
              0.7777777777777778,
              "#fb9f3a"
             ],
             [
              0.8888888888888888,
              "#fdca26"
             ],
             [
              1,
              "#f0f921"
             ]
            ],
            "type": "histogram2dcontour"
           }
          ],
          "mesh3d": [
           {
            "colorbar": {
             "outlinewidth": 0,
             "ticks": ""
            },
            "type": "mesh3d"
           }
          ],
          "parcoords": [
           {
            "line": {
             "colorbar": {
              "outlinewidth": 0,
              "ticks": ""
             }
            },
            "type": "parcoords"
           }
          ],
          "pie": [
           {
            "automargin": true,
            "type": "pie"
           }
          ],
          "scatter": [
           {
            "fillpattern": {
             "fillmode": "overlay",
             "size": 10,
             "solidity": 0.2
            },
            "type": "scatter"
           }
          ],
          "scatter3d": [
           {
            "line": {
             "colorbar": {
              "outlinewidth": 0,
              "ticks": ""
             }
            },
            "marker": {
             "colorbar": {
              "outlinewidth": 0,
              "ticks": ""
             }
            },
            "type": "scatter3d"
           }
          ],
          "scattercarpet": [
           {
            "marker": {
             "colorbar": {
              "outlinewidth": 0,
              "ticks": ""
             }
            },
            "type": "scattercarpet"
           }
          ],
          "scattergeo": [
           {
            "marker": {
             "colorbar": {
              "outlinewidth": 0,
              "ticks": ""
             }
            },
            "type": "scattergeo"
           }
          ],
          "scattergl": [
           {
            "marker": {
             "colorbar": {
              "outlinewidth": 0,
              "ticks": ""
             }
            },
            "type": "scattergl"
           }
          ],
          "scattermap": [
           {
            "marker": {
             "colorbar": {
              "outlinewidth": 0,
              "ticks": ""
             }
            },
            "type": "scattermap"
           }
          ],
          "scattermapbox": [
           {
            "marker": {
             "colorbar": {
              "outlinewidth": 0,
              "ticks": ""
             }
            },
            "type": "scattermapbox"
           }
          ],
          "scatterpolar": [
           {
            "marker": {
             "colorbar": {
              "outlinewidth": 0,
              "ticks": ""
             }
            },
            "type": "scatterpolar"
           }
          ],
          "scatterpolargl": [
           {
            "marker": {
             "colorbar": {
              "outlinewidth": 0,
              "ticks": ""
             }
            },
            "type": "scatterpolargl"
           }
          ],
          "scatterternary": [
           {
            "marker": {
             "colorbar": {
              "outlinewidth": 0,
              "ticks": ""
             }
            },
            "type": "scatterternary"
           }
          ],
          "surface": [
           {
            "colorbar": {
             "outlinewidth": 0,
             "ticks": ""
            },
            "colorscale": [
             [
              0,
              "#0d0887"
             ],
             [
              0.1111111111111111,
              "#46039f"
             ],
             [
              0.2222222222222222,
              "#7201a8"
             ],
             [
              0.3333333333333333,
              "#9c179e"
             ],
             [
              0.4444444444444444,
              "#bd3786"
             ],
             [
              0.5555555555555556,
              "#d8576b"
             ],
             [
              0.6666666666666666,
              "#ed7953"
             ],
             [
              0.7777777777777778,
              "#fb9f3a"
             ],
             [
              0.8888888888888888,
              "#fdca26"
             ],
             [
              1,
              "#f0f921"
             ]
            ],
            "type": "surface"
           }
          ],
          "table": [
           {
            "cells": {
             "fill": {
              "color": "#EBF0F8"
             },
             "line": {
              "color": "white"
             }
            },
            "header": {
             "fill": {
              "color": "#C8D4E3"
             },
             "line": {
              "color": "white"
             }
            },
            "type": "table"
           }
          ]
         },
         "layout": {
          "annotationdefaults": {
           "arrowcolor": "#2a3f5f",
           "arrowhead": 0,
           "arrowwidth": 1
          },
          "autotypenumbers": "strict",
          "coloraxis": {
           "colorbar": {
            "outlinewidth": 0,
            "ticks": ""
           }
          },
          "colorscale": {
           "diverging": [
            [
             0,
             "#8e0152"
            ],
            [
             0.1,
             "#c51b7d"
            ],
            [
             0.2,
             "#de77ae"
            ],
            [
             0.3,
             "#f1b6da"
            ],
            [
             0.4,
             "#fde0ef"
            ],
            [
             0.5,
             "#f7f7f7"
            ],
            [
             0.6,
             "#e6f5d0"
            ],
            [
             0.7,
             "#b8e186"
            ],
            [
             0.8,
             "#7fbc41"
            ],
            [
             0.9,
             "#4d9221"
            ],
            [
             1,
             "#276419"
            ]
           ],
           "sequential": [
            [
             0,
             "#0d0887"
            ],
            [
             0.1111111111111111,
             "#46039f"
            ],
            [
             0.2222222222222222,
             "#7201a8"
            ],
            [
             0.3333333333333333,
             "#9c179e"
            ],
            [
             0.4444444444444444,
             "#bd3786"
            ],
            [
             0.5555555555555556,
             "#d8576b"
            ],
            [
             0.6666666666666666,
             "#ed7953"
            ],
            [
             0.7777777777777778,
             "#fb9f3a"
            ],
            [
             0.8888888888888888,
             "#fdca26"
            ],
            [
             1,
             "#f0f921"
            ]
           ],
           "sequentialminus": [
            [
             0,
             "#0d0887"
            ],
            [
             0.1111111111111111,
             "#46039f"
            ],
            [
             0.2222222222222222,
             "#7201a8"
            ],
            [
             0.3333333333333333,
             "#9c179e"
            ],
            [
             0.4444444444444444,
             "#bd3786"
            ],
            [
             0.5555555555555556,
             "#d8576b"
            ],
            [
             0.6666666666666666,
             "#ed7953"
            ],
            [
             0.7777777777777778,
             "#fb9f3a"
            ],
            [
             0.8888888888888888,
             "#fdca26"
            ],
            [
             1,
             "#f0f921"
            ]
           ]
          },
          "colorway": [
           "#636efa",
           "#EF553B",
           "#00cc96",
           "#ab63fa",
           "#FFA15A",
           "#19d3f3",
           "#FF6692",
           "#B6E880",
           "#FF97FF",
           "#FECB52"
          ],
          "font": {
           "color": "#2a3f5f"
          },
          "geo": {
           "bgcolor": "white",
           "lakecolor": "white",
           "landcolor": "#E5ECF6",
           "showlakes": true,
           "showland": true,
           "subunitcolor": "white"
          },
          "hoverlabel": {
           "align": "left"
          },
          "hovermode": "closest",
          "mapbox": {
           "style": "light"
          },
          "paper_bgcolor": "white",
          "plot_bgcolor": "#E5ECF6",
          "polar": {
           "angularaxis": {
            "gridcolor": "white",
            "linecolor": "white",
            "ticks": ""
           },
           "bgcolor": "#E5ECF6",
           "radialaxis": {
            "gridcolor": "white",
            "linecolor": "white",
            "ticks": ""
           }
          },
          "scene": {
           "xaxis": {
            "backgroundcolor": "#E5ECF6",
            "gridcolor": "white",
            "gridwidth": 2,
            "linecolor": "white",
            "showbackground": true,
            "ticks": "",
            "zerolinecolor": "white"
           },
           "yaxis": {
            "backgroundcolor": "#E5ECF6",
            "gridcolor": "white",
            "gridwidth": 2,
            "linecolor": "white",
            "showbackground": true,
            "ticks": "",
            "zerolinecolor": "white"
           },
           "zaxis": {
            "backgroundcolor": "#E5ECF6",
            "gridcolor": "white",
            "gridwidth": 2,
            "linecolor": "white",
            "showbackground": true,
            "ticks": "",
            "zerolinecolor": "white"
           }
          },
          "shapedefaults": {
           "line": {
            "color": "#2a3f5f"
           }
          },
          "ternary": {
           "aaxis": {
            "gridcolor": "white",
            "linecolor": "white",
            "ticks": ""
           },
           "baxis": {
            "gridcolor": "white",
            "linecolor": "white",
            "ticks": ""
           },
           "bgcolor": "#E5ECF6",
           "caxis": {
            "gridcolor": "white",
            "linecolor": "white",
            "ticks": ""
           }
          },
          "title": {
           "x": 0.05
          },
          "xaxis": {
           "automargin": true,
           "gridcolor": "white",
           "linecolor": "white",
           "ticks": "",
           "title": {
            "standoff": 15
           },
           "zerolinecolor": "white",
           "zerolinewidth": 2
          },
          "yaxis": {
           "automargin": true,
           "gridcolor": "white",
           "linecolor": "white",
           "ticks": "",
           "title": {
            "standoff": 15
           },
           "zerolinecolor": "white",
           "zerolinewidth": 2
          }
         }
        },
        "width": 1200
       }
      }
     },
     "metadata": {},
     "output_type": "display_data"
    }
   ],
   "source": [
    "fig = px.scatter_map(\n",
    "                index_dict,\n",
    "                lat=\"lat\",\n",
    "                lon=\"long\",\n",
    "                color='state',\n",
    "                size='mag',\n",
    "                color_continuous_scale=px.colors.cyclical.IceFire,\n",
    "                size_max=50,\n",
    "                zoom=2.5,\n",
    "                width=1200,  # <-- 그래프 전체 가로 크기\n",
    "                height=1200\n",
    "                )\n",
    "fig.show()"
   ]
  },
  {
   "cell_type": "markdown",
   "id": "0d623f5d",
   "metadata": {},
   "source": [
    "### Monthly Frequency"
   ]
  },
  {
   "cell_type": "markdown",
   "id": "a56ba6a0",
   "metadata": {},
   "source": [
    "#### data preprocess"
   ]
  },
  {
   "cell_type": "code",
   "execution_count": 54,
   "id": "159f1b9e",
   "metadata": {},
   "outputs": [],
   "source": [
    "df['date'] = pd.to_datetime(df['date'], errors='coerce')\n",
    "\n",
    "# 날짜 변환에 실패한 행(NaT) 제거\n",
    "df = df.dropna(subset=['date'])\n",
    "\n",
    "# 월(숫자 1-12) 추출\n",
    "df['month'] = df['date'].dt.month\n",
    "\n",
    "# 월별 빈도수 계산\n",
    "monthly_counts = df['month'].value_counts().reset_index()\n",
    "monthly_counts.columns = ['Month', 'Frequency']\n",
    "\n",
    "# 차트 표시를 위해 월(1-12) 순서로 정렬\n",
    "monthly_counts = monthly_counts.sort_values(by='Month')\n",
    "\n",
    "\n",
    "monthly_counts['Change'] = monthly_counts['Frequency'].diff().fillna(0).astype(int)\n",
    "\n",
    "monthly_counts['Month_str'] = monthly_counts['Month'].astype(str)"
   ]
  },
  {
   "cell_type": "markdown",
   "id": "31b75d00",
   "metadata": {},
   "source": [
    "#### Visualize"
   ]
  },
  {
   "cell_type": "code",
   "execution_count": 65,
   "id": "b8abdaf8",
   "metadata": {},
   "outputs": [],
   "source": [
    "\n",
    "from bokeh.plotting import figure, show\n",
    "from bokeh.models import ColumnDataSource, LabelSet, LinearAxis, Range1d\n",
    "from bokeh.palettes import Set3_12\n",
    "from bokeh.transform import factor_cmap"
   ]
  },
  {
   "cell_type": "code",
   "execution_count": 73,
   "id": "2a6292f6",
   "metadata": {},
   "outputs": [
    {
     "name": "stderr",
     "output_type": "stream",
     "text": [
      "/tmp/ipykernel_7719/3701440482.py:43: BokehDeprecationWarning:\n",
      "\n",
      "'circle() method with size value' was deprecated in Bokeh 3.4.0 and will be removed, use 'scatter(size=...) instead' instead.\n",
      "\n"
     ]
    }
   ],
   "source": [
    "\n",
    "source = ColumnDataSource(monthly_counts)\n",
    "month_list = list(monthly_counts['Month_str'])\n",
    "\n",
    "# --- Y축 범위 설정 ---\n",
    "# 1. 기본 Y축 (Frequency) 범위\n",
    "# (데이터 최대값보다 10% 정도 여유 공간을 줌)\n",
    "y_freq_range = Range1d(start=0, end=monthly_counts['Frequency'].max() * 1.1)\n",
    "\n",
    "# 2. 보조 Y축 (Change) 범위\n",
    "# (데이터 최대/최소값보다 10% 정도 여유 공간을 줌)\n",
    "y_change_min = monthly_counts['Change'].min()\n",
    "y_change_max = monthly_counts['Change'].max()\n",
    "padding = (y_change_max - y_change_min) * 0.1\n",
    "y_change_range = Range1d(start=y_change_min - padding, end=y_change_max + padding)\n",
    "\n",
    "# --- Figure 생성 및 보조 Y축 추가 ---\n",
    "\n",
    "p = figure(x_range= month_list, \n",
    "        y_range=y_freq_range, # 기본 Y축 범위 설정\n",
    "        height=600, \n",
    "        width=1000,\n",
    "        title=\"월별 관측 결과 및 변동량 \")\n",
    "\n",
    "# 보조 Y축 (Change) 설정\n",
    "p.extra_y_ranges = {\"change_axis\": y_change_range}\n",
    "p.add_layout(LinearAxis(y_range_name=\"change_axis\", axis_label=\"Monthly Change\"), 'right') # 오른쪽에 추가\n",
    "\n",
    "# --- 1. 막대 그래프 (Frequency) ---\n",
    "color_map = factor_cmap(field_name='Month_str', palette=Set3_12, factors=month_list)\n",
    "p.vbar(x='Month_str', top='Frequency', width=0.9, source=source,\n",
    "    line_color=\"black\", fill_color=color_map, legend_label=\"Frequency\")\n",
    "       \n",
    "labels_bars = LabelSet(x='Month_str', y='Frequency', text='Frequency',\n",
    "                    x_offset=0, y_offset=5, source=source, \n",
    "                    text_font_size=\"15pt\", text_align='center')\n",
    "p.add_layout(labels_bars)\n",
    "\n",
    "# --- 2. 꺾은선 그래프 (Change) ---\n",
    "p.line(x='Month_str', y='Change', source=source, line_width=3, color=\"slategray\",\n",
    "    y_range_name=\"change_axis\", # 보조 Y축 사용\n",
    "    legend_label=\"Monthly Change\")\n",
    "    \n",
    "p.circle(x='Month_str', y='Change', source=source, fill_color=\"slategray\", color=\"slategray\", size=6,\n",
    "        y_range_name=\"change_axis\") # 보조 Y축 사용\n",
    "\n",
    "# --- 차트 꾸미기 ---\n",
    "p.xgrid.grid_line_color = None\n",
    "p.xaxis.axis_label = \"Month (1-12)\"\n",
    "p.yaxis.axis_label = \"Observation Frequency\"\n",
    "p.xaxis.major_label_text_font_size = \"15pt\"\n",
    "p.legend.location = \"top_left\"\n",
    "p.legend.click_policy=\"hide\" # 범례 클릭 시 숨기기\n",
    "\n",
    "show(p)"
   ]
  },
  {
   "attachments": {
    "monthly_chart.png": {
     "image/png": "[encoded data removed]"
    }
   },
   "cell_type": "markdown",
   "id": "34558466",
   "metadata": {},
   "source": [
    "![monthly_chart.png](attachment:monthly_chart.png)"
   ]
  },
  {
   "cell_type": "markdown",
   "id": "2bc10072",
   "metadata": {},
   "source": [
    "### time series data"
   ]
  },
  {
   "cell_type": "markdown",
   "id": "37ff8612",
   "metadata": {},
   "source": [
    "#### preprocess"
   ]
  },
  {
   "cell_type": "code",
   "execution_count": 79,
   "id": "1d688537",
   "metadata": {},
   "outputs": [
    {
     "data": {
      "text/html": [
       "<div>\n",
       "<style scoped>\n",
       "    .dataframe tbody tr th:only-of-type {\n",
       "        vertical-align: middle;\n",
       "    }\n",
       "\n",
       "    .dataframe tbody tr th {\n",
       "        vertical-align: top;\n",
       "    }\n",
       "\n",
       "    .dataframe thead th {\n",
       "        text-align: right;\n",
       "    }\n",
       "</style>\n",
       "<table border=\"1\" class=\"dataframe\">\n",
       "  <thead>\n",
       "    <tr style=\"text-align: right;\">\n",
       "      <th></th>\n",
       "      <th>id</th>\n",
       "      <th>date</th>\n",
       "      <th>time</th>\n",
       "      <th>address</th>\n",
       "      <th>state</th>\n",
       "      <th>latitude</th>\n",
       "      <th>longitude</th>\n",
       "      <th>elevation</th>\n",
       "      <th>magnitude</th>\n",
       "      <th>white</th>\n",
       "      <th>red</th>\n",
       "      <th>blue</th>\n",
       "      <th>green</th>\n",
       "      <th>purple</th>\n",
       "      <th>orange</th>\n",
       "      <th>yellow</th>\n",
       "      <th>-magnitude</th>\n",
       "      <th>datetime</th>\n",
       "    </tr>\n",
       "  </thead>\n",
       "  <tbody>\n",
       "    <tr>\n",
       "      <th>0</th>\n",
       "      <td>1</td>\n",
       "      <td>1995-06-08</td>\n",
       "      <td>0 days 02:00:00</td>\n",
       "      <td>Trafalgar, IN</td>\n",
       "      <td>IN</td>\n",
       "      <td>39</td>\n",
       "      <td>-86</td>\n",
       "      <td>267</td>\n",
       "      <td>-13</td>\n",
       "      <td>0</td>\n",
       "      <td>0</td>\n",
       "      <td>0</td>\n",
       "      <td>1</td>\n",
       "      <td>0</td>\n",
       "      <td>0</td>\n",
       "      <td>0</td>\n",
       "      <td>13</td>\n",
       "      <td>1995-06-08 02:00:00</td>\n",
       "    </tr>\n",
       "    <tr>\n",
       "      <th>1</th>\n",
       "      <td>2</td>\n",
       "      <td>1995-06-20</td>\n",
       "      <td>0 days 17:00:00</td>\n",
       "      <td>Munhall, PA</td>\n",
       "      <td>PA</td>\n",
       "      <td>40</td>\n",
       "      <td>-79</td>\n",
       "      <td>329</td>\n",
       "      <td>-13</td>\n",
       "      <td>0</td>\n",
       "      <td>1</td>\n",
       "      <td>0</td>\n",
       "      <td>0</td>\n",
       "      <td>0</td>\n",
       "      <td>1</td>\n",
       "      <td>0</td>\n",
       "      <td>13</td>\n",
       "      <td>1995-06-20 17:00:00</td>\n",
       "    </tr>\n",
       "    <tr>\n",
       "      <th>2</th>\n",
       "      <td>3</td>\n",
       "      <td>1995-07-04</td>\n",
       "      <td>0 days 21:30:00</td>\n",
       "      <td>Myrtle, MS</td>\n",
       "      <td>MS</td>\n",
       "      <td>34</td>\n",
       "      <td>-89</td>\n",
       "      <td>108</td>\n",
       "      <td>-19</td>\n",
       "      <td>0</td>\n",
       "      <td>1</td>\n",
       "      <td>0</td>\n",
       "      <td>0</td>\n",
       "      <td>0</td>\n",
       "      <td>1</td>\n",
       "      <td>1</td>\n",
       "      <td>19</td>\n",
       "      <td>1995-07-04 21:30:00</td>\n",
       "    </tr>\n",
       "    <tr>\n",
       "      <th>3</th>\n",
       "      <td>4</td>\n",
       "      <td>1995-08-01</td>\n",
       "      <td>0 days 16:00:00</td>\n",
       "      <td>Pottstown, PA</td>\n",
       "      <td>PA</td>\n",
       "      <td>40</td>\n",
       "      <td>-75</td>\n",
       "      <td>46</td>\n",
       "      <td>-16</td>\n",
       "      <td>0</td>\n",
       "      <td>1</td>\n",
       "      <td>0</td>\n",
       "      <td>0</td>\n",
       "      <td>0</td>\n",
       "      <td>0</td>\n",
       "      <td>0</td>\n",
       "      <td>16</td>\n",
       "      <td>1995-08-01 16:00:00</td>\n",
       "    </tr>\n",
       "    <tr>\n",
       "      <th>4</th>\n",
       "      <td>5</td>\n",
       "      <td>1995-12-15</td>\n",
       "      <td>0 days 06:50:00</td>\n",
       "      <td>Eagan, MN</td>\n",
       "      <td>MN</td>\n",
       "      <td>44</td>\n",
       "      <td>-93</td>\n",
       "      <td>257</td>\n",
       "      <td>-15</td>\n",
       "      <td>1</td>\n",
       "      <td>0</td>\n",
       "      <td>0</td>\n",
       "      <td>0</td>\n",
       "      <td>0</td>\n",
       "      <td>0</td>\n",
       "      <td>0</td>\n",
       "      <td>15</td>\n",
       "      <td>1995-12-15 06:50:00</td>\n",
       "    </tr>\n",
       "    <tr>\n",
       "      <th>...</th>\n",
       "      <td>...</td>\n",
       "      <td>...</td>\n",
       "      <td>...</td>\n",
       "      <td>...</td>\n",
       "      <td>...</td>\n",
       "      <td>...</td>\n",
       "      <td>...</td>\n",
       "      <td>...</td>\n",
       "      <td>...</td>\n",
       "      <td>...</td>\n",
       "      <td>...</td>\n",
       "      <td>...</td>\n",
       "      <td>...</td>\n",
       "      <td>...</td>\n",
       "      <td>...</td>\n",
       "      <td>...</td>\n",
       "      <td>...</td>\n",
       "      <td>...</td>\n",
       "    </tr>\n",
       "    <tr>\n",
       "      <th>7489</th>\n",
       "      <td>7490</td>\n",
       "      <td>2014-12-31</td>\n",
       "      <td>0 days 02:08:00</td>\n",
       "      <td>Depoe Bay, OR</td>\n",
       "      <td>OR</td>\n",
       "      <td>44</td>\n",
       "      <td>-124</td>\n",
       "      <td>12</td>\n",
       "      <td>-6</td>\n",
       "      <td>1</td>\n",
       "      <td>0</td>\n",
       "      <td>0</td>\n",
       "      <td>0</td>\n",
       "      <td>0</td>\n",
       "      <td>0</td>\n",
       "      <td>0</td>\n",
       "      <td>6</td>\n",
       "      <td>2014-12-31 02:08:00</td>\n",
       "    </tr>\n",
       "    <tr>\n",
       "      <th>7490</th>\n",
       "      <td>7491</td>\n",
       "      <td>2014-12-31</td>\n",
       "      <td>0 days 22:20:00</td>\n",
       "      <td>, OH</td>\n",
       "      <td>OH</td>\n",
       "      <td>39</td>\n",
       "      <td>-83</td>\n",
       "      <td>309</td>\n",
       "      <td>-11</td>\n",
       "      <td>0</td>\n",
       "      <td>0</td>\n",
       "      <td>0</td>\n",
       "      <td>0</td>\n",
       "      <td>0</td>\n",
       "      <td>0</td>\n",
       "      <td>1</td>\n",
       "      <td>11</td>\n",
       "      <td>2014-12-31 22:20:00</td>\n",
       "    </tr>\n",
       "    <tr>\n",
       "      <th>7491</th>\n",
       "      <td>7492</td>\n",
       "      <td>2014-12-31</td>\n",
       "      <td>0 days 22:40:00</td>\n",
       "      <td>, NY</td>\n",
       "      <td>NY</td>\n",
       "      <td>40</td>\n",
       "      <td>-73</td>\n",
       "      <td>28</td>\n",
       "      <td>-14</td>\n",
       "      <td>0</td>\n",
       "      <td>0</td>\n",
       "      <td>0</td>\n",
       "      <td>0</td>\n",
       "      <td>0</td>\n",
       "      <td>1</td>\n",
       "      <td>0</td>\n",
       "      <td>14</td>\n",
       "      <td>2014-12-31 22:40:00</td>\n",
       "    </tr>\n",
       "    <tr>\n",
       "      <th>7492</th>\n",
       "      <td>7493</td>\n",
       "      <td>2014-12-31</td>\n",
       "      <td>0 days 21:30:00</td>\n",
       "      <td>Willow Hill, IL</td>\n",
       "      <td>IL</td>\n",
       "      <td>39</td>\n",
       "      <td>-87</td>\n",
       "      <td>151</td>\n",
       "      <td>-18</td>\n",
       "      <td>1</td>\n",
       "      <td>0</td>\n",
       "      <td>0</td>\n",
       "      <td>0</td>\n",
       "      <td>0</td>\n",
       "      <td>0</td>\n",
       "      <td>0</td>\n",
       "      <td>18</td>\n",
       "      <td>2014-12-31 21:30:00</td>\n",
       "    </tr>\n",
       "    <tr>\n",
       "      <th>7493</th>\n",
       "      <td>7494</td>\n",
       "      <td>2014-12-31</td>\n",
       "      <td>0 days 19:12:00</td>\n",
       "      <td>Massillon, OH</td>\n",
       "      <td>OH</td>\n",
       "      <td>40</td>\n",
       "      <td>-81</td>\n",
       "      <td>310</td>\n",
       "      <td>-14</td>\n",
       "      <td>0</td>\n",
       "      <td>0</td>\n",
       "      <td>0</td>\n",
       "      <td>0</td>\n",
       "      <td>0</td>\n",
       "      <td>0</td>\n",
       "      <td>1</td>\n",
       "      <td>14</td>\n",
       "      <td>2014-12-31 19:12:00</td>\n",
       "    </tr>\n",
       "  </tbody>\n",
       "</table>\n",
       "<p>7494 rows × 18 columns</p>\n",
       "</div>"
      ],
      "text/plain": [
       "        id        date             time          address state  latitude  \\\n",
       "0        1  1995-06-08  0 days 02:00:00    Trafalgar, IN    IN        39   \n",
       "1        2  1995-06-20  0 days 17:00:00      Munhall, PA    PA        40   \n",
       "2        3  1995-07-04  0 days 21:30:00       Myrtle, MS    MS        34   \n",
       "3        4  1995-08-01  0 days 16:00:00    Pottstown, PA    PA        40   \n",
       "4        5  1995-12-15  0 days 06:50:00        Eagan, MN    MN        44   \n",
       "...    ...         ...              ...              ...   ...       ...   \n",
       "7489  7490  2014-12-31  0 days 02:08:00    Depoe Bay, OR    OR        44   \n",
       "7490  7491  2014-12-31  0 days 22:20:00             , OH    OH        39   \n",
       "7491  7492  2014-12-31  0 days 22:40:00             , NY    NY        40   \n",
       "7492  7493  2014-12-31  0 days 21:30:00  Willow Hill, IL    IL        39   \n",
       "7493  7494  2014-12-31  0 days 19:12:00    Massillon, OH    OH        40   \n",
       "\n",
       "      longitude  elevation  magnitude  white  red  blue  green  purple  \\\n",
       "0           -86        267        -13      0    0     0      1       0   \n",
       "1           -79        329        -13      0    1     0      0       0   \n",
       "2           -89        108        -19      0    1     0      0       0   \n",
       "3           -75         46        -16      0    1     0      0       0   \n",
       "4           -93        257        -15      1    0     0      0       0   \n",
       "...         ...        ...        ...    ...  ...   ...    ...     ...   \n",
       "7489       -124         12         -6      1    0     0      0       0   \n",
       "7490        -83        309        -11      0    0     0      0       0   \n",
       "7491        -73         28        -14      0    0     0      0       0   \n",
       "7492        -87        151        -18      1    0     0      0       0   \n",
       "7493        -81        310        -14      0    0     0      0       0   \n",
       "\n",
       "      orange  yellow  -magnitude            datetime  \n",
       "0          0       0          13 1995-06-08 02:00:00  \n",
       "1          1       0          13 1995-06-20 17:00:00  \n",
       "2          1       1          19 1995-07-04 21:30:00  \n",
       "3          0       0          16 1995-08-01 16:00:00  \n",
       "4          0       0          15 1995-12-15 06:50:00  \n",
       "...      ...     ...         ...                 ...  \n",
       "7489       0       0           6 2014-12-31 02:08:00  \n",
       "7490       0       1          11 2014-12-31 22:20:00  \n",
       "7491       1       0          14 2014-12-31 22:40:00  \n",
       "7492       0       0          18 2014-12-31 21:30:00  \n",
       "7493       0       1          14 2014-12-31 19:12:00  \n",
       "\n",
       "[7494 rows x 18 columns]"
      ]
     },
     "execution_count": 79,
     "metadata": {},
     "output_type": "execute_result"
    }
   ],
   "source": [
    "df"
   ]
  },
  {
   "cell_type": "code",
   "execution_count": 81,
   "id": "19f5fa80",
   "metadata": {},
   "outputs": [],
   "source": [
    "condition = (df['state'].str.len() == 2)\n",
    "filtered_df = df.loc[condition]"
   ]
  },
  {
   "cell_type": "code",
   "execution_count": 84,
   "id": "dbbcd50f",
   "metadata": {},
   "outputs": [
    {
     "data": {
      "text/html": [
       "<div>\n",
       "<style scoped>\n",
       "    .dataframe tbody tr th:only-of-type {\n",
       "        vertical-align: middle;\n",
       "    }\n",
       "\n",
       "    .dataframe tbody tr th {\n",
       "        vertical-align: top;\n",
       "    }\n",
       "\n",
       "    .dataframe thead th {\n",
       "        text-align: right;\n",
       "    }\n",
       "</style>\n",
       "<table border=\"1\" class=\"dataframe\">\n",
       "  <thead>\n",
       "    <tr style=\"text-align: right;\">\n",
       "      <th></th>\n",
       "      <th>id</th>\n",
       "      <th>date</th>\n",
       "      <th>time</th>\n",
       "      <th>address</th>\n",
       "      <th>state</th>\n",
       "      <th>latitude</th>\n",
       "      <th>longitude</th>\n",
       "      <th>elevation</th>\n",
       "      <th>magnitude</th>\n",
       "      <th>white</th>\n",
       "      <th>red</th>\n",
       "      <th>blue</th>\n",
       "      <th>green</th>\n",
       "      <th>purple</th>\n",
       "      <th>orange</th>\n",
       "      <th>yellow</th>\n",
       "      <th>-magnitude</th>\n",
       "      <th>datetime</th>\n",
       "    </tr>\n",
       "  </thead>\n",
       "  <tbody>\n",
       "    <tr>\n",
       "      <th>0</th>\n",
       "      <td>1</td>\n",
       "      <td>1995-06-08</td>\n",
       "      <td>0 days 02:00:00</td>\n",
       "      <td>Trafalgar, IN</td>\n",
       "      <td>IN</td>\n",
       "      <td>39</td>\n",
       "      <td>-86</td>\n",
       "      <td>267</td>\n",
       "      <td>-13</td>\n",
       "      <td>0</td>\n",
       "      <td>0</td>\n",
       "      <td>0</td>\n",
       "      <td>1</td>\n",
       "      <td>0</td>\n",
       "      <td>0</td>\n",
       "      <td>0</td>\n",
       "      <td>13</td>\n",
       "      <td>1995-06-08 02:00:00</td>\n",
       "    </tr>\n",
       "    <tr>\n",
       "      <th>1</th>\n",
       "      <td>2</td>\n",
       "      <td>1995-06-20</td>\n",
       "      <td>0 days 17:00:00</td>\n",
       "      <td>Munhall, PA</td>\n",
       "      <td>PA</td>\n",
       "      <td>40</td>\n",
       "      <td>-79</td>\n",
       "      <td>329</td>\n",
       "      <td>-13</td>\n",
       "      <td>0</td>\n",
       "      <td>1</td>\n",
       "      <td>0</td>\n",
       "      <td>0</td>\n",
       "      <td>0</td>\n",
       "      <td>1</td>\n",
       "      <td>0</td>\n",
       "      <td>13</td>\n",
       "      <td>1995-06-20 17:00:00</td>\n",
       "    </tr>\n",
       "    <tr>\n",
       "      <th>2</th>\n",
       "      <td>3</td>\n",
       "      <td>1995-07-04</td>\n",
       "      <td>0 days 21:30:00</td>\n",
       "      <td>Myrtle, MS</td>\n",
       "      <td>MS</td>\n",
       "      <td>34</td>\n",
       "      <td>-89</td>\n",
       "      <td>108</td>\n",
       "      <td>-19</td>\n",
       "      <td>0</td>\n",
       "      <td>1</td>\n",
       "      <td>0</td>\n",
       "      <td>0</td>\n",
       "      <td>0</td>\n",
       "      <td>1</td>\n",
       "      <td>1</td>\n",
       "      <td>19</td>\n",
       "      <td>1995-07-04 21:30:00</td>\n",
       "    </tr>\n",
       "    <tr>\n",
       "      <th>3</th>\n",
       "      <td>4</td>\n",
       "      <td>1995-08-01</td>\n",
       "      <td>0 days 16:00:00</td>\n",
       "      <td>Pottstown, PA</td>\n",
       "      <td>PA</td>\n",
       "      <td>40</td>\n",
       "      <td>-75</td>\n",
       "      <td>46</td>\n",
       "      <td>-16</td>\n",
       "      <td>0</td>\n",
       "      <td>1</td>\n",
       "      <td>0</td>\n",
       "      <td>0</td>\n",
       "      <td>0</td>\n",
       "      <td>0</td>\n",
       "      <td>0</td>\n",
       "      <td>16</td>\n",
       "      <td>1995-08-01 16:00:00</td>\n",
       "    </tr>\n",
       "    <tr>\n",
       "      <th>4</th>\n",
       "      <td>5</td>\n",
       "      <td>1995-12-15</td>\n",
       "      <td>0 days 06:50:00</td>\n",
       "      <td>Eagan, MN</td>\n",
       "      <td>MN</td>\n",
       "      <td>44</td>\n",
       "      <td>-93</td>\n",
       "      <td>257</td>\n",
       "      <td>-15</td>\n",
       "      <td>1</td>\n",
       "      <td>0</td>\n",
       "      <td>0</td>\n",
       "      <td>0</td>\n",
       "      <td>0</td>\n",
       "      <td>0</td>\n",
       "      <td>0</td>\n",
       "      <td>15</td>\n",
       "      <td>1995-12-15 06:50:00</td>\n",
       "    </tr>\n",
       "    <tr>\n",
       "      <th>...</th>\n",
       "      <td>...</td>\n",
       "      <td>...</td>\n",
       "      <td>...</td>\n",
       "      <td>...</td>\n",
       "      <td>...</td>\n",
       "      <td>...</td>\n",
       "      <td>...</td>\n",
       "      <td>...</td>\n",
       "      <td>...</td>\n",
       "      <td>...</td>\n",
       "      <td>...</td>\n",
       "      <td>...</td>\n",
       "      <td>...</td>\n",
       "      <td>...</td>\n",
       "      <td>...</td>\n",
       "      <td>...</td>\n",
       "      <td>...</td>\n",
       "      <td>...</td>\n",
       "    </tr>\n",
       "    <tr>\n",
       "      <th>7489</th>\n",
       "      <td>7490</td>\n",
       "      <td>2014-12-31</td>\n",
       "      <td>0 days 02:08:00</td>\n",
       "      <td>Depoe Bay, OR</td>\n",
       "      <td>OR</td>\n",
       "      <td>44</td>\n",
       "      <td>-124</td>\n",
       "      <td>12</td>\n",
       "      <td>-6</td>\n",
       "      <td>1</td>\n",
       "      <td>0</td>\n",
       "      <td>0</td>\n",
       "      <td>0</td>\n",
       "      <td>0</td>\n",
       "      <td>0</td>\n",
       "      <td>0</td>\n",
       "      <td>6</td>\n",
       "      <td>2014-12-31 02:08:00</td>\n",
       "    </tr>\n",
       "    <tr>\n",
       "      <th>7490</th>\n",
       "      <td>7491</td>\n",
       "      <td>2014-12-31</td>\n",
       "      <td>0 days 22:20:00</td>\n",
       "      <td>, OH</td>\n",
       "      <td>OH</td>\n",
       "      <td>39</td>\n",
       "      <td>-83</td>\n",
       "      <td>309</td>\n",
       "      <td>-11</td>\n",
       "      <td>0</td>\n",
       "      <td>0</td>\n",
       "      <td>0</td>\n",
       "      <td>0</td>\n",
       "      <td>0</td>\n",
       "      <td>0</td>\n",
       "      <td>1</td>\n",
       "      <td>11</td>\n",
       "      <td>2014-12-31 22:20:00</td>\n",
       "    </tr>\n",
       "    <tr>\n",
       "      <th>7491</th>\n",
       "      <td>7492</td>\n",
       "      <td>2014-12-31</td>\n",
       "      <td>0 days 22:40:00</td>\n",
       "      <td>, NY</td>\n",
       "      <td>NY</td>\n",
       "      <td>40</td>\n",
       "      <td>-73</td>\n",
       "      <td>28</td>\n",
       "      <td>-14</td>\n",
       "      <td>0</td>\n",
       "      <td>0</td>\n",
       "      <td>0</td>\n",
       "      <td>0</td>\n",
       "      <td>0</td>\n",
       "      <td>1</td>\n",
       "      <td>0</td>\n",
       "      <td>14</td>\n",
       "      <td>2014-12-31 22:40:00</td>\n",
       "    </tr>\n",
       "    <tr>\n",
       "      <th>7492</th>\n",
       "      <td>7493</td>\n",
       "      <td>2014-12-31</td>\n",
       "      <td>0 days 21:30:00</td>\n",
       "      <td>Willow Hill, IL</td>\n",
       "      <td>IL</td>\n",
       "      <td>39</td>\n",
       "      <td>-87</td>\n",
       "      <td>151</td>\n",
       "      <td>-18</td>\n",
       "      <td>1</td>\n",
       "      <td>0</td>\n",
       "      <td>0</td>\n",
       "      <td>0</td>\n",
       "      <td>0</td>\n",
       "      <td>0</td>\n",
       "      <td>0</td>\n",
       "      <td>18</td>\n",
       "      <td>2014-12-31 21:30:00</td>\n",
       "    </tr>\n",
       "    <tr>\n",
       "      <th>7493</th>\n",
       "      <td>7494</td>\n",
       "      <td>2014-12-31</td>\n",
       "      <td>0 days 19:12:00</td>\n",
       "      <td>Massillon, OH</td>\n",
       "      <td>OH</td>\n",
       "      <td>40</td>\n",
       "      <td>-81</td>\n",
       "      <td>310</td>\n",
       "      <td>-14</td>\n",
       "      <td>0</td>\n",
       "      <td>0</td>\n",
       "      <td>0</td>\n",
       "      <td>0</td>\n",
       "      <td>0</td>\n",
       "      <td>0</td>\n",
       "      <td>1</td>\n",
       "      <td>14</td>\n",
       "      <td>2014-12-31 19:12:00</td>\n",
       "    </tr>\n",
       "  </tbody>\n",
       "</table>\n",
       "<p>7393 rows × 18 columns</p>\n",
       "</div>"
      ],
      "text/plain": [
       "        id        date             time          address state  latitude  \\\n",
       "0        1  1995-06-08  0 days 02:00:00    Trafalgar, IN    IN        39   \n",
       "1        2  1995-06-20  0 days 17:00:00      Munhall, PA    PA        40   \n",
       "2        3  1995-07-04  0 days 21:30:00       Myrtle, MS    MS        34   \n",
       "3        4  1995-08-01  0 days 16:00:00    Pottstown, PA    PA        40   \n",
       "4        5  1995-12-15  0 days 06:50:00        Eagan, MN    MN        44   \n",
       "...    ...         ...              ...              ...   ...       ...   \n",
       "7489  7490  2014-12-31  0 days 02:08:00    Depoe Bay, OR    OR        44   \n",
       "7490  7491  2014-12-31  0 days 22:20:00             , OH    OH        39   \n",
       "7491  7492  2014-12-31  0 days 22:40:00             , NY    NY        40   \n",
       "7492  7493  2014-12-31  0 days 21:30:00  Willow Hill, IL    IL        39   \n",
       "7493  7494  2014-12-31  0 days 19:12:00    Massillon, OH    OH        40   \n",
       "\n",
       "      longitude  elevation  magnitude  white  red  blue  green  purple  \\\n",
       "0           -86        267        -13      0    0     0      1       0   \n",
       "1           -79        329        -13      0    1     0      0       0   \n",
       "2           -89        108        -19      0    1     0      0       0   \n",
       "3           -75         46        -16      0    1     0      0       0   \n",
       "4           -93        257        -15      1    0     0      0       0   \n",
       "...         ...        ...        ...    ...  ...   ...    ...     ...   \n",
       "7489       -124         12         -6      1    0     0      0       0   \n",
       "7490        -83        309        -11      0    0     0      0       0   \n",
       "7491        -73         28        -14      0    0     0      0       0   \n",
       "7492        -87        151        -18      1    0     0      0       0   \n",
       "7493        -81        310        -14      0    0     0      0       0   \n",
       "\n",
       "      orange  yellow  -magnitude            datetime  \n",
       "0          0       0          13 1995-06-08 02:00:00  \n",
       "1          1       0          13 1995-06-20 17:00:00  \n",
       "2          1       1          19 1995-07-04 21:30:00  \n",
       "3          0       0          16 1995-08-01 16:00:00  \n",
       "4          0       0          15 1995-12-15 06:50:00  \n",
       "...      ...     ...         ...                 ...  \n",
       "7489       0       0           6 2014-12-31 02:08:00  \n",
       "7490       0       1          11 2014-12-31 22:20:00  \n",
       "7491       1       0          14 2014-12-31 22:40:00  \n",
       "7492       0       0          18 2014-12-31 21:30:00  \n",
       "7493       0       1          14 2014-12-31 19:12:00  \n",
       "\n",
       "[7393 rows x 18 columns]"
      ]
     },
     "execution_count": 84,
     "metadata": {},
     "output_type": "execute_result"
    }
   ],
   "source": [
    "filtered_df"
   ]
  },
  {
   "cell_type": "code",
   "execution_count": 86,
   "id": "85e23aba",
   "metadata": {},
   "outputs": [],
   "source": [
    "from bokeh.plotting import figure, show, output_file\n",
    "from bokeh.models import ColumnDataSource, HoverTool, DatetimeTickFormatter"
   ]
  },
  {
   "cell_type": "code",
   "execution_count": 92,
   "id": "6eefb531",
   "metadata": {},
   "outputs": [],
   "source": [
    "df = filtered_df.reset_index()"
   ]
  },
  {
   "cell_type": "code",
   "execution_count": 97,
   "id": "15ab01a5",
   "metadata": {},
   "outputs": [
    {
     "name": "stderr",
     "output_type": "stream",
     "text": [
      "/tmp/ipykernel_7719/2296508746.py:2: FutureWarning:\n",
      "\n",
      "'M' is deprecated and will be removed in a future version, please use 'ME' instead.\n",
      "\n"
     ]
    }
   ],
   "source": [
    "\n",
    "\n",
    "# 월('M') 단위로 리샘플링하고 각 월의 데이터 개수를 셉니다.\n",
    "monthly_counts = filtered_df.resample('M').size()\n",
    "\n",
    "# 시리즈를 데이터프레임으로 변환하고 열 이름을 지정합니다.\n",
    "monthly_df = monthly_counts.reset_index(name='count')\n",
    "monthly_df.rename(columns={'date': 'Month'}, inplace=True)\n",
    "\n",
    "# --- 2. Bokeh 시각화 ---\n",
    "# Bokeh가 데이터를 효율적으로 처리할 수 있도록 ColumnDataSource로 변환합니다.\n",
    "source = ColumnDataSource(monthly_df)\n",
    "\n",
    "# 툴팁 설정: (표시할 이름, @데이터열이름)\n",
    "# 날짜 형식을 지정하기 위해 @Month{format}을 사용합니다.\n",
    "hover = HoverTool(\n",
    "    tooltips=[\n",
    "        ('월', '@Month{%Y-%m}'),  # 날짜를 'YYYY-MM' 형식으로 표시\n",
    "        ('발생 횟수', '@count')\n",
    "    ],\n",
    "    # 날짜 형식 지정\n",
    "    formatters={\n",
    "        '@Month': 'datetime' \n",
    "    },\n",
    "    # 마우스가 라인이 아닌 점(glyph) 위에 있을 때만 툴팁이 활성화되도록 설정\n",
    "    mode='mouse' \n",
    ")\n",
    "\n",
    "# 플롯(figure) 생성\n",
    "# x_axis_type='datetime'으로 설정하여 x축이 시간임을 명시합니다.\n",
    "p = figure(\n",
    "    title='월별 발생 횟수 (Bokeh)',\n",
    "    x_axis_label='월',\n",
    "    y_axis_label='발생 횟수',\n",
    "    x_axis_type='datetime',\n",
    "    width=1000,  # 차트 너비\n",
    "    height=500, # 차트 높이\n",
    "    tools=[hover, 'pan,wheel_zoom,box_zoom,reset,save'] # 툴바에 툴 추가\n",
    ")\n",
    "\n",
    "# 1. 라인(선) 글리프 추가\n",
    "p.line(\n",
    "    x='Month',       # x축 데이터 열 이름\n",
    "    y='count',       # y축 데이터 열 이름\n",
    "    source=source,   # 데이터 소스\n",
    "    line_width=2     # 선 굵기\n",
    ")\n",
    "\n",
    "# 2. 서클(점) 글리프 추가 (툴팁을 점 위에 표시하기 위함)\n",
    "# p.circle(\n",
    "#     x='Month',\n",
    "#     y='count',\n",
    "#     source=source,\n",
    "#     size=8,          # 점 크기\n",
    "#     fill_color='white',\n",
    "#     line_width=2\n",
    "# )\n",
    "\n",
    "# x축 눈금 레이블 형식 변경 (선택 사항)\n",
    "p.xaxis.formatter = DatetimeTickFormatter(\n",
    "    months=\"%Y-%m\",\n",
    "    years=\"%Y\"\n",
    ")\n",
    "\n",
    "# HTML 파일로 저장 (예: 'monthly_bokeh_chart.html')\n",
    "# output_file('monthly_bokeh_chart.html')\n",
    "\n",
    "# Jupyter Notebook 등에서 바로 차트를 보여줍니다.\n",
    "show(p)"
   ]
  },
  {
   "cell_type": "code",
   "execution_count": 101,
   "id": "19bbfe67",
   "metadata": {},
   "outputs": [],
   "source": [
    "monthly_df_filtered = monthly_df.loc[monthly_df['Month'] > '2014-01-01' ]"
   ]
  },
  {
   "cell_type": "code",
   "execution_count": 102,
   "id": "7cd44e3b",
   "metadata": {},
   "outputs": [
    {
     "data": {
      "text/html": [
       "<div>\n",
       "<style scoped>\n",
       "    .dataframe tbody tr th:only-of-type {\n",
       "        vertical-align: middle;\n",
       "    }\n",
       "\n",
       "    .dataframe tbody tr th {\n",
       "        vertical-align: top;\n",
       "    }\n",
       "\n",
       "    .dataframe thead th {\n",
       "        text-align: right;\n",
       "    }\n",
       "</style>\n",
       "<table border=\"1\" class=\"dataframe\">\n",
       "  <thead>\n",
       "    <tr style=\"text-align: right;\">\n",
       "      <th></th>\n",
       "      <th>Month</th>\n",
       "      <th>count</th>\n",
       "    </tr>\n",
       "  </thead>\n",
       "  <tbody>\n",
       "    <tr>\n",
       "      <th>223</th>\n",
       "      <td>2014-01-31</td>\n",
       "      <td>7</td>\n",
       "    </tr>\n",
       "    <tr>\n",
       "      <th>224</th>\n",
       "      <td>2014-02-28</td>\n",
       "      <td>10</td>\n",
       "    </tr>\n",
       "    <tr>\n",
       "      <th>225</th>\n",
       "      <td>2014-03-31</td>\n",
       "      <td>2</td>\n",
       "    </tr>\n",
       "    <tr>\n",
       "      <th>226</th>\n",
       "      <td>2014-04-30</td>\n",
       "      <td>1</td>\n",
       "    </tr>\n",
       "    <tr>\n",
       "      <th>227</th>\n",
       "      <td>2014-05-31</td>\n",
       "      <td>1</td>\n",
       "    </tr>\n",
       "    <tr>\n",
       "      <th>228</th>\n",
       "      <td>2014-06-30</td>\n",
       "      <td>4</td>\n",
       "    </tr>\n",
       "    <tr>\n",
       "      <th>229</th>\n",
       "      <td>2014-07-31</td>\n",
       "      <td>5</td>\n",
       "    </tr>\n",
       "    <tr>\n",
       "      <th>230</th>\n",
       "      <td>2014-08-31</td>\n",
       "      <td>232</td>\n",
       "    </tr>\n",
       "    <tr>\n",
       "      <th>231</th>\n",
       "      <td>2014-09-30</td>\n",
       "      <td>1959</td>\n",
       "    </tr>\n",
       "    <tr>\n",
       "      <th>232</th>\n",
       "      <td>2014-10-31</td>\n",
       "      <td>822</td>\n",
       "    </tr>\n",
       "    <tr>\n",
       "      <th>233</th>\n",
       "      <td>2014-11-30</td>\n",
       "      <td>2114</td>\n",
       "    </tr>\n",
       "    <tr>\n",
       "      <th>234</th>\n",
       "      <td>2014-12-31</td>\n",
       "      <td>2058</td>\n",
       "    </tr>\n",
       "  </tbody>\n",
       "</table>\n",
       "</div>"
      ],
      "text/plain": [
       "         Month  count\n",
       "223 2014-01-31      7\n",
       "224 2014-02-28     10\n",
       "225 2014-03-31      2\n",
       "226 2014-04-30      1\n",
       "227 2014-05-31      1\n",
       "228 2014-06-30      4\n",
       "229 2014-07-31      5\n",
       "230 2014-08-31    232\n",
       "231 2014-09-30   1959\n",
       "232 2014-10-31    822\n",
       "233 2014-11-30   2114\n",
       "234 2014-12-31   2058"
      ]
     },
     "execution_count": 102,
     "metadata": {},
     "output_type": "execute_result"
    }
   ],
   "source": [
    "monthly_df_filtered"
   ]
  },
  {
   "cell_type": "code",
   "execution_count": 107,
   "id": "05dfe80c",
   "metadata": {},
   "outputs": [],
   "source": [
    "filtered_df = filtered_df.reset_index()"
   ]
  },
  {
   "cell_type": "code",
   "execution_count": 109,
   "id": "edd6ae22",
   "metadata": {},
   "outputs": [],
   "source": [
    "import pandas as pd\n",
    "from bokeh.plotting import figure, show, output_file\n",
    "from bokeh.models import ColumnDataSource, HoverTool\n",
    "# from bokeh.transform import factor_cmap (이 예제에서는 더 간단한 방식을 사용합니다)\n",
    "\n",
    "\n",
    "\n",
    "# 2014년 1월 1일 이후 데이터 필터링\n",
    "df_2014_onwards = filtered_df[filtered_df['date'] >= '2014-01-01'].copy()\n",
    "\n",
    "# 컬러 데이터 집계\n",
    "color_columns = ['white', 'red', 'blue', 'green', 'purple', 'orange', 'yellow']\n",
    "color_totals = df_2014_onwards[color_columns].sum()\n",
    "\n",
    "# 시각화를 위한 데이터 재구성\n",
    "color_df = color_totals.reset_index()\n",
    "color_df.columns = ['Color', 'Count']\n",
    "\n",
    "\n",
    "# --- 2. Bokeh를 위한 데이터 정렬 (중요) ---\n",
    "\n",
    "# 'Count'를 기준으로 데이터프레임을 내림차순 정렬합니다.\n",
    "color_df_sorted = color_df.sort_values('Count', ascending=False)\n",
    "\n",
    "# 정렬된 색상 이름을 리스트로 추출합니다. (이것이 X축의 순서가 됩니다)\n",
    "sorted_colors = color_df_sorted['Color'].tolist()\n",
    "\n",
    "# 정렬된 데이터프레임을 ColumnDataSource로 변환합니다.\n",
    "source = ColumnDataSource(color_df_sorted)\n",
    "\n",
    "\n",
    "# --- 3. Bokeh 시각화 ---\n",
    "\n",
    "# 툴팁 설정\n",
    "hover = HoverTool(\n",
    "    tooltips=[\n",
    "        ('색상', '@Color'),\n",
    "        ('횟수', '@Count')\n",
    "    ]\n",
    ")\n",
    "\n",
    "# 플롯(figure) 생성\n",
    "p = figure(\n",
    "    title='Color Sightings (From 2014-01-01 onwards)',\n",
    "    # x_range에 정렬된 색상 리스트를 전달하여 순서를 고정합니다.\n",
    "    x_range=sorted_colors, \n",
    "    y_axis_label='Total Sightings (since 2014)',\n",
    "    x_axis_label='Color',\n",
    "    width=1200,\n",
    "    height=700,\n",
    "    tools=[hover, 'pan,wheel_zoom,box_zoom,reset,save'] # 툴바에 툴 추가\n",
    ")\n",
    "\n",
    "# VBar (수직 막대) 글리프 추가\n",
    "p.vbar(\n",
    "    x='Color',        # x축 카테고리 열\n",
    "    top='Count',      # y축 (막대의 상단) 값 열\n",
    "    source=source,    # 데이터 소스\n",
    "    width=0.9,        # 막대 너비\n",
    "    \n",
    "    # 'Color' 열에 'red', 'blue' 등 실제 색상 이름이 있으므로\n",
    "    # 이 열을 fill_color로 직접 지정할 수 있습니다.\n",
    "    fill_color='Color',\n",
    "    \n",
    "    line_color='black'  # 막대 테두리 색상\n",
    ")\n",
    "\n",
    "# (선택 사항) X축의 세로 그리드 라인을 제거하여 더 깔끔하게 만듭니다.\n",
    "p.xgrid.grid_line_color = None\n",
    "\n",
    "# (선택 사항) Y축은 0부터 시작하도록 설정\n",
    "p.y_range.start = 0\n",
    "\n",
    "# HTML 파일로 저장하거나\n",
    "# output_file(\"color_sightings_bokeh.html\")\n",
    "\n",
    "# 차트를 바로 보여줍니다.\n",
    "show(p)"
   ]
  },
  {
   "cell_type": "code",
   "execution_count": 111,
   "id": "d18b701f",
   "metadata": {},
   "outputs": [],
   "source": [
    "from bokeh.palettes import Category10_8"
   ]
  },
  {
   "cell_type": "code",
   "execution_count": 115,
   "id": "395a6667",
   "metadata": {},
   "outputs": [
    {
     "name": "stderr",
     "output_type": "stream",
     "text": [
      "/tmp/ipykernel_7719/852172966.py:6: FutureWarning:\n",
      "\n",
      "'M' is deprecated and will be removed in a future version, please use 'ME' instead.\n",
      "\n",
      "/tmp/ipykernel_7719/852172966.py:7: FutureWarning:\n",
      "\n",
      "'M' is deprecated and will be removed in a future version, please use 'ME' instead.\n",
      "\n",
      "/tmp/ipykernel_7719/852172966.py:71: BokehDeprecationWarning:\n",
      "\n",
      "'circle() method with size value' was deprecated in Bokeh 3.4.0 and will be removed, use 'scatter(size=...) instead' instead.\n",
      "\n",
      "/tmp/ipykernel_7719/852172966.py:71: BokehDeprecationWarning:\n",
      "\n",
      "'circle() method with size value' was deprecated in Bokeh 3.4.0 and will be removed, use 'scatter(size=...) instead' instead.\n",
      "\n",
      "/tmp/ipykernel_7719/852172966.py:71: BokehDeprecationWarning:\n",
      "\n",
      "'circle() method with size value' was deprecated in Bokeh 3.4.0 and will be removed, use 'scatter(size=...) instead' instead.\n",
      "\n",
      "/tmp/ipykernel_7719/852172966.py:71: BokehDeprecationWarning:\n",
      "\n",
      "'circle() method with size value' was deprecated in Bokeh 3.4.0 and will be removed, use 'scatter(size=...) instead' instead.\n",
      "\n",
      "/tmp/ipykernel_7719/852172966.py:71: BokehDeprecationWarning:\n",
      "\n",
      "'circle() method with size value' was deprecated in Bokeh 3.4.0 and will be removed, use 'scatter(size=...) instead' instead.\n",
      "\n",
      "/tmp/ipykernel_7719/852172966.py:71: BokehDeprecationWarning:\n",
      "\n",
      "'circle() method with size value' was deprecated in Bokeh 3.4.0 and will be removed, use 'scatter(size=...) instead' instead.\n",
      "\n",
      "/tmp/ipykernel_7719/852172966.py:71: BokehDeprecationWarning:\n",
      "\n",
      "'circle() method with size value' was deprecated in Bokeh 3.4.0 and will be removed, use 'scatter(size=...) instead' instead.\n",
      "\n",
      "/tmp/ipykernel_7719/852172966.py:71: BokehDeprecationWarning:\n",
      "\n",
      "'circle() method with size value' was deprecated in Bokeh 3.4.0 and will be removed, use 'scatter(size=...) instead' instead.\n",
      "\n"
     ]
    },
    {
     "name": "stdout",
     "output_type": "stream",
     "text": [
      "Long-form 데이터 변환 완료.\n",
      "Step 2: Bokeh 차트 생성 중...\n",
      "Step 3: 'monthly_multi_line_bokeh.html' 파일로 저장 완료.\n"
     ]
    }
   ],
   "source": [
    "df_2014 = filtered_df[filtered_df['date'] >= '2014-01-01'].copy()\n",
    "\n",
    "# 1.3. 시계열 데이터 집계 (Resampling)\n",
    "df_2014.set_index('date', inplace=True)\n",
    "color_columns = ['white', 'red', 'blue', 'green', 'purple', 'orange', 'yellow']\n",
    "total_counts = df_2014.resample('M').size().to_frame(name='Total')\n",
    "color_counts = df_2014[color_columns].resample('M').sum()\n",
    "merged_df = pd.concat([total_counts, color_counts], axis=1)\n",
    "\n",
    "# 1.4. 'Long-form' 데이터 변환 (Bokeh에서 그룹별로 그리기 위해 중요)\n",
    "long_df = merged_df.reset_index().melt(\n",
    "    id_vars='date', \n",
    "    var_name='Frequency_Type',  # 'Total', 'white', 'red' 등\n",
    "    value_name='Count'          # 횟수\n",
    ")\n",
    "print(\"Long-form 데이터 변환 완료.\")\n",
    "\n",
    "# --- 2. Bokeh 시각화 ---\n",
    "print(\"Step 2: Bokeh 차트 생성 중...\")\n",
    "\n",
    "# 2.1. 툴팁 설정\n",
    "# HoverTool은 전체 Figure에 한 번만 추가하면 됩니다.\n",
    "hover = HoverTool(\n",
    "    tooltips=[\n",
    "        ('월', '@date{%Y-%m}'),\n",
    "        ('유형', '@Frequency_Type'),\n",
    "        ('횟수', '@Count')\n",
    "    ],\n",
    "    formatters={'@date': 'datetime'}, # 날짜 형식 지정\n",
    "    mode='mouse' # 마우스가 점(glyph) 위에 있을 때\n",
    ")\n",
    "\n",
    "# 2.2. 플롯(figure) 생성\n",
    "p = figure(\n",
    "    title='Monthly Occurrences (Total vs. Colors) Since 2014',\n",
    "    x_axis_label='Month',\n",
    "    y_axis_label='Monthly Occurrences',\n",
    "    x_axis_type='datetime',\n",
    "    width=1200,\n",
    "    height=600,\n",
    "    tools=[hover, 'pan,wheel_zoom,box_zoom,reset,save'] # 툴바에 HoverTool 추가\n",
    ")\n",
    "\n",
    "# 2.3. 그릴 라인 목록과 색상 팔레트 매칭\n",
    "# Category10_8은 8개의 색상을 가진 리스트입니다.\n",
    "frequency_types = ['Total', 'white', 'red', 'blue', 'green', 'purple', 'orange', 'yellow']\n",
    "colors = Category10_8\n",
    "\n",
    "# 2.4. 각 라인을 반복문으로 그리기\n",
    "# 'Total' 라인부터 'yellow' 라인까지 하나씩 차트에 추가합니다.\n",
    "for freq_type, color in zip(frequency_types, colors):\n",
    "    \n",
    "    # 해당 유형(예: 'Total')의 데이터만 필터링합니다.\n",
    "    subset_df = long_df[long_df['Frequency_Type'] == freq_type]\n",
    "    \n",
    "    # 이 라인만을 위한 ColumnDataSource를 만듭니다.\n",
    "    subset_source = ColumnDataSource(subset_df)\n",
    "    \n",
    "    # (1) 라인(선) 글리프 추가\n",
    "    p.line(\n",
    "        x='date', \n",
    "        y='Count', \n",
    "        source=subset_source, \n",
    "        color=color, \n",
    "        legend_label=freq_type, # 범례 레이블\n",
    "        line_width=2\n",
    "    )\n",
    "    \n",
    "    # (2) 서클(점) 글리프 추가 (HoverTool이 잘 작동하도록)\n",
    "    # 여기에는 legend_label을 추가하지 않아 범례가 중복되지 않게 합니다.\n",
    "    p.circle(\n",
    "        x='date', \n",
    "        y='Count', \n",
    "        source=subset_source, \n",
    "        color=color, \n",
    "        fill_color='white',\n",
    "        size=5\n",
    "    )\n",
    "\n",
    "# 2.5. X축 눈금 형식 지정 (이전 오류 수정 버전)\n",
    "p.xaxis.formatter = DatetimeTickFormatter(\n",
    "    months=\"%Y-%m\", # 리스트가 아닌 문자열로\n",
    "    years=\"%Y\"\n",
    ")\n",
    "\n",
    "# 2.6. 범례(Legend) 설정\n",
    "p.legend.location = \"top_left\"\n",
    "p.legend.click_policy = \"hide\" # 범례를 클릭하면 해당 라인 숨기기\n",
    "p.legend.label_text_font_size = \"9pt\" # 범례 폰트 크기\n",
    "\n",
    "# HTML 파일로 저장\n",
    "output_file(\"monthly_multi_line_bokeh.html\")\n",
    "print(\"Step 3: 'monthly_multi_line_bokeh.html' 파일로 저장 완료.\")\n",
    "# 로컬 환경에서 실행 중이라면 show(p)를 호출하세요.\n",
    "show(p)"
   ]
  },
  {
   "cell_type": "code",
   "execution_count": null,
   "id": "a7832032",
   "metadata": {},
   "outputs": [],
   "source": []
  }
 ],
 "metadata": {
  "kernelspec": {
   "display_name": "ufo_eda (3.12.3)",
   "language": "python",
   "name": "python3"
  },
  "language_info": {
   "codemirror_mode": {
    "name": "ipython",
    "version": 3
   },
   "file_extension": ".py",
   "mimetype": "text/x-python",
   "name": "python",
   "nbconvert_exporter": "python",
   "pygments_lexer": "ipython3",
   "version": "3.12.3"
  }
 },
 "nbformat": 4,
 "nbformat_minor": 5
}
