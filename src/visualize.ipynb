{
 "cells": [
  {
   "cell_type": "code",
   "execution_count": 1,
   "id": "5ecdb030",
   "metadata": {},
   "outputs": [],
   "source": [
    "import mysql.connector\n",
    "import os\n",
    "from dotenv import load_dotenv\n",
    "from mysql.connector import Error"
   ]
  },
  {
   "cell_type": "code",
   "execution_count": 2,
   "id": "dc70b871",
   "metadata": {},
   "outputs": [],
   "source": [
    "load_dotenv()\n",
    "aws_db_ufo_pw = os.getenv('aws_db_ufo_pw')\n",
    "aws_host_ufo = os.getenv('aws_host_ufo')\n"
   ]
  },
  {
   "cell_type": "code",
   "execution_count": 5,
   "id": "818c8c72",
   "metadata": {},
   "outputs": [],
   "source": [
    "remote = mysql.connector.connect(\n",
    "    host = aws_host_ufo,\n",
    "    user = 'EDA',\n",
    "    port = 3306,  # default 는 3306\n",
    "    password = aws_db_ufo_pw,\n",
    "    database = 'Frisbee'\n",
    "\n",
    ")\n",
    "\n",
    "cursor = remote.cursor()"
   ]
  },
  {
   "cell_type": "code",
   "execution_count": 4,
   "id": "8f61aabf",
   "metadata": {},
   "outputs": [
    {
     "data": {
      "text/plain": [
       "True"
      ]
     },
     "execution_count": 4,
     "metadata": {},
     "output_type": "execute_result"
    }
   ],
   "source": [
    "cursor.close()"
   ]
  },
  {
   "cell_type": "code",
   "execution_count": null,
   "id": "7588a827",
   "metadata": {},
   "outputs": [],
   "source": []
  }
 ],
 "metadata": {
  "kernelspec": {
   "display_name": "ufo_eda (3.12.3)",
   "language": "python",
   "name": "python3"
  },
  "language_info": {
   "codemirror_mode": {
    "name": "ipython",
    "version": 3
   },
   "file_extension": ".py",
   "mimetype": "text/x-python",
   "name": "python",
   "nbconvert_exporter": "python",
   "pygments_lexer": "ipython3",
   "version": "3.12.3"
  }
 },
 "nbformat": 4,
 "nbformat_minor": 5
}
